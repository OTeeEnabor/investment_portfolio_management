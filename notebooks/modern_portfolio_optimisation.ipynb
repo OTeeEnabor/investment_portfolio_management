{
 "cells": [
  {
   "cell_type": "code",
   "execution_count": 5,
   "id": "3406c7fd",
   "metadata": {},
   "outputs": [],
   "source": [
    "import os\n",
    "\n",
    "import pandas as pd\n",
    "import numpy as np\n",
    "from scipy.optimize import minimize, Bounds"
   ]
  },
  {
   "cell_type": "code",
   "execution_count": 6,
   "id": "50cfff0c",
   "metadata": {},
   "outputs": [
    {
     "name": "stdout",
     "output_type": "stream",
     "text": [
      "<class 'pandas.core.frame.DataFrame'>\n",
      "RangeIndex: 197 entries, 0 to 196\n",
      "Data columns (total 9 columns):\n",
      " #   Column             Non-Null Count  Dtype         \n",
      "---  ------             --------------  -----         \n",
      " 0   SA Equity          197 non-null    float64       \n",
      " 1   SA Nominal Bonds   197 non-null    float64       \n",
      " 2   SA ILB             197 non-null    float64       \n",
      " 3   SA Property        197 non-null    float64       \n",
      " 4   SA Cash            197 non-null    float64       \n",
      " 5   Offshore Equity    197 non-null    float64       \n",
      " 6   Offshore Property  196 non-null    float64       \n",
      " 7   Offshore Bonds     197 non-null    float64       \n",
      " 8   Date               197 non-null    datetime64[ns]\n",
      "dtypes: datetime64[ns](1), float64(8)\n",
      "memory usage: 14.0 KB\n"
     ]
    }
   ],
   "source": [
    "DATA_DIR = \"data\"\n",
    "# load asset data csv\n",
    "asset_df = pd.read_csv(f\"{DATA_DIR}/CSWIX_Equity.csv\")\n",
    "# change unnamed: 0 to date\n",
    "asset_df[\"Date\"] = pd.to_datetime(asset_df[\"Unnamed: 0\"])\n",
    "# drop unecessary columns\n",
    "asset_df = asset_df.drop(labels = [\"Unnamed: 0\",\"Unnamed: 9\",\"Unnamed: 10\",\n",
    "                                  \"Unnamed: 11\",\"Unnamed: 12\",\"Unnamed: 13\",\n",
    "                                  \"Unnamed: 14\",\"Unnamed: 15\",\"Unnamed: 16\",\n",
    "                                   \"Unnamed: 17\"],\n",
    "                        axis=1)\n",
    "# show data frame information\n",
    "asset_df.info()"
   ]
  },
  {
   "cell_type": "code",
   "execution_count": 7,
   "id": "27c4a06d",
   "metadata": {},
   "outputs": [
    {
     "data": {
      "text/html": [
       "<div>\n",
       "<style scoped>\n",
       "    .dataframe tbody tr th:only-of-type {\n",
       "        vertical-align: middle;\n",
       "    }\n",
       "\n",
       "    .dataframe tbody tr th {\n",
       "        vertical-align: top;\n",
       "    }\n",
       "\n",
       "    .dataframe thead th {\n",
       "        text-align: right;\n",
       "    }\n",
       "</style>\n",
       "<table border=\"1\" class=\"dataframe\">\n",
       "  <thead>\n",
       "    <tr style=\"text-align: right;\">\n",
       "      <th></th>\n",
       "      <th>SA Equity</th>\n",
       "      <th>SA Nominal Bonds</th>\n",
       "      <th>SA ILB</th>\n",
       "      <th>SA Property</th>\n",
       "      <th>SA Cash</th>\n",
       "      <th>Offshore Equity</th>\n",
       "      <th>Offshore Property</th>\n",
       "      <th>Offshore Bonds</th>\n",
       "      <th>Date</th>\n",
       "    </tr>\n",
       "  </thead>\n",
       "  <tbody>\n",
       "    <tr>\n",
       "      <th>0</th>\n",
       "      <td>0.021720</td>\n",
       "      <td>0.006890</td>\n",
       "      <td>0.001790</td>\n",
       "      <td>0.084787</td>\n",
       "      <td>0.006946</td>\n",
       "      <td>0.051911</td>\n",
       "      <td>NaN</td>\n",
       "      <td>0.014841</td>\n",
       "      <td>2007-01-31</td>\n",
       "    </tr>\n",
       "    <tr>\n",
       "      <th>1</th>\n",
       "      <td>0.013512</td>\n",
       "      <td>0.013678</td>\n",
       "      <td>-0.003277</td>\n",
       "      <td>0.033749</td>\n",
       "      <td>0.006395</td>\n",
       "      <td>-0.006123</td>\n",
       "      <td>0.003727</td>\n",
       "      <td>0.025924</td>\n",
       "      <td>2007-02-28</td>\n",
       "    </tr>\n",
       "    <tr>\n",
       "      <th>2</th>\n",
       "      <td>0.033642</td>\n",
       "      <td>-0.004350</td>\n",
       "      <td>0.011483</td>\n",
       "      <td>0.032042</td>\n",
       "      <td>0.007160</td>\n",
       "      <td>0.023853</td>\n",
       "      <td>0.008252</td>\n",
       "      <td>-0.000661</td>\n",
       "      <td>2007-03-31</td>\n",
       "    </tr>\n",
       "    <tr>\n",
       "      <th>3</th>\n",
       "      <td>0.034085</td>\n",
       "      <td>0.015311</td>\n",
       "      <td>0.010923</td>\n",
       "      <td>0.077894</td>\n",
       "      <td>0.007063</td>\n",
       "      <td>0.009111</td>\n",
       "      <td>-0.029540</td>\n",
       "      <td>-0.019052</td>\n",
       "      <td>2007-04-30</td>\n",
       "    </tr>\n",
       "    <tr>\n",
       "      <th>4</th>\n",
       "      <td>-0.005539</td>\n",
       "      <td>-0.011036</td>\n",
       "      <td>0.002054</td>\n",
       "      <td>-0.036594</td>\n",
       "      <td>0.007336</td>\n",
       "      <td>0.042699</td>\n",
       "      <td>0.018951</td>\n",
       "      <td>-0.009298</td>\n",
       "      <td>2007-05-31</td>\n",
       "    </tr>\n",
       "  </tbody>\n",
       "</table>\n",
       "</div>"
      ],
      "text/plain": [
       "   SA Equity  SA Nominal Bonds    SA ILB  SA Property   SA Cash  \\\n",
       "0   0.021720          0.006890  0.001790     0.084787  0.006946   \n",
       "1   0.013512          0.013678 -0.003277     0.033749  0.006395   \n",
       "2   0.033642         -0.004350  0.011483     0.032042  0.007160   \n",
       "3   0.034085          0.015311  0.010923     0.077894  0.007063   \n",
       "4  -0.005539         -0.011036  0.002054    -0.036594  0.007336   \n",
       "\n",
       "   Offshore Equity  Offshore Property  Offshore Bonds       Date  \n",
       "0         0.051911                NaN        0.014841 2007-01-31  \n",
       "1        -0.006123           0.003727        0.025924 2007-02-28  \n",
       "2         0.023853           0.008252       -0.000661 2007-03-31  \n",
       "3         0.009111          -0.029540       -0.019052 2007-04-30  \n",
       "4         0.042699           0.018951       -0.009298 2007-05-31  "
      ]
     },
     "execution_count": 7,
     "metadata": {},
     "output_type": "execute_result"
    }
   ],
   "source": [
    "asset_df.head()"
   ]
  },
  {
   "cell_type": "code",
   "execution_count": 8,
   "id": "3692eada",
   "metadata": {},
   "outputs": [
    {
     "data": {
      "text/html": [
       "<div>\n",
       "<style scoped>\n",
       "    .dataframe tbody tr th:only-of-type {\n",
       "        vertical-align: middle;\n",
       "    }\n",
       "\n",
       "    .dataframe tbody tr th {\n",
       "        vertical-align: top;\n",
       "    }\n",
       "\n",
       "    .dataframe thead th {\n",
       "        text-align: right;\n",
       "    }\n",
       "</style>\n",
       "<table border=\"1\" class=\"dataframe\">\n",
       "  <thead>\n",
       "    <tr style=\"text-align: right;\">\n",
       "      <th></th>\n",
       "      <th>SA Equity</th>\n",
       "      <th>SA Nominal Bonds</th>\n",
       "      <th>SA ILB</th>\n",
       "      <th>SA Property</th>\n",
       "      <th>SA Cash</th>\n",
       "      <th>Offshore Equity</th>\n",
       "      <th>Offshore Property</th>\n",
       "      <th>Offshore Bonds</th>\n",
       "    </tr>\n",
       "    <tr>\n",
       "      <th>Date</th>\n",
       "      <th></th>\n",
       "      <th></th>\n",
       "      <th></th>\n",
       "      <th></th>\n",
       "      <th></th>\n",
       "      <th></th>\n",
       "      <th></th>\n",
       "      <th></th>\n",
       "    </tr>\n",
       "  </thead>\n",
       "  <tbody>\n",
       "    <tr>\n",
       "      <th>2007-01-31</th>\n",
       "      <td>0.021720</td>\n",
       "      <td>0.006890</td>\n",
       "      <td>0.001790</td>\n",
       "      <td>0.084787</td>\n",
       "      <td>0.006946</td>\n",
       "      <td>0.051911</td>\n",
       "      <td>NaN</td>\n",
       "      <td>0.014841</td>\n",
       "    </tr>\n",
       "    <tr>\n",
       "      <th>2007-02-28</th>\n",
       "      <td>0.013512</td>\n",
       "      <td>0.013678</td>\n",
       "      <td>-0.003277</td>\n",
       "      <td>0.033749</td>\n",
       "      <td>0.006395</td>\n",
       "      <td>-0.006123</td>\n",
       "      <td>0.003727</td>\n",
       "      <td>0.025924</td>\n",
       "    </tr>\n",
       "    <tr>\n",
       "      <th>2007-03-31</th>\n",
       "      <td>0.033642</td>\n",
       "      <td>-0.004350</td>\n",
       "      <td>0.011483</td>\n",
       "      <td>0.032042</td>\n",
       "      <td>0.007160</td>\n",
       "      <td>0.023853</td>\n",
       "      <td>0.008252</td>\n",
       "      <td>-0.000661</td>\n",
       "    </tr>\n",
       "    <tr>\n",
       "      <th>2007-04-30</th>\n",
       "      <td>0.034085</td>\n",
       "      <td>0.015311</td>\n",
       "      <td>0.010923</td>\n",
       "      <td>0.077894</td>\n",
       "      <td>0.007063</td>\n",
       "      <td>0.009111</td>\n",
       "      <td>-0.029540</td>\n",
       "      <td>-0.019052</td>\n",
       "    </tr>\n",
       "    <tr>\n",
       "      <th>2007-05-31</th>\n",
       "      <td>-0.005539</td>\n",
       "      <td>-0.011036</td>\n",
       "      <td>0.002054</td>\n",
       "      <td>-0.036594</td>\n",
       "      <td>0.007336</td>\n",
       "      <td>0.042699</td>\n",
       "      <td>0.018951</td>\n",
       "      <td>-0.009298</td>\n",
       "    </tr>\n",
       "  </tbody>\n",
       "</table>\n",
       "</div>"
      ],
      "text/plain": [
       "            SA Equity  SA Nominal Bonds    SA ILB  SA Property   SA Cash  \\\n",
       "Date                                                                       \n",
       "2007-01-31   0.021720          0.006890  0.001790     0.084787  0.006946   \n",
       "2007-02-28   0.013512          0.013678 -0.003277     0.033749  0.006395   \n",
       "2007-03-31   0.033642         -0.004350  0.011483     0.032042  0.007160   \n",
       "2007-04-30   0.034085          0.015311  0.010923     0.077894  0.007063   \n",
       "2007-05-31  -0.005539         -0.011036  0.002054    -0.036594  0.007336   \n",
       "\n",
       "            Offshore Equity  Offshore Property  Offshore Bonds  \n",
       "Date                                                            \n",
       "2007-01-31         0.051911                NaN        0.014841  \n",
       "2007-02-28        -0.006123           0.003727        0.025924  \n",
       "2007-03-31         0.023853           0.008252       -0.000661  \n",
       "2007-04-30         0.009111          -0.029540       -0.019052  \n",
       "2007-05-31         0.042699           0.018951       -0.009298  "
      ]
     },
     "execution_count": 8,
     "metadata": {},
     "output_type": "execute_result"
    }
   ],
   "source": [
    "asset_df = asset_df.set_index([\"Date\"])\n",
    "asset_df.head()"
   ]
  },
  {
   "cell_type": "code",
   "execution_count": 9,
   "id": "1ab99649",
   "metadata": {},
   "outputs": [
    {
     "data": {
      "text/plain": [
       "['SA Equity',\n",
       " 'SA Nominal Bonds',\n",
       " 'SA ILB',\n",
       " 'SA Property',\n",
       " 'SA Cash',\n",
       " 'Offshore Equity',\n",
       " 'Offshore Property',\n",
       " 'Offshore Bonds']"
      ]
     },
     "execution_count": 9,
     "metadata": {},
     "output_type": "execute_result"
    }
   ],
   "source": [
    "# get dataset colums\n",
    "cols = asset_df.columns.tolist()\n",
    "cols"
   ]
  },
  {
   "cell_type": "code",
   "execution_count": 10,
   "id": "e2222f24",
   "metadata": {},
   "outputs": [
    {
     "data": {
      "text/plain": [
       "14184"
      ]
     },
     "execution_count": 10,
     "metadata": {},
     "output_type": "execute_result"
    }
   ],
   "source": [
    "# calculate the memory used by the dataframe (megs)\n",
    "asset_df.memory_usage(deep=True).sum()"
   ]
  },
  {
   "cell_type": "code",
   "execution_count": 11,
   "id": "c99e1bb9",
   "metadata": {},
   "outputs": [
    {
     "data": {
      "text/plain": [
       "SA Equity            float64\n",
       "SA Nominal Bonds     float64\n",
       "SA ILB               float64\n",
       "SA Property          float64\n",
       "SA Cash              float64\n",
       "Offshore Equity      float64\n",
       "Offshore Property    float64\n",
       "Offshore Bonds       float64\n",
       "dtype: object"
      ]
     },
     "execution_count": 11,
     "metadata": {},
     "output_type": "execute_result"
    }
   ],
   "source": [
    "# get dytpe of each column\n",
    "asset_df[cols].dtypes"
   ]
  },
  {
   "cell_type": "code",
   "execution_count": 12,
   "id": "b489b13f",
   "metadata": {},
   "outputs": [
    {
     "data": {
      "text/plain": [
       "Index                1576\n",
       "SA Equity            1576\n",
       "SA Nominal Bonds     1576\n",
       "SA ILB               1576\n",
       "SA Property          1576\n",
       "SA Cash              1576\n",
       "Offshore Equity      1576\n",
       "Offshore Property    1576\n",
       "Offshore Bonds       1576\n",
       "dtype: int64"
      ]
     },
     "execution_count": 12,
     "metadata": {},
     "output_type": "execute_result"
    }
   ],
   "source": [
    "# get memory used by each col\n",
    "asset_df[cols].memory_usage(deep=True)"
   ]
  },
  {
   "cell_type": "code",
   "execution_count": 13,
   "id": "f0955334",
   "metadata": {},
   "outputs": [
    {
     "data": {
      "text/plain": [
       "14184"
      ]
     },
     "execution_count": 13,
     "metadata": {},
     "output_type": "execute_result"
    }
   ],
   "source": [
    "asset_df[cols].memory_usage(deep=True).sum()"
   ]
  },
  {
   "cell_type": "markdown",
   "id": "f75066d4",
   "metadata": {},
   "source": [
    "## Data type exploration"
   ]
  },
  {
   "cell_type": "code",
   "execution_count": 14,
   "id": "7ffafe54",
   "metadata": {
    "scrolled": true
   },
   "outputs": [
    {
     "data": {
      "text/html": [
       "<div>\n",
       "<style scoped>\n",
       "    .dataframe tbody tr th:only-of-type {\n",
       "        vertical-align: middle;\n",
       "    }\n",
       "\n",
       "    .dataframe tbody tr th {\n",
       "        vertical-align: top;\n",
       "    }\n",
       "\n",
       "    .dataframe thead th {\n",
       "        text-align: right;\n",
       "    }\n",
       "</style>\n",
       "<table border=\"1\" class=\"dataframe\">\n",
       "  <thead>\n",
       "    <tr style=\"text-align: right;\">\n",
       "      <th></th>\n",
       "      <th>SA Equity</th>\n",
       "      <th>SA Nominal Bonds</th>\n",
       "      <th>SA ILB</th>\n",
       "      <th>SA Property</th>\n",
       "      <th>SA Cash</th>\n",
       "      <th>Offshore Equity</th>\n",
       "      <th>Offshore Property</th>\n",
       "      <th>Offshore Bonds</th>\n",
       "    </tr>\n",
       "  </thead>\n",
       "  <tbody>\n",
       "    <tr>\n",
       "      <th>count</th>\n",
       "      <td>197.000000</td>\n",
       "      <td>197.000000</td>\n",
       "      <td>197.000000</td>\n",
       "      <td>197.000000</td>\n",
       "      <td>197.000000</td>\n",
       "      <td>197.000000</td>\n",
       "      <td>196.000000</td>\n",
       "      <td>197.000000</td>\n",
       "    </tr>\n",
       "    <tr>\n",
       "      <th>mean</th>\n",
       "      <td>0.008108</td>\n",
       "      <td>0.006457</td>\n",
       "      <td>0.006206</td>\n",
       "      <td>0.007397</td>\n",
       "      <td>0.005547</td>\n",
       "      <td>0.011453</td>\n",
       "      <td>0.004659</td>\n",
       "      <td>0.007597</td>\n",
       "    </tr>\n",
       "    <tr>\n",
       "      <th>std</th>\n",
       "      <td>0.031942</td>\n",
       "      <td>0.022138</td>\n",
       "      <td>0.023775</td>\n",
       "      <td>0.057079</td>\n",
       "      <td>0.001533</td>\n",
       "      <td>0.042608</td>\n",
       "      <td>0.049242</td>\n",
       "      <td>0.043492</td>\n",
       "    </tr>\n",
       "    <tr>\n",
       "      <th>min</th>\n",
       "      <td>-0.139101</td>\n",
       "      <td>-0.097472</td>\n",
       "      <td>-0.174724</td>\n",
       "      <td>-0.363168</td>\n",
       "      <td>0.002795</td>\n",
       "      <td>-0.111391</td>\n",
       "      <td>-0.178234</td>\n",
       "      <td>-0.108381</td>\n",
       "    </tr>\n",
       "    <tr>\n",
       "      <th>25%</th>\n",
       "      <td>-0.010672</td>\n",
       "      <td>-0.005291</td>\n",
       "      <td>-0.003277</td>\n",
       "      <td>-0.025983</td>\n",
       "      <td>0.004545</td>\n",
       "      <td>-0.015147</td>\n",
       "      <td>-0.027503</td>\n",
       "      <td>-0.018894</td>\n",
       "    </tr>\n",
       "    <tr>\n",
       "      <th>50%</th>\n",
       "      <td>0.010870</td>\n",
       "      <td>0.006586</td>\n",
       "      <td>0.006227</td>\n",
       "      <td>0.010886</td>\n",
       "      <td>0.005436</td>\n",
       "      <td>0.009723</td>\n",
       "      <td>0.008946</td>\n",
       "      <td>0.002200</td>\n",
       "    </tr>\n",
       "    <tr>\n",
       "      <th>75%</th>\n",
       "      <td>0.026402</td>\n",
       "      <td>0.017885</td>\n",
       "      <td>0.015242</td>\n",
       "      <td>0.035342</td>\n",
       "      <td>0.006083</td>\n",
       "      <td>0.033718</td>\n",
       "      <td>0.034464</td>\n",
       "      <td>0.032002</td>\n",
       "    </tr>\n",
       "    <tr>\n",
       "      <th>max</th>\n",
       "      <td>0.103808</td>\n",
       "      <td>0.085070</td>\n",
       "      <td>0.164637</td>\n",
       "      <td>0.181911</td>\n",
       "      <td>0.009846</td>\n",
       "      <td>0.151592</td>\n",
       "      <td>0.117325</td>\n",
       "      <td>0.165276</td>\n",
       "    </tr>\n",
       "  </tbody>\n",
       "</table>\n",
       "</div>"
      ],
      "text/plain": [
       "        SA Equity  SA Nominal Bonds      SA ILB  SA Property     SA Cash  \\\n",
       "count  197.000000        197.000000  197.000000   197.000000  197.000000   \n",
       "mean     0.008108          0.006457    0.006206     0.007397    0.005547   \n",
       "std      0.031942          0.022138    0.023775     0.057079    0.001533   \n",
       "min     -0.139101         -0.097472   -0.174724    -0.363168    0.002795   \n",
       "25%     -0.010672         -0.005291   -0.003277    -0.025983    0.004545   \n",
       "50%      0.010870          0.006586    0.006227     0.010886    0.005436   \n",
       "75%      0.026402          0.017885    0.015242     0.035342    0.006083   \n",
       "max      0.103808          0.085070    0.164637     0.181911    0.009846   \n",
       "\n",
       "       Offshore Equity  Offshore Property  Offshore Bonds  \n",
       "count       197.000000         196.000000      197.000000  \n",
       "mean          0.011453           0.004659        0.007597  \n",
       "std           0.042608           0.049242        0.043492  \n",
       "min          -0.111391          -0.178234       -0.108381  \n",
       "25%          -0.015147          -0.027503       -0.018894  \n",
       "50%           0.009723           0.008946        0.002200  \n",
       "75%           0.033718           0.034464        0.032002  \n",
       "max           0.151592           0.117325        0.165276  "
      ]
     },
     "execution_count": 14,
     "metadata": {},
     "output_type": "execute_result"
    }
   ],
   "source": [
    "asset_df[cols].select_dtypes(float).describe()"
   ]
  },
  {
   "cell_type": "code",
   "execution_count": 15,
   "id": "04ed953f",
   "metadata": {},
   "outputs": [
    {
     "data": {
      "text/html": [
       "<div>\n",
       "<style scoped>\n",
       "    .dataframe tbody tr th:only-of-type {\n",
       "        vertical-align: middle;\n",
       "    }\n",
       "\n",
       "    .dataframe tbody tr th {\n",
       "        vertical-align: top;\n",
       "    }\n",
       "\n",
       "    .dataframe thead th {\n",
       "        text-align: right;\n",
       "    }\n",
       "</style>\n",
       "<table border=\"1\" class=\"dataframe\">\n",
       "  <thead>\n",
       "    <tr style=\"text-align: right;\">\n",
       "      <th></th>\n",
       "      <th>SA Equity</th>\n",
       "      <th>SA Nominal Bonds</th>\n",
       "      <th>SA ILB</th>\n",
       "      <th>SA Property</th>\n",
       "      <th>SA Cash</th>\n",
       "      <th>Offshore Equity</th>\n",
       "      <th>Offshore Property</th>\n",
       "      <th>Offshore Bonds</th>\n",
       "    </tr>\n",
       "  </thead>\n",
       "  <tbody>\n",
       "    <tr>\n",
       "      <th>count</th>\n",
       "      <td>197.000000</td>\n",
       "      <td>197.000000</td>\n",
       "      <td>197.000000</td>\n",
       "      <td>197.000000</td>\n",
       "      <td>197.000000</td>\n",
       "      <td>197.000000</td>\n",
       "      <td>196.000000</td>\n",
       "      <td>197.000000</td>\n",
       "    </tr>\n",
       "    <tr>\n",
       "      <th>mean</th>\n",
       "      <td>0.008108</td>\n",
       "      <td>0.006457</td>\n",
       "      <td>0.006206</td>\n",
       "      <td>0.007397</td>\n",
       "      <td>0.005547</td>\n",
       "      <td>0.011453</td>\n",
       "      <td>0.004659</td>\n",
       "      <td>0.007597</td>\n",
       "    </tr>\n",
       "    <tr>\n",
       "      <th>std</th>\n",
       "      <td>0.031942</td>\n",
       "      <td>0.022138</td>\n",
       "      <td>0.023775</td>\n",
       "      <td>0.057079</td>\n",
       "      <td>0.001533</td>\n",
       "      <td>0.042608</td>\n",
       "      <td>0.049242</td>\n",
       "      <td>0.043492</td>\n",
       "    </tr>\n",
       "    <tr>\n",
       "      <th>min</th>\n",
       "      <td>-0.139101</td>\n",
       "      <td>-0.097472</td>\n",
       "      <td>-0.174724</td>\n",
       "      <td>-0.363168</td>\n",
       "      <td>0.002795</td>\n",
       "      <td>-0.111391</td>\n",
       "      <td>-0.178234</td>\n",
       "      <td>-0.108381</td>\n",
       "    </tr>\n",
       "    <tr>\n",
       "      <th>25%</th>\n",
       "      <td>-0.010672</td>\n",
       "      <td>-0.005291</td>\n",
       "      <td>-0.003277</td>\n",
       "      <td>-0.025983</td>\n",
       "      <td>0.004545</td>\n",
       "      <td>-0.015147</td>\n",
       "      <td>-0.027503</td>\n",
       "      <td>-0.018894</td>\n",
       "    </tr>\n",
       "    <tr>\n",
       "      <th>50%</th>\n",
       "      <td>0.010870</td>\n",
       "      <td>0.006586</td>\n",
       "      <td>0.006227</td>\n",
       "      <td>0.010886</td>\n",
       "      <td>0.005436</td>\n",
       "      <td>0.009723</td>\n",
       "      <td>0.008946</td>\n",
       "      <td>0.002200</td>\n",
       "    </tr>\n",
       "    <tr>\n",
       "      <th>75%</th>\n",
       "      <td>0.026402</td>\n",
       "      <td>0.017885</td>\n",
       "      <td>0.015242</td>\n",
       "      <td>0.035342</td>\n",
       "      <td>0.006083</td>\n",
       "      <td>0.033718</td>\n",
       "      <td>0.034464</td>\n",
       "      <td>0.032002</td>\n",
       "    </tr>\n",
       "    <tr>\n",
       "      <th>max</th>\n",
       "      <td>0.103808</td>\n",
       "      <td>0.085070</td>\n",
       "      <td>0.164637</td>\n",
       "      <td>0.181911</td>\n",
       "      <td>0.009846</td>\n",
       "      <td>0.151592</td>\n",
       "      <td>0.117325</td>\n",
       "      <td>0.165276</td>\n",
       "    </tr>\n",
       "  </tbody>\n",
       "</table>\n",
       "</div>"
      ],
      "text/plain": [
       "        SA Equity  SA Nominal Bonds      SA ILB  SA Property     SA Cash  \\\n",
       "count  197.000000        197.000000  197.000000   197.000000  197.000000   \n",
       "mean     0.008108          0.006457    0.006206     0.007397    0.005547   \n",
       "std      0.031942          0.022138    0.023775     0.057079    0.001533   \n",
       "min     -0.139101         -0.097472   -0.174724    -0.363168    0.002795   \n",
       "25%     -0.010672         -0.005291   -0.003277    -0.025983    0.004545   \n",
       "50%      0.010870          0.006586    0.006227     0.010886    0.005436   \n",
       "75%      0.026402          0.017885    0.015242     0.035342    0.006083   \n",
       "max      0.103808          0.085070    0.164637     0.181911    0.009846   \n",
       "\n",
       "       Offshore Equity  Offshore Property  Offshore Bonds  \n",
       "count       197.000000         196.000000      197.000000  \n",
       "mean          0.011453           0.004659        0.007597  \n",
       "std           0.042608           0.049242        0.043492  \n",
       "min          -0.111391          -0.178234       -0.108381  \n",
       "25%          -0.015147          -0.027503       -0.018894  \n",
       "50%           0.009723           0.008946        0.002200  \n",
       "75%           0.033718           0.034464        0.032002  \n",
       "max           0.151592           0.117325        0.165276  "
      ]
     },
     "execution_count": 15,
     "metadata": {},
     "output_type": "execute_result"
    }
   ],
   "source": [
    "# chaining\n",
    "(asset_df\n",
    " [cols]\n",
    " .select_dtypes(float)\n",
    " .describe()\n",
    ")"
   ]
  },
  {
   "cell_type": "code",
   "execution_count": 16,
   "id": "64a3b724",
   "metadata": {
    "scrolled": true
   },
   "outputs": [
    {
     "name": "stdout",
     "output_type": "stream",
     "text": [
      "<class 'pandas.core.frame.DataFrame'>\n",
      "DatetimeIndex: 197 entries, 2007-01-31 to 2023-05-31\n",
      "Data columns (total 8 columns):\n",
      " #   Column             Non-Null Count  Dtype  \n",
      "---  ------             --------------  -----  \n",
      " 0   SA Equity          197 non-null    float64\n",
      " 1   SA Nominal Bonds   197 non-null    float64\n",
      " 2   SA ILB             197 non-null    float64\n",
      " 3   SA Property        197 non-null    float64\n",
      " 4   SA Cash            197 non-null    float64\n",
      " 5   Offshore Equity    197 non-null    float64\n",
      " 6   Offshore Property  196 non-null    float64\n",
      " 7   Offshore Bonds     197 non-null    float64\n",
      "dtypes: float64(8)\n",
      "memory usage: 13.9 KB\n"
     ]
    }
   ],
   "source": [
    "asset_df.info()"
   ]
  },
  {
   "cell_type": "code",
   "execution_count": 17,
   "id": "dc73d21a",
   "metadata": {},
   "outputs": [],
   "source": [
    "# calculate portfolio\n",
    "portfolio_size = len(asset_df.columns)"
   ]
  },
  {
   "cell_type": "markdown",
   "id": "a1a14e1d",
   "metadata": {},
   "source": [
    "## Portfolio Optimisation"
   ]
  },
  {
   "cell_type": "code",
   "execution_count": 18,
   "id": "681ace50",
   "metadata": {
    "scrolled": true
   },
   "outputs": [
    {
     "data": {
      "text/html": [
       "<div>\n",
       "<style scoped>\n",
       "    .dataframe tbody tr th:only-of-type {\n",
       "        vertical-align: middle;\n",
       "    }\n",
       "\n",
       "    .dataframe tbody tr th {\n",
       "        vertical-align: top;\n",
       "    }\n",
       "\n",
       "    .dataframe thead th {\n",
       "        text-align: right;\n",
       "    }\n",
       "</style>\n",
       "<table border=\"1\" class=\"dataframe\">\n",
       "  <thead>\n",
       "    <tr style=\"text-align: right;\">\n",
       "      <th></th>\n",
       "      <th>SA Equity</th>\n",
       "      <th>SA Nominal Bonds</th>\n",
       "      <th>SA ILB</th>\n",
       "      <th>SA Property</th>\n",
       "      <th>SA Cash</th>\n",
       "      <th>Offshore Equity</th>\n",
       "      <th>Offshore Property</th>\n",
       "      <th>Offshore Bonds</th>\n",
       "    </tr>\n",
       "    <tr>\n",
       "      <th>Date</th>\n",
       "      <th></th>\n",
       "      <th></th>\n",
       "      <th></th>\n",
       "      <th></th>\n",
       "      <th></th>\n",
       "      <th></th>\n",
       "      <th></th>\n",
       "      <th></th>\n",
       "    </tr>\n",
       "  </thead>\n",
       "  <tbody>\n",
       "    <tr>\n",
       "      <th>2007-01-31</th>\n",
       "      <td>0.021720</td>\n",
       "      <td>0.006890</td>\n",
       "      <td>0.001790</td>\n",
       "      <td>0.084787</td>\n",
       "      <td>0.006946</td>\n",
       "      <td>0.051911</td>\n",
       "      <td>NaN</td>\n",
       "      <td>0.014841</td>\n",
       "    </tr>\n",
       "    <tr>\n",
       "      <th>2007-02-28</th>\n",
       "      <td>0.013512</td>\n",
       "      <td>0.013678</td>\n",
       "      <td>-0.003277</td>\n",
       "      <td>0.033749</td>\n",
       "      <td>0.006395</td>\n",
       "      <td>-0.006123</td>\n",
       "      <td>0.003727</td>\n",
       "      <td>0.025924</td>\n",
       "    </tr>\n",
       "    <tr>\n",
       "      <th>2007-03-31</th>\n",
       "      <td>0.033642</td>\n",
       "      <td>-0.004350</td>\n",
       "      <td>0.011483</td>\n",
       "      <td>0.032042</td>\n",
       "      <td>0.007160</td>\n",
       "      <td>0.023853</td>\n",
       "      <td>0.008252</td>\n",
       "      <td>-0.000661</td>\n",
       "    </tr>\n",
       "    <tr>\n",
       "      <th>2007-04-30</th>\n",
       "      <td>0.034085</td>\n",
       "      <td>0.015311</td>\n",
       "      <td>0.010923</td>\n",
       "      <td>0.077894</td>\n",
       "      <td>0.007063</td>\n",
       "      <td>0.009111</td>\n",
       "      <td>-0.029540</td>\n",
       "      <td>-0.019052</td>\n",
       "    </tr>\n",
       "    <tr>\n",
       "      <th>2007-05-31</th>\n",
       "      <td>-0.005539</td>\n",
       "      <td>-0.011036</td>\n",
       "      <td>0.002054</td>\n",
       "      <td>-0.036594</td>\n",
       "      <td>0.007336</td>\n",
       "      <td>0.042699</td>\n",
       "      <td>0.018951</td>\n",
       "      <td>-0.009298</td>\n",
       "    </tr>\n",
       "  </tbody>\n",
       "</table>\n",
       "</div>"
      ],
      "text/plain": [
       "            SA Equity  SA Nominal Bonds    SA ILB  SA Property   SA Cash  \\\n",
       "Date                                                                       \n",
       "2007-01-31   0.021720          0.006890  0.001790     0.084787  0.006946   \n",
       "2007-02-28   0.013512          0.013678 -0.003277     0.033749  0.006395   \n",
       "2007-03-31   0.033642         -0.004350  0.011483     0.032042  0.007160   \n",
       "2007-04-30   0.034085          0.015311  0.010923     0.077894  0.007063   \n",
       "2007-05-31  -0.005539         -0.011036  0.002054    -0.036594  0.007336   \n",
       "\n",
       "            Offshore Equity  Offshore Property  Offshore Bonds  \n",
       "Date                                                            \n",
       "2007-01-31         0.051911                NaN        0.014841  \n",
       "2007-02-28        -0.006123           0.003727        0.025924  \n",
       "2007-03-31         0.023853           0.008252       -0.000661  \n",
       "2007-04-30         0.009111          -0.029540       -0.019052  \n",
       "2007-05-31         0.042699           0.018951       -0.009298  "
      ]
     },
     "execution_count": 18,
     "metadata": {},
     "output_type": "execute_result"
    }
   ],
   "source": [
    "# calculate the log return\n",
    "asset_return = asset_df\n",
    "\n",
    "asset_return.head()"
   ]
  },
  {
   "cell_type": "code",
   "execution_count": 19,
   "id": "010cb50d",
   "metadata": {},
   "outputs": [
    {
     "name": "stdout",
     "output_type": "stream",
     "text": [
      "<class 'pandas.core.frame.DataFrame'>\n",
      "DatetimeIndex: 197 entries, 2007-01-31 to 2023-05-31\n",
      "Data columns (total 8 columns):\n",
      " #   Column             Non-Null Count  Dtype  \n",
      "---  ------             --------------  -----  \n",
      " 0   SA Equity          197 non-null    float64\n",
      " 1   SA Nominal Bonds   197 non-null    float64\n",
      " 2   SA ILB             197 non-null    float64\n",
      " 3   SA Property        197 non-null    float64\n",
      " 4   SA Cash            197 non-null    float64\n",
      " 5   Offshore Equity    197 non-null    float64\n",
      " 6   Offshore Property  196 non-null    float64\n",
      " 7   Offshore Bonds     197 non-null    float64\n",
      "dtypes: float64(8)\n",
      "memory usage: 13.9 KB\n"
     ]
    }
   ],
   "source": [
    "# show information of the log return data frame\n",
    "asset_return.info()"
   ]
  },
  {
   "cell_type": "code",
   "execution_count": 20,
   "id": "7df67812",
   "metadata": {},
   "outputs": [
    {
     "data": {
      "text/html": [
       "<div>\n",
       "<style scoped>\n",
       "    .dataframe tbody tr th:only-of-type {\n",
       "        vertical-align: middle;\n",
       "    }\n",
       "\n",
       "    .dataframe tbody tr th {\n",
       "        vertical-align: top;\n",
       "    }\n",
       "\n",
       "    .dataframe thead th {\n",
       "        text-align: right;\n",
       "    }\n",
       "</style>\n",
       "<table border=\"1\" class=\"dataframe\">\n",
       "  <thead>\n",
       "    <tr style=\"text-align: right;\">\n",
       "      <th></th>\n",
       "      <th>SA Equity</th>\n",
       "      <th>SA Nominal Bonds</th>\n",
       "      <th>SA ILB</th>\n",
       "      <th>SA Property</th>\n",
       "      <th>SA Cash</th>\n",
       "      <th>Offshore Equity</th>\n",
       "      <th>Offshore Property</th>\n",
       "      <th>Offshore Bonds</th>\n",
       "    </tr>\n",
       "  </thead>\n",
       "  <tbody>\n",
       "    <tr>\n",
       "      <th>SA Equity</th>\n",
       "      <td>1.000000</td>\n",
       "      <td>0.570965</td>\n",
       "      <td>0.402090</td>\n",
       "      <td>0.656684</td>\n",
       "      <td>-0.148811</td>\n",
       "      <td>0.296227</td>\n",
       "      <td>0.391106</td>\n",
       "      <td>-0.385431</td>\n",
       "    </tr>\n",
       "    <tr>\n",
       "      <th>SA Nominal Bonds</th>\n",
       "      <td>0.570965</td>\n",
       "      <td>1.000000</td>\n",
       "      <td>0.461427</td>\n",
       "      <td>0.554695</td>\n",
       "      <td>0.010464</td>\n",
       "      <td>-0.205078</td>\n",
       "      <td>0.044224</td>\n",
       "      <td>-0.400242</td>\n",
       "    </tr>\n",
       "    <tr>\n",
       "      <th>SA ILB</th>\n",
       "      <td>0.402090</td>\n",
       "      <td>0.461427</td>\n",
       "      <td>1.000000</td>\n",
       "      <td>0.352613</td>\n",
       "      <td>-0.023273</td>\n",
       "      <td>-0.007402</td>\n",
       "      <td>0.090428</td>\n",
       "      <td>-0.203286</td>\n",
       "    </tr>\n",
       "    <tr>\n",
       "      <th>SA Property</th>\n",
       "      <td>0.656684</td>\n",
       "      <td>0.554695</td>\n",
       "      <td>0.352613</td>\n",
       "      <td>1.000000</td>\n",
       "      <td>-0.071490</td>\n",
       "      <td>0.100256</td>\n",
       "      <td>0.280386</td>\n",
       "      <td>-0.330200</td>\n",
       "    </tr>\n",
       "    <tr>\n",
       "      <th>SA Cash</th>\n",
       "      <td>-0.148811</td>\n",
       "      <td>0.010464</td>\n",
       "      <td>-0.023273</td>\n",
       "      <td>-0.071490</td>\n",
       "      <td>1.000000</td>\n",
       "      <td>-0.176736</td>\n",
       "      <td>-0.212710</td>\n",
       "      <td>0.112814</td>\n",
       "    </tr>\n",
       "    <tr>\n",
       "      <th>Offshore Equity</th>\n",
       "      <td>0.296227</td>\n",
       "      <td>-0.205078</td>\n",
       "      <td>-0.007402</td>\n",
       "      <td>0.100256</td>\n",
       "      <td>-0.176736</td>\n",
       "      <td>1.000000</td>\n",
       "      <td>0.799870</td>\n",
       "      <td>0.399854</td>\n",
       "    </tr>\n",
       "    <tr>\n",
       "      <th>Offshore Property</th>\n",
       "      <td>0.391106</td>\n",
       "      <td>0.044224</td>\n",
       "      <td>0.090428</td>\n",
       "      <td>0.280386</td>\n",
       "      <td>-0.212710</td>\n",
       "      <td>0.799870</td>\n",
       "      <td>1.000000</td>\n",
       "      <td>0.277163</td>\n",
       "    </tr>\n",
       "    <tr>\n",
       "      <th>Offshore Bonds</th>\n",
       "      <td>-0.385431</td>\n",
       "      <td>-0.400242</td>\n",
       "      <td>-0.203286</td>\n",
       "      <td>-0.330200</td>\n",
       "      <td>0.112814</td>\n",
       "      <td>0.399854</td>\n",
       "      <td>0.277163</td>\n",
       "      <td>1.000000</td>\n",
       "    </tr>\n",
       "  </tbody>\n",
       "</table>\n",
       "</div>"
      ],
      "text/plain": [
       "                   SA Equity  SA Nominal Bonds    SA ILB  SA Property  \\\n",
       "SA Equity           1.000000          0.570965  0.402090     0.656684   \n",
       "SA Nominal Bonds    0.570965          1.000000  0.461427     0.554695   \n",
       "SA ILB              0.402090          0.461427  1.000000     0.352613   \n",
       "SA Property         0.656684          0.554695  0.352613     1.000000   \n",
       "SA Cash            -0.148811          0.010464 -0.023273    -0.071490   \n",
       "Offshore Equity     0.296227         -0.205078 -0.007402     0.100256   \n",
       "Offshore Property   0.391106          0.044224  0.090428     0.280386   \n",
       "Offshore Bonds     -0.385431         -0.400242 -0.203286    -0.330200   \n",
       "\n",
       "                    SA Cash  Offshore Equity  Offshore Property  \\\n",
       "SA Equity         -0.148811         0.296227           0.391106   \n",
       "SA Nominal Bonds   0.010464        -0.205078           0.044224   \n",
       "SA ILB            -0.023273        -0.007402           0.090428   \n",
       "SA Property       -0.071490         0.100256           0.280386   \n",
       "SA Cash            1.000000        -0.176736          -0.212710   \n",
       "Offshore Equity   -0.176736         1.000000           0.799870   \n",
       "Offshore Property -0.212710         0.799870           1.000000   \n",
       "Offshore Bonds     0.112814         0.399854           0.277163   \n",
       "\n",
       "                   Offshore Bonds  \n",
       "SA Equity               -0.385431  \n",
       "SA Nominal Bonds        -0.400242  \n",
       "SA ILB                  -0.203286  \n",
       "SA Property             -0.330200  \n",
       "SA Cash                  0.112814  \n",
       "Offshore Equity          0.399854  \n",
       "Offshore Property        0.277163  \n",
       "Offshore Bonds           1.000000  "
      ]
     },
     "execution_count": 20,
     "metadata": {},
     "output_type": "execute_result"
    }
   ],
   "source": [
    "# calculate the corralation of the portfolio\n",
    "asset_return.corr()"
   ]
  },
  {
   "cell_type": "code",
   "execution_count": 21,
   "id": "d9e58302",
   "metadata": {
    "scrolled": true
   },
   "outputs": [
    {
     "data": {
      "text/plain": [
       "<AxesSubplot:xlabel='Date'>"
      ]
     },
     "execution_count": 21,
     "metadata": {},
     "output_type": "execute_result"
    },
    {
     "data": {
      "image/png": "[encoded data removed]",
      "text/plain": [
       "<Figure size 432x288 with 1 Axes>"
      ]
     },
     "metadata": {
      "needs_background": "light"
     },
     "output_type": "display_data"
    }
   ],
   "source": [
    "# plot the cumulative return of the log return\n",
    "asset_return.cumsum().plot()"
   ]
  },
  {
   "cell_type": "code",
   "execution_count": 22,
   "id": "225d30cf",
   "metadata": {
    "scrolled": true
   },
   "outputs": [
    {
     "data": {
      "text/plain": [
       "SA Equity            0.008108\n",
       "SA Nominal Bonds     0.006457\n",
       "SA ILB               0.006206\n",
       "SA Property          0.007397\n",
       "SA Cash              0.005547\n",
       "Offshore Equity      0.011453\n",
       "Offshore Property    0.004659\n",
       "Offshore Bonds       0.007597\n",
       "dtype: float64"
      ]
     },
     "execution_count": 22,
     "metadata": {},
     "output_type": "execute_result"
    }
   ],
   "source": [
    "# calculate the mean return\n",
    "asset_return.mean()"
   ]
  },
  {
   "cell_type": "code",
   "execution_count": 44,
   "id": "b5885f47",
   "metadata": {},
   "outputs": [
    {
     "data": {
      "text/plain": [
       "SA Equity            0.031942\n",
       "SA Nominal Bonds     0.022138\n",
       "SA ILB               0.023775\n",
       "SA Property          0.057079\n",
       "SA Cash              0.001533\n",
       "Offshore Equity      0.042608\n",
       "Offshore Property    0.049242\n",
       "Offshore Bonds       0.043492\n",
       "dtype: float64"
      ]
     },
     "execution_count": 44,
     "metadata": {},
     "output_type": "execute_result"
    }
   ],
   "source": [
    "# calculate the risk or variance of the portfolio return\n",
    "asset_return.std()"
   ]
  },
  {
   "cell_type": "code",
   "execution_count": 54,
   "id": "39dc200d",
   "metadata": {},
   "outputs": [
    {
     "data": {
      "text/plain": [
       "0.0068946119480572"
      ]
     },
     "execution_count": 54,
     "metadata": {},
     "output_type": "execute_result"
    }
   ],
   "source": [
    "# generate random weights for assets in portfolio\n",
    "random_weights = np.array(np.random.random(portfolio_size))\n",
    "\n",
    "# generate the rebalance weights\n",
    "rebalance_weights = random_weights / np.sum(random_weights)\n",
    "\n",
    "# calculate the expected returns, \n",
    "portfolio_exp_ret = asset_return.mean().dot(rebalance_weights)\n",
    "portfolio_exp_ret"
   ]
  },
  {
   "cell_type": "code",
   "execution_count": 46,
   "id": "d7003e23",
   "metadata": {},
   "outputs": [
    {
     "data": {
      "text/plain": [
       "0.016767865152166696"
      ]
     },
     "execution_count": 46,
     "metadata": {},
     "output_type": "execute_result"
    }
   ],
   "source": [
    "# calculate variance of the portfolio\n",
    "portfolio_risk = rebalance_weights.T.dot(asset_return.cov().dot(rebalance_weights))**(1/2)\n",
    "portfolio_risk"
   ]
  },
  {
   "cell_type": "code",
   "execution_count": 53,
   "id": "4832e69f",
   "metadata": {},
   "outputs": [
    {
     "data": {
      "text/plain": [
       "SA Equity            0.253828\n",
       "SA Nominal Bonds     0.291658\n",
       "SA ILB               0.261042\n",
       "SA Property          0.129596\n",
       "SA Cash              3.617810\n",
       "Offshore Equity      0.268811\n",
       "Offshore Property    0.094619\n",
       "Offshore Bonds       0.174678\n",
       "dtype: float64"
      ]
     },
     "execution_count": 53,
     "metadata": {},
     "output_type": "execute_result"
    }
   ],
   "source": [
    "# calculate sharpe ratio for asset\n",
    "# risk free rate is the current CPI\n",
    "risk_free_rate = 0.048\n",
    "sharpe_ratio_assets = (asset_return.mean())/ asset_return.std()\n",
    "sharpe_ratio_assets"
   ]
  },
  {
   "cell_type": "code",
   "execution_count": 56,
   "id": "297620be",
   "metadata": {},
   "outputs": [
    {
     "data": {
      "text/plain": [
       "0.4111800688691904"
      ]
     },
     "execution_count": 56,
     "metadata": {},
     "output_type": "execute_result"
    }
   ],
   "source": [
    "# calculate sharpe ratio of portfolio\n",
    "sharpe_porfolio = portfolio_exp_ret / portfolio_risk\n",
    "sharpe_porfolio"
   ]
  },
  {
   "cell_type": "markdown",
   "id": "0e140f10",
   "metadata": {},
   "source": [
    "## Portfolio weights optimisation"
   ]
  },
  {
   "cell_type": "code",
   "execution_count": 58,
   "id": "96209323",
   "metadata": {},
   "outputs": [],
   "source": [
    "def sharpe_pf(W, returns):\n",
    "    pf_risk = (W.dot(returns.cov()).dot(W))**0.5\n",
    "    exp_return = W.dot(returns.mean())\n",
    "    SR =  exp_return / pf_risk\n",
    "    # we want to minimise this value hence return negative\n",
    "    return -SR\n",
    "    \n",
    "    "
   ]
  },
  {
   "cell_type": "code",
   "execution_count": 60,
   "id": "e5d16e2d",
   "metadata": {},
   "outputs": [
    {
     "data": {
      "text/plain": [
       "-0.39898048350692594"
      ]
     },
     "execution_count": 60,
     "metadata": {},
     "output_type": "execute_result"
    }
   ],
   "source": [
    "sharpe_pf(rebalance_weights, asset_return)"
   ]
  },
  {
   "cell_type": "code",
   "execution_count": 61,
   "id": "cdf3cbb1",
   "metadata": {},
   "outputs": [],
   "source": [
    "# define constraints \n",
    "\"\"\"\n",
    "1 - equality constraints\n",
    "2 - inequality contraints\n",
    "\"\"\"\n",
    "const = ({\"type\":\"eq\", \"fun\": lambda x: np.sum(x) -1 })"
   ]
  },
  {
   "cell_type": "code",
   "execution_count": 65,
   "id": "3101fbf7",
   "metadata": {},
   "outputs": [],
   "source": [
    "opt_res = minimize(sharpe_pf, rebalance_weights, asset_return, bounds=Bounds(0,1), constraints = const)"
   ]
  },
  {
   "cell_type": "code",
   "execution_count": 67,
   "id": "ee85c0aa",
   "metadata": {},
   "outputs": [
    {
     "data": {
      "text/plain": [
       "0.9999999999999999"
      ]
     },
     "execution_count": 67,
     "metadata": {},
     "output_type": "execute_result"
    }
   ],
   "source": [
    "np.sum(opt_res.x)"
   ]
  },
  {
   "cell_type": "code",
   "execution_count": null,
   "id": "a8da4ecb",
   "metadata": {},
   "outputs": [],
   "source": []
  },
  {
   "cell_type": "code",
   "execution_count": null,
   "id": "b79852fa",
   "metadata": {},
   "outputs": [],
   "source": []
  }
 ],
 "metadata": {
  "kernelspec": {
   "display_name": "Python 3 (ipykernel)",
   "language": "python",
   "name": "python3"
  },
  "language_info": {
   "codemirror_mode": {
    "name": "ipython",
    "version": 3
   },
   "file_extension": ".py",
   "mimetype": "text/x-python",
   "name": "python",
   "nbconvert_exporter": "python",
   "pygments_lexer": "ipython3",
   "version": "3.9.12"
  }
 },
 "nbformat": 4,
 "nbformat_minor": 5
}
