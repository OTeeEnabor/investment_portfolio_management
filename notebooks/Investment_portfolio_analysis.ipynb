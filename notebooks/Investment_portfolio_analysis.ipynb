{
 "cells": [
  {
   "cell_type": "code",
   "execution_count": 2,
   "id": "8e0ed51a",
   "metadata": {
    "scrolled": false
   },
   "outputs": [
    {
     "name": "stderr",
     "output_type": "stream",
     "text": [
      "Traceback (most recent call last):\n",
      "  File \"C:\\Users\\user\\anaconda3\\Scripts\\matplotlib-script.py\", line 10, in <module>\n",
      "    sys.exit(plotting._matplotlib())\n",
      "AttributeError: module 'pandas.plotting' has no attribute '_matplotlib'\n"
     ]
    }
   ],
   "source": [
    "import pandas as pd\n",
    "import numpy as np\n",
    "import matplotlib.pyplot as plt\n",
    "\n",
    "!matplotlib inline"
   ]
  },
  {
   "cell_type": "markdown",
   "id": "48d24f81",
   "metadata": {},
   "source": [
    "## Functions"
   ]
  },
  {
   "cell_type": "code",
   "execution_count": 4,
   "id": "bb3dae6b",
   "metadata": {},
   "outputs": [],
   "source": [
    "def getExpectedReturn(df, price_col_name, annualised=True, annualise_method=\"sophisticated\"):\n",
    "    \"\"\"\n",
    "    Returns the expected return of stock given price data.\n",
    "    \"\"\"\n",
    "    \n",
    "    # calculate returns of prices\n",
    "    returns = df[price_col_name].pct_change(1)\n",
    "    \n",
    "    # calculate the expected return using the mean method\n",
    "    expected_return_daily = returns.mean()\n",
    "    \n",
    "    if annualised:\n",
    "        if annualise_method == \"sophisticated\":\n",
    "            expected_return_annual = ((1+expected_return_daily)**250) - 1\n",
    "        elif annualise_method == \"crude\":\n",
    "            # crude method\n",
    "            expected_return_annual = expected_return_daily * 250\n",
    "        return expected_return_annual\n",
    "    else:\n",
    "        return expected_return_daily\n",
    "            "
   ]
  },
  {
   "cell_type": "code",
   "execution_count": 46,
   "id": "f0c27d32",
   "metadata": {},
   "outputs": [
    {
     "data": {
      "text/html": [
       "<div>\n",
       "<style scoped>\n",
       "    .dataframe tbody tr th:only-of-type {\n",
       "        vertical-align: middle;\n",
       "    }\n",
       "\n",
       "    .dataframe tbody tr th {\n",
       "        vertical-align: top;\n",
       "    }\n",
       "\n",
       "    .dataframe thead th {\n",
       "        text-align: right;\n",
       "    }\n",
       "</style>\n",
       "<table border=\"1\" class=\"dataframe\">\n",
       "  <thead>\n",
       "    <tr style=\"text-align: right;\">\n",
       "      <th></th>\n",
       "      <th>Date</th>\n",
       "      <th>Close</th>\n",
       "    </tr>\n",
       "  </thead>\n",
       "  <tbody>\n",
       "    <tr>\n",
       "      <th>0</th>\n",
       "      <td>17/10/2002 17:00:00</td>\n",
       "      <td>97.95</td>\n",
       "    </tr>\n",
       "    <tr>\n",
       "      <th>1</th>\n",
       "      <td>30/10/2002 17:00:00</td>\n",
       "      <td>117.54</td>\n",
       "    </tr>\n",
       "    <tr>\n",
       "      <th>2</th>\n",
       "      <td>31/10/2002 17:00:00</td>\n",
       "      <td>117.54</td>\n",
       "    </tr>\n",
       "    <tr>\n",
       "      <th>3</th>\n",
       "      <td>01/11/2002 17:00:00</td>\n",
       "      <td>117.54</td>\n",
       "    </tr>\n",
       "    <tr>\n",
       "      <th>4</th>\n",
       "      <td>05/11/2002 17:00:00</td>\n",
       "      <td>137.13</td>\n",
       "    </tr>\n",
       "  </tbody>\n",
       "</table>\n",
       "</div>"
      ],
      "text/plain": [
       "                  Date   Close\n",
       "0  17/10/2002 17:00:00   97.95\n",
       "1  30/10/2002 17:00:00  117.54\n",
       "2  31/10/2002 17:00:00  117.54\n",
       "3  01/11/2002 17:00:00  117.54\n",
       "4  05/11/2002 17:00:00  137.13"
      ]
     },
     "execution_count": 46,
     "metadata": {},
     "output_type": "execute_result"
    }
   ],
   "source": [
    "# load the data\n",
    "df =  pd.read_csv(\"data/PPE_price_data.csv\")\n",
    "df.head()"
   ]
  },
  {
   "cell_type": "code",
   "execution_count": 47,
   "id": "5b4bf850",
   "metadata": {},
   "outputs": [
    {
     "data": {
      "text/plain": [
       "Date      object\n",
       "Close    float64\n",
       "dtype: object"
      ]
     },
     "execution_count": 47,
     "metadata": {},
     "output_type": "execute_result"
    }
   ],
   "source": [
    "# get information of df\n",
    "df.dtypes"
   ]
  },
  {
   "cell_type": "code",
   "execution_count": 48,
   "id": "086346b1",
   "metadata": {},
   "outputs": [],
   "source": [
    "# convert Date column to date time\n",
    "df['Date'] = pd.to_datetime(df['Date'])"
   ]
  },
  {
   "cell_type": "code",
   "execution_count": 49,
   "id": "07de79c2",
   "metadata": {},
   "outputs": [
    {
     "data": {
      "text/plain": [
       "Date     datetime64[ns]\n",
       "Close           float64\n",
       "dtype: object"
      ]
     },
     "execution_count": 49,
     "metadata": {},
     "output_type": "execute_result"
    }
   ],
   "source": [
    "df.dtypes"
   ]
  },
  {
   "cell_type": "code",
   "execution_count": 50,
   "id": "2f1e6c6e",
   "metadata": {},
   "outputs": [],
   "source": [
    "df = df.set_index(df['Date'], drop = True)"
   ]
  },
  {
   "cell_type": "code",
   "execution_count": 51,
   "id": "32c1cc78",
   "metadata": {},
   "outputs": [
    {
     "data": {
      "text/html": [
       "<div>\n",
       "<style scoped>\n",
       "    .dataframe tbody tr th:only-of-type {\n",
       "        vertical-align: middle;\n",
       "    }\n",
       "\n",
       "    .dataframe tbody tr th {\n",
       "        vertical-align: top;\n",
       "    }\n",
       "\n",
       "    .dataframe thead th {\n",
       "        text-align: right;\n",
       "    }\n",
       "</style>\n",
       "<table border=\"1\" class=\"dataframe\">\n",
       "  <thead>\n",
       "    <tr style=\"text-align: right;\">\n",
       "      <th></th>\n",
       "      <th>Date</th>\n",
       "      <th>Close</th>\n",
       "    </tr>\n",
       "    <tr>\n",
       "      <th>Date</th>\n",
       "      <th></th>\n",
       "      <th></th>\n",
       "    </tr>\n",
       "  </thead>\n",
       "  <tbody>\n",
       "    <tr>\n",
       "      <th>2002-10-17 17:00:00</th>\n",
       "      <td>2002-10-17 17:00:00</td>\n",
       "      <td>97.95</td>\n",
       "    </tr>\n",
       "    <tr>\n",
       "      <th>2002-10-30 17:00:00</th>\n",
       "      <td>2002-10-30 17:00:00</td>\n",
       "      <td>117.54</td>\n",
       "    </tr>\n",
       "    <tr>\n",
       "      <th>2002-10-31 17:00:00</th>\n",
       "      <td>2002-10-31 17:00:00</td>\n",
       "      <td>117.54</td>\n",
       "    </tr>\n",
       "    <tr>\n",
       "      <th>2002-01-11 17:00:00</th>\n",
       "      <td>2002-01-11 17:00:00</td>\n",
       "      <td>117.54</td>\n",
       "    </tr>\n",
       "    <tr>\n",
       "      <th>2002-05-11 17:00:00</th>\n",
       "      <td>2002-05-11 17:00:00</td>\n",
       "      <td>137.13</td>\n",
       "    </tr>\n",
       "  </tbody>\n",
       "</table>\n",
       "</div>"
      ],
      "text/plain": [
       "                                   Date   Close\n",
       "Date                                           \n",
       "2002-10-17 17:00:00 2002-10-17 17:00:00   97.95\n",
       "2002-10-30 17:00:00 2002-10-30 17:00:00  117.54\n",
       "2002-10-31 17:00:00 2002-10-31 17:00:00  117.54\n",
       "2002-01-11 17:00:00 2002-01-11 17:00:00  117.54\n",
       "2002-05-11 17:00:00 2002-05-11 17:00:00  137.13"
      ]
     },
     "execution_count": 51,
     "metadata": {},
     "output_type": "execute_result"
    }
   ],
   "source": [
    "df.head()"
   ]
  },
  {
   "cell_type": "code",
   "execution_count": 52,
   "id": "7a8ea856",
   "metadata": {},
   "outputs": [],
   "source": [
    "df = df.drop(\"Date\", axis=1)"
   ]
  },
  {
   "cell_type": "code",
   "execution_count": 53,
   "id": "eccc32c3",
   "metadata": {},
   "outputs": [
    {
     "data": {
      "text/html": [
       "<div>\n",
       "<style scoped>\n",
       "    .dataframe tbody tr th:only-of-type {\n",
       "        vertical-align: middle;\n",
       "    }\n",
       "\n",
       "    .dataframe tbody tr th {\n",
       "        vertical-align: top;\n",
       "    }\n",
       "\n",
       "    .dataframe thead th {\n",
       "        text-align: right;\n",
       "    }\n",
       "</style>\n",
       "<table border=\"1\" class=\"dataframe\">\n",
       "  <thead>\n",
       "    <tr style=\"text-align: right;\">\n",
       "      <th></th>\n",
       "      <th>Close</th>\n",
       "    </tr>\n",
       "    <tr>\n",
       "      <th>Date</th>\n",
       "      <th></th>\n",
       "    </tr>\n",
       "  </thead>\n",
       "  <tbody>\n",
       "    <tr>\n",
       "      <th>2002-10-17 17:00:00</th>\n",
       "      <td>97.95</td>\n",
       "    </tr>\n",
       "    <tr>\n",
       "      <th>2002-10-30 17:00:00</th>\n",
       "      <td>117.54</td>\n",
       "    </tr>\n",
       "    <tr>\n",
       "      <th>2002-10-31 17:00:00</th>\n",
       "      <td>117.54</td>\n",
       "    </tr>\n",
       "    <tr>\n",
       "      <th>2002-01-11 17:00:00</th>\n",
       "      <td>117.54</td>\n",
       "    </tr>\n",
       "    <tr>\n",
       "      <th>2002-05-11 17:00:00</th>\n",
       "      <td>137.13</td>\n",
       "    </tr>\n",
       "  </tbody>\n",
       "</table>\n",
       "</div>"
      ],
      "text/plain": [
       "                      Close\n",
       "Date                       \n",
       "2002-10-17 17:00:00   97.95\n",
       "2002-10-30 17:00:00  117.54\n",
       "2002-10-31 17:00:00  117.54\n",
       "2002-01-11 17:00:00  117.54\n",
       "2002-05-11 17:00:00  137.13"
      ]
     },
     "execution_count": 53,
     "metadata": {},
     "output_type": "execute_result"
    }
   ],
   "source": [
    "df.head()"
   ]
  },
  {
   "cell_type": "code",
   "execution_count": 54,
   "id": "4a97847c",
   "metadata": {},
   "outputs": [
    {
     "data": {
      "text/html": [
       "<div>\n",
       "<style scoped>\n",
       "    .dataframe tbody tr th:only-of-type {\n",
       "        vertical-align: middle;\n",
       "    }\n",
       "\n",
       "    .dataframe tbody tr th {\n",
       "        vertical-align: top;\n",
       "    }\n",
       "\n",
       "    .dataframe thead th {\n",
       "        text-align: right;\n",
       "    }\n",
       "</style>\n",
       "<table border=\"1\" class=\"dataframe\">\n",
       "  <thead>\n",
       "    <tr style=\"text-align: right;\">\n",
       "      <th></th>\n",
       "      <th>Close</th>\n",
       "    </tr>\n",
       "    <tr>\n",
       "      <th>Date</th>\n",
       "      <th></th>\n",
       "    </tr>\n",
       "  </thead>\n",
       "  <tbody>\n",
       "    <tr>\n",
       "      <th>2023-11-17 17:00:00</th>\n",
       "      <td>64.0</td>\n",
       "    </tr>\n",
       "    <tr>\n",
       "      <th>2023-11-20 17:00:00</th>\n",
       "      <td>60.0</td>\n",
       "    </tr>\n",
       "    <tr>\n",
       "      <th>2023-11-21 17:00:00</th>\n",
       "      <td>62.0</td>\n",
       "    </tr>\n",
       "    <tr>\n",
       "      <th>2023-11-22 17:00:00</th>\n",
       "      <td>58.0</td>\n",
       "    </tr>\n",
       "    <tr>\n",
       "      <th>2023-11-23 17:00:00</th>\n",
       "      <td>59.0</td>\n",
       "    </tr>\n",
       "  </tbody>\n",
       "</table>\n",
       "</div>"
      ],
      "text/plain": [
       "                     Close\n",
       "Date                      \n",
       "2023-11-17 17:00:00   64.0\n",
       "2023-11-20 17:00:00   60.0\n",
       "2023-11-21 17:00:00   62.0\n",
       "2023-11-22 17:00:00   58.0\n",
       "2023-11-23 17:00:00   59.0"
      ]
     },
     "execution_count": 54,
     "metadata": {},
     "output_type": "execute_result"
    }
   ],
   "source": [
    "df.tail()"
   ]
  },
  {
   "cell_type": "code",
   "execution_count": 55,
   "id": "1027fcd2",
   "metadata": {},
   "outputs": [
    {
     "data": {
      "text/plain": [
       "<AxesSubplot:title={'center':'PPE Price History (2002 - 2023)'}, xlabel='Date', ylabel='Price close (R/100)'>"
      ]
     },
     "execution_count": 55,
     "metadata": {},
     "output_type": "execute_result"
    },
    {
     "data": {
      "image/png": "[encoded data removed]",
      "text/plain": [
       "<Figure size 864x576 with 1 Axes>"
      ]
     },
     "metadata": {
      "needs_background": "light"
     },
     "output_type": "display_data"
    }
   ],
   "source": [
    "df['Close'].plot(figsize=(12,8),\n",
    "        title=\"PPE Price History (2002 - 2023)\",\n",
    "       ylabel = \"Price close (R/100)\")"
   ]
  },
  {
   "cell_type": "code",
   "execution_count": 56,
   "id": "f28b65da",
   "metadata": {},
   "outputs": [
    {
     "data": {
      "text/plain": [
       "<AxesSubplot:ylabel='Density'>"
      ]
     },
     "execution_count": 56,
     "metadata": {},
     "output_type": "execute_result"
    },
    {
     "data": {
      "image/png": "[encoded data removed]",
      "text/plain": [
       "<Figure size 432x288 with 1 Axes>"
      ]
     },
     "metadata": {
      "needs_background": "light"
     },
     "output_type": "display_data"
    }
   ],
   "source": [
    "df.plot.kde()"
   ]
  },
  {
   "cell_type": "markdown",
   "id": "73a1753e",
   "metadata": {},
   "source": [
    "## Calculate Estimated Expected Returns\n"
   ]
  },
  {
   "cell_type": "code",
   "execution_count": 58,
   "id": "8529aa6d",
   "metadata": {},
   "outputs": [],
   "source": [
    "# calculate ppe daily returns\n",
    "df['returns'] = (df['Close'] / df['Close'].shift(1)) - 1"
   ]
  },
  {
   "cell_type": "code",
   "execution_count": 59,
   "id": "d97b8499",
   "metadata": {},
   "outputs": [
    {
     "data": {
      "text/plain": [
       "<AxesSubplot:title={'center':'PPE Returns History (2002 - 2023)'}, xlabel='Date', ylabel='Returns (%)'>"
      ]
     },
     "execution_count": 59,
     "metadata": {},
     "output_type": "execute_result"
    },
    {
     "data": {
      "image/png": "[encoded data removed]",
      "text/plain": [
       "<Figure size 864x576 with 1 Axes>"
      ]
     },
     "metadata": {
      "needs_background": "light"
     },
     "output_type": "display_data"
    }
   ],
   "source": [
    "df['returns'].plot(figsize=(12,8),\n",
    "        title=\"PPE Returns History (2002 - 2023)\",\n",
    "       ylabel = \"Returns (%)\")"
   ]
  },
  {
   "cell_type": "code",
   "execution_count": 60,
   "id": "da9c006f",
   "metadata": {},
   "outputs": [
    {
     "name": "stdout",
     "output_type": "stream",
     "text": [
      "0.197%\n"
     ]
    }
   ],
   "source": [
    "# calculate expected return \n",
    "exp_return = df['returns'].mean()\n",
    "print(f\"{exp_return:.3%}\")"
   ]
  },
  {
   "cell_type": "markdown",
   "id": "d26c85aa",
   "metadata": {},
   "source": [
    "Purple Group has a daily expected return of 0.197%. Now to anualise the expecte returns.\n",
    "\n",
    "- multiply by 250 (approximate number of trading days in a year)\n",
    "- Compounding the daily return over 250 days."
   ]
  },
  {
   "cell_type": "code",
   "execution_count": 61,
   "id": "dbf2cd2a",
   "metadata": {},
   "outputs": [
    {
     "data": {
      "text/plain": [
       "0.634658123050968"
      ]
     },
     "execution_count": 61,
     "metadata": {},
     "output_type": "execute_result"
    }
   ],
   "source": [
    "annual_exp_return = ((1+exp_return)**(250)) - 1\n",
    "annual_exp_return"
   ]
  },
  {
   "cell_type": "code",
   "execution_count": 62,
   "id": "5c67d6dc",
   "metadata": {},
   "outputs": [
    {
     "data": {
      "text/plain": [
       "0.4919170142121305"
      ]
     },
     "execution_count": 62,
     "metadata": {},
     "output_type": "execute_result"
    }
   ],
   "source": [
    "annual_exp_return2 = exp_return * 250\n",
    "annual_exp_return2"
   ]
  },
  {
   "cell_type": "markdown",
   "id": "712960c2",
   "metadata": {},
   "source": [
    "Calculate moving average for expected returns.\n",
    "- 7 day moving average\n",
    "- 30 day moving average"
   ]
  },
  {
   "cell_type": "code",
   "execution_count": 63,
   "id": "4ddef33c",
   "metadata": {},
   "outputs": [],
   "source": [
    "# 7 day moving average\n",
    "df['exp_return_7'] = df['returns'].rolling(7).mean()\n",
    "df['exp_return_30'] = df['returns'].rolling(30).mean()\n",
    "df['exp_return_90'] = df['returns'].rolling(90).mean()"
   ]
  },
  {
   "cell_type": "code",
   "execution_count": 64,
   "id": "7c8206f4",
   "metadata": {},
   "outputs": [
    {
     "data": {
      "text/html": [
       "<div>\n",
       "<style scoped>\n",
       "    .dataframe tbody tr th:only-of-type {\n",
       "        vertical-align: middle;\n",
       "    }\n",
       "\n",
       "    .dataframe tbody tr th {\n",
       "        vertical-align: top;\n",
       "    }\n",
       "\n",
       "    .dataframe thead th {\n",
       "        text-align: right;\n",
       "    }\n",
       "</style>\n",
       "<table border=\"1\" class=\"dataframe\">\n",
       "  <thead>\n",
       "    <tr style=\"text-align: right;\">\n",
       "      <th></th>\n",
       "      <th>Close</th>\n",
       "      <th>returns</th>\n",
       "      <th>exp_return_7</th>\n",
       "      <th>exp_return_30</th>\n",
       "      <th>exp_return_90</th>\n",
       "    </tr>\n",
       "    <tr>\n",
       "      <th>Date</th>\n",
       "      <th></th>\n",
       "      <th></th>\n",
       "      <th></th>\n",
       "      <th></th>\n",
       "      <th></th>\n",
       "    </tr>\n",
       "  </thead>\n",
       "  <tbody>\n",
       "    <tr>\n",
       "      <th>2002-10-17 17:00:00</th>\n",
       "      <td>97.95</td>\n",
       "      <td>NaN</td>\n",
       "      <td>NaN</td>\n",
       "      <td>NaN</td>\n",
       "      <td>NaN</td>\n",
       "    </tr>\n",
       "    <tr>\n",
       "      <th>2002-10-30 17:00:00</th>\n",
       "      <td>117.54</td>\n",
       "      <td>0.200000</td>\n",
       "      <td>NaN</td>\n",
       "      <td>NaN</td>\n",
       "      <td>NaN</td>\n",
       "    </tr>\n",
       "    <tr>\n",
       "      <th>2002-10-31 17:00:00</th>\n",
       "      <td>117.54</td>\n",
       "      <td>0.000000</td>\n",
       "      <td>NaN</td>\n",
       "      <td>NaN</td>\n",
       "      <td>NaN</td>\n",
       "    </tr>\n",
       "    <tr>\n",
       "      <th>2002-01-11 17:00:00</th>\n",
       "      <td>117.54</td>\n",
       "      <td>0.000000</td>\n",
       "      <td>NaN</td>\n",
       "      <td>NaN</td>\n",
       "      <td>NaN</td>\n",
       "    </tr>\n",
       "    <tr>\n",
       "      <th>2002-05-11 17:00:00</th>\n",
       "      <td>137.13</td>\n",
       "      <td>0.166667</td>\n",
       "      <td>NaN</td>\n",
       "      <td>NaN</td>\n",
       "      <td>NaN</td>\n",
       "    </tr>\n",
       "    <tr>\n",
       "      <th>2002-06-11 17:00:00</th>\n",
       "      <td>146.93</td>\n",
       "      <td>0.071465</td>\n",
       "      <td>NaN</td>\n",
       "      <td>NaN</td>\n",
       "      <td>NaN</td>\n",
       "    </tr>\n",
       "    <tr>\n",
       "      <th>2002-07-11 17:00:00</th>\n",
       "      <td>146.93</td>\n",
       "      <td>0.000000</td>\n",
       "      <td>NaN</td>\n",
       "      <td>NaN</td>\n",
       "      <td>NaN</td>\n",
       "    </tr>\n",
       "    <tr>\n",
       "      <th>2002-08-11 17:00:00</th>\n",
       "      <td>146.93</td>\n",
       "      <td>0.000000</td>\n",
       "      <td>0.062590</td>\n",
       "      <td>NaN</td>\n",
       "      <td>NaN</td>\n",
       "    </tr>\n",
       "    <tr>\n",
       "      <th>2002-11-11 17:00:00</th>\n",
       "      <td>146.93</td>\n",
       "      <td>0.000000</td>\n",
       "      <td>0.034019</td>\n",
       "      <td>NaN</td>\n",
       "      <td>NaN</td>\n",
       "    </tr>\n",
       "    <tr>\n",
       "      <th>2002-11-13 17:00:00</th>\n",
       "      <td>166.52</td>\n",
       "      <td>0.133329</td>\n",
       "      <td>0.053066</td>\n",
       "      <td>NaN</td>\n",
       "      <td>NaN</td>\n",
       "    </tr>\n",
       "    <tr>\n",
       "      <th>2002-11-14 17:00:00</th>\n",
       "      <td>156.72</td>\n",
       "      <td>-0.058852</td>\n",
       "      <td>0.044658</td>\n",
       "      <td>NaN</td>\n",
       "      <td>NaN</td>\n",
       "    </tr>\n",
       "    <tr>\n",
       "      <th>2002-11-15 17:00:00</th>\n",
       "      <td>205.70</td>\n",
       "      <td>0.312532</td>\n",
       "      <td>0.065496</td>\n",
       "      <td>NaN</td>\n",
       "      <td>NaN</td>\n",
       "    </tr>\n",
       "    <tr>\n",
       "      <th>2002-11-18 17:00:00</th>\n",
       "      <td>215.49</td>\n",
       "      <td>0.047594</td>\n",
       "      <td>0.062086</td>\n",
       "      <td>NaN</td>\n",
       "      <td>NaN</td>\n",
       "    </tr>\n",
       "    <tr>\n",
       "      <th>2002-11-19 17:00:00</th>\n",
       "      <td>244.88</td>\n",
       "      <td>0.136387</td>\n",
       "      <td>0.081570</td>\n",
       "      <td>NaN</td>\n",
       "      <td>NaN</td>\n",
       "    </tr>\n",
       "    <tr>\n",
       "      <th>2002-11-20 17:00:00</th>\n",
       "      <td>244.88</td>\n",
       "      <td>0.000000</td>\n",
       "      <td>0.081570</td>\n",
       "      <td>NaN</td>\n",
       "      <td>NaN</td>\n",
       "    </tr>\n",
       "    <tr>\n",
       "      <th>2002-11-21 17:00:00</th>\n",
       "      <td>215.49</td>\n",
       "      <td>-0.120018</td>\n",
       "      <td>0.064424</td>\n",
       "      <td>NaN</td>\n",
       "      <td>NaN</td>\n",
       "    </tr>\n",
       "    <tr>\n",
       "      <th>2002-11-22 17:00:00</th>\n",
       "      <td>235.08</td>\n",
       "      <td>0.090909</td>\n",
       "      <td>0.058365</td>\n",
       "      <td>NaN</td>\n",
       "      <td>NaN</td>\n",
       "    </tr>\n",
       "    <tr>\n",
       "      <th>2002-11-25 17:00:00</th>\n",
       "      <td>195.90</td>\n",
       "      <td>-0.166667</td>\n",
       "      <td>0.042962</td>\n",
       "      <td>NaN</td>\n",
       "      <td>NaN</td>\n",
       "    </tr>\n",
       "    <tr>\n",
       "      <th>2002-11-27 17:00:00</th>\n",
       "      <td>176.31</td>\n",
       "      <td>-0.100000</td>\n",
       "      <td>-0.015971</td>\n",
       "      <td>NaN</td>\n",
       "      <td>NaN</td>\n",
       "    </tr>\n",
       "    <tr>\n",
       "      <th>2002-11-29 17:00:00</th>\n",
       "      <td>225.29</td>\n",
       "      <td>0.277806</td>\n",
       "      <td>0.016917</td>\n",
       "      <td>NaN</td>\n",
       "      <td>NaN</td>\n",
       "    </tr>\n",
       "    <tr>\n",
       "      <th>2002-02-12 17:00:00</th>\n",
       "      <td>225.29</td>\n",
       "      <td>0.000000</td>\n",
       "      <td>-0.002567</td>\n",
       "      <td>NaN</td>\n",
       "      <td>NaN</td>\n",
       "    </tr>\n",
       "    <tr>\n",
       "      <th>2002-03-12 17:00:00</th>\n",
       "      <td>215.49</td>\n",
       "      <td>-0.043499</td>\n",
       "      <td>-0.008781</td>\n",
       "      <td>NaN</td>\n",
       "      <td>NaN</td>\n",
       "    </tr>\n",
       "    <tr>\n",
       "      <th>2002-04-12 17:00:00</th>\n",
       "      <td>186.11</td>\n",
       "      <td>-0.136340</td>\n",
       "      <td>-0.011113</td>\n",
       "      <td>NaN</td>\n",
       "      <td>NaN</td>\n",
       "    </tr>\n",
       "    <tr>\n",
       "      <th>2002-06-12 17:00:00</th>\n",
       "      <td>195.90</td>\n",
       "      <td>0.052603</td>\n",
       "      <td>-0.016585</td>\n",
       "      <td>NaN</td>\n",
       "      <td>NaN</td>\n",
       "    </tr>\n",
       "    <tr>\n",
       "      <th>2002-09-12 17:00:00</th>\n",
       "      <td>195.90</td>\n",
       "      <td>0.000000</td>\n",
       "      <td>0.007224</td>\n",
       "      <td>NaN</td>\n",
       "      <td>NaN</td>\n",
       "    </tr>\n",
       "    <tr>\n",
       "      <th>2002-12-13 17:00:00</th>\n",
       "      <td>195.90</td>\n",
       "      <td>0.000000</td>\n",
       "      <td>0.021510</td>\n",
       "      <td>NaN</td>\n",
       "      <td>NaN</td>\n",
       "    </tr>\n",
       "    <tr>\n",
       "      <th>2002-12-18 17:00:00</th>\n",
       "      <td>205.70</td>\n",
       "      <td>0.050026</td>\n",
       "      <td>-0.011030</td>\n",
       "      <td>NaN</td>\n",
       "      <td>NaN</td>\n",
       "    </tr>\n",
       "    <tr>\n",
       "      <th>2002-12-19 17:00:00</th>\n",
       "      <td>205.70</td>\n",
       "      <td>0.000000</td>\n",
       "      <td>-0.011030</td>\n",
       "      <td>NaN</td>\n",
       "      <td>NaN</td>\n",
       "    </tr>\n",
       "    <tr>\n",
       "      <th>2002-12-24 17:00:00</th>\n",
       "      <td>205.70</td>\n",
       "      <td>0.000000</td>\n",
       "      <td>-0.004816</td>\n",
       "      <td>NaN</td>\n",
       "      <td>NaN</td>\n",
       "    </tr>\n",
       "    <tr>\n",
       "      <th>2002-12-27 17:00:00</th>\n",
       "      <td>195.90</td>\n",
       "      <td>-0.047642</td>\n",
       "      <td>0.007855</td>\n",
       "      <td>NaN</td>\n",
       "      <td>NaN</td>\n",
       "    </tr>\n",
       "  </tbody>\n",
       "</table>\n",
       "</div>"
      ],
      "text/plain": [
       "                      Close   returns  exp_return_7  exp_return_30  \\\n",
       "Date                                                                 \n",
       "2002-10-17 17:00:00   97.95       NaN           NaN            NaN   \n",
       "2002-10-30 17:00:00  117.54  0.200000           NaN            NaN   \n",
       "2002-10-31 17:00:00  117.54  0.000000           NaN            NaN   \n",
       "2002-01-11 17:00:00  117.54  0.000000           NaN            NaN   \n",
       "2002-05-11 17:00:00  137.13  0.166667           NaN            NaN   \n",
       "2002-06-11 17:00:00  146.93  0.071465           NaN            NaN   \n",
       "2002-07-11 17:00:00  146.93  0.000000           NaN            NaN   \n",
       "2002-08-11 17:00:00  146.93  0.000000      0.062590            NaN   \n",
       "2002-11-11 17:00:00  146.93  0.000000      0.034019            NaN   \n",
       "2002-11-13 17:00:00  166.52  0.133329      0.053066            NaN   \n",
       "2002-11-14 17:00:00  156.72 -0.058852      0.044658            NaN   \n",
       "2002-11-15 17:00:00  205.70  0.312532      0.065496            NaN   \n",
       "2002-11-18 17:00:00  215.49  0.047594      0.062086            NaN   \n",
       "2002-11-19 17:00:00  244.88  0.136387      0.081570            NaN   \n",
       "2002-11-20 17:00:00  244.88  0.000000      0.081570            NaN   \n",
       "2002-11-21 17:00:00  215.49 -0.120018      0.064424            NaN   \n",
       "2002-11-22 17:00:00  235.08  0.090909      0.058365            NaN   \n",
       "2002-11-25 17:00:00  195.90 -0.166667      0.042962            NaN   \n",
       "2002-11-27 17:00:00  176.31 -0.100000     -0.015971            NaN   \n",
       "2002-11-29 17:00:00  225.29  0.277806      0.016917            NaN   \n",
       "2002-02-12 17:00:00  225.29  0.000000     -0.002567            NaN   \n",
       "2002-03-12 17:00:00  215.49 -0.043499     -0.008781            NaN   \n",
       "2002-04-12 17:00:00  186.11 -0.136340     -0.011113            NaN   \n",
       "2002-06-12 17:00:00  195.90  0.052603     -0.016585            NaN   \n",
       "2002-09-12 17:00:00  195.90  0.000000      0.007224            NaN   \n",
       "2002-12-13 17:00:00  195.90  0.000000      0.021510            NaN   \n",
       "2002-12-18 17:00:00  205.70  0.050026     -0.011030            NaN   \n",
       "2002-12-19 17:00:00  205.70  0.000000     -0.011030            NaN   \n",
       "2002-12-24 17:00:00  205.70  0.000000     -0.004816            NaN   \n",
       "2002-12-27 17:00:00  195.90 -0.047642      0.007855            NaN   \n",
       "\n",
       "                     exp_return_90  \n",
       "Date                                \n",
       "2002-10-17 17:00:00            NaN  \n",
       "2002-10-30 17:00:00            NaN  \n",
       "2002-10-31 17:00:00            NaN  \n",
       "2002-01-11 17:00:00            NaN  \n",
       "2002-05-11 17:00:00            NaN  \n",
       "2002-06-11 17:00:00            NaN  \n",
       "2002-07-11 17:00:00            NaN  \n",
       "2002-08-11 17:00:00            NaN  \n",
       "2002-11-11 17:00:00            NaN  \n",
       "2002-11-13 17:00:00            NaN  \n",
       "2002-11-14 17:00:00            NaN  \n",
       "2002-11-15 17:00:00            NaN  \n",
       "2002-11-18 17:00:00            NaN  \n",
       "2002-11-19 17:00:00            NaN  \n",
       "2002-11-20 17:00:00            NaN  \n",
       "2002-11-21 17:00:00            NaN  \n",
       "2002-11-22 17:00:00            NaN  \n",
       "2002-11-25 17:00:00            NaN  \n",
       "2002-11-27 17:00:00            NaN  \n",
       "2002-11-29 17:00:00            NaN  \n",
       "2002-02-12 17:00:00            NaN  \n",
       "2002-03-12 17:00:00            NaN  \n",
       "2002-04-12 17:00:00            NaN  \n",
       "2002-06-12 17:00:00            NaN  \n",
       "2002-09-12 17:00:00            NaN  \n",
       "2002-12-13 17:00:00            NaN  \n",
       "2002-12-18 17:00:00            NaN  \n",
       "2002-12-19 17:00:00            NaN  \n",
       "2002-12-24 17:00:00            NaN  \n",
       "2002-12-27 17:00:00            NaN  "
      ]
     },
     "execution_count": 64,
     "metadata": {},
     "output_type": "execute_result"
    }
   ],
   "source": [
    "df.head(30)"
   ]
  },
  {
   "cell_type": "code",
   "execution_count": 43,
   "id": "bc11a130",
   "metadata": {
    "scrolled": true
   },
   "outputs": [
    {
     "data": {
      "text/plain": [
       "<AxesSubplot:title={'center':'PPE Returns History (2002 - 2023)'}, xlabel='Date', ylabel='Returns (%)'>"
      ]
     },
     "execution_count": 43,
     "metadata": {},
     "output_type": "execute_result"
    },
    {
     "data": {
      "image/png": "[encoded data removed]",
      "text/plain": [
       "<Figure size 864x576 with 1 Axes>"
      ]
     },
     "metadata": {
      "needs_background": "light"
     },
     "output_type": "display_data"
    }
   ],
   "source": [
    "df[['returns',\"exp_return_7\",\"exp_return_30\",\"exp_return_90\"]].plot(figsize=(12,8),\n",
    "        title=\"PPE Returns History (2002 - 2023)\",\n",
    "       ylabel = \"Returns (%)\")"
   ]
  },
  {
   "cell_type": "markdown",
   "id": "66c519be",
   "metadata": {},
   "source": [
    "## State Contigent Expected Returns"
   ]
  },
  {
   "cell_type": "markdown",
   "id": "07354d15",
   "metadata": {},
   "source": [
    "The mean based Expected Return is limited by the fact that is based entirely on historic data/information. The historic performance of a stock is not a solid indicator that it will continue with that performance in the future. \n",
    "\n",
    "State Contingent Expected Returns are used to overcome this limitation. They are expected returns contingent on a given state occuring. This method is only as good as the accuracy of:\n",
    "* anticipated returns, and\n",
    "* probabilities of occurrences.\n",
    "\n",
    "\n",
    "## Asset Pricing Models\n",
    "Asset Pricing Models remove some of the subjective issues involved in the estimation of expected returns. APMs are tools that use math and logic to determine the expected return of financial securities. The APMs rely on :\n",
    "* **linearity**: equation of a straight line or regression\n",
    "* **perfect information**: assumes that all investors have the access to the same information. \n",
    "* **efficient markets**: all information is immediately reflected in the prices of securities.\n",
    "\n",
    "\n",
    "$$\n",
    "    E[r_j] = r_f + \\beta_j(E[r_m] - r_f )\n",
    "$$\n",
    "**Where**:\n",
    "\n",
    "$E[r_jt]$ = Expected return on a stock j\n",
    "\n",
    "$E[r_m]$ = Expected return on the market\n",
    "\n",
    "$r_f$ = Risk free rate (e.g. Yield of T-bills or T-bonds)\n",
    "\n",
    "$\\beta_j$ = Systematic risk (market risk) of stock j"
   ]
  },
  {
   "cell_type": "markdown",
   "id": "7b767058",
   "metadata": {},
   "source": [
    "### Calculate Expected Returns of Stock with CAPM\n",
    "\n",
    "$$\n",
    "    E[r_{GOOGL}] = r_f + \\beta_{GOOGL}(E[r_m] - r_f)\n",
    "$$\n",
    "\n",
    "**Where**:\n",
    "E[r_{GOOGL}]"
   ]
  },
  {
   "cell_type": "code",
   "execution_count": 3,
   "id": "a77a91d1",
   "metadata": {
    "scrolled": true
   },
   "outputs": [
    {
     "data": {
      "text/html": [
       "<div>\n",
       "<style scoped>\n",
       "    .dataframe tbody tr th:only-of-type {\n",
       "        vertical-align: middle;\n",
       "    }\n",
       "\n",
       "    .dataframe tbody tr th {\n",
       "        vertical-align: top;\n",
       "    }\n",
       "\n",
       "    .dataframe thead th {\n",
       "        text-align: right;\n",
       "    }\n",
       "</style>\n",
       "<table border=\"1\" class=\"dataframe\">\n",
       "  <thead>\n",
       "    <tr style=\"text-align: right;\">\n",
       "      <th></th>\n",
       "      <th>Date</th>\n",
       "      <th>Close</th>\n",
       "    </tr>\n",
       "  </thead>\n",
       "  <tbody>\n",
       "    <tr>\n",
       "      <th>0</th>\n",
       "      <td>17/10/2002 16:00:00</td>\n",
       "      <td>879.20</td>\n",
       "    </tr>\n",
       "    <tr>\n",
       "      <th>1</th>\n",
       "      <td>18/10/2002 16:00:00</td>\n",
       "      <td>884.39</td>\n",
       "    </tr>\n",
       "    <tr>\n",
       "      <th>2</th>\n",
       "      <td>21/10/2002 16:00:00</td>\n",
       "      <td>899.72</td>\n",
       "    </tr>\n",
       "    <tr>\n",
       "      <th>3</th>\n",
       "      <td>22/10/2002 16:00:00</td>\n",
       "      <td>890.16</td>\n",
       "    </tr>\n",
       "    <tr>\n",
       "      <th>4</th>\n",
       "      <td>23/10/2002 16:00:00</td>\n",
       "      <td>896.14</td>\n",
       "    </tr>\n",
       "  </tbody>\n",
       "</table>\n",
       "</div>"
      ],
      "text/plain": [
       "                  Date   Close\n",
       "0  17/10/2002 16:00:00  879.20\n",
       "1  18/10/2002 16:00:00  884.39\n",
       "2  21/10/2002 16:00:00  899.72\n",
       "3  22/10/2002 16:00:00  890.16\n",
       "4  23/10/2002 16:00:00  896.14"
      ]
     },
     "execution_count": 3,
     "metadata": {},
     "output_type": "execute_result"
    }
   ],
   "source": [
    "sp500 = pd.read_csv(\"data/SP_500_price_data.csv\")\n",
    "sp500.head()"
   ]
  },
  {
   "cell_type": "code",
   "execution_count": 5,
   "id": "ee38921a",
   "metadata": {},
   "outputs": [
    {
     "data": {
      "text/plain": [
       "0.10213321897288585"
      ]
     },
     "execution_count": 5,
     "metadata": {},
     "output_type": "execute_result"
    }
   ],
   "source": [
    "sp500_expected = getExpectedReturn(sp500, \"Close\")\n",
    "sp500_expected"
   ]
  },
  {
   "cell_type": "code",
   "execution_count": 8,
   "id": "40ab1c39",
   "metadata": {},
   "outputs": [
    {
     "data": {
      "text/plain": [
       "0.6619796600000001"
      ]
     },
     "execution_count": 8,
     "metadata": {},
     "output_type": "execute_result"
    }
   ],
   "source": [
    "risk_free_rate = 0.0384\n",
    "expected_return_GOOGL = risk_free_rate + (1.0537*(0.6302 - risk_free_rate))\n",
    "expected_return_GOOGL"
   ]
  },
  {
   "cell_type": "code",
   "execution_count": null,
   "id": "458c97cb",
   "metadata": {},
   "outputs": [],
   "source": []
  }
 ],
 "metadata": {
  "kernelspec": {
   "display_name": "Python 3 (ipykernel)",
   "language": "python",
   "name": "python3"
  },
  "language_info": {
   "codemirror_mode": {
    "name": "ipython",
    "version": 3
   },
   "file_extension": ".py",
   "mimetype": "text/x-python",
   "name": "python",
   "nbconvert_exporter": "python",
   "pygments_lexer": "ipython3",
   "version": "3.9.12"
  }
 },
 "nbformat": 4,
 "nbformat_minor": 5
}
