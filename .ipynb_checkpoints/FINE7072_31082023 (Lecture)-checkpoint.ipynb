{
 "cells": [
  {
   "cell_type": "code",
   "execution_count": 1,
   "id": "e58f8643-5687-450a-ab1e-4f3c810906e9",
   "metadata": {},
   "outputs": [],
   "source": [
    "import numpy as np\n",
    "import pandas as pd\n",
    "import matplotlib.pyplot as plt\n",
    "from scipy.optimize import minimize\n",
    "import statsmodels.api as sm\n",
    "%matplotlib inline"
   ]
  },
  {
   "cell_type": "code",
   "execution_count": 2,
   "id": "d001e05f-71df-4ff3-a503-b4e0894d422f",
   "metadata": {},
   "outputs": [],
   "source": [
    "data=pd.read_excel('FINE7072_Data.xlsx',index_col=0,sheet_name='MSCI World Styles')"
   ]
  },
  {
   "cell_type": "code",
   "execution_count": 3,
   "id": "a661b4a1-2a06-4bac-923f-0a37ea32fa0b",
   "metadata": {},
   "outputs": [
    {
     "data": {
      "text/html": [
       "<div>\n",
       "<style scoped>\n",
       "    .dataframe tbody tr th:only-of-type {\n",
       "        vertical-align: middle;\n",
       "    }\n",
       "\n",
       "    .dataframe tbody tr th {\n",
       "        vertical-align: top;\n",
       "    }\n",
       "\n",
       "    .dataframe thead th {\n",
       "        text-align: right;\n",
       "    }\n",
       "</style>\n",
       "<table border=\"1\" class=\"dataframe\">\n",
       "  <thead>\n",
       "    <tr style=\"text-align: right;\">\n",
       "      <th></th>\n",
       "      <th>Growth</th>\n",
       "      <th>DY</th>\n",
       "      <th>Big</th>\n",
       "      <th>Med</th>\n",
       "      <th>Low Vol</th>\n",
       "      <th>Momentum</th>\n",
       "      <th>Quality</th>\n",
       "      <th>Small</th>\n",
       "      <th>Value</th>\n",
       "      <th>MSCI/Benchmark</th>\n",
       "    </tr>\n",
       "  </thead>\n",
       "  <tbody>\n",
       "    <tr>\n",
       "      <th>1999-12-31</th>\n",
       "      <td>0.114528</td>\n",
       "      <td>0.028326</td>\n",
       "      <td>0.080825</td>\n",
       "      <td>0.093297</td>\n",
       "      <td>0.046006</td>\n",
       "      <td>0.181733</td>\n",
       "      <td>0.073756</td>\n",
       "      <td>0.070700</td>\n",
       "      <td>0.043750</td>\n",
       "      <td>0.081068</td>\n",
       "    </tr>\n",
       "    <tr>\n",
       "      <th>2000-01-31</th>\n",
       "      <td>-0.062635</td>\n",
       "      <td>-0.075032</td>\n",
       "      <td>-0.056817</td>\n",
       "      <td>-0.035570</td>\n",
       "      <td>-0.049887</td>\n",
       "      <td>-0.062717</td>\n",
       "      <td>-0.058364</td>\n",
       "      <td>-0.007352</td>\n",
       "      <td>-0.051623</td>\n",
       "      <td>-0.057153</td>\n",
       "    </tr>\n",
       "    <tr>\n",
       "      <th>2000-02-29</th>\n",
       "      <td>0.034812</td>\n",
       "      <td>-0.038538</td>\n",
       "      <td>0.009509</td>\n",
       "      <td>0.096106</td>\n",
       "      <td>-0.031109</td>\n",
       "      <td>0.082821</td>\n",
       "      <td>0.010238</td>\n",
       "      <td>0.121294</td>\n",
       "      <td>-0.034412</td>\n",
       "      <td>0.002822</td>\n",
       "    </tr>\n",
       "    <tr>\n",
       "      <th>2000-03-31</th>\n",
       "      <td>0.059648</td>\n",
       "      <td>0.079125</td>\n",
       "      <td>0.054559</td>\n",
       "      <td>0.007403</td>\n",
       "      <td>0.065179</td>\n",
       "      <td>0.036760</td>\n",
       "      <td>0.072823</td>\n",
       "      <td>-0.035602</td>\n",
       "      <td>0.081735</td>\n",
       "      <td>0.069243</td>\n",
       "    </tr>\n",
       "    <tr>\n",
       "      <th>2000-04-30</th>\n",
       "      <td>-0.067054</td>\n",
       "      <td>-0.028712</td>\n",
       "      <td>-0.053913</td>\n",
       "      <td>-0.070233</td>\n",
       "      <td>-0.014138</td>\n",
       "      <td>-0.071582</td>\n",
       "      <td>-0.030626</td>\n",
       "      <td>-0.070706</td>\n",
       "      <td>-0.016697</td>\n",
       "      <td>-0.042168</td>\n",
       "    </tr>\n",
       "    <tr>\n",
       "      <th>...</th>\n",
       "      <td>...</td>\n",
       "      <td>...</td>\n",
       "      <td>...</td>\n",
       "      <td>...</td>\n",
       "      <td>...</td>\n",
       "      <td>...</td>\n",
       "      <td>...</td>\n",
       "      <td>...</td>\n",
       "      <td>...</td>\n",
       "      <td>...</td>\n",
       "    </tr>\n",
       "    <tr>\n",
       "      <th>2022-05-31</th>\n",
       "      <td>-0.022239</td>\n",
       "      <td>0.011842</td>\n",
       "      <td>0.001871</td>\n",
       "      <td>-0.000320</td>\n",
       "      <td>-0.006698</td>\n",
       "      <td>-0.000824</td>\n",
       "      <td>-0.010048</td>\n",
       "      <td>-0.001433</td>\n",
       "      <td>0.021822</td>\n",
       "      <td>0.001526</td>\n",
       "    </tr>\n",
       "    <tr>\n",
       "      <th>2022-06-30</th>\n",
       "      <td>-0.084565</td>\n",
       "      <td>-0.064765</td>\n",
       "      <td>-0.083817</td>\n",
       "      <td>-0.099361</td>\n",
       "      <td>-0.043204</td>\n",
       "      <td>-0.074508</td>\n",
       "      <td>-0.078087</td>\n",
       "      <td>-0.099359</td>\n",
       "      <td>-0.087850</td>\n",
       "      <td>-0.086264</td>\n",
       "    </tr>\n",
       "    <tr>\n",
       "      <th>2022-07-31</th>\n",
       "      <td>0.115435</td>\n",
       "      <td>0.026477</td>\n",
       "      <td>0.079259</td>\n",
       "      <td>0.081991</td>\n",
       "      <td>0.036132</td>\n",
       "      <td>0.044136</td>\n",
       "      <td>0.085214</td>\n",
       "      <td>0.091345</td>\n",
       "      <td>0.046159</td>\n",
       "      <td>0.079682</td>\n",
       "    </tr>\n",
       "    <tr>\n",
       "      <th>2022-08-31</th>\n",
       "      <td>-0.052612</td>\n",
       "      <td>-0.039677</td>\n",
       "      <td>-0.042711</td>\n",
       "      <td>-0.034367</td>\n",
       "      <td>-0.029204</td>\n",
       "      <td>-0.025037</td>\n",
       "      <td>-0.058231</td>\n",
       "      <td>-0.032233</td>\n",
       "      <td>-0.030202</td>\n",
       "      <td>-0.041416</td>\n",
       "    </tr>\n",
       "    <tr>\n",
       "      <th>2022-09-30</th>\n",
       "      <td>-0.101075</td>\n",
       "      <td>-0.075061</td>\n",
       "      <td>-0.090761</td>\n",
       "      <td>-0.102090</td>\n",
       "      <td>-0.068314</td>\n",
       "      <td>-0.072724</td>\n",
       "      <td>-0.090592</td>\n",
       "      <td>-0.102130</td>\n",
       "      <td>-0.084174</td>\n",
       "      <td>-0.092550</td>\n",
       "    </tr>\n",
       "  </tbody>\n",
       "</table>\n",
       "<p>274 rows × 10 columns</p>\n",
       "</div>"
      ],
      "text/plain": [
       "              Growth        DY       Big       Med   Low Vol  Momentum  \\\n",
       "1999-12-31  0.114528  0.028326  0.080825  0.093297  0.046006  0.181733   \n",
       "2000-01-31 -0.062635 -0.075032 -0.056817 -0.035570 -0.049887 -0.062717   \n",
       "2000-02-29  0.034812 -0.038538  0.009509  0.096106 -0.031109  0.082821   \n",
       "2000-03-31  0.059648  0.079125  0.054559  0.007403  0.065179  0.036760   \n",
       "2000-04-30 -0.067054 -0.028712 -0.053913 -0.070233 -0.014138 -0.071582   \n",
       "...              ...       ...       ...       ...       ...       ...   \n",
       "2022-05-31 -0.022239  0.011842  0.001871 -0.000320 -0.006698 -0.000824   \n",
       "2022-06-30 -0.084565 -0.064765 -0.083817 -0.099361 -0.043204 -0.074508   \n",
       "2022-07-31  0.115435  0.026477  0.079259  0.081991  0.036132  0.044136   \n",
       "2022-08-31 -0.052612 -0.039677 -0.042711 -0.034367 -0.029204 -0.025037   \n",
       "2022-09-30 -0.101075 -0.075061 -0.090761 -0.102090 -0.068314 -0.072724   \n",
       "\n",
       "             Quality     Small     Value  MSCI/Benchmark  \n",
       "1999-12-31  0.073756  0.070700  0.043750        0.081068  \n",
       "2000-01-31 -0.058364 -0.007352 -0.051623       -0.057153  \n",
       "2000-02-29  0.010238  0.121294 -0.034412        0.002822  \n",
       "2000-03-31  0.072823 -0.035602  0.081735        0.069243  \n",
       "2000-04-30 -0.030626 -0.070706 -0.016697       -0.042168  \n",
       "...              ...       ...       ...             ...  \n",
       "2022-05-31 -0.010048 -0.001433  0.021822        0.001526  \n",
       "2022-06-30 -0.078087 -0.099359 -0.087850       -0.086264  \n",
       "2022-07-31  0.085214  0.091345  0.046159        0.079682  \n",
       "2022-08-31 -0.058231 -0.032233 -0.030202       -0.041416  \n",
       "2022-09-30 -0.090592 -0.102130 -0.084174       -0.092550  \n",
       "\n",
       "[274 rows x 10 columns]"
      ]
     },
     "execution_count": 3,
     "metadata": {},
     "output_type": "execute_result"
    }
   ],
   "source": [
    "data"
   ]
  },
  {
   "cell_type": "code",
   "execution_count": 4,
   "id": "a3072f40-fa6c-42f5-9543-ef1162eb72ca",
   "metadata": {},
   "outputs": [],
   "source": [
    "style=data.iloc[:,:-1]\n",
    "bnch=data.iloc[:,-1]"
   ]
  },
  {
   "cell_type": "markdown",
   "id": "562fcf34-f8fc-44a3-8624-5cb5cb1c8f99",
   "metadata": {},
   "source": [
    "Let's assume a constant to be applied as risk-free proxy of 5% per annum"
   ]
  },
  {
   "cell_type": "code",
   "execution_count": 5,
   "id": "06fa01f9-18d9-4b77-80be-02a17509d182",
   "metadata": {},
   "outputs": [],
   "source": [
    "c=0.05/12"
   ]
  },
  {
   "cell_type": "markdown",
   "id": "2ce85013-b3b2-42a3-9df3-efdf0d6d88a1",
   "metadata": {},
   "source": [
    "### Remember, the three most important equations are\n",
    "\n",
    "$$ \n",
    "\\sigma^{2}_{p} = w^{t}\\Sigma w \\tag{1}\n",
    "$$\n",
    "\n",
    "$$\n",
    "    e(r_{p})=w^{t}r_{i} \\tag{2}\n",
    "$$\n",
    "\n",
    "And\n",
    "\n",
    "$$ \n",
    "    z_{i} = \\frac{\\Sigma^{-1}[E(r_{i})-c]}{\\pmb1^{t}\\Sigma^{-1}[E(r_{i})-c]} \\tag{3}\n",
    "$$\n",
    "where $\\Sigma$ is the covariance matrix, $r_{i}$ is a vector of average returns, $\\pmb1$ is a vector of ones and $z_{i}$ is the efficient weights. The denominator is the matrix form of defining the sum of the $\\Sigma^{-1}[E(r)-c]$"
   ]
  },
  {
   "cell_type": "code",
   "execution_count": 6,
   "id": "f5aae1bc-ede2-402b-87ca-19d9e12b9fb8",
   "metadata": {},
   "outputs": [],
   "source": [
    "style_mean=style.mean()\n",
    "style_cov=style.cov()\n",
    "style_er=style_mean-c"
   ]
  },
  {
   "cell_type": "code",
   "execution_count": 7,
   "id": "4b400393-171b-491e-960a-a1bea6051419",
   "metadata": {},
   "outputs": [
    {
     "data": {
      "text/plain": [
       "3.586744490326111"
      ]
     },
     "execution_count": 7,
     "metadata": {},
     "output_type": "execute_result"
    }
   ],
   "source": [
    "np.sum(np.linalg.inv(style_cov)@style_er)"
   ]
  },
  {
   "cell_type": "code",
   "execution_count": 8,
   "id": "ee9e6013-eb8d-4e1a-9558-c7f04f012fcf",
   "metadata": {},
   "outputs": [
    {
     "data": {
      "text/plain": [
       "3.5867444903260983"
      ]
     },
     "execution_count": 8,
     "metadata": {},
     "output_type": "execute_result"
    }
   ],
   "source": [
    "np.ones(len(style_er)).T@np.linalg.inv(style_cov)@style_er"
   ]
  },
  {
   "cell_type": "code",
   "execution_count": 9,
   "id": "5454cf92-f2d2-405f-8fa5-f3013539828b",
   "metadata": {},
   "outputs": [],
   "source": [
    "z1=(np.linalg.inv(style_cov)@style_er)/(np.ones(len(style_er)).T@np.linalg.inv(style_cov)@style_er)"
   ]
  },
  {
   "cell_type": "code",
   "execution_count": 10,
   "id": "da640d2d-e247-4f38-9560-c136171d48f4",
   "metadata": {},
   "outputs": [
    {
     "data": {
      "text/plain": [
       "array([-2.9298905 ,  1.13368744, -7.40464389, -0.94977479,  0.04258948,\n",
       "        0.74900927,  7.21134372,  3.25633664, -0.10865737])"
      ]
     },
     "execution_count": 10,
     "metadata": {},
     "output_type": "execute_result"
    }
   ],
   "source": [
    "z1"
   ]
  },
  {
   "cell_type": "markdown",
   "id": "88bf60ae-62f5-48ab-bb94-c0d9fff9edc5",
   "metadata": {},
   "source": [
    "Lets find another efficient portfolio using a different c"
   ]
  },
  {
   "cell_type": "code",
   "execution_count": 11,
   "id": "930712a5-7f90-4938-bcb1-193303637f57",
   "metadata": {},
   "outputs": [],
   "source": [
    "c2=0.04/12"
   ]
  },
  {
   "cell_type": "code",
   "execution_count": 12,
   "id": "ed28e29d-79e7-4abc-a0cc-1516bc549e76",
   "metadata": {},
   "outputs": [],
   "source": [
    "style_er2=style_mean-c2"
   ]
  },
  {
   "cell_type": "code",
   "execution_count": 13,
   "id": "65ef7bea-8973-4a1b-a524-7aa6ec67db47",
   "metadata": {},
   "outputs": [],
   "source": [
    "z2=(np.linalg.inv(style_cov)@style_er2)/(np.linalg.inv(style_cov)@style_er2).sum()"
   ]
  },
  {
   "cell_type": "code",
   "execution_count": 14,
   "id": "47545f2f-cfb8-4ad8-b231-246231c2e6df",
   "metadata": {},
   "outputs": [
    {
     "data": {
      "text/plain": [
       "array([-2.68034563,  0.66216254, -5.04532523, -0.8797494 ,  0.43490252,\n",
       "        0.58083967,  5.63587396,  2.58500425, -0.29336267])"
      ]
     },
     "execution_count": 14,
     "metadata": {},
     "output_type": "execute_result"
    }
   ],
   "source": [
    "z2"
   ]
  },
  {
   "cell_type": "code",
   "execution_count": 15,
   "id": "d80ef4ce-4ddc-4667-be33-a1be598d525c",
   "metadata": {},
   "outputs": [],
   "source": [
    "pf_ret1=z1.T@style_mean\n",
    "pf_var1=z1.T@style_cov@z1\n",
    "pf_sd1=np.sqrt(pf_var1)"
   ]
  },
  {
   "cell_type": "code",
   "execution_count": 16,
   "id": "004ec8b1-6567-4769-98ff-4f232f77f75f",
   "metadata": {},
   "outputs": [],
   "source": [
    "pf_ret2=z2.T@style_mean\n",
    "pf_var2=z2.T@style_cov@z2\n",
    "pf_sd2=np.sqrt(pf_var2)"
   ]
  },
  {
   "cell_type": "code",
   "execution_count": 17,
   "id": "01fa2536-0268-4dd6-a6a1-827fa578336a",
   "metadata": {},
   "outputs": [],
   "source": [
    "cov12=z1.T@style_cov@z2"
   ]
  },
  {
   "cell_type": "code",
   "execution_count": 18,
   "id": "9671fdcc-7966-4c14-b07f-c6367aa8c99e",
   "metadata": {},
   "outputs": [
    {
     "name": "stdout",
     "output_type": "stream",
     "text": [
      "0.026632058609221586 0.07914195606304054\n",
      "0.0218144086298401 0.062472932250299144\n"
     ]
    }
   ],
   "source": [
    "print(pf_ret1,pf_sd1)\n",
    "print(pf_ret2,pf_sd2)"
   ]
  },
  {
   "cell_type": "markdown",
   "id": "b7d7b6af-5b62-4dfa-8bc1-04bf57ae07f4",
   "metadata": {},
   "source": [
    "Remember, all you need to generate an efficient envelope of portfolios i.e. the efficient frontier, is two efficient portfolios"
   ]
  },
  {
   "cell_type": "code",
   "execution_count": 19,
   "id": "a6238dd6-dfa5-407a-bb18-df5e78bd7581",
   "metadata": {},
   "outputs": [],
   "source": [
    "ef_wght=np.arange(-5,3,0.1)"
   ]
  },
  {
   "cell_type": "code",
   "execution_count": 20,
   "id": "fb25d434-e062-43ee-99ef-215e6dd6184c",
   "metadata": {},
   "outputs": [],
   "source": [
    "ef_ret=pf_ret1*ef_wght+pf_ret2*(1-ef_wght)\n",
    "ef_var=ef_wght**2*pf_var1+(1-ef_wght)**2*pf_var2+2*ef_wght*(1-ef_wght)*cov12\n",
    "ef_std=np.sqrt(ef_var)"
   ]
  },
  {
   "cell_type": "code",
   "execution_count": 21,
   "id": "858092e9-462c-40aa-b443-f3c86fe44671",
   "metadata": {},
   "outputs": [
    {
     "data": {
      "text/plain": [
       "[<matplotlib.lines.Line2D at 0x17c024a90>]"
      ]
     },
     "execution_count": 21,
     "metadata": {},
     "output_type": "execute_result"
    },
    {
     "data": {
      "image/png": "[encoded data removed]",
      "text/plain": [
       "<Figure size 1200x800 with 1 Axes>"
      ]
     },
     "metadata": {},
     "output_type": "display_data"
    }
   ],
   "source": [
    "fig,ax=plt.subplots(figsize=(12,8))\n",
    "plt.plot(ef_std,ef_ret,color='k')"
   ]
  },
  {
   "cell_type": "markdown",
   "id": "1fef6178-dcfa-4c55-b168-e25adf9347e9",
   "metadata": {},
   "source": [
    "#### Testing whether the market portfolio is efficient\n",
    "One of the earliest tests of the CAPM was in essence determining whether market portfolio is efficient. The methodology known as the 'two-pass' regression inspired Fama-Macbeth which is still used in literature today for determining risk-premia associated with priced factors. The basis of the two-pass regression is actually quite simple:\n",
    "1) Time-series regression to determine time-series betas\n",
    "2) Cross-sectional regression to detemine risk-premia (average excess returns on time-series betas)"
   ]
  },
  {
   "cell_type": "markdown",
   "id": "7de2a912-6bf8-4700-881b-1cff870b7cac",
   "metadata": {},
   "source": [
    "The first pass regression takes the form:\n",
    "$$ \n",
    "    r_{i,t}-r_{f} = \\alpha_{i} + \\beta_{i}(Rm-r_{f})+\\epsilon_{i,t} \\tag{I}\n",
    "$$ \n",
    "where $\\beta_{i}$ is the time-series betas of the respective shares or portfolios which are then regressed cross-sectionally against the same \n",
    "portfolios average excess returns in the second-pass regression below\n",
    "$$\n",
    "    \\overline{r_{i}}-r_{f}=\\gamma_{0}+\\gamma_{1}\\beta_{i}+\\varepsilon_{i} \\tag{II}\n",
    "$$\n",
    "If the market portfolio is indeed the market portfolio and is therefore efficient then **$\\gamma_{0}$** should equal zero **and** $\\gamma_{1}$ should equal the market risk-premium. We can prove this by using our efficient portfolio 1 that applied an assumed risk-free rate (c) of 5%"
   ]
  },
  {
   "cell_type": "code",
   "execution_count": 22,
   "id": "8d1b81d2-d83f-4ef8-b22d-fa37d001a0d3",
   "metadata": {},
   "outputs": [],
   "source": [
    "ef1_ts=(z1*style).sum(1)"
   ]
  },
  {
   "cell_type": "code",
   "execution_count": 23,
   "id": "9cffc89c-dbff-4718-ab20-72cc3215f162",
   "metadata": {},
   "outputs": [],
   "source": [
    "style_tser=style-c\n",
    "ef1_tser=ef1_ts-c"
   ]
  },
  {
   "cell_type": "code",
   "execution_count": 24,
   "id": "f6515d25-761c-400f-a05c-05e8c172e58d",
   "metadata": {},
   "outputs": [],
   "source": [
    "EMRP_ef1=sm.add_constant(ef1_tser)"
   ]
  },
  {
   "cell_type": "code",
   "execution_count": 25,
   "id": "3f54bf99-42c7-442a-be73-ca7e8dfb25bd",
   "metadata": {},
   "outputs": [],
   "source": [
    "EMRP_ef1.columns=['α_ts','β_ts']"
   ]
  },
  {
   "cell_type": "code",
   "execution_count": 26,
   "id": "3f1df4d0-c126-4b0c-8b44-5bd9a0deee04",
   "metadata": {},
   "outputs": [
    {
     "data": {
      "text/html": [
       "<div>\n",
       "<style scoped>\n",
       "    .dataframe tbody tr th:only-of-type {\n",
       "        vertical-align: middle;\n",
       "    }\n",
       "\n",
       "    .dataframe tbody tr th {\n",
       "        vertical-align: top;\n",
       "    }\n",
       "\n",
       "    .dataframe thead th {\n",
       "        text-align: right;\n",
       "    }\n",
       "</style>\n",
       "<table border=\"1\" class=\"dataframe\">\n",
       "  <thead>\n",
       "    <tr style=\"text-align: right;\">\n",
       "      <th></th>\n",
       "      <th>α_ts</th>\n",
       "      <th>β_ts</th>\n",
       "    </tr>\n",
       "  </thead>\n",
       "  <tbody>\n",
       "    <tr>\n",
       "      <th>1999-12-31</th>\n",
       "      <td>1.0</td>\n",
       "      <td>-0.099273</td>\n",
       "    </tr>\n",
       "    <tr>\n",
       "      <th>2000-01-31</th>\n",
       "      <td>1.0</td>\n",
       "      <td>0.060463</td>\n",
       "    </tr>\n",
       "    <tr>\n",
       "      <th>2000-02-29</th>\n",
       "      <td>1.0</td>\n",
       "      <td>0.221711</td>\n",
       "    </tr>\n",
       "    <tr>\n",
       "      <th>2000-03-31</th>\n",
       "      <td>1.0</td>\n",
       "      <td>-0.069596</td>\n",
       "    </tr>\n",
       "    <tr>\n",
       "      <th>2000-04-30</th>\n",
       "      <td>1.0</td>\n",
       "      <td>0.122160</td>\n",
       "    </tr>\n",
       "    <tr>\n",
       "      <th>...</th>\n",
       "      <td>...</td>\n",
       "      <td>...</td>\n",
       "    </tr>\n",
       "    <tr>\n",
       "      <th>2022-05-31</th>\n",
       "      <td>1.0</td>\n",
       "      <td>-0.019530</td>\n",
       "    </tr>\n",
       "    <tr>\n",
       "      <th>2022-06-30</th>\n",
       "      <td>1.0</td>\n",
       "      <td>-0.049581</td>\n",
       "    </tr>\n",
       "    <tr>\n",
       "      <th>2022-07-31</th>\n",
       "      <td>1.0</td>\n",
       "      <td>-0.035577</td>\n",
       "    </tr>\n",
       "    <tr>\n",
       "      <th>2022-08-31</th>\n",
       "      <td>1.0</td>\n",
       "      <td>-0.087693</td>\n",
       "    </tr>\n",
       "    <tr>\n",
       "      <th>2022-09-30</th>\n",
       "      <td>1.0</td>\n",
       "      <td>-0.058200</td>\n",
       "    </tr>\n",
       "  </tbody>\n",
       "</table>\n",
       "<p>274 rows × 2 columns</p>\n",
       "</div>"
      ],
      "text/plain": [
       "            α_ts      β_ts\n",
       "1999-12-31   1.0 -0.099273\n",
       "2000-01-31   1.0  0.060463\n",
       "2000-02-29   1.0  0.221711\n",
       "2000-03-31   1.0 -0.069596\n",
       "2000-04-30   1.0  0.122160\n",
       "...          ...       ...\n",
       "2022-05-31   1.0 -0.019530\n",
       "2022-06-30   1.0 -0.049581\n",
       "2022-07-31   1.0 -0.035577\n",
       "2022-08-31   1.0 -0.087693\n",
       "2022-09-30   1.0 -0.058200\n",
       "\n",
       "[274 rows x 2 columns]"
      ]
     },
     "execution_count": 26,
     "metadata": {},
     "output_type": "execute_result"
    }
   ],
   "source": [
    "EMRP_ef1"
   ]
  },
  {
   "cell_type": "code",
   "execution_count": 27,
   "id": "60db54c3-73e3-44c0-9b71-9da91b79a06c",
   "metadata": {},
   "outputs": [],
   "source": [
    "ols=sm.OLS(style_tser['Growth'],EMRP_ef1)"
   ]
  },
  {
   "cell_type": "code",
   "execution_count": 28,
   "id": "f792cbee-0022-4f70-ba2c-10c62104ff27",
   "metadata": {},
   "outputs": [],
   "source": [
    "out=ols.fit()"
   ]
  },
  {
   "cell_type": "code",
   "execution_count": 29,
   "id": "d19bccd0-197f-40eb-a15d-de5c9e26b8c2",
   "metadata": {},
   "outputs": [
    {
     "data": {
      "text/plain": [
       "α_ts    5.178751e-17\n",
       "β_ts    4.060915e-02\n",
       "dtype: float64"
      ]
     },
     "execution_count": 29,
     "metadata": {},
     "output_type": "execute_result"
    }
   ],
   "source": [
    "out.params"
   ]
  },
  {
   "cell_type": "code",
   "execution_count": 30,
   "id": "821e4a28-6369-46ec-84b2-aea9da310633",
   "metadata": {},
   "outputs": [],
   "source": [
    "frst_pass=[]\n",
    "for col in style_tser.columns:\n",
    "    ols_model=sm.OLS(style_tser.loc[:,col],EMRP_ef1)\n",
    "    ols_out=ols_model.fit()\n",
    "    frst_pass.append(ols_out.params)"
   ]
  },
  {
   "cell_type": "code",
   "execution_count": 31,
   "id": "4ba700a1-adf9-408f-952b-cf032c7ce3b3",
   "metadata": {},
   "outputs": [],
   "source": [
    "frst_pass_df=pd.concat(frst_pass,axis=1).T"
   ]
  },
  {
   "cell_type": "code",
   "execution_count": 32,
   "id": "8576f7d7-f0c9-4e53-84db-4c2b9290c5be",
   "metadata": {},
   "outputs": [
    {
     "data": {
      "text/html": [
       "<div>\n",
       "<style scoped>\n",
       "    .dataframe tbody tr th:only-of-type {\n",
       "        vertical-align: middle;\n",
       "    }\n",
       "\n",
       "    .dataframe tbody tr th {\n",
       "        vertical-align: top;\n",
       "    }\n",
       "\n",
       "    .dataframe thead th {\n",
       "        text-align: right;\n",
       "    }\n",
       "</style>\n",
       "<table border=\"1\" class=\"dataframe\">\n",
       "  <thead>\n",
       "    <tr style=\"text-align: right;\">\n",
       "      <th></th>\n",
       "      <th>α_ts</th>\n",
       "      <th>β_ts</th>\n",
       "    </tr>\n",
       "  </thead>\n",
       "  <tbody>\n",
       "    <tr>\n",
       "      <th>0</th>\n",
       "      <td>5.178751e-17</td>\n",
       "      <td>0.040609</td>\n",
       "    </tr>\n",
       "    <tr>\n",
       "      <th>1</th>\n",
       "      <td>5.990398e-17</td>\n",
       "      <td>0.070936</td>\n",
       "    </tr>\n",
       "    <tr>\n",
       "      <th>2</th>\n",
       "      <td>5.649358e-17</td>\n",
       "      <td>0.029080</td>\n",
       "    </tr>\n",
       "    <tr>\n",
       "      <th>3</th>\n",
       "      <td>6.745983e-17</td>\n",
       "      <td>0.101616</td>\n",
       "    </tr>\n",
       "    <tr>\n",
       "      <th>4</th>\n",
       "      <td>2.950524e-17</td>\n",
       "      <td>0.077301</td>\n",
       "    </tr>\n",
       "    <tr>\n",
       "      <th>5</th>\n",
       "      <td>4.809178e-17</td>\n",
       "      <td>0.118183</td>\n",
       "    </tr>\n",
       "    <tr>\n",
       "      <th>6</th>\n",
       "      <td>4.551369e-17</td>\n",
       "      <td>0.100070</td>\n",
       "    </tr>\n",
       "    <tr>\n",
       "      <th>7</th>\n",
       "      <td>5.318105e-17</td>\n",
       "      <td>0.166336</td>\n",
       "    </tr>\n",
       "    <tr>\n",
       "      <th>8</th>\n",
       "      <td>5.183077e-17</td>\n",
       "      <td>0.043232</td>\n",
       "    </tr>\n",
       "  </tbody>\n",
       "</table>\n",
       "</div>"
      ],
      "text/plain": [
       "           α_ts      β_ts\n",
       "0  5.178751e-17  0.040609\n",
       "1  5.990398e-17  0.070936\n",
       "2  5.649358e-17  0.029080\n",
       "3  6.745983e-17  0.101616\n",
       "4  2.950524e-17  0.077301\n",
       "5  4.809178e-17  0.118183\n",
       "6  4.551369e-17  0.100070\n",
       "7  5.318105e-17  0.166336\n",
       "8  5.183077e-17  0.043232"
      ]
     },
     "execution_count": 32,
     "metadata": {},
     "output_type": "execute_result"
    }
   ],
   "source": [
    "frst_pass_df"
   ]
  },
  {
   "cell_type": "code",
   "execution_count": 33,
   "id": "115143aa-f5a1-497a-b97a-db36e455cd1a",
   "metadata": {},
   "outputs": [],
   "source": [
    "X_scd=sm.add_constant(frst_pass_df['β_ts'])"
   ]
  },
  {
   "cell_type": "code",
   "execution_count": 34,
   "id": "332f7242-3e3b-4774-bbc8-f24a93604c66",
   "metadata": {},
   "outputs": [],
   "source": [
    "X_scd.columns=['γ0','γ1']"
   ]
  },
  {
   "cell_type": "code",
   "execution_count": 35,
   "id": "95a78d67-bb21-4437-9424-6d8f1bbf9a49",
   "metadata": {},
   "outputs": [],
   "source": [
    "sec_pass=sm.OLS(style_er.values,X_scd.values)"
   ]
  },
  {
   "cell_type": "code",
   "execution_count": 36,
   "id": "a72ee002-ac79-4420-b0a7-ee0e6941c9de",
   "metadata": {},
   "outputs": [],
   "source": [
    "sec_pass_out=sec_pass.fit()"
   ]
  },
  {
   "cell_type": "code",
   "execution_count": 37,
   "id": "bd3940ec-2ec7-405d-a804-622cbc0b5719",
   "metadata": {},
   "outputs": [
    {
     "data": {
      "text/plain": [
       "0.0"
      ]
     },
     "execution_count": 37,
     "metadata": {},
     "output_type": "execute_result"
    }
   ],
   "source": [
    "np.round(pd.Series(sec_pass_out.params,index=X_scd.columns)[0],4)"
   ]
  },
  {
   "cell_type": "code",
   "execution_count": 38,
   "id": "edda9dd3-7dd6-4543-9211-21e8b6ac22ef",
   "metadata": {},
   "outputs": [
    {
     "data": {
      "text/plain": [
       "0.022465391942554924"
      ]
     },
     "execution_count": 38,
     "metadata": {},
     "output_type": "execute_result"
    }
   ],
   "source": [
    "pd.Series(sec_pass_out.params,index=X_scd.columns)[1]"
   ]
  },
  {
   "cell_type": "code",
   "execution_count": 39,
   "id": "0f98c06d-aef4-467d-b42b-a25fcca74b6e",
   "metadata": {},
   "outputs": [
    {
     "data": {
      "text/plain": [
       "0.022465391942554928"
      ]
     },
     "execution_count": 39,
     "metadata": {},
     "output_type": "execute_result"
    }
   ],
   "source": [
    "ef1_tser.mean()"
   ]
  },
  {
   "cell_type": "code",
   "execution_count": 40,
   "id": "f6d1e11f-b825-4ef0-b29e-a2cefbe5e42c",
   "metadata": {},
   "outputs": [
    {
     "data": {
      "text/plain": [
       "<matplotlib.collections.PathCollection at 0x17c121c50>"
      ]
     },
     "execution_count": 40,
     "metadata": {},
     "output_type": "execute_result"
    },
    {
     "data": {
      "image/png": "[encoded data removed]",
      "text/plain": [
       "<Figure size 1200x800 with 1 Axes>"
      ]
     },
     "metadata": {},
     "output_type": "display_data"
    }
   ],
   "source": [
    "fig,ax=plt.subplots(figsize=(12,8))\n",
    "plt.plot(ef_std,ef_ret,color='k')\n",
    "ax.scatter(pf_sd1,pf_ret1,color='green',s=250,zorder=2)\n",
    "ax.scatter(bnch.std(),bnch.mean(),color='red',s=250,zorder=3)"
   ]
  },
  {
   "cell_type": "markdown",
   "id": "f09240d4-576f-49ab-8cd9-39c234e9694c",
   "metadata": {},
   "source": [
    "#### Global Minimum Variance & Shrinkage Methods "
   ]
  },
  {
   "cell_type": "markdown",
   "id": "0d7e1cc9-722a-4b20-b9fe-f3bfca757177",
   "metadata": {},
   "source": [
    "The GMVP is a portfolio that sits at the far left of your efficient frontier and is effectively optimised on risk alone i.e.\n",
    "$$\n",
    "    min(\\sigma_{p}) = GMVP \\tag{1}\n",
    "$$\n",
    "\n",
    "With some linear algebra and optimisation via a Lagrangean mathematics, the GMVP can be represented as:\n",
    "\n",
    "$$\n",
    "  GMVP= \\frac{\\Sigma^{-1}\\pmb{1}}{{\\pmb{1^{t}} \\Sigma^{-1} \\pmb{1}}} \\tag{2}\n",
    "$$\n",
    "\n",
    "Where $\\Sigma$ is the variance-covariance matrix and $\\pmb{1}$ is an nx1 columns vector. Shrinking the covariance matrix is actually very simple where we shrink the covariance component while maintaining the variance diagnol. Therefore if we have a weighting metric, $\\delta$, we can think of the process as:\n",
    "\n",
    "$$\n",
    "    \\Sigma_{shrink} = \\Sigma(1-\\delta) + V\\delta\n",
    "$$\n",
    "\n",
    "Where $V$ is a the variance diagnol matrix with zeros in the upper and lower triangles and asset variances on the diagnol\n"
   ]
  },
  {
   "cell_type": "code",
   "execution_count": 41,
   "id": "96e434eb-72a6-486b-b9f6-581a94118c3a",
   "metadata": {},
   "outputs": [],
   "source": [
    "#GMVP\n",
    "ones_vec=np.ones(len(style_cov))"
   ]
  },
  {
   "cell_type": "code",
   "execution_count": 42,
   "id": "058398f2-23a1-43e5-8698-b21601ba1e73",
   "metadata": {},
   "outputs": [
    {
     "data": {
      "text/plain": [
       "array([1., 1., 1., 1., 1., 1., 1., 1., 1.])"
      ]
     },
     "execution_count": 42,
     "metadata": {},
     "output_type": "execute_result"
    }
   ],
   "source": [
    "ones_vec"
   ]
  },
  {
   "cell_type": "code",
   "execution_count": 43,
   "id": "7884eb87-0868-43ba-bc9a-75d5f8d59523",
   "metadata": {},
   "outputs": [],
   "source": [
    "gmvp=np.linalg.inv(style_cov)@ones_vec/(ones_vec.T@np.linalg.inv(style_cov)@ones_vec)"
   ]
  },
  {
   "cell_type": "code",
   "execution_count": 44,
   "id": "345407b2-ae26-4fde-933f-88da0a1aadc0",
   "metadata": {},
   "outputs": [],
   "source": [
    "gmvp_ser=pd.Series(gmvp,index=style_cov.index)"
   ]
  },
  {
   "cell_type": "code",
   "execution_count": 45,
   "id": "e5ce4e45-6865-4c61-8023-5466df0804de",
   "metadata": {},
   "outputs": [
    {
     "data": {
      "text/plain": [
       "Growth     -1.901029\n",
       "DY         -0.810386\n",
       "Big         2.322710\n",
       "Med        -0.661064\n",
       "Low Vol     1.660077\n",
       "Momentum    0.055654\n",
       "Quality     0.715760\n",
       "Small       0.488466\n",
       "Value      -0.870188\n",
       "dtype: float64"
      ]
     },
     "execution_count": 45,
     "metadata": {},
     "output_type": "execute_result"
    }
   ],
   "source": [
    "gmvp_ser"
   ]
  },
  {
   "cell_type": "code",
   "execution_count": 46,
   "id": "b8e9148d-9e11-42f1-809f-11b4f5bc4dd2",
   "metadata": {},
   "outputs": [],
   "source": [
    "gmvp_ret=gmvp_ser.T@style_mean\n",
    "gmvp_sd=np.sqrt(gmvp_ser.T@style_cov@gmvp_ser)"
   ]
  },
  {
   "cell_type": "code",
   "execution_count": 47,
   "id": "96b07838-f8ba-4657-86c5-d3aed500ac45",
   "metadata": {},
   "outputs": [
    {
     "name": "stdout",
     "output_type": "stream",
     "text": [
      "0.006769125534823072 0.026936534254289143\n"
     ]
    }
   ],
   "source": [
    "print(gmvp_ret,gmvp_sd)"
   ]
  },
  {
   "cell_type": "code",
   "execution_count": 48,
   "id": "ec6cbcc5-5b1f-478d-87f0-22aaaddfa477",
   "metadata": {},
   "outputs": [
    {
     "data": {
      "text/plain": [
       "<matplotlib.collections.PathCollection at 0x17c1977d0>"
      ]
     },
     "execution_count": 48,
     "metadata": {},
     "output_type": "execute_result"
    },
    {
     "data": {
      "image/png": "[encoded data removed]",
      "text/plain": [
       "<Figure size 1200x800 with 1 Axes>"
      ]
     },
     "metadata": {},
     "output_type": "display_data"
    }
   ],
   "source": [
    "fig,ax=plt.subplots(figsize=(12,8))\n",
    "plt.plot(ef_std,ef_ret,color='k')\n",
    "ax.scatter(pf_sd1,pf_ret1,color='green',s=250,zorder=2)\n",
    "ax.scatter(bnch.std(),bnch.mean(),color='red',s=250,zorder=3)\n",
    "ax.scatter(gmvp_sd,gmvp_ret,color='blue',s=350,zorder=3)\n"
   ]
  },
  {
   "cell_type": "code",
   "execution_count": 49,
   "id": "a0debee9-fb87-45d0-8e32-1469202e7090",
   "metadata": {},
   "outputs": [],
   "source": [
    "#Shrinkage Methods on var-cov matrix\n",
    "ID_mat=pd.DataFrame(np.identity(len(style_cov)),index=style_cov.index,columns=style_cov.columns)"
   ]
  },
  {
   "cell_type": "code",
   "execution_count": 50,
   "id": "7d9ab348-890a-4d3e-9504-c0e7cfded604",
   "metadata": {},
   "outputs": [],
   "source": [
    "var_diag=style.var()*ID_mat"
   ]
  },
  {
   "cell_type": "code",
   "execution_count": 51,
   "id": "53c9301e-6b04-4107-beea-423d3448a515",
   "metadata": {},
   "outputs": [],
   "source": [
    "delta=0.95"
   ]
  },
  {
   "cell_type": "code",
   "execution_count": 52,
   "id": "09568be3-dd34-41ad-879a-89ce15b11862",
   "metadata": {},
   "outputs": [],
   "source": [
    "cov_sh=style_cov*(1-delta)+var_diag*delta"
   ]
  },
  {
   "cell_type": "code",
   "execution_count": 53,
   "id": "0adf9374-db52-4535-8de1-ee195e47c3c1",
   "metadata": {},
   "outputs": [
    {
     "data": {
      "text/plain": [
       "0.004166666666666667"
      ]
     },
     "execution_count": 53,
     "metadata": {},
     "output_type": "execute_result"
    }
   ],
   "source": [
    "c"
   ]
  },
  {
   "cell_type": "code",
   "execution_count": 54,
   "id": "be808d8b-26b6-4d09-9905-e168c3672a77",
   "metadata": {},
   "outputs": [],
   "source": [
    "eff_pf_covshr=(np.linalg.inv(cov_sh)@style_er)/(np.linalg.inv(cov_sh)@style_er).sum()"
   ]
  },
  {
   "cell_type": "code",
   "execution_count": 55,
   "id": "674175e0-c159-49fd-a42a-e069629274b5",
   "metadata": {},
   "outputs": [],
   "source": [
    "eff_pf_covshr_ser=pd.Series(eff_pf_covshr,index=style.columns)"
   ]
  },
  {
   "cell_type": "code",
   "execution_count": 56,
   "id": "a6590198-62b1-4884-b5cc-ca8fdc42d9c9",
   "metadata": {},
   "outputs": [],
   "source": [
    "eff_pf_cov=pd.Series(z1,index=style.columns)"
   ]
  },
  {
   "cell_type": "code",
   "execution_count": 57,
   "id": "484a3c94-b05f-4df1-ae27-dc26a3da8978",
   "metadata": {},
   "outputs": [],
   "source": [
    "comp_=pd.concat([eff_pf_cov,eff_pf_covshr_ser],axis=1)"
   ]
  },
  {
   "cell_type": "code",
   "execution_count": 58,
   "id": "56126be1-b825-41e1-bd8d-6587fbf2b2b3",
   "metadata": {},
   "outputs": [
    {
     "data": {
      "text/html": [
       "<div>\n",
       "<style scoped>\n",
       "    .dataframe tbody tr th:only-of-type {\n",
       "        vertical-align: middle;\n",
       "    }\n",
       "\n",
       "    .dataframe tbody tr th {\n",
       "        vertical-align: top;\n",
       "    }\n",
       "\n",
       "    .dataframe thead th {\n",
       "        text-align: right;\n",
       "    }\n",
       "</style>\n",
       "<table border=\"1\" class=\"dataframe\">\n",
       "  <thead>\n",
       "    <tr style=\"text-align: right;\">\n",
       "      <th></th>\n",
       "      <th>0</th>\n",
       "      <th>1</th>\n",
       "    </tr>\n",
       "  </thead>\n",
       "  <tbody>\n",
       "    <tr>\n",
       "      <th>Growth</th>\n",
       "      <td>-2.929891</td>\n",
       "      <td>0.022680</td>\n",
       "    </tr>\n",
       "    <tr>\n",
       "      <th>DY</th>\n",
       "      <td>1.133687</td>\n",
       "      <td>0.096529</td>\n",
       "    </tr>\n",
       "    <tr>\n",
       "      <th>Big</th>\n",
       "      <td>-7.404644</td>\n",
       "      <td>0.006570</td>\n",
       "    </tr>\n",
       "    <tr>\n",
       "      <th>Med</th>\n",
       "      <td>-0.949775</td>\n",
       "      <td>0.109954</td>\n",
       "    </tr>\n",
       "    <tr>\n",
       "      <th>Low Vol</th>\n",
       "      <td>0.042589</td>\n",
       "      <td>0.214633</td>\n",
       "    </tr>\n",
       "    <tr>\n",
       "      <th>Momentum</th>\n",
       "      <td>0.749009</td>\n",
       "      <td>0.168580</td>\n",
       "    </tr>\n",
       "    <tr>\n",
       "      <th>Quality</th>\n",
       "      <td>7.211344</td>\n",
       "      <td>0.165324</td>\n",
       "    </tr>\n",
       "    <tr>\n",
       "      <th>Small</th>\n",
       "      <td>3.256337</td>\n",
       "      <td>0.183383</td>\n",
       "    </tr>\n",
       "    <tr>\n",
       "      <th>Value</th>\n",
       "      <td>-0.108657</td>\n",
       "      <td>0.032346</td>\n",
       "    </tr>\n",
       "  </tbody>\n",
       "</table>\n",
       "</div>"
      ],
      "text/plain": [
       "                 0         1\n",
       "Growth   -2.929891  0.022680\n",
       "DY        1.133687  0.096529\n",
       "Big      -7.404644  0.006570\n",
       "Med      -0.949775  0.109954\n",
       "Low Vol   0.042589  0.214633\n",
       "Momentum  0.749009  0.168580\n",
       "Quality   7.211344  0.165324\n",
       "Small     3.256337  0.183383\n",
       "Value    -0.108657  0.032346"
      ]
     },
     "execution_count": 58,
     "metadata": {},
     "output_type": "execute_result"
    }
   ],
   "source": [
    "comp_"
   ]
  },
  {
   "cell_type": "markdown",
   "id": "34178335-3dde-43d7-ba9c-b7c6796a0bfe",
   "metadata": {},
   "source": [
    "### Short-selling constrained efficient frontier "
   ]
  },
  {
   "cell_type": "code",
   "execution_count": 59,
   "id": "7293d352-44dd-4eb9-81b1-fafca550b11b",
   "metadata": {},
   "outputs": [],
   "source": [
    "import warnings\n",
    "warnings.filterwarnings(\"ignore\", message=\"delta_grad == 0.0. Check if the approximated function is linear.\")"
   ]
  },
  {
   "cell_type": "code",
   "execution_count": 60,
   "id": "c912090a-34c9-4aab-a44c-f3ea8ceb69f3",
   "metadata": {},
   "outputs": [],
   "source": [
    "def shrp_obj(w,μ,Σ,rf):\n",
    "    er_pf=w.T@μ\n",
    "    var_pf=w.T@Σ@w\n",
    "    sd_pf=np.sqrt(var_pf)\n",
    "    return -(er_pf-rf)/sd_pf\n",
    "\n",
    "def pf_opt(μ,Σ,rf):\n",
    "    ew=np.ones(len(Σ))/len(Σ)\n",
    "    cons=[{'type':'eq','fun':lambda x:np.sum(x)-1.0},\n",
    "            {'type':'ineq','fun':lambda x:x}]\n",
    "    opt_wght=minimize(shrp_obj,ew,args=(μ,Σ,rf),method='SLSQP',constraints=cons)\n",
    "    return pd.Series(opt_wght.x,index=Σ.index)"
   ]
  },
  {
   "cell_type": "code",
   "execution_count": 61,
   "id": "f1ad7729-e00d-475e-85f7-ec5d4742bbd5",
   "metadata": {},
   "outputs": [],
   "source": [
    "ew=np.ones(len(style_cov))/len(style_cov)"
   ]
  },
  {
   "cell_type": "code",
   "execution_count": 62,
   "id": "7e1d3058-e3b8-4534-a53a-08cb105c66a2",
   "metadata": {},
   "outputs": [],
   "source": [
    "cons=[{'type':'eq','fun':lambda x:np.sum(x)-1.0},\n",
    "     {'type':'ineq','fun':lambda x:x}]"
   ]
  },
  {
   "cell_type": "code",
   "execution_count": 63,
   "id": "0cdc6753-95b7-4674-a8d5-2b6124987ba7",
   "metadata": {},
   "outputs": [],
   "source": [
    "c_tst=0.05/12\n",
    "test_opt1=minimize(shrp_obj,ew,args=(style_mean,style_cov,c_tst),method='SLSQP',constraints=cons)"
   ]
  },
  {
   "cell_type": "code",
   "execution_count": 64,
   "id": "233f73c7-19eb-4c8b-aeea-0f47b9d0941c",
   "metadata": {},
   "outputs": [
    {
     "data": {
      "text/plain": [
       "Growth      0.0\n",
       "DY         -0.0\n",
       "Big         0.0\n",
       "Med        -0.0\n",
       "Low Vol    -0.0\n",
       "Momentum    0.0\n",
       "Quality     0.0\n",
       "Small       1.0\n",
       "Value       0.0\n",
       "dtype: float64"
      ]
     },
     "execution_count": 64,
     "metadata": {},
     "output_type": "execute_result"
    }
   ],
   "source": [
    "pd.Series(np.round(test_opt1.x,5),index=style.columns)"
   ]
  },
  {
   "cell_type": "code",
   "execution_count": 65,
   "id": "413e1526-50bc-4b36-8398-750abbab7d46",
   "metadata": {},
   "outputs": [],
   "source": [
    "test_opt2=minimize(shrp_obj,ew,args=(style_mean,style_cov,c_tst),method='trust-constr',constraints=cons)"
   ]
  },
  {
   "cell_type": "code",
   "execution_count": 66,
   "id": "a378969a-568b-4123-bcc1-fee6546d9a97",
   "metadata": {},
   "outputs": [
    {
     "data": {
      "text/plain": [
       "array([0.02633478, 0.06621398, 0.02170645, 0.09303808, 0.15739217,\n",
       "       0.18172431, 0.15384021, 0.27643441, 0.02331562])"
      ]
     },
     "execution_count": 66,
     "metadata": {},
     "output_type": "execute_result"
    }
   ],
   "source": [
    "test_opt2.x"
   ]
  },
  {
   "cell_type": "code",
   "execution_count": 67,
   "id": "4bcc5784-c8ce-410b-9c7b-952a8605621e",
   "metadata": {},
   "outputs": [
    {
     "data": {
      "text/plain": [
       "Growth      0.02633\n",
       "DY          0.06621\n",
       "Big         0.02171\n",
       "Med         0.09304\n",
       "Low Vol     0.15739\n",
       "Momentum    0.18172\n",
       "Quality     0.15384\n",
       "Small       0.27643\n",
       "Value       0.02332\n",
       "dtype: float64"
      ]
     },
     "execution_count": 67,
     "metadata": {},
     "output_type": "execute_result"
    }
   ],
   "source": [
    "pd.Series(np.round(test_opt2.x,5),index=style.columns)"
   ]
  },
  {
   "cell_type": "code",
   "execution_count": 68,
   "id": "6dd92628-5c35-48d7-89f1-c2dfa185da6d",
   "metadata": {},
   "outputs": [
    {
     "data": {
      "text/plain": [
       "Growth      6.059390e-17\n",
       "DY         -7.390383e-17\n",
       "Big         2.330920e-17\n",
       "Med        -7.192190e-17\n",
       "Low Vol    -4.998660e-16\n",
       "Momentum    3.261280e-16\n",
       "Quality     1.018373e-16\n",
       "Small       1.000000e+00\n",
       "Value       5.468212e-17\n",
       "dtype: float64"
      ]
     },
     "execution_count": 68,
     "metadata": {},
     "output_type": "execute_result"
    }
   ],
   "source": [
    "pf_opt(style_mean,style_cov,c_tst)"
   ]
  },
  {
   "cell_type": "code",
   "execution_count": 69,
   "id": "e4943b34-f99e-4cbb-9892-baf9468cb607",
   "metadata": {},
   "outputs": [],
   "source": [
    "rf_all=np.arange(-20,20)/100\n",
    "eff_wght_all=[pf_opt(style_mean,style_cov,r/12) for r in rf_all]"
   ]
  },
  {
   "cell_type": "code",
   "execution_count": 70,
   "id": "2a014852-9e8b-4a64-a359-10286706670d",
   "metadata": {},
   "outputs": [],
   "source": [
    "eff_sd_all=[np.sqrt(w.T@style_cov@w) for w in eff_wght_all]\n",
    "eff_er_all=[w.T@style_mean for w in eff_wght_all]"
   ]
  },
  {
   "cell_type": "code",
   "execution_count": 71,
   "id": "3c3187c6-b54e-4491-a7fb-36b2757c1ab3",
   "metadata": {},
   "outputs": [
    {
     "data": {
      "text/plain": [
       "[<matplotlib.lines.Line2D at 0x17e24bf10>]"
      ]
     },
     "execution_count": 71,
     "metadata": {},
     "output_type": "execute_result"
    },
    {
     "data": {
      "image/png": "[encoded data removed]",
      "text/plain": [
       "<Figure size 1200x800 with 1 Axes>"
      ]
     },
     "metadata": {},
     "output_type": "display_data"
    }
   ],
   "source": [
    "fig,ax=plt.subplots(figsize=(12,8))\n",
    "plt.plot(ef_std,ef_ret,color='k')\n",
    "ax.scatter(pf_sd1,pf_ret1,color='green',s=250,zorder=2)\n",
    "ax.scatter(bnch.std(),bnch.mean(),color='red',s=250,zorder=3)\n",
    "ax.scatter(gmvp_sd,gmvp_ret,color='blue',s=350,zorder=3)\n",
    "ax.scatter(eff_sd_all,eff_er_all,color='k',marker=\"*\",zorder=3)\n",
    "ax.plot(eff_sd_all,eff_er_all,linestyle='--')"
   ]
  },
  {
   "cell_type": "markdown",
   "id": "76e2e976-144c-4204-90ab-03cbf9029e93",
   "metadata": {},
   "source": [
    "### Black-Litterman "
   ]
  },
  {
   "cell_type": "markdown",
   "id": "0e75ff4b-574f-4190-b5b3-671089b44dba",
   "metadata": {},
   "source": [
    "Black-litterman turns the MPT maths on its head - now our assumption is that market weights are efficient and we can arrive back at our return expectations. Specifically,\n",
    "$$\n",
    "    E(r_{B})=\\Sigma W_{B}\\theta+r_{f}\n",
    "$$\n",
    "where $\\theta$ is referred to as the 'normalising factor' and is represented mathematically as \n",
    "\n",
    "$$\n",
    "    \\theta = \\frac{E(R_{B})-r_{f}}{W_{B}^{'}\\Sigma W_{B}}\n",
    "$$\n",
    "\n",
    "The outcome of the exercise is the determination of model driven expected returns based on our current expectation of the overall portfolio return $E(R_{B})$\n"
   ]
  },
  {
   "cell_type": "code",
   "execution_count": 72,
   "id": "2ebc0dcb-ae3c-4526-a974-d064e7ce20d6",
   "metadata": {},
   "outputs": [],
   "source": [
    "wght=pd.read_excel('FINE7072_Data.xlsx',sheet_name='Weights',index_col=0)"
   ]
  },
  {
   "cell_type": "code",
   "execution_count": 73,
   "id": "43e67c70-76c2-4375-a7bf-f11867f14ee6",
   "metadata": {
    "collapsed": true,
    "jupyter": {
     "outputs_hidden": true
    },
    "scrolled": true
   },
   "outputs": [
    {
     "data": {
      "text/html": [
       "<div>\n",
       "<style scoped>\n",
       "    .dataframe tbody tr th:only-of-type {\n",
       "        vertical-align: middle;\n",
       "    }\n",
       "\n",
       "    .dataframe tbody tr th {\n",
       "        vertical-align: top;\n",
       "    }\n",
       "\n",
       "    .dataframe thead th {\n",
       "        text-align: right;\n",
       "    }\n",
       "</style>\n",
       "<table border=\"1\" class=\"dataframe\">\n",
       "  <thead>\n",
       "    <tr style=\"text-align: right;\">\n",
       "      <th></th>\n",
       "      <th>Weight</th>\n",
       "    </tr>\n",
       "    <tr>\n",
       "      <th>Style</th>\n",
       "      <th></th>\n",
       "    </tr>\n",
       "  </thead>\n",
       "  <tbody>\n",
       "    <tr>\n",
       "      <th>Growth</th>\n",
       "      <td>0.290</td>\n",
       "    </tr>\n",
       "    <tr>\n",
       "      <th>DY</th>\n",
       "      <td>0.040</td>\n",
       "    </tr>\n",
       "    <tr>\n",
       "      <th>Big</th>\n",
       "      <td>0.160</td>\n",
       "    </tr>\n",
       "    <tr>\n",
       "      <th>Med</th>\n",
       "      <td>0.030</td>\n",
       "    </tr>\n",
       "    <tr>\n",
       "      <th>Low Vol</th>\n",
       "      <td>0.040</td>\n",
       "    </tr>\n",
       "    <tr>\n",
       "      <th>Momentum</th>\n",
       "      <td>0.070</td>\n",
       "    </tr>\n",
       "    <tr>\n",
       "      <th>Quality</th>\n",
       "      <td>0.090</td>\n",
       "    </tr>\n",
       "    <tr>\n",
       "      <th>Small</th>\n",
       "      <td>0.008</td>\n",
       "    </tr>\n",
       "    <tr>\n",
       "      <th>Value</th>\n",
       "      <td>0.270</td>\n",
       "    </tr>\n",
       "  </tbody>\n",
       "</table>\n",
       "</div>"
      ],
      "text/plain": [
       "          Weight\n",
       "Style           \n",
       "Growth     0.290\n",
       "DY         0.040\n",
       "Big        0.160\n",
       "Med        0.030\n",
       "Low Vol    0.040\n",
       "Momentum   0.070\n",
       "Quality    0.090\n",
       "Small      0.008\n",
       "Value      0.270"
      ]
     },
     "execution_count": 73,
     "metadata": {},
     "output_type": "execute_result"
    }
   ],
   "source": [
    "wght"
   ]
  },
  {
   "cell_type": "code",
   "execution_count": 74,
   "id": "39f04c34-0dbe-4034-a3a8-b4e949a3ac7e",
   "metadata": {},
   "outputs": [],
   "source": [
    "wb=wght['Weight']"
   ]
  },
  {
   "cell_type": "code",
   "execution_count": 75,
   "id": "f85290f3-03af-44a2-a392-e93db6ff48fa",
   "metadata": {},
   "outputs": [
    {
     "data": {
      "text/plain": [
       "Style\n",
       "Growth      0.290\n",
       "DY          0.040\n",
       "Big         0.160\n",
       "Med         0.030\n",
       "Low Vol     0.040\n",
       "Momentum    0.070\n",
       "Quality     0.090\n",
       "Small       0.008\n",
       "Value       0.270\n",
       "Name: Weight, dtype: float64"
      ]
     },
     "execution_count": 75,
     "metadata": {},
     "output_type": "execute_result"
    }
   ],
   "source": [
    "wb"
   ]
  },
  {
   "cell_type": "code",
   "execution_count": 76,
   "id": "e23e432f-75e7-4c5f-b24d-a5fe1e0bc7f1",
   "metadata": {},
   "outputs": [],
   "source": [
    "#Make assumption of a annual gross return of 12% and apply risk-free rate of 5%\n",
    "rm=0.12/12\n",
    "rf=0.05/12"
   ]
  },
  {
   "cell_type": "code",
   "execution_count": 77,
   "id": "b96eab56-aff4-431a-b62e-7efb1619a5ef",
   "metadata": {},
   "outputs": [],
   "source": [
    "θ=(rm-rf)/(wb.T@style_cov@wb)"
   ]
  },
  {
   "cell_type": "code",
   "execution_count": 78,
   "id": "b2694e09-f875-4cc3-a181-1456bc5e7161",
   "metadata": {},
   "outputs": [
    {
     "data": {
      "text/plain": [
       "3.0408541643518334"
      ]
     },
     "execution_count": 78,
     "metadata": {},
     "output_type": "execute_result"
    }
   ],
   "source": [
    "θ"
   ]
  },
  {
   "cell_type": "code",
   "execution_count": 79,
   "id": "6ef71bb9-99ba-4076-be8d-85362d2501da",
   "metadata": {},
   "outputs": [],
   "source": [
    "blm_er=style_cov@wb*θ+rf"
   ]
  },
  {
   "cell_type": "code",
   "execution_count": 80,
   "id": "fd4c9448-95fa-4494-95e1-ca88d9c00d50",
   "metadata": {},
   "outputs": [
    {
     "data": {
      "text/plain": [
       "Growth      0.010405\n",
       "DY          0.009495\n",
       "Big         0.010155\n",
       "Med         0.010603\n",
       "Low Vol     0.008072\n",
       "Momentum    0.009620\n",
       "Quality     0.009575\n",
       "Small       0.010659\n",
       "Value       0.010030\n",
       "dtype: float64"
      ]
     },
     "execution_count": 80,
     "metadata": {},
     "output_type": "execute_result"
    }
   ],
   "source": [
    "blm_er"
   ]
  },
  {
   "cell_type": "code",
   "execution_count": 81,
   "id": "f09d478c-d0ea-4ee9-adb8-2162620b1b11",
   "metadata": {},
   "outputs": [],
   "source": [
    "test=(np.linalg.inv(style_cov)@(blm_er-rf))/(np.linalg.inv(style_cov)@(blm_er-rf)).sum()"
   ]
  },
  {
   "cell_type": "code",
   "execution_count": 82,
   "id": "d02f5a4c-8d68-4de8-b74f-d50b18f409d9",
   "metadata": {},
   "outputs": [],
   "source": [
    "test_series=pd.Series(test,index=style.columns)"
   ]
  },
  {
   "cell_type": "code",
   "execution_count": 83,
   "id": "8129b567-aa5b-49a1-b47b-a6337e246254",
   "metadata": {},
   "outputs": [
    {
     "data": {
      "text/plain": [
       "Growth      0.290581\n",
       "DY          0.040080\n",
       "Big         0.160321\n",
       "Med         0.030060\n",
       "Low Vol     0.040080\n",
       "Momentum    0.070140\n",
       "Quality     0.090180\n",
       "Small       0.008016\n",
       "Value       0.270541\n",
       "dtype: float64"
      ]
     },
     "execution_count": 83,
     "metadata": {},
     "output_type": "execute_result"
    }
   ],
   "source": [
    "test_series"
   ]
  },
  {
   "cell_type": "code",
   "execution_count": 84,
   "id": "1897606c-177d-42f6-9f50-0b4149b63679",
   "metadata": {},
   "outputs": [
    {
     "data": {
      "text/plain": [
       "Style\n",
       "Growth      0.290\n",
       "DY          0.040\n",
       "Big         0.160\n",
       "Med         0.030\n",
       "Low Vol     0.040\n",
       "Momentum    0.070\n",
       "Quality     0.090\n",
       "Small       0.008\n",
       "Value       0.270\n",
       "Name: Weight, dtype: float64"
      ]
     },
     "execution_count": 84,
     "metadata": {},
     "output_type": "execute_result"
    }
   ],
   "source": [
    "wb"
   ]
  },
  {
   "cell_type": "markdown",
   "id": "d3586216-9792-4a99-8b10-1cf71f6cfb01",
   "metadata": {},
   "source": [
    "Now what we can do is add in our opinion regarding the performance of the different styles represented by $\\delta_{opinion}$ by using the Black-Litterman tracking matrix which scales each row of the covariance matrix by the respective styles variance"
   ]
  },
  {
   "cell_type": "code",
   "execution_count": 86,
   "id": "75fc8f4a-59ea-44af-9e2e-8e3f59013aa1",
   "metadata": {},
   "outputs": [],
   "source": [
    "style_var=style.var()"
   ]
  },
  {
   "cell_type": "code",
   "execution_count": 87,
   "id": "645e352e-1b5e-4519-ad10-e7b7cefcd85c",
   "metadata": {},
   "outputs": [
    {
     "data": {
      "text/plain": [
       "Growth      0.002311\n",
       "DY          0.001863\n",
       "Big         0.002032\n",
       "Med         0.002502\n",
       "Low Vol     0.001049\n",
       "Momentum    0.002089\n",
       "Quality     0.001749\n",
       "Small       0.002811\n",
       "Value       0.002107\n",
       "dtype: float64"
      ]
     },
     "execution_count": 87,
     "metadata": {},
     "output_type": "execute_result"
    }
   ],
   "source": [
    "style_var"
   ]
  },
  {
   "cell_type": "code",
   "execution_count": 89,
   "id": "6a7a94b8-8495-421d-beb2-16c806d39c2a",
   "metadata": {},
   "outputs": [],
   "source": [
    "blm_trck=style_cov.div(style_var,axis='rows')"
   ]
  },
  {
   "cell_type": "code",
   "execution_count": 90,
   "id": "77c73a8e-27cc-4b01-8e5f-fb5366285e03",
   "metadata": {},
   "outputs": [
    {
     "data": {
      "text/html": [
       "<div>\n",
       "<style scoped>\n",
       "    .dataframe tbody tr th:only-of-type {\n",
       "        vertical-align: middle;\n",
       "    }\n",
       "\n",
       "    .dataframe tbody tr th {\n",
       "        vertical-align: top;\n",
       "    }\n",
       "\n",
       "    .dataframe thead th {\n",
       "        text-align: right;\n",
       "    }\n",
       "</style>\n",
       "<table border=\"1\" class=\"dataframe\">\n",
       "  <thead>\n",
       "    <tr style=\"text-align: right;\">\n",
       "      <th></th>\n",
       "      <th>Growth</th>\n",
       "      <th>DY</th>\n",
       "      <th>Big</th>\n",
       "      <th>Med</th>\n",
       "      <th>Low Vol</th>\n",
       "      <th>Momentum</th>\n",
       "      <th>Quality</th>\n",
       "      <th>Small</th>\n",
       "      <th>Value</th>\n",
       "    </tr>\n",
       "  </thead>\n",
       "  <tbody>\n",
       "    <tr>\n",
       "      <th>Growth</th>\n",
       "      <td>1.000000</td>\n",
       "      <td>0.751182</td>\n",
       "      <td>0.912059</td>\n",
       "      <td>0.978029</td>\n",
       "      <td>0.570374</td>\n",
       "      <td>0.857782</td>\n",
       "      <td>0.845621</td>\n",
       "      <td>0.981700</td>\n",
       "      <td>0.836043</td>\n",
       "    </tr>\n",
       "    <tr>\n",
       "      <th>DY</th>\n",
       "      <td>0.931759</td>\n",
       "      <td>1.000000</td>\n",
       "      <td>0.963588</td>\n",
       "      <td>1.019868</td>\n",
       "      <td>0.693608</td>\n",
       "      <td>0.813538</td>\n",
       "      <td>0.844218</td>\n",
       "      <td>1.020477</td>\n",
       "      <td>1.025297</td>\n",
       "    </tr>\n",
       "    <tr>\n",
       "      <th>Big</th>\n",
       "      <td>1.037103</td>\n",
       "      <td>0.883348</td>\n",
       "      <td>1.000000</td>\n",
       "      <td>1.064712</td>\n",
       "      <td>0.639522</td>\n",
       "      <td>0.889020</td>\n",
       "      <td>0.896887</td>\n",
       "      <td>1.071147</td>\n",
       "      <td>0.977604</td>\n",
       "    </tr>\n",
       "    <tr>\n",
       "      <th>Med</th>\n",
       "      <td>0.903074</td>\n",
       "      <td>0.759201</td>\n",
       "      <td>0.864579</td>\n",
       "      <td>1.000000</td>\n",
       "      <td>0.554906</td>\n",
       "      <td>0.803294</td>\n",
       "      <td>0.760596</td>\n",
       "      <td>1.036006</td>\n",
       "      <td>0.852109</td>\n",
       "    </tr>\n",
       "    <tr>\n",
       "      <th>Low Vol</th>\n",
       "      <td>1.255913</td>\n",
       "      <td>1.231276</td>\n",
       "      <td>1.238388</td>\n",
       "      <td>1.323268</td>\n",
       "      <td>1.000000</td>\n",
       "      <td>1.142580</td>\n",
       "      <td>1.128870</td>\n",
       "      <td>1.311208</td>\n",
       "      <td>1.260695</td>\n",
       "    </tr>\n",
       "    <tr>\n",
       "      <th>Momentum</th>\n",
       "      <td>0.948653</td>\n",
       "      <td>0.725354</td>\n",
       "      <td>0.864656</td>\n",
       "      <td>0.962130</td>\n",
       "      <td>0.573875</td>\n",
       "      <td>1.000000</td>\n",
       "      <td>0.798774</td>\n",
       "      <td>0.976644</td>\n",
       "      <td>0.793994</td>\n",
       "    </tr>\n",
       "    <tr>\n",
       "      <th>Quality</th>\n",
       "      <td>1.117167</td>\n",
       "      <td>0.899162</td>\n",
       "      <td>1.042032</td>\n",
       "      <td>1.088240</td>\n",
       "      <td>0.677308</td>\n",
       "      <td>0.954191</td>\n",
       "      <td>1.000000</td>\n",
       "      <td>1.078931</td>\n",
       "      <td>0.981319</td>\n",
       "    </tr>\n",
       "    <tr>\n",
       "      <th>Small</th>\n",
       "      <td>0.807062</td>\n",
       "      <td>0.676352</td>\n",
       "      <td>0.774423</td>\n",
       "      <td>0.922399</td>\n",
       "      <td>0.489553</td>\n",
       "      <td>0.725995</td>\n",
       "      <td>0.671397</td>\n",
       "      <td>1.000000</td>\n",
       "      <td>0.770658</td>\n",
       "    </tr>\n",
       "    <tr>\n",
       "      <th>Value</th>\n",
       "      <td>0.916688</td>\n",
       "      <td>0.906324</td>\n",
       "      <td>0.942663</td>\n",
       "      <td>1.011850</td>\n",
       "      <td>0.627773</td>\n",
       "      <td>0.787189</td>\n",
       "      <td>0.814442</td>\n",
       "      <td>1.027842</td>\n",
       "      <td>1.000000</td>\n",
       "    </tr>\n",
       "  </tbody>\n",
       "</table>\n",
       "</div>"
      ],
      "text/plain": [
       "            Growth        DY       Big       Med   Low Vol  Momentum  \\\n",
       "Growth    1.000000  0.751182  0.912059  0.978029  0.570374  0.857782   \n",
       "DY        0.931759  1.000000  0.963588  1.019868  0.693608  0.813538   \n",
       "Big       1.037103  0.883348  1.000000  1.064712  0.639522  0.889020   \n",
       "Med       0.903074  0.759201  0.864579  1.000000  0.554906  0.803294   \n",
       "Low Vol   1.255913  1.231276  1.238388  1.323268  1.000000  1.142580   \n",
       "Momentum  0.948653  0.725354  0.864656  0.962130  0.573875  1.000000   \n",
       "Quality   1.117167  0.899162  1.042032  1.088240  0.677308  0.954191   \n",
       "Small     0.807062  0.676352  0.774423  0.922399  0.489553  0.725995   \n",
       "Value     0.916688  0.906324  0.942663  1.011850  0.627773  0.787189   \n",
       "\n",
       "           Quality     Small     Value  \n",
       "Growth    0.845621  0.981700  0.836043  \n",
       "DY        0.844218  1.020477  1.025297  \n",
       "Big       0.896887  1.071147  0.977604  \n",
       "Med       0.760596  1.036006  0.852109  \n",
       "Low Vol   1.128870  1.311208  1.260695  \n",
       "Momentum  0.798774  0.976644  0.793994  \n",
       "Quality   1.000000  1.078931  0.981319  \n",
       "Small     0.671397  1.000000  0.770658  \n",
       "Value     0.814442  1.027842  1.000000  "
      ]
     },
     "execution_count": 90,
     "metadata": {},
     "output_type": "execute_result"
    }
   ],
   "source": [
    "blm_trck"
   ]
  },
  {
   "cell_type": "markdown",
   "id": "ded69827-ec74-4fac-a463-23ed0f0f5e59",
   "metadata": {},
   "source": [
    "Lets assume for interest sake that we believe that growth and momentum will have a cracker of a year (20% higher than the output return) while quality and value will underperform (10% lower). "
   ]
  },
  {
   "cell_type": "code",
   "execution_count": 96,
   "id": "1d46359a-5f36-4522-9f21-0102f5817603",
   "metadata": {},
   "outputs": [
    {
     "data": {
      "text/plain": [
       "Growth      0.010405\n",
       "DY          0.009495\n",
       "Big         0.010155\n",
       "Med         0.010603\n",
       "Low Vol     0.008072\n",
       "Momentum    0.009620\n",
       "Quality     0.009575\n",
       "Small       0.010659\n",
       "Value       0.010030\n",
       "dtype: float64"
      ]
     },
     "execution_count": 96,
     "metadata": {},
     "output_type": "execute_result"
    }
   ],
   "source": [
    "blm_er"
   ]
  },
  {
   "cell_type": "code",
   "execution_count": 212,
   "id": "cbc8bf97-f913-4dd3-901e-281d4a3b51ee",
   "metadata": {},
   "outputs": [],
   "source": [
    "opn=pd.Series([0,0,-0.001,0,0,0.0,0,0.002,0],index=blm_er.index)"
   ]
  },
  {
   "cell_type": "code",
   "execution_count": 213,
   "id": "37972505-e960-45ea-8f51-e87095cc6ebb",
   "metadata": {},
   "outputs": [],
   "source": [
    "δ=opn*blm_er"
   ]
  },
  {
   "cell_type": "code",
   "execution_count": 214,
   "id": "a4755e5d-2e17-411c-8a50-74378584ba88",
   "metadata": {},
   "outputs": [
    {
     "data": {
      "text/plain": [
       "Growth      0.000000\n",
       "DY          0.000000\n",
       "Big        -0.000010\n",
       "Med         0.000000\n",
       "Low Vol     0.000000\n",
       "Momentum    0.000000\n",
       "Quality     0.000000\n",
       "Small       0.000021\n",
       "Value       0.000000\n",
       "dtype: float64"
      ]
     },
     "execution_count": 214,
     "metadata": {},
     "output_type": "execute_result"
    }
   ],
   "source": [
    "δ"
   ]
  },
  {
   "cell_type": "code",
   "execution_count": 215,
   "id": "60e2dc9a-ef3e-427d-bb1c-b43a31f9eb6f",
   "metadata": {},
   "outputs": [],
   "source": [
    "oa_blm_er=blm_er+blm_trck@δ"
   ]
  },
  {
   "cell_type": "code",
   "execution_count": 216,
   "id": "91d1c10c-89f5-45e4-89a7-ad536e71f8bb",
   "metadata": {},
   "outputs": [
    {
     "data": {
      "text/plain": [
       "Growth      0.010417\n",
       "DY          0.009507\n",
       "Big         0.010168\n",
       "Med         0.010616\n",
       "Low Vol     0.008087\n",
       "Momentum    0.009632\n",
       "Quality     0.009587\n",
       "Small       0.010672\n",
       "Value       0.010043\n",
       "dtype: float64"
      ]
     },
     "execution_count": 216,
     "metadata": {},
     "output_type": "execute_result"
    }
   ],
   "source": [
    "oa_blm_er"
   ]
  },
  {
   "cell_type": "code",
   "execution_count": 217,
   "id": "81eddc0c-020d-40ca-814c-93bd9282e044",
   "metadata": {},
   "outputs": [],
   "source": [
    "blm_wght=(np.linalg.inv(style_cov)@(oa_blm_er-rf))/(np.linalg.inv(style_cov)@(oa_blm_er-rf)).sum()"
   ]
  },
  {
   "cell_type": "code",
   "execution_count": 218,
   "id": "96f8fc2e-9afc-4773-b7b9-1e33dc863fdc",
   "metadata": {},
   "outputs": [],
   "source": [
    "blm_wght_ser=pd.Series(blm_wght,index=style.columns)"
   ]
  },
  {
   "cell_type": "code",
   "execution_count": 219,
   "id": "8adf3995-6691-47f7-9cfe-fde20270ec08",
   "metadata": {},
   "outputs": [],
   "source": [
    "blm_comp=pd.concat([wb,blm_wght_ser],axis=1)\n",
    "blm_comp.columns=['Market Wght','OA Wght']"
   ]
  },
  {
   "cell_type": "code",
   "execution_count": 220,
   "id": "27a1e567-70cf-498c-b731-56f3bf723249",
   "metadata": {},
   "outputs": [
    {
     "data": {
      "text/html": [
       "<div>\n",
       "<style scoped>\n",
       "    .dataframe tbody tr th:only-of-type {\n",
       "        vertical-align: middle;\n",
       "    }\n",
       "\n",
       "    .dataframe tbody tr th {\n",
       "        vertical-align: top;\n",
       "    }\n",
       "\n",
       "    .dataframe thead th {\n",
       "        text-align: right;\n",
       "    }\n",
       "</style>\n",
       "<table border=\"1\" class=\"dataframe\">\n",
       "  <thead>\n",
       "    <tr style=\"text-align: right;\">\n",
       "      <th></th>\n",
       "      <th>Market Wght</th>\n",
       "      <th>OA Wght</th>\n",
       "    </tr>\n",
       "  </thead>\n",
       "  <tbody>\n",
       "    <tr>\n",
       "      <th>Growth</th>\n",
       "      <td>0.290</td>\n",
       "      <td>0.248224</td>\n",
       "    </tr>\n",
       "    <tr>\n",
       "      <th>DY</th>\n",
       "      <td>0.040</td>\n",
       "      <td>0.026522</td>\n",
       "    </tr>\n",
       "    <tr>\n",
       "      <th>Big</th>\n",
       "      <td>0.160</td>\n",
       "      <td>0.215810</td>\n",
       "    </tr>\n",
       "    <tr>\n",
       "      <th>Med</th>\n",
       "      <td>0.030</td>\n",
       "      <td>0.029899</td>\n",
       "    </tr>\n",
       "    <tr>\n",
       "      <th>Low Vol</th>\n",
       "      <td>0.040</td>\n",
       "      <td>0.059732</td>\n",
       "    </tr>\n",
       "    <tr>\n",
       "      <th>Momentum</th>\n",
       "      <td>0.070</td>\n",
       "      <td>0.068024</td>\n",
       "    </tr>\n",
       "    <tr>\n",
       "      <th>Quality</th>\n",
       "      <td>0.090</td>\n",
       "      <td>0.095983</td>\n",
       "    </tr>\n",
       "    <tr>\n",
       "      <th>Small</th>\n",
       "      <td>0.008</td>\n",
       "      <td>0.011939</td>\n",
       "    </tr>\n",
       "    <tr>\n",
       "      <th>Value</th>\n",
       "      <td>0.270</td>\n",
       "      <td>0.243866</td>\n",
       "    </tr>\n",
       "  </tbody>\n",
       "</table>\n",
       "</div>"
      ],
      "text/plain": [
       "          Market Wght   OA Wght\n",
       "Growth          0.290  0.248224\n",
       "DY              0.040  0.026522\n",
       "Big             0.160  0.215810\n",
       "Med             0.030  0.029899\n",
       "Low Vol         0.040  0.059732\n",
       "Momentum        0.070  0.068024\n",
       "Quality         0.090  0.095983\n",
       "Small           0.008  0.011939\n",
       "Value           0.270  0.243866"
      ]
     },
     "execution_count": 220,
     "metadata": {},
     "output_type": "execute_result"
    }
   ],
   "source": [
    "blm_comp"
   ]
  },
  {
   "cell_type": "code",
   "execution_count": null,
   "id": "c7ed76aa-fe56-4df2-8e16-e0c0e5a9a43e",
   "metadata": {},
   "outputs": [],
   "source": []
  }
 ],
 "metadata": {
  "kernelspec": {
   "display_name": "Python 3 (ipykernel)",
   "language": "python",
   "name": "python3"
  },
  "language_info": {
   "codemirror_mode": {
    "name": "ipython",
    "version": 3
   },
   "file_extension": ".py",
   "mimetype": "text/x-python",
   "name": "python",
   "nbconvert_exporter": "python",
   "pygments_lexer": "ipython3",
   "version": "3.9.12"
  }
 },
 "nbformat": 4,
 "nbformat_minor": 5
}
