{
 "cells": [
  {
   "cell_type": "code",
   "execution_count": null,
   "id": "790652aa-ebd6-44f0-831e-b22440fa9c55",
   "metadata": {},
   "outputs": [],
   "source": [
    "import numpy as np\n",
    "import pandas as pd\n",
    "import matplotlib.pyplot as plt\n",
    "from scipy.optimize import minimize\n",
    "%matplotlib inline"
   ]
  },
  {
   "cell_type": "code",
   "execution_count": null,
   "id": "13419bf6-c8dd-4d44-ab00-1b9df1e74f0d",
   "metadata": {},
   "outputs": [],
   "source": [
    "ret_data=pd.read_excel('FINE7072_Data.xlsx',index_col=0,sheet_name='MSCI World Styles')"
   ]
  },
  {
   "cell_type": "code",
   "execution_count": 5,
   "id": "a7129c00-4ee3-4f75-bd41-b77b2ac7ca0a",
   "metadata": {},
   "outputs": [
    {
     "data": {
      "text/html": [
       "<div>\n",
       "<style scoped>\n",
       "    .dataframe tbody tr th:only-of-type {\n",
       "        vertical-align: middle;\n",
       "    }\n",
       "\n",
       "    .dataframe tbody tr th {\n",
       "        vertical-align: top;\n",
       "    }\n",
       "\n",
       "    .dataframe thead th {\n",
       "        text-align: right;\n",
       "    }\n",
       "</style>\n",
       "<table border=\"1\" class=\"dataframe\">\n",
       "  <thead>\n",
       "    <tr style=\"text-align: right;\">\n",
       "      <th></th>\n",
       "      <th>Growth</th>\n",
       "      <th>DY</th>\n",
       "      <th>Big</th>\n",
       "      <th>Med</th>\n",
       "      <th>Low Vol</th>\n",
       "      <th>Momentum</th>\n",
       "      <th>Quality</th>\n",
       "      <th>Small</th>\n",
       "      <th>Value</th>\n",
       "      <th>MSCI/Benchmark</th>\n",
       "    </tr>\n",
       "  </thead>\n",
       "  <tbody>\n",
       "    <tr>\n",
       "      <th>1999-12-31</th>\n",
       "      <td>0.114528</td>\n",
       "      <td>0.028326</td>\n",
       "      <td>0.080825</td>\n",
       "      <td>0.093297</td>\n",
       "      <td>0.046006</td>\n",
       "      <td>0.181733</td>\n",
       "      <td>0.073756</td>\n",
       "      <td>0.070700</td>\n",
       "      <td>0.043750</td>\n",
       "      <td>0.081068</td>\n",
       "    </tr>\n",
       "    <tr>\n",
       "      <th>2000-01-31</th>\n",
       "      <td>-0.062635</td>\n",
       "      <td>-0.075032</td>\n",
       "      <td>-0.056817</td>\n",
       "      <td>-0.035570</td>\n",
       "      <td>-0.049887</td>\n",
       "      <td>-0.062717</td>\n",
       "      <td>-0.058364</td>\n",
       "      <td>-0.007352</td>\n",
       "      <td>-0.051623</td>\n",
       "      <td>-0.057153</td>\n",
       "    </tr>\n",
       "    <tr>\n",
       "      <th>2000-02-29</th>\n",
       "      <td>0.034812</td>\n",
       "      <td>-0.038538</td>\n",
       "      <td>0.009509</td>\n",
       "      <td>0.096106</td>\n",
       "      <td>-0.031109</td>\n",
       "      <td>0.082821</td>\n",
       "      <td>0.010238</td>\n",
       "      <td>0.121294</td>\n",
       "      <td>-0.034412</td>\n",
       "      <td>0.002822</td>\n",
       "    </tr>\n",
       "    <tr>\n",
       "      <th>2000-03-31</th>\n",
       "      <td>0.059648</td>\n",
       "      <td>0.079125</td>\n",
       "      <td>0.054559</td>\n",
       "      <td>0.007403</td>\n",
       "      <td>0.065179</td>\n",
       "      <td>0.036760</td>\n",
       "      <td>0.072823</td>\n",
       "      <td>-0.035602</td>\n",
       "      <td>0.081735</td>\n",
       "      <td>0.069243</td>\n",
       "    </tr>\n",
       "    <tr>\n",
       "      <th>2000-04-30</th>\n",
       "      <td>-0.067054</td>\n",
       "      <td>-0.028712</td>\n",
       "      <td>-0.053913</td>\n",
       "      <td>-0.070233</td>\n",
       "      <td>-0.014138</td>\n",
       "      <td>-0.071582</td>\n",
       "      <td>-0.030626</td>\n",
       "      <td>-0.070706</td>\n",
       "      <td>-0.016697</td>\n",
       "      <td>-0.042168</td>\n",
       "    </tr>\n",
       "    <tr>\n",
       "      <th>...</th>\n",
       "      <td>...</td>\n",
       "      <td>...</td>\n",
       "      <td>...</td>\n",
       "      <td>...</td>\n",
       "      <td>...</td>\n",
       "      <td>...</td>\n",
       "      <td>...</td>\n",
       "      <td>...</td>\n",
       "      <td>...</td>\n",
       "      <td>...</td>\n",
       "    </tr>\n",
       "    <tr>\n",
       "      <th>2022-05-31</th>\n",
       "      <td>-0.022239</td>\n",
       "      <td>0.011842</td>\n",
       "      <td>0.001871</td>\n",
       "      <td>-0.000320</td>\n",
       "      <td>-0.006698</td>\n",
       "      <td>-0.000824</td>\n",
       "      <td>-0.010048</td>\n",
       "      <td>-0.001433</td>\n",
       "      <td>0.021822</td>\n",
       "      <td>0.001526</td>\n",
       "    </tr>\n",
       "    <tr>\n",
       "      <th>2022-06-30</th>\n",
       "      <td>-0.084565</td>\n",
       "      <td>-0.064765</td>\n",
       "      <td>-0.083817</td>\n",
       "      <td>-0.099361</td>\n",
       "      <td>-0.043204</td>\n",
       "      <td>-0.074508</td>\n",
       "      <td>-0.078087</td>\n",
       "      <td>-0.099359</td>\n",
       "      <td>-0.087850</td>\n",
       "      <td>-0.086264</td>\n",
       "    </tr>\n",
       "    <tr>\n",
       "      <th>2022-07-31</th>\n",
       "      <td>0.115435</td>\n",
       "      <td>0.026477</td>\n",
       "      <td>0.079259</td>\n",
       "      <td>0.081991</td>\n",
       "      <td>0.036132</td>\n",
       "      <td>0.044136</td>\n",
       "      <td>0.085214</td>\n",
       "      <td>0.091345</td>\n",
       "      <td>0.046159</td>\n",
       "      <td>0.079682</td>\n",
       "    </tr>\n",
       "    <tr>\n",
       "      <th>2022-08-31</th>\n",
       "      <td>-0.052612</td>\n",
       "      <td>-0.039677</td>\n",
       "      <td>-0.042711</td>\n",
       "      <td>-0.034367</td>\n",
       "      <td>-0.029204</td>\n",
       "      <td>-0.025037</td>\n",
       "      <td>-0.058231</td>\n",
       "      <td>-0.032233</td>\n",
       "      <td>-0.030202</td>\n",
       "      <td>-0.041416</td>\n",
       "    </tr>\n",
       "    <tr>\n",
       "      <th>2022-09-30</th>\n",
       "      <td>-0.101075</td>\n",
       "      <td>-0.075061</td>\n",
       "      <td>-0.090761</td>\n",
       "      <td>-0.102090</td>\n",
       "      <td>-0.068314</td>\n",
       "      <td>-0.072724</td>\n",
       "      <td>-0.090592</td>\n",
       "      <td>-0.102130</td>\n",
       "      <td>-0.084174</td>\n",
       "      <td>-0.092550</td>\n",
       "    </tr>\n",
       "  </tbody>\n",
       "</table>\n",
       "<p>274 rows × 10 columns</p>\n",
       "</div>"
      ],
      "text/plain": [
       "              Growth        DY       Big       Med   Low Vol  Momentum  \\\n",
       "1999-12-31  0.114528  0.028326  0.080825  0.093297  0.046006  0.181733   \n",
       "2000-01-31 -0.062635 -0.075032 -0.056817 -0.035570 -0.049887 -0.062717   \n",
       "2000-02-29  0.034812 -0.038538  0.009509  0.096106 -0.031109  0.082821   \n",
       "2000-03-31  0.059648  0.079125  0.054559  0.007403  0.065179  0.036760   \n",
       "2000-04-30 -0.067054 -0.028712 -0.053913 -0.070233 -0.014138 -0.071582   \n",
       "...              ...       ...       ...       ...       ...       ...   \n",
       "2022-05-31 -0.022239  0.011842  0.001871 -0.000320 -0.006698 -0.000824   \n",
       "2022-06-30 -0.084565 -0.064765 -0.083817 -0.099361 -0.043204 -0.074508   \n",
       "2022-07-31  0.115435  0.026477  0.079259  0.081991  0.036132  0.044136   \n",
       "2022-08-31 -0.052612 -0.039677 -0.042711 -0.034367 -0.029204 -0.025037   \n",
       "2022-09-30 -0.101075 -0.075061 -0.090761 -0.102090 -0.068314 -0.072724   \n",
       "\n",
       "             Quality     Small     Value  MSCI/Benchmark  \n",
       "1999-12-31  0.073756  0.070700  0.043750        0.081068  \n",
       "2000-01-31 -0.058364 -0.007352 -0.051623       -0.057153  \n",
       "2000-02-29  0.010238  0.121294 -0.034412        0.002822  \n",
       "2000-03-31  0.072823 -0.035602  0.081735        0.069243  \n",
       "2000-04-30 -0.030626 -0.070706 -0.016697       -0.042168  \n",
       "...              ...       ...       ...             ...  \n",
       "2022-05-31 -0.010048 -0.001433  0.021822        0.001526  \n",
       "2022-06-30 -0.078087 -0.099359 -0.087850       -0.086264  \n",
       "2022-07-31  0.085214  0.091345  0.046159        0.079682  \n",
       "2022-08-31 -0.058231 -0.032233 -0.030202       -0.041416  \n",
       "2022-09-30 -0.090592 -0.102130 -0.084174       -0.092550  \n",
       "\n",
       "[274 rows x 10 columns]"
      ]
     },
     "execution_count": 5,
     "metadata": {},
     "output_type": "execute_result"
    }
   ],
   "source": [
    "ret_data"
   ]
  },
  {
   "cell_type": "code",
   "execution_count": 8,
   "id": "9cd52d3e-d668-4c3c-83e6-7eacee5cf19b",
   "metadata": {},
   "outputs": [],
   "source": [
    "#Highlighting a singular row, looking only at MSCI benchmark"
   ]
  },
  {
   "cell_type": "code",
   "execution_count": 9,
   "id": "ba2e0681-c06a-42d8-8e9c-e835293ad662",
   "metadata": {},
   "outputs": [
    {
     "data": {
      "text/plain": [
       "DatetimeIndex(['1999-12-31', '2000-01-31', '2000-02-29', '2000-03-31',\n",
       "               '2000-04-30', '2000-05-31', '2000-06-30', '2000-07-31',\n",
       "               '2000-08-31', '2000-09-30',\n",
       "               ...\n",
       "               '2021-12-31', '2022-01-31', '2022-02-28', '2022-03-31',\n",
       "               '2022-04-30', '2022-05-31', '2022-06-30', '2022-07-31',\n",
       "               '2022-08-31', '2022-09-30'],\n",
       "              dtype='datetime64[ns]', length=274, freq=None)"
      ]
     },
     "execution_count": 9,
     "metadata": {},
     "output_type": "execute_result"
    }
   ],
   "source": [
    "ret_data.index"
   ]
  },
  {
   "cell_type": "code",
   "execution_count": 10,
   "id": "c3fe2407-52c9-4db8-93dc-a0df3ec7f591",
   "metadata": {},
   "outputs": [],
   "source": [
    "#Highlighting column names"
   ]
  },
  {
   "cell_type": "code",
   "execution_count": 11,
   "id": "7345e11e-934c-4de9-ae0d-3f8e517e24bb",
   "metadata": {},
   "outputs": [
    {
     "data": {
      "text/plain": [
       "Index(['Growth', 'DY', 'Big', 'Med', 'Low Vol', 'Momentum', 'Quality', 'Small',\n",
       "       'Value', 'MSCI/Benchmark'],\n",
       "      dtype='object')"
      ]
     },
     "execution_count": 11,
     "metadata": {},
     "output_type": "execute_result"
    }
   ],
   "source": [
    "ret_data.columns"
   ]
  },
  {
   "cell_type": "code",
   "execution_count": 12,
   "id": "3e02d95c-06bf-450a-9b8c-7e14c14563d7",
   "metadata": {},
   "outputs": [],
   "source": [
    "#Accessing a sigular set in two ways"
   ]
  },
  {
   "cell_type": "code",
   "execution_count": 13,
   "id": "7cf4827a-a957-4c3f-8ef3-bd1c7b157abb",
   "metadata": {},
   "outputs": [
    {
     "data": {
      "text/plain": [
       "1999-12-31    0.181733\n",
       "2000-01-31   -0.062717\n",
       "2000-02-29    0.082821\n",
       "2000-03-31    0.036760\n",
       "2000-04-30   -0.071582\n",
       "                ...   \n",
       "2022-05-31   -0.000824\n",
       "2022-06-30   -0.074508\n",
       "2022-07-31    0.044136\n",
       "2022-08-31   -0.025037\n",
       "2022-09-30   -0.072724\n",
       "Name: Momentum, Length: 274, dtype: float64"
      ]
     },
     "execution_count": 13,
     "metadata": {},
     "output_type": "execute_result"
    }
   ],
   "source": [
    "ret_data.Momentum"
   ]
  },
  {
   "cell_type": "code",
   "execution_count": 14,
   "id": "f9c953ee-8c98-4670-82fa-4067cb534a5a",
   "metadata": {},
   "outputs": [],
   "source": [
    "#Thus returns Momentum or another way"
   ]
  },
  {
   "cell_type": "code",
   "execution_count": 16,
   "id": "48778675-b1d8-4ca9-9d82-8762a8893394",
   "metadata": {},
   "outputs": [
    {
     "data": {
      "text/plain": [
       "1999-12-31    0.181733\n",
       "2000-01-31   -0.062717\n",
       "2000-02-29    0.082821\n",
       "2000-03-31    0.036760\n",
       "2000-04-30   -0.071582\n",
       "                ...   \n",
       "2022-05-31   -0.000824\n",
       "2022-06-30   -0.074508\n",
       "2022-07-31    0.044136\n",
       "2022-08-31   -0.025037\n",
       "2022-09-30   -0.072724\n",
       "Name: Momentum, Length: 274, dtype: float64"
      ]
     },
     "execution_count": 16,
     "metadata": {},
     "output_type": "execute_result"
    }
   ],
   "source": [
    "ret_data['Momentum']"
   ]
  },
  {
   "cell_type": "code",
   "execution_count": 17,
   "id": "3148af80-9081-4648-93e3-3004c7154957",
   "metadata": {},
   "outputs": [],
   "source": [
    "#Isolate styles from benchmark in a simple functions"
   ]
  },
  {
   "cell_type": "code",
   "execution_count": 19,
   "id": "f154785c-6856-43f1-a657-edf7d2a7af7c",
   "metadata": {},
   "outputs": [],
   "source": [
    "#First, getting all the data using two functions, being iloc, i being integer, give us the exact of all columns, \n",
    "#then use colon :\n",
    "#iloc 0 is the first row and all the columns used colon :"
   ]
  },
  {
   "cell_type": "code",
   "execution_count": 18,
   "id": "3dfb0ea6-64c0-4b1f-b418-ea18a8c29cfb",
   "metadata": {},
   "outputs": [
    {
     "data": {
      "text/plain": [
       "Growth            0.114528\n",
       "DY                0.028326\n",
       "Big               0.080825\n",
       "Med               0.093297\n",
       "Low Vol           0.046006\n",
       "Momentum          0.181733\n",
       "Quality           0.073756\n",
       "Small             0.070700\n",
       "Value             0.043750\n",
       "MSCI/Benchmark    0.081068\n",
       "Name: 1999-12-31 00:00:00, dtype: float64"
      ]
     },
     "execution_count": 18,
     "metadata": {},
     "output_type": "execute_result"
    }
   ],
   "source": [
    "ret_data.iloc[0,:]"
   ]
  },
  {
   "cell_type": "code",
   "execution_count": null,
   "id": "794cd48d-e949-4951-85b0-907a54bfe745",
   "metadata": {},
   "outputs": [],
   "source": [
    "#above is the first set of returns for 1992\n",
    "#All rows but only give the first column"
   ]
  },
  {
   "cell_type": "code",
   "execution_count": 21,
   "id": "61362976-28d6-4741-b109-6483eb796216",
   "metadata": {},
   "outputs": [
    {
     "data": {
      "text/plain": [
       "1999-12-31    0.114528\n",
       "2000-01-31   -0.062635\n",
       "2000-02-29    0.034812\n",
       "2000-03-31    0.059648\n",
       "2000-04-30   -0.067054\n",
       "                ...   \n",
       "2022-05-31   -0.022239\n",
       "2022-06-30   -0.084565\n",
       "2022-07-31    0.115435\n",
       "2022-08-31   -0.052612\n",
       "2022-09-30   -0.101075\n",
       "Name: Growth, Length: 274, dtype: float64"
      ]
     },
     "execution_count": 21,
     "metadata": {},
     "output_type": "execute_result"
    }
   ],
   "source": [
    "ret_data.iloc[:,0]"
   ]
  },
  {
   "cell_type": "code",
   "execution_count": null,
   "id": "603402aa-8554-4488-8b7d-636ba42cc401",
   "metadata": {},
   "outputs": [],
   "source": [
    "#thus growth is given first, as it appears first\n",
    "#All the columns from 1 to 3"
   ]
  },
  {
   "cell_type": "code",
   "execution_count": 24,
   "id": "12e114f7-02b1-4c3f-8a43-989d813c9d0d",
   "metadata": {},
   "outputs": [
    {
     "data": {
      "text/html": [
       "<div>\n",
       "<style scoped>\n",
       "    .dataframe tbody tr th:only-of-type {\n",
       "        vertical-align: middle;\n",
       "    }\n",
       "\n",
       "    .dataframe tbody tr th {\n",
       "        vertical-align: top;\n",
       "    }\n",
       "\n",
       "    .dataframe thead th {\n",
       "        text-align: right;\n",
       "    }\n",
       "</style>\n",
       "<table border=\"1\" class=\"dataframe\">\n",
       "  <thead>\n",
       "    <tr style=\"text-align: right;\">\n",
       "      <th></th>\n",
       "      <th>Growth</th>\n",
       "      <th>DY</th>\n",
       "      <th>Big</th>\n",
       "    </tr>\n",
       "  </thead>\n",
       "  <tbody>\n",
       "    <tr>\n",
       "      <th>1999-12-31</th>\n",
       "      <td>0.114528</td>\n",
       "      <td>0.028326</td>\n",
       "      <td>0.080825</td>\n",
       "    </tr>\n",
       "    <tr>\n",
       "      <th>2000-01-31</th>\n",
       "      <td>-0.062635</td>\n",
       "      <td>-0.075032</td>\n",
       "      <td>-0.056817</td>\n",
       "    </tr>\n",
       "    <tr>\n",
       "      <th>2000-02-29</th>\n",
       "      <td>0.034812</td>\n",
       "      <td>-0.038538</td>\n",
       "      <td>0.009509</td>\n",
       "    </tr>\n",
       "    <tr>\n",
       "      <th>2000-03-31</th>\n",
       "      <td>0.059648</td>\n",
       "      <td>0.079125</td>\n",
       "      <td>0.054559</td>\n",
       "    </tr>\n",
       "    <tr>\n",
       "      <th>2000-04-30</th>\n",
       "      <td>-0.067054</td>\n",
       "      <td>-0.028712</td>\n",
       "      <td>-0.053913</td>\n",
       "    </tr>\n",
       "    <tr>\n",
       "      <th>...</th>\n",
       "      <td>...</td>\n",
       "      <td>...</td>\n",
       "      <td>...</td>\n",
       "    </tr>\n",
       "    <tr>\n",
       "      <th>2022-05-31</th>\n",
       "      <td>-0.022239</td>\n",
       "      <td>0.011842</td>\n",
       "      <td>0.001871</td>\n",
       "    </tr>\n",
       "    <tr>\n",
       "      <th>2022-06-30</th>\n",
       "      <td>-0.084565</td>\n",
       "      <td>-0.064765</td>\n",
       "      <td>-0.083817</td>\n",
       "    </tr>\n",
       "    <tr>\n",
       "      <th>2022-07-31</th>\n",
       "      <td>0.115435</td>\n",
       "      <td>0.026477</td>\n",
       "      <td>0.079259</td>\n",
       "    </tr>\n",
       "    <tr>\n",
       "      <th>2022-08-31</th>\n",
       "      <td>-0.052612</td>\n",
       "      <td>-0.039677</td>\n",
       "      <td>-0.042711</td>\n",
       "    </tr>\n",
       "    <tr>\n",
       "      <th>2022-09-30</th>\n",
       "      <td>-0.101075</td>\n",
       "      <td>-0.075061</td>\n",
       "      <td>-0.090761</td>\n",
       "    </tr>\n",
       "  </tbody>\n",
       "</table>\n",
       "<p>274 rows × 3 columns</p>\n",
       "</div>"
      ],
      "text/plain": [
       "              Growth        DY       Big\n",
       "1999-12-31  0.114528  0.028326  0.080825\n",
       "2000-01-31 -0.062635 -0.075032 -0.056817\n",
       "2000-02-29  0.034812 -0.038538  0.009509\n",
       "2000-03-31  0.059648  0.079125  0.054559\n",
       "2000-04-30 -0.067054 -0.028712 -0.053913\n",
       "...              ...       ...       ...\n",
       "2022-05-31 -0.022239  0.011842  0.001871\n",
       "2022-06-30 -0.084565 -0.064765 -0.083817\n",
       "2022-07-31  0.115435  0.026477  0.079259\n",
       "2022-08-31 -0.052612 -0.039677 -0.042711\n",
       "2022-09-30 -0.101075 -0.075061 -0.090761\n",
       "\n",
       "[274 rows x 3 columns]"
      ]
     },
     "execution_count": 24,
     "metadata": {},
     "output_type": "execute_result"
    }
   ],
   "source": [
    "ret_data.iloc[:,0:3]"
   ]
  },
  {
   "cell_type": "code",
   "execution_count": null,
   "id": "c6fe9934-97d0-466c-bfab-ac9c374c9cf7",
   "metadata": {},
   "outputs": [],
   "source": [
    "#giving aonly the last colmun being MSCI benchmark"
   ]
  },
  {
   "cell_type": "code",
   "execution_count": 25,
   "id": "a6b6fb0a-4b99-4bd2-b76a-e7f6504062d4",
   "metadata": {},
   "outputs": [
    {
     "data": {
      "text/plain": [
       "1999-12-31    0.081068\n",
       "2000-01-31   -0.057153\n",
       "2000-02-29    0.002822\n",
       "2000-03-31    0.069243\n",
       "2000-04-30   -0.042168\n",
       "                ...   \n",
       "2022-05-31    0.001526\n",
       "2022-06-30   -0.086264\n",
       "2022-07-31    0.079682\n",
       "2022-08-31   -0.041416\n",
       "2022-09-30   -0.092550\n",
       "Name: MSCI/Benchmark, Length: 274, dtype: float64"
      ]
     },
     "execution_count": 25,
     "metadata": {},
     "output_type": "execute_result"
    }
   ],
   "source": [
    "ret_data.iloc[:,-1]"
   ]
  },
  {
   "cell_type": "code",
   "execution_count": 26,
   "id": "26e41e37-d894-4d2a-b997-5be72214fcf3",
   "metadata": {},
   "outputs": [],
   "source": [
    "#isolate benchmark only looking at styles, thus create new variable called styleret\n",
    "#and bind variable called a slice of data frame\n",
    "#All rows and columns excpet for the last one\n",
    "#same for benchmark"
   ]
  },
  {
   "cell_type": "code",
   "execution_count": 36,
   "id": "c4731127-9d68-42fb-877d-8bdca62c821e",
   "metadata": {},
   "outputs": [],
   "source": [
    "style_ret=ret_data.iloc[:,:-1]\n",
    "bnch=ret_data.iloc[:,-1]"
   ]
  },
  {
   "cell_type": "code",
   "execution_count": 33,
   "id": "13b7552a-8f54-4867-b771-aca7f15adb73",
   "metadata": {},
   "outputs": [],
   "source": [
    "#Only see top or ten rows say head for top or tail for bottom"
   ]
  },
  {
   "cell_type": "code",
   "execution_count": 34,
   "id": "7d5b5392-90a4-4ad0-841d-971f0dcc88d4",
   "metadata": {},
   "outputs": [
    {
     "data": {
      "text/html": [
       "<div>\n",
       "<style scoped>\n",
       "    .dataframe tbody tr th:only-of-type {\n",
       "        vertical-align: middle;\n",
       "    }\n",
       "\n",
       "    .dataframe tbody tr th {\n",
       "        vertical-align: top;\n",
       "    }\n",
       "\n",
       "    .dataframe thead th {\n",
       "        text-align: right;\n",
       "    }\n",
       "</style>\n",
       "<table border=\"1\" class=\"dataframe\">\n",
       "  <thead>\n",
       "    <tr style=\"text-align: right;\">\n",
       "      <th></th>\n",
       "      <th>Growth</th>\n",
       "      <th>DY</th>\n",
       "      <th>Big</th>\n",
       "      <th>Med</th>\n",
       "      <th>Low Vol</th>\n",
       "      <th>Momentum</th>\n",
       "      <th>Quality</th>\n",
       "      <th>Small</th>\n",
       "      <th>Value</th>\n",
       "    </tr>\n",
       "  </thead>\n",
       "  <tbody>\n",
       "    <tr>\n",
       "      <th>2021-12-31</th>\n",
       "      <td>0.020802</td>\n",
       "      <td>0.076778</td>\n",
       "      <td>0.043533</td>\n",
       "      <td>0.040508</td>\n",
       "      <td>0.058619</td>\n",
       "      <td>0.014887</td>\n",
       "      <td>0.038840</td>\n",
       "      <td>0.037420</td>\n",
       "      <td>0.066294</td>\n",
       "    </tr>\n",
       "    <tr>\n",
       "      <th>2022-01-31</th>\n",
       "      <td>-0.093045</td>\n",
       "      <td>-0.006521</td>\n",
       "      <td>-0.048893</td>\n",
       "      <td>-0.072730</td>\n",
       "      <td>-0.055058</td>\n",
       "      <td>-0.077199</td>\n",
       "      <td>-0.080082</td>\n",
       "      <td>-0.075451</td>\n",
       "      <td>-0.012248</td>\n",
       "    </tr>\n",
       "    <tr>\n",
       "      <th>2022-02-28</th>\n",
       "      <td>-0.034868</td>\n",
       "      <td>-0.012687</td>\n",
       "      <td>-0.028156</td>\n",
       "      <td>-0.007833</td>\n",
       "      <td>-0.017290</td>\n",
       "      <td>-0.021323</td>\n",
       "      <td>-0.037716</td>\n",
       "      <td>0.002399</td>\n",
       "      <td>-0.015843</td>\n",
       "    </tr>\n",
       "    <tr>\n",
       "      <th>2022-03-31</th>\n",
       "      <td>0.032745</td>\n",
       "      <td>0.024181</td>\n",
       "      <td>0.030735</td>\n",
       "      <td>0.013907</td>\n",
       "      <td>0.046655</td>\n",
       "      <td>0.044915</td>\n",
       "      <td>0.034674</td>\n",
       "      <td>0.009898</td>\n",
       "      <td>0.023792</td>\n",
       "    </tr>\n",
       "    <tr>\n",
       "      <th>2022-04-30</th>\n",
       "      <td>-0.118982</td>\n",
       "      <td>-0.032884</td>\n",
       "      <td>-0.083882</td>\n",
       "      <td>-0.076143</td>\n",
       "      <td>-0.048138</td>\n",
       "      <td>-0.113079</td>\n",
       "      <td>-0.088357</td>\n",
       "      <td>-0.077682</td>\n",
       "      <td>-0.049225</td>\n",
       "    </tr>\n",
       "    <tr>\n",
       "      <th>2022-05-31</th>\n",
       "      <td>-0.022239</td>\n",
       "      <td>0.011842</td>\n",
       "      <td>0.001871</td>\n",
       "      <td>-0.000320</td>\n",
       "      <td>-0.006698</td>\n",
       "      <td>-0.000824</td>\n",
       "      <td>-0.010048</td>\n",
       "      <td>-0.001433</td>\n",
       "      <td>0.021822</td>\n",
       "    </tr>\n",
       "    <tr>\n",
       "      <th>2022-06-30</th>\n",
       "      <td>-0.084565</td>\n",
       "      <td>-0.064765</td>\n",
       "      <td>-0.083817</td>\n",
       "      <td>-0.099361</td>\n",
       "      <td>-0.043204</td>\n",
       "      <td>-0.074508</td>\n",
       "      <td>-0.078087</td>\n",
       "      <td>-0.099359</td>\n",
       "      <td>-0.087850</td>\n",
       "    </tr>\n",
       "    <tr>\n",
       "      <th>2022-07-31</th>\n",
       "      <td>0.115435</td>\n",
       "      <td>0.026477</td>\n",
       "      <td>0.079259</td>\n",
       "      <td>0.081991</td>\n",
       "      <td>0.036132</td>\n",
       "      <td>0.044136</td>\n",
       "      <td>0.085214</td>\n",
       "      <td>0.091345</td>\n",
       "      <td>0.046159</td>\n",
       "    </tr>\n",
       "    <tr>\n",
       "      <th>2022-08-31</th>\n",
       "      <td>-0.052612</td>\n",
       "      <td>-0.039677</td>\n",
       "      <td>-0.042711</td>\n",
       "      <td>-0.034367</td>\n",
       "      <td>-0.029204</td>\n",
       "      <td>-0.025037</td>\n",
       "      <td>-0.058231</td>\n",
       "      <td>-0.032233</td>\n",
       "      <td>-0.030202</td>\n",
       "    </tr>\n",
       "    <tr>\n",
       "      <th>2022-09-30</th>\n",
       "      <td>-0.101075</td>\n",
       "      <td>-0.075061</td>\n",
       "      <td>-0.090761</td>\n",
       "      <td>-0.102090</td>\n",
       "      <td>-0.068314</td>\n",
       "      <td>-0.072724</td>\n",
       "      <td>-0.090592</td>\n",
       "      <td>-0.102130</td>\n",
       "      <td>-0.084174</td>\n",
       "    </tr>\n",
       "  </tbody>\n",
       "</table>\n",
       "</div>"
      ],
      "text/plain": [
       "              Growth        DY       Big       Med   Low Vol  Momentum  \\\n",
       "2021-12-31  0.020802  0.076778  0.043533  0.040508  0.058619  0.014887   \n",
       "2022-01-31 -0.093045 -0.006521 -0.048893 -0.072730 -0.055058 -0.077199   \n",
       "2022-02-28 -0.034868 -0.012687 -0.028156 -0.007833 -0.017290 -0.021323   \n",
       "2022-03-31  0.032745  0.024181  0.030735  0.013907  0.046655  0.044915   \n",
       "2022-04-30 -0.118982 -0.032884 -0.083882 -0.076143 -0.048138 -0.113079   \n",
       "2022-05-31 -0.022239  0.011842  0.001871 -0.000320 -0.006698 -0.000824   \n",
       "2022-06-30 -0.084565 -0.064765 -0.083817 -0.099361 -0.043204 -0.074508   \n",
       "2022-07-31  0.115435  0.026477  0.079259  0.081991  0.036132  0.044136   \n",
       "2022-08-31 -0.052612 -0.039677 -0.042711 -0.034367 -0.029204 -0.025037   \n",
       "2022-09-30 -0.101075 -0.075061 -0.090761 -0.102090 -0.068314 -0.072724   \n",
       "\n",
       "             Quality     Small     Value  \n",
       "2021-12-31  0.038840  0.037420  0.066294  \n",
       "2022-01-31 -0.080082 -0.075451 -0.012248  \n",
       "2022-02-28 -0.037716  0.002399 -0.015843  \n",
       "2022-03-31  0.034674  0.009898  0.023792  \n",
       "2022-04-30 -0.088357 -0.077682 -0.049225  \n",
       "2022-05-31 -0.010048 -0.001433  0.021822  \n",
       "2022-06-30 -0.078087 -0.099359 -0.087850  \n",
       "2022-07-31  0.085214  0.091345  0.046159  \n",
       "2022-08-31 -0.058231 -0.032233 -0.030202  \n",
       "2022-09-30 -0.090592 -0.102130 -0.084174  "
      ]
     },
     "execution_count": 34,
     "metadata": {},
     "output_type": "execute_result"
    }
   ],
   "source": [
    "style_ret.tail(10)"
   ]
  },
  {
   "cell_type": "code",
   "execution_count": null,
   "id": "763405f8-03f1-46e4-a806-e124c471f883",
   "metadata": {},
   "outputs": [],
   "source": [
    "#If you want benchmark"
   ]
  },
  {
   "cell_type": "code",
   "execution_count": 37,
   "id": "f2f4b81f-901c-463a-9a6a-96374deef7e6",
   "metadata": {},
   "outputs": [
    {
     "data": {
      "text/plain": [
       "1999-12-31    0.081068\n",
       "2000-01-31   -0.057153\n",
       "2000-02-29    0.002822\n",
       "2000-03-31    0.069243\n",
       "2000-04-30   -0.042168\n",
       "                ...   \n",
       "2022-05-31    0.001526\n",
       "2022-06-30   -0.086264\n",
       "2022-07-31    0.079682\n",
       "2022-08-31   -0.041416\n",
       "2022-09-30   -0.092550\n",
       "Name: MSCI/Benchmark, Length: 274, dtype: float64"
      ]
     },
     "execution_count": 37,
     "metadata": {},
     "output_type": "execute_result"
    }
   ],
   "source": [
    "bnch"
   ]
  },
  {
   "cell_type": "code",
   "execution_count": null,
   "id": "1987868c-67b1-4798-a063-37eedca7976f",
   "metadata": {},
   "outputs": [],
   "source": [
    "#Calculating average of the styles\n",
    "#Mean 0, down the columns\n",
    "#Mean 1, across the row, thus each row calculate a return"
   ]
  },
  {
   "cell_type": "code",
   "execution_count": 38,
   "id": "003c0885-a38d-4072-93e0-e7ba918e073f",
   "metadata": {},
   "outputs": [
    {
     "data": {
      "text/plain": [
       "Growth      0.005079\n",
       "DY          0.005760\n",
       "Big         0.004820\n",
       "Med         0.006450\n",
       "Low Vol     0.005903\n",
       "Momentum    0.006822\n",
       "Quality     0.006415\n",
       "Small       0.007903\n",
       "Value       0.005138\n",
       "dtype: float64"
      ]
     },
     "execution_count": 38,
     "metadata": {},
     "output_type": "execute_result"
    }
   ],
   "source": [
    "style_ret.mean()"
   ]
  },
  {
   "cell_type": "code",
   "execution_count": 39,
   "id": "79c6cbd3-6d12-497a-aa7f-710d78214775",
   "metadata": {},
   "outputs": [
    {
     "data": {
      "text/plain": [
       "1999-12-31    0.081436\n",
       "2000-01-31   -0.051111\n",
       "2000-02-29    0.027858\n",
       "2000-03-31    0.046848\n",
       "2000-04-30   -0.047073\n",
       "                ...   \n",
       "2022-05-31   -0.000670\n",
       "2022-06-30   -0.079502\n",
       "2022-07-31    0.067350\n",
       "2022-08-31   -0.038253\n",
       "2022-09-30   -0.087436\n",
       "Length: 274, dtype: float64"
      ]
     },
     "execution_count": 39,
     "metadata": {},
     "output_type": "execute_result"
    }
   ],
   "source": [
    "style_ret.mean(1)"
   ]
  },
  {
   "cell_type": "code",
   "execution_count": 42,
   "id": "a8d20803-086d-4d81-8a38-7b02e72063be",
   "metadata": {},
   "outputs": [],
   "source": [
    "#Above average returns for the styles\n",
    "#Applicable to std dev and sum"
   ]
  },
  {
   "cell_type": "code",
   "execution_count": 45,
   "id": "b0f29840-bec0-4b4d-9234-f2983dc08d25",
   "metadata": {},
   "outputs": [],
   "source": [
    "#The following bascic portfolio mathematics\n",
    "#Assumging equal weights for styles"
   ]
  },
  {
   "cell_type": "code",
   "execution_count": 46,
   "id": "17264c51-dea4-43a9-b0b6-ecc3f3f41d87",
   "metadata": {},
   "outputs": [
    {
     "data": {
      "text/plain": [
       "array([1., 1., 1., 1., 1., 1., 1., 1., 1.])"
      ]
     },
     "execution_count": 46,
     "metadata": {},
     "output_type": "execute_result"
    }
   ],
   "source": [
    "np.ones(9)"
   ]
  },
  {
   "cell_type": "code",
   "execution_count": 47,
   "id": "7a49e3fe-38dd-4e38-843a-a3455013f560",
   "metadata": {},
   "outputs": [
    {
     "data": {
      "text/plain": [
       "array([0.11111111, 0.11111111, 0.11111111, 0.11111111, 0.11111111,\n",
       "       0.11111111, 0.11111111, 0.11111111, 0.11111111])"
      ]
     },
     "execution_count": 47,
     "metadata": {},
     "output_type": "execute_result"
    }
   ],
   "source": [
    "np.ones(9)/9"
   ]
  },
  {
   "cell_type": "code",
   "execution_count": 48,
   "id": "3cd3035a-677d-4346-9f89-ac4ed42a88c0",
   "metadata": {},
   "outputs": [],
   "source": [
    "#A weighting of 11.1% in each one"
   ]
  },
  {
   "cell_type": "code",
   "execution_count": 49,
   "id": "dd28f332-c84e-49a9-b9b2-fad14c259af6",
   "metadata": {},
   "outputs": [],
   "source": [
    "#Thus equal weight"
   ]
  },
  {
   "cell_type": "code",
   "execution_count": 50,
   "id": "ae3ded5e-a70e-4805-a431-1ca8ee19975a",
   "metadata": {},
   "outputs": [],
   "source": [
    "ew=np.ones(9)/9"
   ]
  },
  {
   "cell_type": "code",
   "execution_count": 51,
   "id": "4d5146d3-adb9-4a3f-ac4c-9d28c09a4bbd",
   "metadata": {},
   "outputs": [
    {
     "data": {
      "text/plain": [
       "(274, 9)"
      ]
     },
     "execution_count": 51,
     "metadata": {},
     "output_type": "execute_result"
    }
   ],
   "source": [
    "style_ret.shape"
   ]
  },
  {
   "cell_type": "code",
   "execution_count": null,
   "id": "365bd7ea-34a3-438f-958b-aa6baf9305f3",
   "metadata": {},
   "outputs": [],
   "source": [
    "#274 returns/rows and 9 columns"
   ]
  },
  {
   "cell_type": "code",
   "execution_count": 52,
   "id": "f3c4ddd2-4298-4ca8-9e02-4afe7152e2a7",
   "metadata": {},
   "outputs": [
    {
     "data": {
      "text/plain": [
       "274"
      ]
     },
     "execution_count": 52,
     "metadata": {},
     "output_type": "execute_result"
    }
   ],
   "source": [
    "style_ret.shape [0]"
   ]
  },
  {
   "cell_type": "code",
   "execution_count": 53,
   "id": "cedef13b-b629-4b98-b1c5-194e62b79e2d",
   "metadata": {},
   "outputs": [
    {
     "data": {
      "text/plain": [
       "9"
      ]
     },
     "execution_count": 53,
     "metadata": {},
     "output_type": "execute_result"
    }
   ],
   "source": [
    "style_ret.shape [1]"
   ]
  },
  {
   "cell_type": "code",
   "execution_count": null,
   "id": "ea80d572-01cd-40eb-a5d7-bf80610d0e7d",
   "metadata": {},
   "outputs": [],
   "source": [
    "# Or use Length, as len"
   ]
  },
  {
   "cell_type": "code",
   "execution_count": 54,
   "id": "bde0d8ce-4b77-41af-914d-f3e3e539c18d",
   "metadata": {},
   "outputs": [
    {
     "data": {
      "text/plain": [
       "274"
      ]
     },
     "execution_count": 54,
     "metadata": {},
     "output_type": "execute_result"
    }
   ],
   "source": [
    "len(style_ret)"
   ]
  },
  {
   "cell_type": "code",
   "execution_count": null,
   "id": "b3c7e3f9-686c-4cec-bc56-4109f0c483d4",
   "metadata": {},
   "outputs": [],
   "source": [
    "# Or use"
   ]
  },
  {
   "cell_type": "code",
   "execution_count": 55,
   "id": "4d986caf-6784-4a30-a6c8-e4a89ec48641",
   "metadata": {},
   "outputs": [],
   "source": [
    "ew=np.ones(style_ret.shape[1])/style_ret.shape[1]"
   ]
  },
  {
   "cell_type": "code",
   "execution_count": 56,
   "id": "18366c13-5061-49ac-babe-f9d10b8ffac2",
   "metadata": {},
   "outputs": [
    {
     "data": {
      "text/plain": [
       "array([0.11111111, 0.11111111, 0.11111111, 0.11111111, 0.11111111,\n",
       "       0.11111111, 0.11111111, 0.11111111, 0.11111111])"
      ]
     },
     "execution_count": 56,
     "metadata": {},
     "output_type": "execute_result"
    }
   ],
   "source": [
    "ew"
   ]
  },
  {
   "cell_type": "code",
   "execution_count": 57,
   "id": "44d7ae95-9008-4e48-8965-1fd61e98f1fb",
   "metadata": {},
   "outputs": [],
   "source": [
    "style_mean=style_ret.mean()"
   ]
  },
  {
   "cell_type": "code",
   "execution_count": 59,
   "id": "18e7fe6c-44f7-4e3c-895f-899c009a927e",
   "metadata": {},
   "outputs": [],
   "source": [
    "style_var=style_ret.var()\n",
    "style_sd=style_ret.std()\n",
    "style_cov=style_ret.cov()\n",
    "style_cor=style_ret.corr()"
   ]
  },
  {
   "cell_type": "code",
   "execution_count": 60,
   "id": "0d099a90-f183-4426-9530-77b6e4ed5aca",
   "metadata": {},
   "outputs": [
    {
     "data": {
      "text/plain": [
       "Growth      0.005079\n",
       "DY          0.005760\n",
       "Big         0.004820\n",
       "Med         0.006450\n",
       "Low Vol     0.005903\n",
       "Momentum    0.006822\n",
       "Quality     0.006415\n",
       "Small       0.007903\n",
       "Value       0.005138\n",
       "dtype: float64"
      ]
     },
     "execution_count": 60,
     "metadata": {},
     "output_type": "execute_result"
    }
   ],
   "source": [
    "style_mean"
   ]
  },
  {
   "cell_type": "code",
   "execution_count": 61,
   "id": "7de9ffe1-73b4-4fb1-927c-1eacd634eee1",
   "metadata": {},
   "outputs": [
    {
     "data": {
      "text/plain": [
       "Growth      0.002311\n",
       "DY          0.001863\n",
       "Big         0.002032\n",
       "Med         0.002502\n",
       "Low Vol     0.001049\n",
       "Momentum    0.002089\n",
       "Quality     0.001749\n",
       "Small       0.002811\n",
       "Value       0.002107\n",
       "dtype: float64"
      ]
     },
     "execution_count": 61,
     "metadata": {},
     "output_type": "execute_result"
    }
   ],
   "source": [
    "style_var"
   ]
  },
  {
   "cell_type": "code",
   "execution_count": 62,
   "id": "f270938b-aecf-4a50-a062-d5c287ba70f4",
   "metadata": {},
   "outputs": [
    {
     "data": {
      "text/plain": [
       "Growth      0.048070\n",
       "DY          0.043161\n",
       "Big         0.045079\n",
       "Med         0.050025\n",
       "Low Vol     0.032394\n",
       "Momentum    0.045709\n",
       "Quality     0.041821\n",
       "Small       0.053016\n",
       "Value       0.045907\n",
       "dtype: float64"
      ]
     },
     "execution_count": 62,
     "metadata": {},
     "output_type": "execute_result"
    }
   ],
   "source": [
    "style_sd"
   ]
  },
  {
   "cell_type": "code",
   "execution_count": 63,
   "id": "ff14074e-d66c-4962-8ecb-37054c9f0f41",
   "metadata": {},
   "outputs": [
    {
     "data": {
      "text/html": [
       "<div>\n",
       "<style scoped>\n",
       "    .dataframe tbody tr th:only-of-type {\n",
       "        vertical-align: middle;\n",
       "    }\n",
       "\n",
       "    .dataframe tbody tr th {\n",
       "        vertical-align: top;\n",
       "    }\n",
       "\n",
       "    .dataframe thead th {\n",
       "        text-align: right;\n",
       "    }\n",
       "</style>\n",
       "<table border=\"1\" class=\"dataframe\">\n",
       "  <thead>\n",
       "    <tr style=\"text-align: right;\">\n",
       "      <th></th>\n",
       "      <th>Growth</th>\n",
       "      <th>DY</th>\n",
       "      <th>Big</th>\n",
       "      <th>Med</th>\n",
       "      <th>Low Vol</th>\n",
       "      <th>Momentum</th>\n",
       "      <th>Quality</th>\n",
       "      <th>Small</th>\n",
       "      <th>Value</th>\n",
       "    </tr>\n",
       "  </thead>\n",
       "  <tbody>\n",
       "    <tr>\n",
       "      <th>Growth</th>\n",
       "      <td>0.002311</td>\n",
       "      <td>0.001736</td>\n",
       "      <td>0.002107</td>\n",
       "      <td>0.002260</td>\n",
       "      <td>0.001318</td>\n",
       "      <td>0.001982</td>\n",
       "      <td>0.001954</td>\n",
       "      <td>0.002268</td>\n",
       "      <td>0.001932</td>\n",
       "    </tr>\n",
       "    <tr>\n",
       "      <th>DY</th>\n",
       "      <td>0.001736</td>\n",
       "      <td>0.001863</td>\n",
       "      <td>0.001795</td>\n",
       "      <td>0.001900</td>\n",
       "      <td>0.001292</td>\n",
       "      <td>0.001516</td>\n",
       "      <td>0.001573</td>\n",
       "      <td>0.001901</td>\n",
       "      <td>0.001910</td>\n",
       "    </tr>\n",
       "    <tr>\n",
       "      <th>Big</th>\n",
       "      <td>0.002107</td>\n",
       "      <td>0.001795</td>\n",
       "      <td>0.002032</td>\n",
       "      <td>0.002164</td>\n",
       "      <td>0.001300</td>\n",
       "      <td>0.001807</td>\n",
       "      <td>0.001823</td>\n",
       "      <td>0.002177</td>\n",
       "      <td>0.001987</td>\n",
       "    </tr>\n",
       "    <tr>\n",
       "      <th>Med</th>\n",
       "      <td>0.002260</td>\n",
       "      <td>0.001900</td>\n",
       "      <td>0.002164</td>\n",
       "      <td>0.002502</td>\n",
       "      <td>0.001389</td>\n",
       "      <td>0.002010</td>\n",
       "      <td>0.001903</td>\n",
       "      <td>0.002593</td>\n",
       "      <td>0.002132</td>\n",
       "    </tr>\n",
       "    <tr>\n",
       "      <th>Low Vol</th>\n",
       "      <td>0.001318</td>\n",
       "      <td>0.001292</td>\n",
       "      <td>0.001300</td>\n",
       "      <td>0.001389</td>\n",
       "      <td>0.001049</td>\n",
       "      <td>0.001199</td>\n",
       "      <td>0.001185</td>\n",
       "      <td>0.001376</td>\n",
       "      <td>0.001323</td>\n",
       "    </tr>\n",
       "    <tr>\n",
       "      <th>Momentum</th>\n",
       "      <td>0.001982</td>\n",
       "      <td>0.001516</td>\n",
       "      <td>0.001807</td>\n",
       "      <td>0.002010</td>\n",
       "      <td>0.001199</td>\n",
       "      <td>0.002089</td>\n",
       "      <td>0.001669</td>\n",
       "      <td>0.002041</td>\n",
       "      <td>0.001659</td>\n",
       "    </tr>\n",
       "    <tr>\n",
       "      <th>Quality</th>\n",
       "      <td>0.001954</td>\n",
       "      <td>0.001573</td>\n",
       "      <td>0.001823</td>\n",
       "      <td>0.001903</td>\n",
       "      <td>0.001185</td>\n",
       "      <td>0.001669</td>\n",
       "      <td>0.001749</td>\n",
       "      <td>0.001887</td>\n",
       "      <td>0.001716</td>\n",
       "    </tr>\n",
       "    <tr>\n",
       "      <th>Small</th>\n",
       "      <td>0.002268</td>\n",
       "      <td>0.001901</td>\n",
       "      <td>0.002177</td>\n",
       "      <td>0.002593</td>\n",
       "      <td>0.001376</td>\n",
       "      <td>0.002041</td>\n",
       "      <td>0.001887</td>\n",
       "      <td>0.002811</td>\n",
       "      <td>0.002166</td>\n",
       "    </tr>\n",
       "    <tr>\n",
       "      <th>Value</th>\n",
       "      <td>0.001932</td>\n",
       "      <td>0.001910</td>\n",
       "      <td>0.001987</td>\n",
       "      <td>0.002132</td>\n",
       "      <td>0.001323</td>\n",
       "      <td>0.001659</td>\n",
       "      <td>0.001716</td>\n",
       "      <td>0.002166</td>\n",
       "      <td>0.002107</td>\n",
       "    </tr>\n",
       "  </tbody>\n",
       "</table>\n",
       "</div>"
      ],
      "text/plain": [
       "            Growth        DY       Big       Med   Low Vol  Momentum  \\\n",
       "Growth    0.002311  0.001736  0.002107  0.002260  0.001318  0.001982   \n",
       "DY        0.001736  0.001863  0.001795  0.001900  0.001292  0.001516   \n",
       "Big       0.002107  0.001795  0.002032  0.002164  0.001300  0.001807   \n",
       "Med       0.002260  0.001900  0.002164  0.002502  0.001389  0.002010   \n",
       "Low Vol   0.001318  0.001292  0.001300  0.001389  0.001049  0.001199   \n",
       "Momentum  0.001982  0.001516  0.001807  0.002010  0.001199  0.002089   \n",
       "Quality   0.001954  0.001573  0.001823  0.001903  0.001185  0.001669   \n",
       "Small     0.002268  0.001901  0.002177  0.002593  0.001376  0.002041   \n",
       "Value     0.001932  0.001910  0.001987  0.002132  0.001323  0.001659   \n",
       "\n",
       "           Quality     Small     Value  \n",
       "Growth    0.001954  0.002268  0.001932  \n",
       "DY        0.001573  0.001901  0.001910  \n",
       "Big       0.001823  0.002177  0.001987  \n",
       "Med       0.001903  0.002593  0.002132  \n",
       "Low Vol   0.001185  0.001376  0.001323  \n",
       "Momentum  0.001669  0.002041  0.001659  \n",
       "Quality   0.001749  0.001887  0.001716  \n",
       "Small     0.001887  0.002811  0.002166  \n",
       "Value     0.001716  0.002166  0.002107  "
      ]
     },
     "execution_count": 63,
     "metadata": {},
     "output_type": "execute_result"
    }
   ],
   "source": [
    "style_cov"
   ]
  },
  {
   "cell_type": "code",
   "execution_count": null,
   "id": "2699611e-9935-46ba-b870-9365b1fab212",
   "metadata": {},
   "outputs": [],
   "source": [
    "#Above covaiance matrix and below in diagonal"
   ]
  },
  {
   "cell_type": "code",
   "execution_count": 64,
   "id": "425da052-f1af-4db3-b2c9-04d3520a5f67",
   "metadata": {},
   "outputs": [
    {
     "data": {
      "text/plain": [
       "array([0.00231069, 0.00186287, 0.00203209, 0.00250247, 0.0010494 ,\n",
       "       0.00208935, 0.00174903, 0.00281069, 0.00210741])"
      ]
     },
     "execution_count": 64,
     "metadata": {},
     "output_type": "execute_result"
    }
   ],
   "source": [
    "np.diag(style_cov)"
   ]
  },
  {
   "cell_type": "code",
   "execution_count": null,
   "id": "6f6b0ebc-4826-4961-87e7-6bfaf8c11d44",
   "metadata": {},
   "outputs": [],
   "source": [
    "#To check if diagonal is equal to style VAR"
   ]
  },
  {
   "cell_type": "code",
   "execution_count": 65,
   "id": "57e1a384-c6dd-40a2-b5bd-5af6a8f6d2d3",
   "metadata": {},
   "outputs": [
    {
     "data": {
      "text/plain": [
       "Growth      False\n",
       "DY           True\n",
       "Big         False\n",
       "Med         False\n",
       "Low Vol      True\n",
       "Momentum     True\n",
       "Quality      True\n",
       "Small        True\n",
       "Value        True\n",
       "dtype: bool"
      ]
     },
     "execution_count": 65,
     "metadata": {},
     "output_type": "execute_result"
    }
   ],
   "source": [
    "np.diag(style_cov)==style_var"
   ]
  },
  {
   "cell_type": "code",
   "execution_count": 66,
   "id": "d08f7459-f119-47fd-92e6-c8fc077be496",
   "metadata": {},
   "outputs": [
    {
     "data": {
      "text/plain": [
       "array([False,  True, False, False,  True,  True,  True,  True,  True])"
      ]
     },
     "execution_count": 66,
     "metadata": {},
     "output_type": "execute_result"
    }
   ],
   "source": [
    "np.diag(style_cov)==style_var.values"
   ]
  },
  {
   "cell_type": "code",
   "execution_count": 67,
   "id": "62f24828-3ea4-4315-be00-11dcbd22204f",
   "metadata": {},
   "outputs": [
    {
     "data": {
      "text/plain": [
       "Growth      0.002311\n",
       "DY          0.001863\n",
       "Big         0.002032\n",
       "Med         0.002502\n",
       "Low Vol     0.001049\n",
       "Momentum    0.002089\n",
       "Quality     0.001749\n",
       "Small       0.002811\n",
       "Value       0.002107\n",
       "dtype: float64"
      ]
     },
     "execution_count": 67,
     "metadata": {},
     "output_type": "execute_result"
    }
   ],
   "source": [
    "style_var"
   ]
  },
  {
   "cell_type": "code",
   "execution_count": 68,
   "id": "b0ae9658-8d28-469c-aa4b-22b89fa17e64",
   "metadata": {},
   "outputs": [
    {
     "data": {
      "text/plain": [
       "Growth      0.048070\n",
       "DY          0.043161\n",
       "Big         0.045079\n",
       "Med         0.050025\n",
       "Low Vol     0.032394\n",
       "Momentum    0.045709\n",
       "Quality     0.041821\n",
       "Small       0.053016\n",
       "Value       0.045907\n",
       "dtype: float64"
      ]
     },
     "execution_count": 68,
     "metadata": {},
     "output_type": "execute_result"
    }
   ],
   "source": [
    "np.sqrt(style_var)"
   ]
  },
  {
   "cell_type": "code",
   "execution_count": 73,
   "id": "2512e86a-9a4b-4952-8846-f4fd76e79321",
   "metadata": {},
   "outputs": [
    {
     "data": {
      "text/plain": [
       "Growth      True\n",
       "DY          True\n",
       "Big         True\n",
       "Med         True\n",
       "Low Vol     True\n",
       "Momentum    True\n",
       "Quality     True\n",
       "Small       True\n",
       "Value       True\n",
       "dtype: bool"
      ]
     },
     "execution_count": 73,
     "metadata": {},
     "output_type": "execute_result"
    }
   ],
   "source": [
    "np.sqrt(style_var)==style_sd"
   ]
  },
  {
   "cell_type": "code",
   "execution_count": 74,
   "id": "c0ae6b32-4d78-4fbd-b9c4-c56b51f343c1",
   "metadata": {},
   "outputs": [
    {
     "data": {
      "text/html": [
       "<div>\n",
       "<style scoped>\n",
       "    .dataframe tbody tr th:only-of-type {\n",
       "        vertical-align: middle;\n",
       "    }\n",
       "\n",
       "    .dataframe tbody tr th {\n",
       "        vertical-align: top;\n",
       "    }\n",
       "\n",
       "    .dataframe thead th {\n",
       "        text-align: right;\n",
       "    }\n",
       "</style>\n",
       "<table border=\"1\" class=\"dataframe\">\n",
       "  <thead>\n",
       "    <tr style=\"text-align: right;\">\n",
       "      <th></th>\n",
       "      <th>Growth</th>\n",
       "      <th>DY</th>\n",
       "      <th>Big</th>\n",
       "      <th>Med</th>\n",
       "      <th>Low Vol</th>\n",
       "      <th>Momentum</th>\n",
       "      <th>Quality</th>\n",
       "      <th>Small</th>\n",
       "      <th>Value</th>\n",
       "    </tr>\n",
       "  </thead>\n",
       "  <tbody>\n",
       "    <tr>\n",
       "      <th>Growth</th>\n",
       "      <td>1.000000</td>\n",
       "      <td>0.836612</td>\n",
       "      <td>0.972573</td>\n",
       "      <td>0.939804</td>\n",
       "      <td>0.846368</td>\n",
       "      <td>0.902074</td>\n",
       "      <td>0.971956</td>\n",
       "      <td>0.890108</td>\n",
       "      <td>0.875437</td>\n",
       "    </tr>\n",
       "    <tr>\n",
       "      <th>DY</th>\n",
       "      <td>0.836612</td>\n",
       "      <td>1.000000</td>\n",
       "      <td>0.922596</td>\n",
       "      <td>0.879934</td>\n",
       "      <td>0.924133</td>\n",
       "      <td>0.768182</td>\n",
       "      <td>0.871257</td>\n",
       "      <td>0.830784</td>\n",
       "      <td>0.963976</td>\n",
       "    </tr>\n",
       "    <tr>\n",
       "      <th>Big</th>\n",
       "      <td>0.972573</td>\n",
       "      <td>0.922596</td>\n",
       "      <td>1.000000</td>\n",
       "      <td>0.959442</td>\n",
       "      <td>0.889931</td>\n",
       "      <td>0.876753</td>\n",
       "      <td>0.966739</td>\n",
       "      <td>0.910781</td>\n",
       "      <td>0.959975</td>\n",
       "    </tr>\n",
       "    <tr>\n",
       "      <th>Med</th>\n",
       "      <td>0.939804</td>\n",
       "      <td>0.879934</td>\n",
       "      <td>0.959442</td>\n",
       "      <td>1.000000</td>\n",
       "      <td>0.856907</td>\n",
       "      <td>0.879132</td>\n",
       "      <td>0.909786</td>\n",
       "      <td>0.977554</td>\n",
       "      <td>0.928551</td>\n",
       "    </tr>\n",
       "    <tr>\n",
       "      <th>Low Vol</th>\n",
       "      <td>0.846368</td>\n",
       "      <td>0.924133</td>\n",
       "      <td>0.889931</td>\n",
       "      <td>0.856907</td>\n",
       "      <td>1.000000</td>\n",
       "      <td>0.809752</td>\n",
       "      <td>0.874410</td>\n",
       "      <td>0.801190</td>\n",
       "      <td>0.889623</td>\n",
       "    </tr>\n",
       "    <tr>\n",
       "      <th>Momentum</th>\n",
       "      <td>0.902074</td>\n",
       "      <td>0.768182</td>\n",
       "      <td>0.876753</td>\n",
       "      <td>0.879132</td>\n",
       "      <td>0.809752</td>\n",
       "      <td>1.000000</td>\n",
       "      <td>0.873031</td>\n",
       "      <td>0.842045</td>\n",
       "      <td>0.790585</td>\n",
       "    </tr>\n",
       "    <tr>\n",
       "      <th>Quality</th>\n",
       "      <td>0.971956</td>\n",
       "      <td>0.871257</td>\n",
       "      <td>0.966739</td>\n",
       "      <td>0.909786</td>\n",
       "      <td>0.874410</td>\n",
       "      <td>0.873031</td>\n",
       "      <td>1.000000</td>\n",
       "      <td>0.851112</td>\n",
       "      <td>0.893995</td>\n",
       "    </tr>\n",
       "    <tr>\n",
       "      <th>Small</th>\n",
       "      <td>0.890108</td>\n",
       "      <td>0.830784</td>\n",
       "      <td>0.910781</td>\n",
       "      <td>0.977554</td>\n",
       "      <td>0.801190</td>\n",
       "      <td>0.842045</td>\n",
       "      <td>0.851112</td>\n",
       "      <td>1.000000</td>\n",
       "      <td>0.890008</td>\n",
       "    </tr>\n",
       "    <tr>\n",
       "      <th>Value</th>\n",
       "      <td>0.875437</td>\n",
       "      <td>0.963976</td>\n",
       "      <td>0.959975</td>\n",
       "      <td>0.928551</td>\n",
       "      <td>0.889623</td>\n",
       "      <td>0.790585</td>\n",
       "      <td>0.893995</td>\n",
       "      <td>0.890008</td>\n",
       "      <td>1.000000</td>\n",
       "    </tr>\n",
       "  </tbody>\n",
       "</table>\n",
       "</div>"
      ],
      "text/plain": [
       "            Growth        DY       Big       Med   Low Vol  Momentum  \\\n",
       "Growth    1.000000  0.836612  0.972573  0.939804  0.846368  0.902074   \n",
       "DY        0.836612  1.000000  0.922596  0.879934  0.924133  0.768182   \n",
       "Big       0.972573  0.922596  1.000000  0.959442  0.889931  0.876753   \n",
       "Med       0.939804  0.879934  0.959442  1.000000  0.856907  0.879132   \n",
       "Low Vol   0.846368  0.924133  0.889931  0.856907  1.000000  0.809752   \n",
       "Momentum  0.902074  0.768182  0.876753  0.879132  0.809752  1.000000   \n",
       "Quality   0.971956  0.871257  0.966739  0.909786  0.874410  0.873031   \n",
       "Small     0.890108  0.830784  0.910781  0.977554  0.801190  0.842045   \n",
       "Value     0.875437  0.963976  0.959975  0.928551  0.889623  0.790585   \n",
       "\n",
       "           Quality     Small     Value  \n",
       "Growth    0.971956  0.890108  0.875437  \n",
       "DY        0.871257  0.830784  0.963976  \n",
       "Big       0.966739  0.910781  0.959975  \n",
       "Med       0.909786  0.977554  0.928551  \n",
       "Low Vol   0.874410  0.801190  0.889623  \n",
       "Momentum  0.873031  0.842045  0.790585  \n",
       "Quality   1.000000  0.851112  0.893995  \n",
       "Small     0.851112  1.000000  0.890008  \n",
       "Value     0.893995  0.890008  1.000000  "
      ]
     },
     "execution_count": 74,
     "metadata": {},
     "output_type": "execute_result"
    }
   ],
   "source": [
    "style_cor"
   ]
  },
  {
   "cell_type": "code",
   "execution_count": 75,
   "id": "2d6d08a6-4c09-4eee-85e4-cf343765560d",
   "metadata": {},
   "outputs": [],
   "source": [
    "#Doing different weights as an array"
   ]
  },
  {
   "cell_type": "code",
   "execution_count": 76,
   "id": "4c3310e0-3d0a-4e4b-8b22-3aabaa6901d6",
   "metadata": {},
   "outputs": [],
   "source": [
    "new_wghts=pd.Series([3,8,1,2,9,4,2,1,7],index=style_ret.columns)"
   ]
  },
  {
   "cell_type": "code",
   "execution_count": 77,
   "id": "87815685-ff26-4114-b468-972f50ddb0d6",
   "metadata": {},
   "outputs": [
    {
     "data": {
      "text/plain": [
       "Growth      3\n",
       "DY          8\n",
       "Big         1\n",
       "Med         2\n",
       "Low Vol     9\n",
       "Momentum    4\n",
       "Quality     2\n",
       "Small       1\n",
       "Value       7\n",
       "dtype: int64"
      ]
     },
     "execution_count": 77,
     "metadata": {},
     "output_type": "execute_result"
    }
   ],
   "source": [
    "new_wghts"
   ]
  },
  {
   "cell_type": "code",
   "execution_count": 78,
   "id": "a958610f-df57-40df-9fb5-ec25f2fc9c72",
   "metadata": {},
   "outputs": [],
   "source": [
    "#New Weights to sum to 1"
   ]
  },
  {
   "cell_type": "code",
   "execution_count": 80,
   "id": "92eb09c0-cceb-4eec-abf8-b26f310a11c4",
   "metadata": {},
   "outputs": [],
   "source": [
    "new_wghts/=new_wghts.sum()"
   ]
  },
  {
   "cell_type": "code",
   "execution_count": 81,
   "id": "1a15a6af-4e98-4a3d-8926-484b114fa161",
   "metadata": {},
   "outputs": [
    {
     "data": {
      "text/plain": [
       "Growth      0.081081\n",
       "DY          0.216216\n",
       "Big         0.027027\n",
       "Med         0.054054\n",
       "Low Vol     0.243243\n",
       "Momentum    0.108108\n",
       "Quality     0.054054\n",
       "Small       0.027027\n",
       "Value       0.189189\n",
       "dtype: float64"
      ]
     },
     "execution_count": 81,
     "metadata": {},
     "output_type": "execute_result"
    }
   ],
   "source": [
    "new_wghts"
   ]
  },
  {
   "cell_type": "code",
   "execution_count": 82,
   "id": "49346959-92b2-43c9-999e-64872a118697",
   "metadata": {},
   "outputs": [
    {
     "data": {
      "text/plain": [
       "1.0"
      ]
     },
     "execution_count": 82,
     "metadata": {},
     "output_type": "execute_result"
    }
   ],
   "source": [
    "new_wghts.sum()"
   ]
  },
  {
   "cell_type": "code",
   "execution_count": 83,
   "id": "b329e323-f76c-42c0-b067-d12ac3d2b00b",
   "metadata": {},
   "outputs": [],
   "source": [
    "#Returns for a portfolio of assets, then we need weights and returns\n",
    "#For variance for risk you need weights and covariance matrix"
   ]
  },
  {
   "cell_type": "code",
   "execution_count": 84,
   "id": "48870ad8-ddbf-47d7-9dc7-eecb7b1e708a",
   "metadata": {},
   "outputs": [],
   "source": [
    "#new weights being a nine row vector"
   ]
  },
  {
   "cell_type": "code",
   "execution_count": 85,
   "id": "53194d92-94e4-4623-874c-198978ec49f3",
   "metadata": {},
   "outputs": [
    {
     "data": {
      "text/plain": [
       "(9,)"
      ]
     },
     "execution_count": 85,
     "metadata": {},
     "output_type": "execute_result"
    }
   ],
   "source": [
    "new_wghts.shape"
   ]
  },
  {
   "cell_type": "code",
   "execution_count": null,
   "id": "4742f37a-5525-40bd-91ea-ee263a775b2c",
   "metadata": {},
   "outputs": [],
   "source": [
    "#style covariance is a 9 by 9"
   ]
  },
  {
   "cell_type": "code",
   "execution_count": 86,
   "id": "76968310-3fce-4f1b-b2bd-37c85c3f8126",
   "metadata": {},
   "outputs": [
    {
     "data": {
      "text/plain": [
       "(9, 9)"
      ]
     },
     "execution_count": 86,
     "metadata": {},
     "output_type": "execute_result"
    }
   ],
   "source": [
    "style_cov.shape"
   ]
  },
  {
   "cell_type": "code",
   "execution_count": null,
   "id": "d5973d36-ddeb-44c0-9201-0b712f6d6185",
   "metadata": {},
   "outputs": [],
   "source": [
    "#matrix multiplication takes row times by column"
   ]
  },
  {
   "cell_type": "code",
   "execution_count": null,
   "id": "67ab173e-9478-4ad2-8c5e-37aaf935c4a0",
   "metadata": {},
   "outputs": [],
   "source": [
    "#equal weights times my style mean"
   ]
  },
  {
   "cell_type": "code",
   "execution_count": 87,
   "id": "9a445a03-9dc7-4649-a17a-9fc1f509bc4e",
   "metadata": {},
   "outputs": [
    {
     "data": {
      "text/plain": [
       "Growth      0.000564\n",
       "DY          0.000640\n",
       "Big         0.000536\n",
       "Med         0.000717\n",
       "Low Vol     0.000656\n",
       "Momentum    0.000758\n",
       "Quality     0.000713\n",
       "Small       0.000878\n",
       "Value       0.000571\n",
       "dtype: float64"
      ]
     },
     "execution_count": 87,
     "metadata": {},
     "output_type": "execute_result"
    }
   ],
   "source": [
    "ew*style_mean"
   ]
  },
  {
   "cell_type": "code",
   "execution_count": 88,
   "id": "55b18b51-049f-494d-89c7-394e76edc39d",
   "metadata": {},
   "outputs": [],
   "source": [
    "#to get expected return on portfolio"
   ]
  },
  {
   "cell_type": "code",
   "execution_count": 89,
   "id": "dc4f924a-1334-42ef-8880-5dfef6b17881",
   "metadata": {},
   "outputs": [
    {
     "data": {
      "text/plain": [
       "0.006032199432278995"
      ]
     },
     "execution_count": 89,
     "metadata": {},
     "output_type": "execute_result"
    }
   ],
   "source": [
    "(ew*style_mean).sum()"
   ]
  },
  {
   "cell_type": "code",
   "execution_count": null,
   "id": "3d07123b-e444-4c56-87f0-48d9a1d15943",
   "metadata": {},
   "outputs": [],
   "source": [
    "#Matrix way of doing it, where T transposes it"
   ]
  },
  {
   "cell_type": "code",
   "execution_count": 90,
   "id": "b077167f-649f-4065-85c7-8d343738ee1f",
   "metadata": {},
   "outputs": [
    {
     "data": {
      "text/plain": [
       "array([0.11111111, 0.11111111, 0.11111111, 0.11111111, 0.11111111,\n",
       "       0.11111111, 0.11111111, 0.11111111, 0.11111111])"
      ]
     },
     "execution_count": 90,
     "metadata": {},
     "output_type": "execute_result"
    }
   ],
   "source": [
    "ew.T"
   ]
  },
  {
   "cell_type": "code",
   "execution_count": 91,
   "id": "363ff95a-b164-4031-877f-b856f8245585",
   "metadata": {},
   "outputs": [
    {
     "data": {
      "text/plain": [
       "0.006032199432278994"
      ]
     },
     "execution_count": 91,
     "metadata": {},
     "output_type": "execute_result"
    }
   ],
   "source": [
    "np.dot(ew.T,style_mean)"
   ]
  },
  {
   "cell_type": "code",
   "execution_count": null,
   "id": "cc77c83d-5b1f-41e1-9066-a00d4e89224c",
   "metadata": {},
   "outputs": [],
   "source": [
    "#Another way of doing it above and below, where dot product is denoted as at @"
   ]
  },
  {
   "cell_type": "code",
   "execution_count": 92,
   "id": "efc6b703-faa6-47c5-86da-e86d8c4b162f",
   "metadata": {},
   "outputs": [
    {
     "data": {
      "text/plain": [
       "0.006032199432278994"
      ]
     },
     "execution_count": 92,
     "metadata": {},
     "output_type": "execute_result"
    }
   ],
   "source": [
    "ew.T@style_mean"
   ]
  },
  {
   "cell_type": "code",
   "execution_count": 93,
   "id": "f58cc75e-e621-48e4-8be4-88980cf5df61",
   "metadata": {},
   "outputs": [],
   "source": [
    "#Multiply weights with style returns"
   ]
  },
  {
   "cell_type": "code",
   "execution_count": 94,
   "id": "028b8775-3c35-4cb0-9367-5631109e8009",
   "metadata": {},
   "outputs": [
    {
     "data": {
      "text/html": [
       "<div>\n",
       "<style scoped>\n",
       "    .dataframe tbody tr th:only-of-type {\n",
       "        vertical-align: middle;\n",
       "    }\n",
       "\n",
       "    .dataframe tbody tr th {\n",
       "        vertical-align: top;\n",
       "    }\n",
       "\n",
       "    .dataframe thead th {\n",
       "        text-align: right;\n",
       "    }\n",
       "</style>\n",
       "<table border=\"1\" class=\"dataframe\">\n",
       "  <thead>\n",
       "    <tr style=\"text-align: right;\">\n",
       "      <th></th>\n",
       "      <th>Growth</th>\n",
       "      <th>DY</th>\n",
       "      <th>Big</th>\n",
       "      <th>Med</th>\n",
       "      <th>Low Vol</th>\n",
       "      <th>Momentum</th>\n",
       "      <th>Quality</th>\n",
       "      <th>Small</th>\n",
       "      <th>Value</th>\n",
       "    </tr>\n",
       "  </thead>\n",
       "  <tbody>\n",
       "    <tr>\n",
       "      <th>1999-12-31</th>\n",
       "      <td>0.114528</td>\n",
       "      <td>0.028326</td>\n",
       "      <td>0.080825</td>\n",
       "      <td>0.093297</td>\n",
       "      <td>0.046006</td>\n",
       "      <td>0.181733</td>\n",
       "      <td>0.073756</td>\n",
       "      <td>0.070700</td>\n",
       "      <td>0.043750</td>\n",
       "    </tr>\n",
       "    <tr>\n",
       "      <th>2000-01-31</th>\n",
       "      <td>-0.062635</td>\n",
       "      <td>-0.075032</td>\n",
       "      <td>-0.056817</td>\n",
       "      <td>-0.035570</td>\n",
       "      <td>-0.049887</td>\n",
       "      <td>-0.062717</td>\n",
       "      <td>-0.058364</td>\n",
       "      <td>-0.007352</td>\n",
       "      <td>-0.051623</td>\n",
       "    </tr>\n",
       "    <tr>\n",
       "      <th>2000-02-29</th>\n",
       "      <td>0.034812</td>\n",
       "      <td>-0.038538</td>\n",
       "      <td>0.009509</td>\n",
       "      <td>0.096106</td>\n",
       "      <td>-0.031109</td>\n",
       "      <td>0.082821</td>\n",
       "      <td>0.010238</td>\n",
       "      <td>0.121294</td>\n",
       "      <td>-0.034412</td>\n",
       "    </tr>\n",
       "    <tr>\n",
       "      <th>2000-03-31</th>\n",
       "      <td>0.059648</td>\n",
       "      <td>0.079125</td>\n",
       "      <td>0.054559</td>\n",
       "      <td>0.007403</td>\n",
       "      <td>0.065179</td>\n",
       "      <td>0.036760</td>\n",
       "      <td>0.072823</td>\n",
       "      <td>-0.035602</td>\n",
       "      <td>0.081735</td>\n",
       "    </tr>\n",
       "    <tr>\n",
       "      <th>2000-04-30</th>\n",
       "      <td>-0.067054</td>\n",
       "      <td>-0.028712</td>\n",
       "      <td>-0.053913</td>\n",
       "      <td>-0.070233</td>\n",
       "      <td>-0.014138</td>\n",
       "      <td>-0.071582</td>\n",
       "      <td>-0.030626</td>\n",
       "      <td>-0.070706</td>\n",
       "      <td>-0.016697</td>\n",
       "    </tr>\n",
       "    <tr>\n",
       "      <th>...</th>\n",
       "      <td>...</td>\n",
       "      <td>...</td>\n",
       "      <td>...</td>\n",
       "      <td>...</td>\n",
       "      <td>...</td>\n",
       "      <td>...</td>\n",
       "      <td>...</td>\n",
       "      <td>...</td>\n",
       "      <td>...</td>\n",
       "    </tr>\n",
       "    <tr>\n",
       "      <th>2022-05-31</th>\n",
       "      <td>-0.022239</td>\n",
       "      <td>0.011842</td>\n",
       "      <td>0.001871</td>\n",
       "      <td>-0.000320</td>\n",
       "      <td>-0.006698</td>\n",
       "      <td>-0.000824</td>\n",
       "      <td>-0.010048</td>\n",
       "      <td>-0.001433</td>\n",
       "      <td>0.021822</td>\n",
       "    </tr>\n",
       "    <tr>\n",
       "      <th>2022-06-30</th>\n",
       "      <td>-0.084565</td>\n",
       "      <td>-0.064765</td>\n",
       "      <td>-0.083817</td>\n",
       "      <td>-0.099361</td>\n",
       "      <td>-0.043204</td>\n",
       "      <td>-0.074508</td>\n",
       "      <td>-0.078087</td>\n",
       "      <td>-0.099359</td>\n",
       "      <td>-0.087850</td>\n",
       "    </tr>\n",
       "    <tr>\n",
       "      <th>2022-07-31</th>\n",
       "      <td>0.115435</td>\n",
       "      <td>0.026477</td>\n",
       "      <td>0.079259</td>\n",
       "      <td>0.081991</td>\n",
       "      <td>0.036132</td>\n",
       "      <td>0.044136</td>\n",
       "      <td>0.085214</td>\n",
       "      <td>0.091345</td>\n",
       "      <td>0.046159</td>\n",
       "    </tr>\n",
       "    <tr>\n",
       "      <th>2022-08-31</th>\n",
       "      <td>-0.052612</td>\n",
       "      <td>-0.039677</td>\n",
       "      <td>-0.042711</td>\n",
       "      <td>-0.034367</td>\n",
       "      <td>-0.029204</td>\n",
       "      <td>-0.025037</td>\n",
       "      <td>-0.058231</td>\n",
       "      <td>-0.032233</td>\n",
       "      <td>-0.030202</td>\n",
       "    </tr>\n",
       "    <tr>\n",
       "      <th>2022-09-30</th>\n",
       "      <td>-0.101075</td>\n",
       "      <td>-0.075061</td>\n",
       "      <td>-0.090761</td>\n",
       "      <td>-0.102090</td>\n",
       "      <td>-0.068314</td>\n",
       "      <td>-0.072724</td>\n",
       "      <td>-0.090592</td>\n",
       "      <td>-0.102130</td>\n",
       "      <td>-0.084174</td>\n",
       "    </tr>\n",
       "  </tbody>\n",
       "</table>\n",
       "<p>274 rows × 9 columns</p>\n",
       "</div>"
      ],
      "text/plain": [
       "              Growth        DY       Big       Med   Low Vol  Momentum  \\\n",
       "1999-12-31  0.114528  0.028326  0.080825  0.093297  0.046006  0.181733   \n",
       "2000-01-31 -0.062635 -0.075032 -0.056817 -0.035570 -0.049887 -0.062717   \n",
       "2000-02-29  0.034812 -0.038538  0.009509  0.096106 -0.031109  0.082821   \n",
       "2000-03-31  0.059648  0.079125  0.054559  0.007403  0.065179  0.036760   \n",
       "2000-04-30 -0.067054 -0.028712 -0.053913 -0.070233 -0.014138 -0.071582   \n",
       "...              ...       ...       ...       ...       ...       ...   \n",
       "2022-05-31 -0.022239  0.011842  0.001871 -0.000320 -0.006698 -0.000824   \n",
       "2022-06-30 -0.084565 -0.064765 -0.083817 -0.099361 -0.043204 -0.074508   \n",
       "2022-07-31  0.115435  0.026477  0.079259  0.081991  0.036132  0.044136   \n",
       "2022-08-31 -0.052612 -0.039677 -0.042711 -0.034367 -0.029204 -0.025037   \n",
       "2022-09-30 -0.101075 -0.075061 -0.090761 -0.102090 -0.068314 -0.072724   \n",
       "\n",
       "             Quality     Small     Value  \n",
       "1999-12-31  0.073756  0.070700  0.043750  \n",
       "2000-01-31 -0.058364 -0.007352 -0.051623  \n",
       "2000-02-29  0.010238  0.121294 -0.034412  \n",
       "2000-03-31  0.072823 -0.035602  0.081735  \n",
       "2000-04-30 -0.030626 -0.070706 -0.016697  \n",
       "...              ...       ...       ...  \n",
       "2022-05-31 -0.010048 -0.001433  0.021822  \n",
       "2022-06-30 -0.078087 -0.099359 -0.087850  \n",
       "2022-07-31  0.085214  0.091345  0.046159  \n",
       "2022-08-31 -0.058231 -0.032233 -0.030202  \n",
       "2022-09-30 -0.090592 -0.102130 -0.084174  \n",
       "\n",
       "[274 rows x 9 columns]"
      ]
     },
     "execution_count": 94,
     "metadata": {},
     "output_type": "execute_result"
    }
   ],
   "source": [
    "style_ret"
   ]
  },
  {
   "cell_type": "code",
   "execution_count": 95,
   "id": "2810adc7-07b9-46e8-b106-6a7ffcc6a639",
   "metadata": {},
   "outputs": [],
   "source": [
    "#Returns multiply by efective weights (11% in each share)"
   ]
  },
  {
   "cell_type": "code",
   "execution_count": 96,
   "id": "be26519c-3bcc-4291-97d6-7af0cd91d0e8",
   "metadata": {},
   "outputs": [
    {
     "data": {
      "text/html": [
       "<div>\n",
       "<style scoped>\n",
       "    .dataframe tbody tr th:only-of-type {\n",
       "        vertical-align: middle;\n",
       "    }\n",
       "\n",
       "    .dataframe tbody tr th {\n",
       "        vertical-align: top;\n",
       "    }\n",
       "\n",
       "    .dataframe thead th {\n",
       "        text-align: right;\n",
       "    }\n",
       "</style>\n",
       "<table border=\"1\" class=\"dataframe\">\n",
       "  <thead>\n",
       "    <tr style=\"text-align: right;\">\n",
       "      <th></th>\n",
       "      <th>Growth</th>\n",
       "      <th>DY</th>\n",
       "      <th>Big</th>\n",
       "      <th>Med</th>\n",
       "      <th>Low Vol</th>\n",
       "      <th>Momentum</th>\n",
       "      <th>Quality</th>\n",
       "      <th>Small</th>\n",
       "      <th>Value</th>\n",
       "    </tr>\n",
       "  </thead>\n",
       "  <tbody>\n",
       "    <tr>\n",
       "      <th>1999-12-31</th>\n",
       "      <td>0.012725</td>\n",
       "      <td>0.003147</td>\n",
       "      <td>0.008981</td>\n",
       "      <td>0.010366</td>\n",
       "      <td>0.005112</td>\n",
       "      <td>0.020193</td>\n",
       "      <td>0.008195</td>\n",
       "      <td>0.007856</td>\n",
       "      <td>0.004861</td>\n",
       "    </tr>\n",
       "    <tr>\n",
       "      <th>2000-01-31</th>\n",
       "      <td>-0.006959</td>\n",
       "      <td>-0.008337</td>\n",
       "      <td>-0.006313</td>\n",
       "      <td>-0.003952</td>\n",
       "      <td>-0.005543</td>\n",
       "      <td>-0.006969</td>\n",
       "      <td>-0.006485</td>\n",
       "      <td>-0.000817</td>\n",
       "      <td>-0.005736</td>\n",
       "    </tr>\n",
       "    <tr>\n",
       "      <th>2000-02-29</th>\n",
       "      <td>0.003868</td>\n",
       "      <td>-0.004282</td>\n",
       "      <td>0.001057</td>\n",
       "      <td>0.010678</td>\n",
       "      <td>-0.003457</td>\n",
       "      <td>0.009202</td>\n",
       "      <td>0.001138</td>\n",
       "      <td>0.013477</td>\n",
       "      <td>-0.003824</td>\n",
       "    </tr>\n",
       "    <tr>\n",
       "      <th>2000-03-31</th>\n",
       "      <td>0.006628</td>\n",
       "      <td>0.008792</td>\n",
       "      <td>0.006062</td>\n",
       "      <td>0.000823</td>\n",
       "      <td>0.007242</td>\n",
       "      <td>0.004084</td>\n",
       "      <td>0.008091</td>\n",
       "      <td>-0.003956</td>\n",
       "      <td>0.009082</td>\n",
       "    </tr>\n",
       "    <tr>\n",
       "      <th>2000-04-30</th>\n",
       "      <td>-0.007450</td>\n",
       "      <td>-0.003190</td>\n",
       "      <td>-0.005990</td>\n",
       "      <td>-0.007804</td>\n",
       "      <td>-0.001571</td>\n",
       "      <td>-0.007954</td>\n",
       "      <td>-0.003403</td>\n",
       "      <td>-0.007856</td>\n",
       "      <td>-0.001855</td>\n",
       "    </tr>\n",
       "    <tr>\n",
       "      <th>...</th>\n",
       "      <td>...</td>\n",
       "      <td>...</td>\n",
       "      <td>...</td>\n",
       "      <td>...</td>\n",
       "      <td>...</td>\n",
       "      <td>...</td>\n",
       "      <td>...</td>\n",
       "      <td>...</td>\n",
       "      <td>...</td>\n",
       "    </tr>\n",
       "    <tr>\n",
       "      <th>2022-05-31</th>\n",
       "      <td>-0.002471</td>\n",
       "      <td>0.001316</td>\n",
       "      <td>0.000208</td>\n",
       "      <td>-0.000036</td>\n",
       "      <td>-0.000744</td>\n",
       "      <td>-0.000092</td>\n",
       "      <td>-0.001116</td>\n",
       "      <td>-0.000159</td>\n",
       "      <td>0.002425</td>\n",
       "    </tr>\n",
       "    <tr>\n",
       "      <th>2022-06-30</th>\n",
       "      <td>-0.009396</td>\n",
       "      <td>-0.007196</td>\n",
       "      <td>-0.009313</td>\n",
       "      <td>-0.011040</td>\n",
       "      <td>-0.004800</td>\n",
       "      <td>-0.008279</td>\n",
       "      <td>-0.008676</td>\n",
       "      <td>-0.011040</td>\n",
       "      <td>-0.009761</td>\n",
       "    </tr>\n",
       "    <tr>\n",
       "      <th>2022-07-31</th>\n",
       "      <td>0.012826</td>\n",
       "      <td>0.002942</td>\n",
       "      <td>0.008807</td>\n",
       "      <td>0.009110</td>\n",
       "      <td>0.004015</td>\n",
       "      <td>0.004904</td>\n",
       "      <td>0.009468</td>\n",
       "      <td>0.010149</td>\n",
       "      <td>0.005129</td>\n",
       "    </tr>\n",
       "    <tr>\n",
       "      <th>2022-08-31</th>\n",
       "      <td>-0.005846</td>\n",
       "      <td>-0.004409</td>\n",
       "      <td>-0.004746</td>\n",
       "      <td>-0.003819</td>\n",
       "      <td>-0.003245</td>\n",
       "      <td>-0.002782</td>\n",
       "      <td>-0.006470</td>\n",
       "      <td>-0.003581</td>\n",
       "      <td>-0.003356</td>\n",
       "    </tr>\n",
       "    <tr>\n",
       "      <th>2022-09-30</th>\n",
       "      <td>-0.011231</td>\n",
       "      <td>-0.008340</td>\n",
       "      <td>-0.010085</td>\n",
       "      <td>-0.011343</td>\n",
       "      <td>-0.007590</td>\n",
       "      <td>-0.008080</td>\n",
       "      <td>-0.010066</td>\n",
       "      <td>-0.011348</td>\n",
       "      <td>-0.009353</td>\n",
       "    </tr>\n",
       "  </tbody>\n",
       "</table>\n",
       "<p>274 rows × 9 columns</p>\n",
       "</div>"
      ],
      "text/plain": [
       "              Growth        DY       Big       Med   Low Vol  Momentum  \\\n",
       "1999-12-31  0.012725  0.003147  0.008981  0.010366  0.005112  0.020193   \n",
       "2000-01-31 -0.006959 -0.008337 -0.006313 -0.003952 -0.005543 -0.006969   \n",
       "2000-02-29  0.003868 -0.004282  0.001057  0.010678 -0.003457  0.009202   \n",
       "2000-03-31  0.006628  0.008792  0.006062  0.000823  0.007242  0.004084   \n",
       "2000-04-30 -0.007450 -0.003190 -0.005990 -0.007804 -0.001571 -0.007954   \n",
       "...              ...       ...       ...       ...       ...       ...   \n",
       "2022-05-31 -0.002471  0.001316  0.000208 -0.000036 -0.000744 -0.000092   \n",
       "2022-06-30 -0.009396 -0.007196 -0.009313 -0.011040 -0.004800 -0.008279   \n",
       "2022-07-31  0.012826  0.002942  0.008807  0.009110  0.004015  0.004904   \n",
       "2022-08-31 -0.005846 -0.004409 -0.004746 -0.003819 -0.003245 -0.002782   \n",
       "2022-09-30 -0.011231 -0.008340 -0.010085 -0.011343 -0.007590 -0.008080   \n",
       "\n",
       "             Quality     Small     Value  \n",
       "1999-12-31  0.008195  0.007856  0.004861  \n",
       "2000-01-31 -0.006485 -0.000817 -0.005736  \n",
       "2000-02-29  0.001138  0.013477 -0.003824  \n",
       "2000-03-31  0.008091 -0.003956  0.009082  \n",
       "2000-04-30 -0.003403 -0.007856 -0.001855  \n",
       "...              ...       ...       ...  \n",
       "2022-05-31 -0.001116 -0.000159  0.002425  \n",
       "2022-06-30 -0.008676 -0.011040 -0.009761  \n",
       "2022-07-31  0.009468  0.010149  0.005129  \n",
       "2022-08-31 -0.006470 -0.003581 -0.003356  \n",
       "2022-09-30 -0.010066 -0.011348 -0.009353  \n",
       "\n",
       "[274 rows x 9 columns]"
      ]
     },
     "execution_count": 96,
     "metadata": {},
     "output_type": "execute_result"
    }
   ],
   "source": [
    "style_ret*ew"
   ]
  },
  {
   "cell_type": "code",
   "execution_count": 97,
   "id": "96430bfa-f267-4a58-837d-e2e456ae7e8d",
   "metadata": {},
   "outputs": [
    {
     "data": {
      "text/plain": [
       "1999-12-31    0.081436\n",
       "2000-01-31   -0.051111\n",
       "2000-02-29    0.027858\n",
       "2000-03-31    0.046848\n",
       "2000-04-30   -0.047073\n",
       "                ...   \n",
       "2022-05-31   -0.000670\n",
       "2022-06-30   -0.079502\n",
       "2022-07-31    0.067350\n",
       "2022-08-31   -0.038253\n",
       "2022-09-30   -0.087436\n",
       "Length: 274, dtype: float64"
      ]
     },
     "execution_count": 97,
     "metadata": {},
     "output_type": "execute_result"
    }
   ],
   "source": [
    "(style_ret*ew).sum(1)"
   ]
  },
  {
   "cell_type": "code",
   "execution_count": 98,
   "id": "d537bc92-dee4-416f-a139-9b092704a524",
   "metadata": {},
   "outputs": [],
   "source": [
    "#Above is the average return for each month of the year assuming equal weight of 11%"
   ]
  },
  {
   "cell_type": "code",
   "execution_count": 99,
   "id": "257aa8dd-4e42-4152-94b0-2272edad7303",
   "metadata": {},
   "outputs": [
    {
     "data": {
      "text/plain": [
       "0.006032199432278994"
      ]
     },
     "execution_count": 99,
     "metadata": {},
     "output_type": "execute_result"
    }
   ],
   "source": [
    "(style_ret*ew).sum(1).mean()"
   ]
  },
  {
   "cell_type": "code",
   "execution_count": 100,
   "id": "8e82a78e-9e58-43e1-9a68-e5f904a32cd4",
   "metadata": {},
   "outputs": [],
   "source": [
    "#Above is the same number which is the expected return"
   ]
  },
  {
   "cell_type": "code",
   "execution_count": 102,
   "id": "20c7f8fb-3f90-4b04-b7b4-6f4b36f9c41a",
   "metadata": {},
   "outputs": [],
   "source": [
    "#How to calculate variance when you have more than two shares\n",
    "#x^TSx, meaning\n",
    "#To get variance of portfolio just using the weights , the covariance matrix"
   ]
  },
  {
   "cell_type": "code",
   "execution_count": 103,
   "id": "9f7a6c54-95f5-49a8-bdb2-5998cdf405a1",
   "metadata": {},
   "outputs": [],
   "source": [
    "#formula is x'Sx gives me the variance of portfolio\n",
    "#equal weight dot x transpose - 1 by 9 vector"
   ]
  },
  {
   "cell_type": "code",
   "execution_count": 104,
   "id": "419a7ca9-ba22-4137-8d2f-1e03b5936b48",
   "metadata": {},
   "outputs": [
    {
     "data": {
      "text/plain": [
       "array([0.00198534, 0.00172054, 0.00191001, 0.00209478, 0.00127003,\n",
       "       0.00177457, 0.00171762, 0.00213545, 0.00188139])"
      ]
     },
     "execution_count": 104,
     "metadata": {},
     "output_type": "execute_result"
    }
   ],
   "source": [
    "np.dot(ew.T,style_cov)"
   ]
  },
  {
   "cell_type": "code",
   "execution_count": 105,
   "id": "552941a7-75c1-4f6e-b3ce-f814c562aef1",
   "metadata": {},
   "outputs": [],
   "source": [
    "#To get variance"
   ]
  },
  {
   "cell_type": "code",
   "execution_count": 106,
   "id": "bb4c40c2-f955-40db-a7a0-d04f182e6213",
   "metadata": {},
   "outputs": [
    {
     "data": {
      "text/plain": [
       "0.0018321920544552089"
      ]
     },
     "execution_count": 106,
     "metadata": {},
     "output_type": "execute_result"
    }
   ],
   "source": [
    "np.dot(np.dot(ew.T,style_cov),ew)"
   ]
  },
  {
   "cell_type": "code",
   "execution_count": null,
   "id": "150d5a50-77b9-498c-84af-1cc41cfdabd9",
   "metadata": {},
   "outputs": [],
   "source": [
    "#or another way"
   ]
  },
  {
   "cell_type": "code",
   "execution_count": 107,
   "id": "3dc6a2fa-01be-46ff-b6b3-6f79ea7d4470",
   "metadata": {},
   "outputs": [
    {
     "data": {
      "text/plain": [
       "0.0018321920544552089"
      ]
     },
     "execution_count": 107,
     "metadata": {},
     "output_type": "execute_result"
    }
   ],
   "source": [
    "ew.T@style_cov@ew"
   ]
  },
  {
   "cell_type": "code",
   "execution_count": 108,
   "id": "acbc3d1e-8f47-4a6a-a1c3-5b57902597f9",
   "metadata": {},
   "outputs": [],
   "source": [
    "#How to know the above is our variance"
   ]
  },
  {
   "cell_type": "code",
   "execution_count": 109,
   "id": "f221249a-e2c1-4afc-b7da-4336b670919e",
   "metadata": {},
   "outputs": [
    {
     "data": {
      "text/plain": [
       "0.042804112588105465"
      ]
     },
     "execution_count": 109,
     "metadata": {},
     "output_type": "execute_result"
    }
   ],
   "source": [
    "np.sqrt(ew.T@style_cov@ew)"
   ]
  },
  {
   "cell_type": "code",
   "execution_count": null,
   "id": "184fc35e-5ece-45d9-8ea1-281867662879",
   "metadata": {},
   "outputs": [],
   "source": [
    "#Above number is std deviation"
   ]
  },
  {
   "cell_type": "code",
   "execution_count": 111,
   "id": "97c33ebc-6350-441e-8bd2-81efa1536eb5",
   "metadata": {},
   "outputs": [],
   "source": [
    "#How to check ourselves below"
   ]
  },
  {
   "cell_type": "code",
   "execution_count": 112,
   "id": "44ca425a-b99a-46cc-a8a8-9918bab53ce8",
   "metadata": {},
   "outputs": [
    {
     "data": {
      "text/html": [
       "<div>\n",
       "<style scoped>\n",
       "    .dataframe tbody tr th:only-of-type {\n",
       "        vertical-align: middle;\n",
       "    }\n",
       "\n",
       "    .dataframe tbody tr th {\n",
       "        vertical-align: top;\n",
       "    }\n",
       "\n",
       "    .dataframe thead th {\n",
       "        text-align: right;\n",
       "    }\n",
       "</style>\n",
       "<table border=\"1\" class=\"dataframe\">\n",
       "  <thead>\n",
       "    <tr style=\"text-align: right;\">\n",
       "      <th></th>\n",
       "      <th>Growth</th>\n",
       "      <th>DY</th>\n",
       "      <th>Big</th>\n",
       "      <th>Med</th>\n",
       "      <th>Low Vol</th>\n",
       "      <th>Momentum</th>\n",
       "      <th>Quality</th>\n",
       "      <th>Small</th>\n",
       "      <th>Value</th>\n",
       "    </tr>\n",
       "  </thead>\n",
       "  <tbody>\n",
       "    <tr>\n",
       "      <th>1999-12-31</th>\n",
       "      <td>0.012725</td>\n",
       "      <td>0.003147</td>\n",
       "      <td>0.008981</td>\n",
       "      <td>0.010366</td>\n",
       "      <td>0.005112</td>\n",
       "      <td>0.020193</td>\n",
       "      <td>0.008195</td>\n",
       "      <td>0.007856</td>\n",
       "      <td>0.004861</td>\n",
       "    </tr>\n",
       "    <tr>\n",
       "      <th>2000-01-31</th>\n",
       "      <td>-0.006959</td>\n",
       "      <td>-0.008337</td>\n",
       "      <td>-0.006313</td>\n",
       "      <td>-0.003952</td>\n",
       "      <td>-0.005543</td>\n",
       "      <td>-0.006969</td>\n",
       "      <td>-0.006485</td>\n",
       "      <td>-0.000817</td>\n",
       "      <td>-0.005736</td>\n",
       "    </tr>\n",
       "    <tr>\n",
       "      <th>2000-02-29</th>\n",
       "      <td>0.003868</td>\n",
       "      <td>-0.004282</td>\n",
       "      <td>0.001057</td>\n",
       "      <td>0.010678</td>\n",
       "      <td>-0.003457</td>\n",
       "      <td>0.009202</td>\n",
       "      <td>0.001138</td>\n",
       "      <td>0.013477</td>\n",
       "      <td>-0.003824</td>\n",
       "    </tr>\n",
       "    <tr>\n",
       "      <th>2000-03-31</th>\n",
       "      <td>0.006628</td>\n",
       "      <td>0.008792</td>\n",
       "      <td>0.006062</td>\n",
       "      <td>0.000823</td>\n",
       "      <td>0.007242</td>\n",
       "      <td>0.004084</td>\n",
       "      <td>0.008091</td>\n",
       "      <td>-0.003956</td>\n",
       "      <td>0.009082</td>\n",
       "    </tr>\n",
       "    <tr>\n",
       "      <th>2000-04-30</th>\n",
       "      <td>-0.007450</td>\n",
       "      <td>-0.003190</td>\n",
       "      <td>-0.005990</td>\n",
       "      <td>-0.007804</td>\n",
       "      <td>-0.001571</td>\n",
       "      <td>-0.007954</td>\n",
       "      <td>-0.003403</td>\n",
       "      <td>-0.007856</td>\n",
       "      <td>-0.001855</td>\n",
       "    </tr>\n",
       "    <tr>\n",
       "      <th>...</th>\n",
       "      <td>...</td>\n",
       "      <td>...</td>\n",
       "      <td>...</td>\n",
       "      <td>...</td>\n",
       "      <td>...</td>\n",
       "      <td>...</td>\n",
       "      <td>...</td>\n",
       "      <td>...</td>\n",
       "      <td>...</td>\n",
       "    </tr>\n",
       "    <tr>\n",
       "      <th>2022-05-31</th>\n",
       "      <td>-0.002471</td>\n",
       "      <td>0.001316</td>\n",
       "      <td>0.000208</td>\n",
       "      <td>-0.000036</td>\n",
       "      <td>-0.000744</td>\n",
       "      <td>-0.000092</td>\n",
       "      <td>-0.001116</td>\n",
       "      <td>-0.000159</td>\n",
       "      <td>0.002425</td>\n",
       "    </tr>\n",
       "    <tr>\n",
       "      <th>2022-06-30</th>\n",
       "      <td>-0.009396</td>\n",
       "      <td>-0.007196</td>\n",
       "      <td>-0.009313</td>\n",
       "      <td>-0.011040</td>\n",
       "      <td>-0.004800</td>\n",
       "      <td>-0.008279</td>\n",
       "      <td>-0.008676</td>\n",
       "      <td>-0.011040</td>\n",
       "      <td>-0.009761</td>\n",
       "    </tr>\n",
       "    <tr>\n",
       "      <th>2022-07-31</th>\n",
       "      <td>0.012826</td>\n",
       "      <td>0.002942</td>\n",
       "      <td>0.008807</td>\n",
       "      <td>0.009110</td>\n",
       "      <td>0.004015</td>\n",
       "      <td>0.004904</td>\n",
       "      <td>0.009468</td>\n",
       "      <td>0.010149</td>\n",
       "      <td>0.005129</td>\n",
       "    </tr>\n",
       "    <tr>\n",
       "      <th>2022-08-31</th>\n",
       "      <td>-0.005846</td>\n",
       "      <td>-0.004409</td>\n",
       "      <td>-0.004746</td>\n",
       "      <td>-0.003819</td>\n",
       "      <td>-0.003245</td>\n",
       "      <td>-0.002782</td>\n",
       "      <td>-0.006470</td>\n",
       "      <td>-0.003581</td>\n",
       "      <td>-0.003356</td>\n",
       "    </tr>\n",
       "    <tr>\n",
       "      <th>2022-09-30</th>\n",
       "      <td>-0.011231</td>\n",
       "      <td>-0.008340</td>\n",
       "      <td>-0.010085</td>\n",
       "      <td>-0.011343</td>\n",
       "      <td>-0.007590</td>\n",
       "      <td>-0.008080</td>\n",
       "      <td>-0.010066</td>\n",
       "      <td>-0.011348</td>\n",
       "      <td>-0.009353</td>\n",
       "    </tr>\n",
       "  </tbody>\n",
       "</table>\n",
       "<p>274 rows × 9 columns</p>\n",
       "</div>"
      ],
      "text/plain": [
       "              Growth        DY       Big       Med   Low Vol  Momentum  \\\n",
       "1999-12-31  0.012725  0.003147  0.008981  0.010366  0.005112  0.020193   \n",
       "2000-01-31 -0.006959 -0.008337 -0.006313 -0.003952 -0.005543 -0.006969   \n",
       "2000-02-29  0.003868 -0.004282  0.001057  0.010678 -0.003457  0.009202   \n",
       "2000-03-31  0.006628  0.008792  0.006062  0.000823  0.007242  0.004084   \n",
       "2000-04-30 -0.007450 -0.003190 -0.005990 -0.007804 -0.001571 -0.007954   \n",
       "...              ...       ...       ...       ...       ...       ...   \n",
       "2022-05-31 -0.002471  0.001316  0.000208 -0.000036 -0.000744 -0.000092   \n",
       "2022-06-30 -0.009396 -0.007196 -0.009313 -0.011040 -0.004800 -0.008279   \n",
       "2022-07-31  0.012826  0.002942  0.008807  0.009110  0.004015  0.004904   \n",
       "2022-08-31 -0.005846 -0.004409 -0.004746 -0.003819 -0.003245 -0.002782   \n",
       "2022-09-30 -0.011231 -0.008340 -0.010085 -0.011343 -0.007590 -0.008080   \n",
       "\n",
       "             Quality     Small     Value  \n",
       "1999-12-31  0.008195  0.007856  0.004861  \n",
       "2000-01-31 -0.006485 -0.000817 -0.005736  \n",
       "2000-02-29  0.001138  0.013477 -0.003824  \n",
       "2000-03-31  0.008091 -0.003956  0.009082  \n",
       "2000-04-30 -0.003403 -0.007856 -0.001855  \n",
       "...              ...       ...       ...  \n",
       "2022-05-31 -0.001116 -0.000159  0.002425  \n",
       "2022-06-30 -0.008676 -0.011040 -0.009761  \n",
       "2022-07-31  0.009468  0.010149  0.005129  \n",
       "2022-08-31 -0.006470 -0.003581 -0.003356  \n",
       "2022-09-30 -0.010066 -0.011348 -0.009353  \n",
       "\n",
       "[274 rows x 9 columns]"
      ]
     },
     "execution_count": 112,
     "metadata": {},
     "output_type": "execute_result"
    }
   ],
   "source": [
    "ew*style_ret"
   ]
  },
  {
   "cell_type": "code",
   "execution_count": 116,
   "id": "8d5273e4-c801-40a7-8e88-fef9ec3228d6",
   "metadata": {},
   "outputs": [],
   "source": [
    "#Above equal weights times by style returns, e,g 11% times by growth return+11% times by DY..."
   ]
  },
  {
   "cell_type": "code",
   "execution_count": 117,
   "id": "b9d618c4-a8d7-43f2-a7df-ba1918fddf8d",
   "metadata": {},
   "outputs": [
    {
     "data": {
      "text/plain": [
       "1999-12-31    0.081436\n",
       "2000-01-31   -0.051111\n",
       "2000-02-29    0.027858\n",
       "2000-03-31    0.046848\n",
       "2000-04-30   -0.047073\n",
       "                ...   \n",
       "2022-05-31   -0.000670\n",
       "2022-06-30   -0.079502\n",
       "2022-07-31    0.067350\n",
       "2022-08-31   -0.038253\n",
       "2022-09-30   -0.087436\n",
       "Length: 274, dtype: float64"
      ]
     },
     "execution_count": 117,
     "metadata": {},
     "output_type": "execute_result"
    }
   ],
   "source": [
    "(ew*style_ret).sum(1)"
   ]
  },
  {
   "cell_type": "code",
   "execution_count": 118,
   "id": "d191e6f0-42fb-4513-b7e6-e5d0f3ae61db",
   "metadata": {},
   "outputs": [],
   "source": [
    "#Above return for the month"
   ]
  },
  {
   "cell_type": "code",
   "execution_count": 122,
   "id": "e14f8fef-348e-4008-bd61-ca8f04657299",
   "metadata": {},
   "outputs": [
    {
     "data": {
      "text/plain": [
       "0.0018321920544552082"
      ]
     },
     "execution_count": 122,
     "metadata": {},
     "output_type": "execute_result"
    }
   ],
   "source": [
    "(ew*style_ret).sum(1).var()"
   ]
  },
  {
   "cell_type": "code",
   "execution_count": 120,
   "id": "9bcd57a6-0bdc-45ea-afdf-81342c9a6ef5",
   "metadata": {},
   "outputs": [],
   "source": [
    "#Above same var and std number"
   ]
  },
  {
   "cell_type": "code",
   "execution_count": 124,
   "id": "bac4d9d9-cbda-4b52-b799-0ab83d37e274",
   "metadata": {},
   "outputs": [],
   "source": [
    "#If you have two portfolios and want covariance of these two"
   ]
  },
  {
   "cell_type": "code",
   "execution_count": 125,
   "id": "ad127487-230e-45a7-838b-16e3fb58541d",
   "metadata": {},
   "outputs": [],
   "source": [
    "#equally weighted portfolio\n",
    "pf1_er=ew.T@style_mean\n",
    "pf1_var=ew.T@style_cov@ew\n",
    "pf1_sd=np.sqrt(pf1_var)"
   ]
  },
  {
   "cell_type": "code",
   "execution_count": 151,
   "id": "81a2e892-604e-48c1-a188-ed37380148e0",
   "metadata": {},
   "outputs": [],
   "source": [
    "#Other weights\n",
    "pf2_er=new_wghts.T@style_mean\n",
    "pf2_var=new_wghts.T@style_cov@new_wghts\n",
    "pf2_sd=np.sqrt(pf2_var)"
   ]
  },
  {
   "cell_type": "code",
   "execution_count": 152,
   "id": "9194c128-c33b-44c4-8f80-9f9d31c3b8e2",
   "metadata": {},
   "outputs": [],
   "source": [
    "#Covariance of two portfolios - ySx^T or ySx'T, thus y (newwghts) Transpose cov matrix x\n",
    "cov12=new_wghts.T@style_cov@ew"
   ]
  },
  {
   "cell_type": "code",
   "execution_count": 153,
   "id": "095c0cbd-3985-4b1b-a502-b729174cbbab",
   "metadata": {},
   "outputs": [
    {
     "data": {
      "text/plain": [
       "0.0017051041767881423"
      ]
     },
     "execution_count": 153,
     "metadata": {},
     "output_type": "execute_result"
    }
   ],
   "source": [
    "cov12"
   ]
  },
  {
   "cell_type": "code",
   "execution_count": 154,
   "id": "035078cb-99c9-4867-94ac-dabaa0d46076",
   "metadata": {},
   "outputs": [],
   "source": [
    "#To test the above for pf1 and pf2 times series return"
   ]
  },
  {
   "cell_type": "code",
   "execution_count": 155,
   "id": "887e67d4-1e23-487f-b673-1717767c1c43",
   "metadata": {},
   "outputs": [],
   "source": [
    "pf1_tsr=(ew*style_ret).sum(1)\n",
    "pf2_tsr=(new_wghts*style_ret).sum(1)"
   ]
  },
  {
   "cell_type": "code",
   "execution_count": 156,
   "id": "4ba5254c-e5b0-4f54-b20b-c5edda43e5d1",
   "metadata": {},
   "outputs": [
    {
     "data": {
      "text/plain": [
       "1999-12-31    0.081436\n",
       "2000-01-31   -0.051111\n",
       "2000-02-29    0.027858\n",
       "2000-03-31    0.046848\n",
       "2000-04-30   -0.047073\n",
       "                ...   \n",
       "2022-05-31   -0.000670\n",
       "2022-06-30   -0.079502\n",
       "2022-07-31    0.067350\n",
       "2022-08-31   -0.038253\n",
       "2022-09-30   -0.087436\n",
       "Length: 274, dtype: float64"
      ]
     },
     "execution_count": 156,
     "metadata": {},
     "output_type": "execute_result"
    }
   ],
   "source": [
    "pf1_tsr"
   ]
  },
  {
   "cell_type": "code",
   "execution_count": 157,
   "id": "017b67b0-0b80-44ea-be08-63bf709d757f",
   "metadata": {},
   "outputs": [
    {
     "data": {
      "text/plain": [
       "1999-12-31    0.067650\n",
       "2000-01-31   -0.056795\n",
       "2000-02-29   -0.001350\n",
       "2000-03-31    0.062085\n",
       "2000-04-30   -0.034801\n",
       "                ...   \n",
       "2022-05-31    0.002619\n",
       "2022-06-30   -0.070587\n",
       "2022-07-31    0.051026\n",
       "2022-08-31   -0.035400\n",
       "2022-09-30   -0.080457\n",
       "Length: 274, dtype: float64"
      ]
     },
     "execution_count": 157,
     "metadata": {},
     "output_type": "execute_result"
    }
   ],
   "source": [
    "pf2_tsr"
   ]
  },
  {
   "cell_type": "code",
   "execution_count": 158,
   "id": "63169591-76ff-4e82-84de-5b3f82b6b188",
   "metadata": {},
   "outputs": [],
   "source": [
    "#Two sets of returns and how they covary (covariance)\n",
    "#Covariance - cov(x,y)/Sx*Sy, Sy give you correlation"
   ]
  },
  {
   "cell_type": "code",
   "execution_count": 159,
   "id": "fe6cefb1-496d-4109-a934-67e1eaeb429f",
   "metadata": {},
   "outputs": [
    {
     "data": {
      "text/plain": [
       "0.0017051041767881423"
      ]
     },
     "execution_count": 159,
     "metadata": {},
     "output_type": "execute_result"
    }
   ],
   "source": [
    "pf1_tsr.cov(pf2_tsr)"
   ]
  },
  {
   "cell_type": "code",
   "execution_count": 160,
   "id": "27a571ee-3067-4919-8439-b81ae0ac1ebe",
   "metadata": {},
   "outputs": [],
   "source": [
    "#Identicle to the above cov12"
   ]
  },
  {
   "cell_type": "code",
   "execution_count": 161,
   "id": "fb107cf4-de9e-4d4e-bd64-9e4bc029d13f",
   "metadata": {},
   "outputs": [
    {
     "data": {
      "text/plain": [
       "0.9922321364854333"
      ]
     },
     "execution_count": 161,
     "metadata": {},
     "output_type": "execute_result"
    }
   ],
   "source": [
    "pf1_tsr.corr(pf2_tsr)"
   ]
  },
  {
   "cell_type": "code",
   "execution_count": 162,
   "id": "30c40118-e7c9-48e7-be7a-892fdef61609",
   "metadata": {},
   "outputs": [
    {
     "data": {
      "text/plain": [
       "0.9922321364854332"
      ]
     },
     "execution_count": 162,
     "metadata": {},
     "output_type": "execute_result"
    }
   ],
   "source": [
    "cov12/(pf1_sd*pf2_sd)"
   ]
  },
  {
   "cell_type": "code",
   "execution_count": 163,
   "id": "857838b0-6564-459b-9078-60618c506576",
   "metadata": {},
   "outputs": [
    {
     "data": {
      "text/plain": [
       "0.0017051041767881423"
      ]
     },
     "execution_count": 163,
     "metadata": {},
     "output_type": "execute_result"
    }
   ],
   "source": [
    "pf1_tsr.cov(pf2_tsr)"
   ]
  },
  {
   "cell_type": "code",
   "execution_count": 164,
   "id": "f0a24d84-1c48-4532-89f4-a6ba09627dc1",
   "metadata": {},
   "outputs": [
    {
     "data": {
      "text/plain": [
       "0.9922321364854331"
      ]
     },
     "execution_count": 164,
     "metadata": {},
     "output_type": "execute_result"
    }
   ],
   "source": [
    "cov12/np.sqrt(pf1_var*pf2_var)"
   ]
  },
  {
   "cell_type": "code",
   "execution_count": 165,
   "id": "b2be8ddb-adfe-4c60-b87e-95aeecde76f9",
   "metadata": {},
   "outputs": [],
   "source": [
    "#Above to get the correlations its the cov/sqrt(Variance1*variance2)"
   ]
  },
  {
   "cell_type": "code",
   "execution_count": 166,
   "id": "802336af-7fc5-42a6-9a87-c05b64291efd",
   "metadata": {},
   "outputs": [],
   "source": [
    "#Combined pf\n",
    "#Comb exepected return\n",
    "w1=0.5\n",
    "w2=(1-w1)"
   ]
  },
  {
   "cell_type": "code",
   "execution_count": 181,
   "id": "651f7920-0145-45fc-a5bb-43ab2f2c3cf8",
   "metadata": {},
   "outputs": [],
   "source": [
    "comb_er=w1*pf1_er+w2*pf2_er"
   ]
  },
  {
   "cell_type": "code",
   "execution_count": 182,
   "id": "76494a21-13cf-468d-9b2f-478ed1a2f3e2",
   "metadata": {},
   "outputs": [
    {
     "data": {
      "text/plain": [
       "0.005937077907104184"
      ]
     },
     "execution_count": 182,
     "metadata": {},
     "output_type": "execute_result"
    }
   ],
   "source": [
    "comb_er"
   ]
  },
  {
   "cell_type": "code",
   "execution_count": 175,
   "id": "f5b0c90f-c490-465b-a826-75ce68c23107",
   "metadata": {},
   "outputs": [],
   "source": [
    "#Above combined expected return\n",
    "#Combined portfolio variance below\n",
    "#Std deviation below\n",
    "#**2 means squared"
   ]
  },
  {
   "cell_type": "code",
   "execution_count": 183,
   "id": "0474db0d-d803-46e8-be0b-fbae0103c03a",
   "metadata": {},
   "outputs": [],
   "source": [
    "comb_var=w1**2*pf1_var+w2**2*pf2_var+2*w1*w2*cov12"
   ]
  },
  {
   "cell_type": "code",
   "execution_count": 184,
   "id": "ccf1165b-9960-4ef4-84c7-badd7e017a4a",
   "metadata": {},
   "outputs": [],
   "source": [
    "comb_sd=np.sqrt(comb_var)"
   ]
  },
  {
   "cell_type": "code",
   "execution_count": 185,
   "id": "3f82de94-b5e7-497f-a8fc-6febf9528557",
   "metadata": {},
   "outputs": [
    {
     "name": "stdout",
     "output_type": "stream",
     "text": [
      "0.005937077907104184 0.04139497205013226\n"
     ]
    }
   ],
   "source": [
    "print(comb_er,comb_sd)"
   ]
  },
  {
   "cell_type": "code",
   "execution_count": null,
   "id": "628ccbe2-fbf6-447a-976e-fad79d027ebb",
   "metadata": {},
   "outputs": [],
   "source": [
    "#Above comb portfolio made up of 50 50, pf1 and pf2"
   ]
  },
  {
   "cell_type": "code",
   "execution_count": 188,
   "id": "737dad07-dabf-4a70-87d0-3d6367238ad9",
   "metadata": {},
   "outputs": [],
   "source": [
    "#First create two functions\n",
    "#Two asset (ta)"
   ]
  },
  {
   "cell_type": "code",
   "execution_count": 190,
   "id": "0ff0da89-e85d-40d7-94eb-dfe80482105f",
   "metadata": {},
   "outputs": [],
   "source": [
    "def ta_ret(w1,er1,er2):\n",
    "    w2=1-w1\n",
    "    return w1*er1+w2*er2\n",
    "\n",
    "def ta_sd(w1,var1,var2,cov):\n",
    "    w2=1-w1\n",
    "    var=w1**2*var1+w2**2*var2+2*w1*w2*cov\n",
    "    return np.sqrt(var)"
   ]
  },
  {
   "cell_type": "code",
   "execution_count": null,
   "id": "f553fca0-a950-409b-981f-ad051bf4cbc7",
   "metadata": {},
   "outputs": [],
   "source": [
    "#Start =200 or 200%, Stop =-200, Step=10"
   ]
  },
  {
   "cell_type": "code",
   "execution_count": 211,
   "id": "2673f663-e396-4d94-8823-b7c37454adba",
   "metadata": {},
   "outputs": [],
   "source": [
    "wghts=np.arange(700,-700,-10)/100"
   ]
  },
  {
   "cell_type": "code",
   "execution_count": 212,
   "id": "34f591f2-f154-4350-a9a5-f1ff3270382f",
   "metadata": {},
   "outputs": [
    {
     "data": {
      "text/plain": [
       "array([ 7. ,  6.9,  6.8,  6.7,  6.6,  6.5,  6.4,  6.3,  6.2,  6.1,  6. ,\n",
       "        5.9,  5.8,  5.7,  5.6,  5.5,  5.4,  5.3,  5.2,  5.1,  5. ,  4.9,\n",
       "        4.8,  4.7,  4.6,  4.5,  4.4,  4.3,  4.2,  4.1,  4. ,  3.9,  3.8,\n",
       "        3.7,  3.6,  3.5,  3.4,  3.3,  3.2,  3.1,  3. ,  2.9,  2.8,  2.7,\n",
       "        2.6,  2.5,  2.4,  2.3,  2.2,  2.1,  2. ,  1.9,  1.8,  1.7,  1.6,\n",
       "        1.5,  1.4,  1.3,  1.2,  1.1,  1. ,  0.9,  0.8,  0.7,  0.6,  0.5,\n",
       "        0.4,  0.3,  0.2,  0.1,  0. , -0.1, -0.2, -0.3, -0.4, -0.5, -0.6,\n",
       "       -0.7, -0.8, -0.9, -1. , -1.1, -1.2, -1.3, -1.4, -1.5, -1.6, -1.7,\n",
       "       -1.8, -1.9, -2. , -2.1, -2.2, -2.3, -2.4, -2.5, -2.6, -2.7, -2.8,\n",
       "       -2.9, -3. , -3.1, -3.2, -3.3, -3.4, -3.5, -3.6, -3.7, -3.8, -3.9,\n",
       "       -4. , -4.1, -4.2, -4.3, -4.4, -4.5, -4.6, -4.7, -4.8, -4.9, -5. ,\n",
       "       -5.1, -5.2, -5.3, -5.4, -5.5, -5.6, -5.7, -5.8, -5.9, -6. , -6.1,\n",
       "       -6.2, -6.3, -6.4, -6.5, -6.6, -6.7, -6.8, -6.9])"
      ]
     },
     "execution_count": 212,
     "metadata": {},
     "output_type": "execute_result"
    }
   ],
   "source": [
    "wghts"
   ]
  },
  {
   "cell_type": "code",
   "execution_count": 213,
   "id": "c1f04a64-b65c-45b4-9ddf-6107cafde181",
   "metadata": {},
   "outputs": [],
   "source": [
    "comb_er=ta_ret(wghts,pf1_er, pf2_er)\n",
    "comb_sd=ta_sd(wghts,pf1_var,pf2_var,cov12)"
   ]
  },
  {
   "cell_type": "code",
   "execution_count": 214,
   "id": "938d7e3d-156a-4aac-9159-acdf8c45c2ce",
   "metadata": {},
   "outputs": [
    {
     "data": {
      "text/plain": [
       "array([0.06762056, 0.06713382, 0.06664859, 0.06616491, 0.06568281,\n",
       "       0.06520232, 0.06472348, 0.06424632, 0.06377089, 0.06329722,\n",
       "       0.06282535, 0.06235532, 0.06188718, 0.06142097, 0.06095673,\n",
       "       0.06049451, 0.06003435, 0.0595763 , 0.05912042, 0.05866674,\n",
       "       0.05821534, 0.05776624, 0.05731952, 0.05687523, 0.05643341,\n",
       "       0.05599415, 0.05555748, 0.05512348, 0.05469221, 0.05426373,\n",
       "       0.05383811, 0.05341543, 0.05299574, 0.05257912, 0.05216564,\n",
       "       0.05175538, 0.05134842, 0.05094484, 0.05054471, 0.05014813,\n",
       "       0.04975516, 0.04936591, 0.04898045, 0.04859889, 0.0482213 ,\n",
       "       0.0478478 , 0.04747846, 0.04711339, 0.0467527 , 0.04639647,\n",
       "       0.04604483, 0.04569786, 0.04535568, 0.0450184 , 0.04468613,\n",
       "       0.04435898, 0.04403707, 0.04372051, 0.04340942, 0.04310391,\n",
       "       0.04280411, 0.04251014, 0.04222212, 0.04194017, 0.04166441,\n",
       "       0.04139497, 0.04113198, 0.04087555, 0.04062581, 0.04038289,\n",
       "       0.04014691, 0.03991799, 0.03969626, 0.03948183, 0.03927483,\n",
       "       0.03907537, 0.03888357, 0.03869954, 0.0385234 , 0.03835525,\n",
       "       0.0381952 , 0.03804335, 0.0378998 , 0.03776464, 0.03763797,\n",
       "       0.03751988, 0.03741043, 0.03730971, 0.03721779, 0.03713473,\n",
       "       0.0370606 , 0.03699544, 0.03693931, 0.03689225, 0.03685429,\n",
       "       0.03682545, 0.03680577, 0.03679525, 0.03679391, 0.03680174,\n",
       "       0.03681873, 0.03684489, 0.03688018, 0.03692458, 0.03697805,\n",
       "       0.03704056, 0.03711207, 0.03719252, 0.03728184, 0.03737999,\n",
       "       0.03748689, 0.03760246, 0.03772662, 0.0378593 , 0.0380004 ,\n",
       "       0.03814982, 0.03830748, 0.03847326, 0.03864707, 0.0388288 ,\n",
       "       0.03901833, 0.03921556, 0.03942036, 0.03963263, 0.03985223,\n",
       "       0.04007906, 0.04031298, 0.04055388, 0.04080163, 0.04105611,\n",
       "       0.04131719, 0.04158476, 0.04185867, 0.04213882, 0.04242508,\n",
       "       0.04271732, 0.04301542, 0.04331926, 0.04362873, 0.0439437 ])"
      ]
     },
     "execution_count": 214,
     "metadata": {},
     "output_type": "execute_result"
    }
   ],
   "source": [
    "comb_sd"
   ]
  },
  {
   "cell_type": "code",
   "execution_count": 215,
   "id": "7abf8793-62f6-4c34-8b4f-0bf88ac38cdf",
   "metadata": {},
   "outputs": [
    {
     "data": {
      "text/plain": [
       "[<matplotlib.lines.Line2D at 0x29c95915dd0>]"
      ]
     },
     "execution_count": 215,
     "metadata": {},
     "output_type": "execute_result"
    },
    {
     "data": {
      "image/png": "[encoded data removed]",
      "text/plain": [
       "<Figure size 640x480 with 1 Axes>"
      ]
     },
     "metadata": {},
     "output_type": "display_data"
    }
   ],
   "source": [
    "plt.plot(comb_sd,comb_er)"
   ]
  },
  {
   "cell_type": "code",
   "execution_count": null,
   "id": "6e6ad8e9-8ebe-48c7-a71a-322e97489114",
   "metadata": {},
   "outputs": [],
   "source": [
    "#sd x-axis and er y-axis\n",
    "#above chnaged from wghts=np.arange(200,-200,-10)/100 to 500 and 700 to see difference\n",
    "#increase from 200 to 500 to 700 to get more curve"
   ]
  },
  {
   "cell_type": "code",
   "execution_count": null,
   "id": "2fb73880-5201-49b5-944d-bbe11366c748",
   "metadata": {},
   "outputs": [],
   "source": [
    "#to get the best possible return, need to optimise\n",
    "#Eff frontier need two efficient portfolio to calc eff frontier\n",
    "#need to ensure portfolio give you the highest possible return for a given level of risk\n",
    "#all the above is, is two random weights and plugges in\n",
    "#Eff portfolio is risk reward trade off, thus the highest expected level of return for a given level of risk"
   ]
  },
  {
   "cell_type": "code",
   "execution_count": 216,
   "id": "bdbc0f6a-33b2-4e68-ba06-a7a0c48a3aa3",
   "metadata": {},
   "outputs": [],
   "source": [
    "#combine multiple plots"
   ]
  },
  {
   "cell_type": "code",
   "execution_count": 220,
   "id": "fe738b36-a784-4217-9849-1bb70e7c9f84",
   "metadata": {},
   "outputs": [
    {
     "data": {
      "text/plain": [
       "<matplotlib.collections.PathCollection at 0x29c94e6b510>"
      ]
     },
     "execution_count": 220,
     "metadata": {},
     "output_type": "execute_result"
    },
    {
     "data": {
      "image/png": "[encoded data removed]",
      "text/plain": [
       "<Figure size 1200x800 with 1 Axes>"
      ]
     },
     "metadata": {},
     "output_type": "display_data"
    }
   ],
   "source": [
    "fig,ax=plt.subplots(1,1,figsize=(12,8))\n",
    "ax.plot(comb_sd,comb_er)\n",
    "ax.scatter(pf1_sd,pf1_er,color='green',s=350)\n",
    "ax.scatter(pf2_sd,pf2_er,color='red',s=350)"
   ]
  },
  {
   "cell_type": "code",
   "execution_count": 221,
   "id": "c210d9b5-8e81-4d54-9ac7-c4829f775b9d",
   "metadata": {},
   "outputs": [],
   "source": [
    "#Above two portfolios\n",
    "#But dont know yet if there are efficient"
   ]
  },
  {
   "cell_type": "code",
   "execution_count": 222,
   "id": "a2115b0f-b9f7-40c1-83f2-a9f7d01e8510",
   "metadata": {},
   "outputs": [
    {
     "data": {
      "text/plain": [
       "<matplotlib.collections.PathCollection at 0x29c8eb06510>"
      ]
     },
     "execution_count": 222,
     "metadata": {},
     "output_type": "execute_result"
    },
    {
     "data": {
      "image/png": "[encoded data removed]",
      "text/plain": [
       "<Figure size 1200x800 with 1 Axes>"
      ]
     },
     "metadata": {},
     "output_type": "display_data"
    }
   ],
   "source": [
    "fig,ax=plt.subplots(1,1,figsize=(12,8))\n",
    "ax.plot(comb_sd,comb_er)\n",
    "plt.scatter(style_sd,style_mean)"
   ]
  },
  {
   "cell_type": "code",
   "execution_count": 226,
   "id": "52cada78-17aa-465f-8026-5508e167ba4a",
   "metadata": {},
   "outputs": [],
   "source": [
    "#Above is clearly not efficient, because of sigular assets falling below and above the envelope\n",
    "#Thus, must be another envelope that is able to give you higher returns\n",
    "#Formula for efficient porfolio Benninga chapter 9, specifically 9.3 (Five propositions of eff portf and the CAPM\n",
    "#Says - Expected Return  minus some risk free rate or constant; \n",
    "#S^-1*E(r)-c, thus take inverse of covariance matix times by excess return vector, then summing them up (normalising)\n",
    "#Which wlill give you tangency portfolio"
   ]
  },
  {
   "cell_type": "code",
   "execution_count": null,
   "id": "7cfb8f05-3c65-4730-b7af-544860ca5d3b",
   "metadata": {},
   "outputs": [],
   "source": [
    "#First envelope portfolio\n",
    "#risk free rate of 3%\n",
    "#c=constant"
   ]
  },
  {
   "cell_type": "code",
   "execution_count": 227,
   "id": "3f3d0bab-fd39-4efc-ac6f-587078003502",
   "metadata": {},
   "outputs": [
    {
     "data": {
      "text/plain": [
       "Growth      0.060948\n",
       "DY          0.069123\n",
       "Big         0.057839\n",
       "Med         0.077394\n",
       "Low Vol     0.070839\n",
       "Momentum    0.081860\n",
       "Quality     0.076977\n",
       "Small       0.094842\n",
       "Value       0.061655\n",
       "dtype: float64"
      ]
     },
     "execution_count": 227,
     "metadata": {},
     "output_type": "execute_result"
    }
   ],
   "source": [
    "style_mean*12"
   ]
  },
  {
   "cell_type": "code",
   "execution_count": 228,
   "id": "8d2258d9-eb7f-4427-8ea6-697ef10704f7",
   "metadata": {},
   "outputs": [],
   "source": [
    "c=0.03/12"
   ]
  },
  {
   "cell_type": "code",
   "execution_count": 230,
   "id": "49671a0a-7338-4eb2-9fa5-32eeba64937c",
   "metadata": {},
   "outputs": [],
   "source": [
    "#Chapter 9\n",
    "#Efficient porfolio=ep\n",
    "#First etablsih excess style returns"
   ]
  },
  {
   "cell_type": "code",
   "execution_count": 231,
   "id": "7bb5ee0c-cd47-47e1-b8fc-bd325192177b",
   "metadata": {},
   "outputs": [
    {
     "data": {
      "text/plain": [
       "Growth      0.002579\n",
       "DY          0.003260\n",
       "Big         0.002320\n",
       "Med         0.003950\n",
       "Low Vol     0.003403\n",
       "Momentum    0.004322\n",
       "Quality     0.003915\n",
       "Small       0.005403\n",
       "Value       0.002638\n",
       "dtype: float64"
      ]
     },
     "execution_count": 231,
     "metadata": {},
     "output_type": "execute_result"
    }
   ],
   "source": [
    "style_mean-c"
   ]
  },
  {
   "cell_type": "code",
   "execution_count": 232,
   "id": "937db491-fd55-4295-852a-04198a3da9b7",
   "metadata": {},
   "outputs": [],
   "source": [
    "#Inverse of matrix"
   ]
  },
  {
   "cell_type": "code",
   "execution_count": 233,
   "id": "24a5fa67-b342-4623-bbd5-db1b80b7882a",
   "metadata": {},
   "outputs": [
    {
     "data": {
      "text/html": [
       "<div>\n",
       "<style scoped>\n",
       "    .dataframe tbody tr th:only-of-type {\n",
       "        vertical-align: middle;\n",
       "    }\n",
       "\n",
       "    .dataframe tbody tr th {\n",
       "        vertical-align: top;\n",
       "    }\n",
       "\n",
       "    .dataframe thead th {\n",
       "        text-align: right;\n",
       "    }\n",
       "</style>\n",
       "<table border=\"1\" class=\"dataframe\">\n",
       "  <thead>\n",
       "    <tr style=\"text-align: right;\">\n",
       "      <th></th>\n",
       "      <th>0</th>\n",
       "      <th>1</th>\n",
       "      <th>2</th>\n",
       "      <th>3</th>\n",
       "      <th>4</th>\n",
       "      <th>5</th>\n",
       "      <th>6</th>\n",
       "      <th>7</th>\n",
       "      <th>8</th>\n",
       "    </tr>\n",
       "  </thead>\n",
       "  <tbody>\n",
       "    <tr>\n",
       "      <th>Growth</th>\n",
       "      <td>1.000000e+00</td>\n",
       "      <td>3.204820e-15</td>\n",
       "      <td>5.795033e-16</td>\n",
       "      <td>2.496304e-16</td>\n",
       "      <td>5.999161e-16</td>\n",
       "      <td>1.219792e-16</td>\n",
       "      <td>3.423491e-15</td>\n",
       "      <td>-5.342885e-15</td>\n",
       "      <td>-1.260840e-14</td>\n",
       "    </tr>\n",
       "    <tr>\n",
       "      <th>DY</th>\n",
       "      <td>1.572663e-14</td>\n",
       "      <td>1.000000e+00</td>\n",
       "      <td>1.317856e-14</td>\n",
       "      <td>-4.192733e-15</td>\n",
       "      <td>-1.121637e-15</td>\n",
       "      <td>3.993913e-16</td>\n",
       "      <td>8.404701e-15</td>\n",
       "      <td>-1.013791e-15</td>\n",
       "      <td>2.591518e-15</td>\n",
       "    </tr>\n",
       "    <tr>\n",
       "      <th>Big</th>\n",
       "      <td>1.166234e-14</td>\n",
       "      <td>-3.483091e-15</td>\n",
       "      <td>1.000000e+00</td>\n",
       "      <td>-1.496377e-14</td>\n",
       "      <td>1.494293e-15</td>\n",
       "      <td>1.104316e-15</td>\n",
       "      <td>4.826138e-15</td>\n",
       "      <td>-7.509859e-15</td>\n",
       "      <td>2.188358e-14</td>\n",
       "    </tr>\n",
       "    <tr>\n",
       "      <th>Med</th>\n",
       "      <td>-1.515343e-14</td>\n",
       "      <td>1.667624e-15</td>\n",
       "      <td>1.520811e-14</td>\n",
       "      <td>1.000000e+00</td>\n",
       "      <td>-1.749883e-16</td>\n",
       "      <td>1.543281e-16</td>\n",
       "      <td>1.605897e-14</td>\n",
       "      <td>3.968777e-15</td>\n",
       "      <td>-9.997504e-16</td>\n",
       "    </tr>\n",
       "    <tr>\n",
       "      <th>Low Vol</th>\n",
       "      <td>9.090839e-15</td>\n",
       "      <td>1.313319e-15</td>\n",
       "      <td>-1.629720e-16</td>\n",
       "      <td>-7.868502e-15</td>\n",
       "      <td>1.000000e+00</td>\n",
       "      <td>1.008523e-16</td>\n",
       "      <td>-1.266654e-15</td>\n",
       "      <td>-1.369324e-15</td>\n",
       "      <td>1.152065e-14</td>\n",
       "    </tr>\n",
       "    <tr>\n",
       "      <th>Momentum</th>\n",
       "      <td>-9.791003e-15</td>\n",
       "      <td>4.673420e-15</td>\n",
       "      <td>5.275174e-14</td>\n",
       "      <td>-3.902692e-16</td>\n",
       "      <td>7.913652e-16</td>\n",
       "      <td>1.000000e+00</td>\n",
       "      <td>5.806675e-15</td>\n",
       "      <td>6.826324e-16</td>\n",
       "      <td>-4.182025e-15</td>\n",
       "    </tr>\n",
       "    <tr>\n",
       "      <th>Quality</th>\n",
       "      <td>-1.181997e-14</td>\n",
       "      <td>3.883924e-15</td>\n",
       "      <td>4.604103e-14</td>\n",
       "      <td>-3.286540e-15</td>\n",
       "      <td>3.031997e-15</td>\n",
       "      <td>-4.075875e-16</td>\n",
       "      <td>1.000000e+00</td>\n",
       "      <td>6.075948e-16</td>\n",
       "      <td>-1.226669e-14</td>\n",
       "    </tr>\n",
       "    <tr>\n",
       "      <th>Small</th>\n",
       "      <td>-1.495288e-14</td>\n",
       "      <td>8.229343e-15</td>\n",
       "      <td>8.105494e-14</td>\n",
       "      <td>4.044210e-15</td>\n",
       "      <td>2.169432e-16</td>\n",
       "      <td>1.063336e-16</td>\n",
       "      <td>8.535882e-15</td>\n",
       "      <td>1.000000e+00</td>\n",
       "      <td>-2.460427e-14</td>\n",
       "    </tr>\n",
       "    <tr>\n",
       "      <th>Value</th>\n",
       "      <td>2.842171e-14</td>\n",
       "      <td>1.776357e-15</td>\n",
       "      <td>5.684342e-14</td>\n",
       "      <td>-7.105427e-15</td>\n",
       "      <td>3.552714e-15</td>\n",
       "      <td>0.000000e+00</td>\n",
       "      <td>7.105427e-15</td>\n",
       "      <td>0.000000e+00</td>\n",
       "      <td>1.000000e+00</td>\n",
       "    </tr>\n",
       "  </tbody>\n",
       "</table>\n",
       "</div>"
      ],
      "text/plain": [
       "                     0             1             2             3  \\\n",
       "Growth    1.000000e+00  3.204820e-15  5.795033e-16  2.496304e-16   \n",
       "DY        1.572663e-14  1.000000e+00  1.317856e-14 -4.192733e-15   \n",
       "Big       1.166234e-14 -3.483091e-15  1.000000e+00 -1.496377e-14   \n",
       "Med      -1.515343e-14  1.667624e-15  1.520811e-14  1.000000e+00   \n",
       "Low Vol   9.090839e-15  1.313319e-15 -1.629720e-16 -7.868502e-15   \n",
       "Momentum -9.791003e-15  4.673420e-15  5.275174e-14 -3.902692e-16   \n",
       "Quality  -1.181997e-14  3.883924e-15  4.604103e-14 -3.286540e-15   \n",
       "Small    -1.495288e-14  8.229343e-15  8.105494e-14  4.044210e-15   \n",
       "Value     2.842171e-14  1.776357e-15  5.684342e-14 -7.105427e-15   \n",
       "\n",
       "                     4             5             6             7             8  \n",
       "Growth    5.999161e-16  1.219792e-16  3.423491e-15 -5.342885e-15 -1.260840e-14  \n",
       "DY       -1.121637e-15  3.993913e-16  8.404701e-15 -1.013791e-15  2.591518e-15  \n",
       "Big       1.494293e-15  1.104316e-15  4.826138e-15 -7.509859e-15  2.188358e-14  \n",
       "Med      -1.749883e-16  1.543281e-16  1.605897e-14  3.968777e-15 -9.997504e-16  \n",
       "Low Vol   1.000000e+00  1.008523e-16 -1.266654e-15 -1.369324e-15  1.152065e-14  \n",
       "Momentum  7.913652e-16  1.000000e+00  5.806675e-15  6.826324e-16 -4.182025e-15  \n",
       "Quality   3.031997e-15 -4.075875e-16  1.000000e+00  6.075948e-16 -1.226669e-14  \n",
       "Small     2.169432e-16  1.063336e-16  8.535882e-15  1.000000e+00 -2.460427e-14  \n",
       "Value     3.552714e-15  0.000000e+00  7.105427e-15  0.000000e+00  1.000000e+00  "
      ]
     },
     "execution_count": 233,
     "metadata": {},
     "output_type": "execute_result"
    }
   ],
   "source": [
    "style_cov@np.linalg.inv(style_cov)"
   ]
  },
  {
   "cell_type": "code",
   "execution_count": 234,
   "id": "ae7d8cb3-039c-477a-b2cf-fb217bf3e1bc",
   "metadata": {},
   "outputs": [
    {
     "data": {
      "text/html": [
       "<div>\n",
       "<style scoped>\n",
       "    .dataframe tbody tr th:only-of-type {\n",
       "        vertical-align: middle;\n",
       "    }\n",
       "\n",
       "    .dataframe tbody tr th {\n",
       "        vertical-align: top;\n",
       "    }\n",
       "\n",
       "    .dataframe thead th {\n",
       "        text-align: right;\n",
       "    }\n",
       "</style>\n",
       "<table border=\"1\" class=\"dataframe\">\n",
       "  <thead>\n",
       "    <tr style=\"text-align: right;\">\n",
       "      <th></th>\n",
       "      <th>0</th>\n",
       "      <th>1</th>\n",
       "      <th>2</th>\n",
       "      <th>3</th>\n",
       "      <th>4</th>\n",
       "      <th>5</th>\n",
       "      <th>6</th>\n",
       "      <th>7</th>\n",
       "      <th>8</th>\n",
       "    </tr>\n",
       "  </thead>\n",
       "  <tbody>\n",
       "    <tr>\n",
       "      <th>Growth</th>\n",
       "      <td>1.0</td>\n",
       "      <td>0.0</td>\n",
       "      <td>0.0</td>\n",
       "      <td>0.0</td>\n",
       "      <td>0.0</td>\n",
       "      <td>0.0</td>\n",
       "      <td>0.0</td>\n",
       "      <td>-0.0</td>\n",
       "      <td>-0.0</td>\n",
       "    </tr>\n",
       "    <tr>\n",
       "      <th>DY</th>\n",
       "      <td>0.0</td>\n",
       "      <td>1.0</td>\n",
       "      <td>0.0</td>\n",
       "      <td>-0.0</td>\n",
       "      <td>-0.0</td>\n",
       "      <td>0.0</td>\n",
       "      <td>0.0</td>\n",
       "      <td>-0.0</td>\n",
       "      <td>0.0</td>\n",
       "    </tr>\n",
       "    <tr>\n",
       "      <th>Big</th>\n",
       "      <td>0.0</td>\n",
       "      <td>-0.0</td>\n",
       "      <td>1.0</td>\n",
       "      <td>-0.0</td>\n",
       "      <td>0.0</td>\n",
       "      <td>0.0</td>\n",
       "      <td>0.0</td>\n",
       "      <td>-0.0</td>\n",
       "      <td>0.0</td>\n",
       "    </tr>\n",
       "    <tr>\n",
       "      <th>Med</th>\n",
       "      <td>-0.0</td>\n",
       "      <td>0.0</td>\n",
       "      <td>0.0</td>\n",
       "      <td>1.0</td>\n",
       "      <td>-0.0</td>\n",
       "      <td>0.0</td>\n",
       "      <td>0.0</td>\n",
       "      <td>0.0</td>\n",
       "      <td>-0.0</td>\n",
       "    </tr>\n",
       "    <tr>\n",
       "      <th>Low Vol</th>\n",
       "      <td>0.0</td>\n",
       "      <td>0.0</td>\n",
       "      <td>-0.0</td>\n",
       "      <td>-0.0</td>\n",
       "      <td>1.0</td>\n",
       "      <td>0.0</td>\n",
       "      <td>-0.0</td>\n",
       "      <td>-0.0</td>\n",
       "      <td>0.0</td>\n",
       "    </tr>\n",
       "    <tr>\n",
       "      <th>Momentum</th>\n",
       "      <td>-0.0</td>\n",
       "      <td>0.0</td>\n",
       "      <td>0.0</td>\n",
       "      <td>-0.0</td>\n",
       "      <td>0.0</td>\n",
       "      <td>1.0</td>\n",
       "      <td>0.0</td>\n",
       "      <td>0.0</td>\n",
       "      <td>-0.0</td>\n",
       "    </tr>\n",
       "    <tr>\n",
       "      <th>Quality</th>\n",
       "      <td>-0.0</td>\n",
       "      <td>0.0</td>\n",
       "      <td>0.0</td>\n",
       "      <td>-0.0</td>\n",
       "      <td>0.0</td>\n",
       "      <td>-0.0</td>\n",
       "      <td>1.0</td>\n",
       "      <td>0.0</td>\n",
       "      <td>-0.0</td>\n",
       "    </tr>\n",
       "    <tr>\n",
       "      <th>Small</th>\n",
       "      <td>-0.0</td>\n",
       "      <td>0.0</td>\n",
       "      <td>0.0</td>\n",
       "      <td>0.0</td>\n",
       "      <td>0.0</td>\n",
       "      <td>0.0</td>\n",
       "      <td>0.0</td>\n",
       "      <td>1.0</td>\n",
       "      <td>-0.0</td>\n",
       "    </tr>\n",
       "    <tr>\n",
       "      <th>Value</th>\n",
       "      <td>0.0</td>\n",
       "      <td>0.0</td>\n",
       "      <td>0.0</td>\n",
       "      <td>-0.0</td>\n",
       "      <td>0.0</td>\n",
       "      <td>0.0</td>\n",
       "      <td>0.0</td>\n",
       "      <td>0.0</td>\n",
       "      <td>1.0</td>\n",
       "    </tr>\n",
       "  </tbody>\n",
       "</table>\n",
       "</div>"
      ],
      "text/plain": [
       "            0    1    2    3    4    5    6    7    8\n",
       "Growth    1.0  0.0  0.0  0.0  0.0  0.0  0.0 -0.0 -0.0\n",
       "DY        0.0  1.0  0.0 -0.0 -0.0  0.0  0.0 -0.0  0.0\n",
       "Big       0.0 -0.0  1.0 -0.0  0.0  0.0  0.0 -0.0  0.0\n",
       "Med      -0.0  0.0  0.0  1.0 -0.0  0.0  0.0  0.0 -0.0\n",
       "Low Vol   0.0  0.0 -0.0 -0.0  1.0  0.0 -0.0 -0.0  0.0\n",
       "Momentum -0.0  0.0  0.0 -0.0  0.0  1.0  0.0  0.0 -0.0\n",
       "Quality  -0.0  0.0  0.0 -0.0  0.0 -0.0  1.0  0.0 -0.0\n",
       "Small    -0.0  0.0  0.0  0.0  0.0  0.0  0.0  1.0 -0.0\n",
       "Value     0.0  0.0  0.0 -0.0  0.0  0.0  0.0  0.0  1.0"
      ]
     },
     "execution_count": 234,
     "metadata": {},
     "output_type": "execute_result"
    }
   ],
   "source": [
    "np.round(style_cov@np.linalg.inv(style_cov),3)"
   ]
  },
  {
   "cell_type": "code",
   "execution_count": null,
   "id": "d9dd3416-8f38-44cd-b617-8571b4113011",
   "metadata": {},
   "outputs": [],
   "source": [
    "#Above indentity matrix, 1's on the diagonal and 0's all around by the upper and lower triangle"
   ]
  },
  {
   "cell_type": "code",
   "execution_count": 235,
   "id": "c313372f-854d-427e-a658-33bc1dedac32",
   "metadata": {},
   "outputs": [],
   "source": [
    "#for a given c, calc S^(-1)@(er-c)\n",
    "c=0.03/12"
   ]
  },
  {
   "cell_type": "code",
   "execution_count": 240,
   "id": "430174f9-886e-402b-b549-31b8032c2d66",
   "metadata": {},
   "outputs": [],
   "source": [
    "ep1_w=(np.linalg.inv(style_cov)@(style_mean-c))/(np.linalg.inv(style_cov)@style_mean-c).sum()"
   ]
  },
  {
   "cell_type": "code",
   "execution_count": null,
   "id": "6e50250c-fe61-4fa9-a463-71643a8c2a60",
   "metadata": {},
   "outputs": [],
   "source": [
    "#Eff porfolio 1"
   ]
  },
  {
   "cell_type": "code",
   "execution_count": 241,
   "id": "e0bbefcd-51f1-4cd5-9141-6804ab3dbbd4",
   "metadata": {},
   "outputs": [
    {
     "data": {
      "text/plain": [
       "array([-1.59834463,  0.23689889, -2.28040175, -0.52919121,  0.42613908,\n",
       "        0.30239648,  2.95583432,  1.37551721, -0.25664762])"
      ]
     },
     "execution_count": 241,
     "metadata": {},
     "output_type": "execute_result"
    }
   ],
   "source": [
    "ep1_w"
   ]
  },
  {
   "cell_type": "code",
   "execution_count": 242,
   "id": "4160756d-7fd7-4a2b-be2e-3127e4bb7345",
   "metadata": {},
   "outputs": [],
   "source": [
    "ep1_er=ep1_w.T@style_mean\n",
    "ep1_var=ep1_w.T@style_cov@ep1_w\n",
    "ep1_sd=np.sqrt(ep1_var)"
   ]
  },
  {
   "cell_type": "code",
   "execution_count": 244,
   "id": "06d1c3e7-9b7e-4345-9e8b-171fa378aab4",
   "metadata": {},
   "outputs": [
    {
     "data": {
      "text/plain": [
       "0.011934414219123146"
      ]
     },
     "execution_count": 244,
     "metadata": {},
     "output_type": "execute_result"
    }
   ],
   "source": [
    "ep1_er"
   ]
  },
  {
   "cell_type": "code",
   "execution_count": 245,
   "id": "5604654c-d72f-4892-b329-ec95aefde465",
   "metadata": {},
   "outputs": [
    {
     "data": {
      "text/plain": [
       "0.033354313899373544"
      ]
     },
     "execution_count": 245,
     "metadata": {},
     "output_type": "execute_result"
    }
   ],
   "source": [
    "ep1_sd"
   ]
  },
  {
   "cell_type": "code",
   "execution_count": 246,
   "id": "e3028230-38c6-43e1-9b07-d8658823e74c",
   "metadata": {},
   "outputs": [
    {
     "data": {
      "text/plain": [
       "<matplotlib.collections.PathCollection at 0x29c97cdc350>"
      ]
     },
     "execution_count": 246,
     "metadata": {},
     "output_type": "execute_result"
    },
    {
     "data": {
      "image/png": "[encoded data removed]",
      "text/plain": [
       "<Figure size 1200x800 with 1 Axes>"
      ]
     },
     "metadata": {},
     "output_type": "display_data"
    }
   ],
   "source": [
    "fig,ax=plt.subplots(1,1,figsize=(12,8))\n",
    "ax.plot(comb_sd,comb_er)\n",
    "plt.scatter(style_sd,style_mean)\n",
    "ax.scatter(ep1_sd,ep1_er,s=200,color='purple')"
   ]
  },
  {
   "cell_type": "code",
   "execution_count": 247,
   "id": "a51e5ec3-4f06-483b-90b4-c7e28c57f76e",
   "metadata": {},
   "outputs": [],
   "source": [
    "#Thus, purple is an efficient portfolio, that has no constraint"
   ]
  },
  {
   "cell_type": "code",
   "execution_count": null,
   "id": "48c42287-5fb0-4974-9b26-7f761e74c684",
   "metadata": {},
   "outputs": [],
   "source": []
  },
  {
   "cell_type": "code",
   "execution_count": null,
   "id": "0302496b-231c-41b1-aabd-e97d11ee798c",
   "metadata": {},
   "outputs": [],
   "source": []
  },
  {
   "cell_type": "code",
   "execution_count": null,
   "id": "0cb2a287-c332-4f4d-9bb2-f5795d7a0655",
   "metadata": {},
   "outputs": [],
   "source": []
  },
  {
   "cell_type": "code",
   "execution_count": null,
   "id": "97499098-b6d9-4475-8fb5-6a528f0f374f",
   "metadata": {},
   "outputs": [],
   "source": []
  }
 ],
 "metadata": {
  "kernelspec": {
   "display_name": "Python 3 (ipykernel)",
   "language": "python",
   "name": "python3"
  },
  "language_info": {
   "codemirror_mode": {
    "name": "ipython",
    "version": 3
   },
   "file_extension": ".py",
   "mimetype": "text/x-python",
   "name": "python",
   "nbconvert_exporter": "python",
   "pygments_lexer": "ipython3",
   "version": "3.9.12"
  }
 },
 "nbformat": 4,
 "nbformat_minor": 5
}
