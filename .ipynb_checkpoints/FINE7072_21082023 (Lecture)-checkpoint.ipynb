{
 "cells": [
  {
   "cell_type": "code",
   "execution_count": 1,
   "id": "e58f8643-5687-450a-ab1e-4f3c810906e9",
   "metadata": {},
   "outputs": [],
   "source": [
    "import numpy as np\n",
    "import pandas as pd\n",
    "import matplotlib.pyplot as plt\n",
    "from scipy.optimize import minimize\n",
    "import statsmodels.api as sm\n",
    "%matplotlib inline"
   ]
  },
  {
   "cell_type": "code",
   "execution_count": 2,
   "id": "d001e05f-71df-4ff3-a503-b4e0894d422f",
   "metadata": {},
   "outputs": [],
   "source": [
    "data=pd.read_excel('FINE7072_Data.xlsx',index_col=0,sheet_name='MSCI World Styles')"
   ]
  },
  {
   "cell_type": "code",
   "execution_count": 3,
   "id": "a661b4a1-2a06-4bac-923f-0a37ea32fa0b",
   "metadata": {},
   "outputs": [
    {
     "data": {
      "text/html": [
       "<div>\n",
       "<style scoped>\n",
       "    .dataframe tbody tr th:only-of-type {\n",
       "        vertical-align: middle;\n",
       "    }\n",
       "\n",
       "    .dataframe tbody tr th {\n",
       "        vertical-align: top;\n",
       "    }\n",
       "\n",
       "    .dataframe thead th {\n",
       "        text-align: right;\n",
       "    }\n",
       "</style>\n",
       "<table border=\"1\" class=\"dataframe\">\n",
       "  <thead>\n",
       "    <tr style=\"text-align: right;\">\n",
       "      <th></th>\n",
       "      <th>Growth</th>\n",
       "      <th>DY</th>\n",
       "      <th>Big</th>\n",
       "      <th>Med</th>\n",
       "      <th>Low Vol</th>\n",
       "      <th>Momentum</th>\n",
       "      <th>Quality</th>\n",
       "      <th>Small</th>\n",
       "      <th>Value</th>\n",
       "      <th>MSCI/Benchmark</th>\n",
       "    </tr>\n",
       "  </thead>\n",
       "  <tbody>\n",
       "    <tr>\n",
       "      <th>1999-12-31</th>\n",
       "      <td>0.114528</td>\n",
       "      <td>0.028326</td>\n",
       "      <td>0.080825</td>\n",
       "      <td>0.093297</td>\n",
       "      <td>0.046006</td>\n",
       "      <td>0.181733</td>\n",
       "      <td>0.073756</td>\n",
       "      <td>0.070700</td>\n",
       "      <td>0.043750</td>\n",
       "      <td>0.081068</td>\n",
       "    </tr>\n",
       "    <tr>\n",
       "      <th>2000-01-31</th>\n",
       "      <td>-0.062635</td>\n",
       "      <td>-0.075032</td>\n",
       "      <td>-0.056817</td>\n",
       "      <td>-0.035570</td>\n",
       "      <td>-0.049887</td>\n",
       "      <td>-0.062717</td>\n",
       "      <td>-0.058364</td>\n",
       "      <td>-0.007352</td>\n",
       "      <td>-0.051623</td>\n",
       "      <td>-0.057153</td>\n",
       "    </tr>\n",
       "    <tr>\n",
       "      <th>2000-02-29</th>\n",
       "      <td>0.034812</td>\n",
       "      <td>-0.038538</td>\n",
       "      <td>0.009509</td>\n",
       "      <td>0.096106</td>\n",
       "      <td>-0.031109</td>\n",
       "      <td>0.082821</td>\n",
       "      <td>0.010238</td>\n",
       "      <td>0.121294</td>\n",
       "      <td>-0.034412</td>\n",
       "      <td>0.002822</td>\n",
       "    </tr>\n",
       "    <tr>\n",
       "      <th>2000-03-31</th>\n",
       "      <td>0.059648</td>\n",
       "      <td>0.079125</td>\n",
       "      <td>0.054559</td>\n",
       "      <td>0.007403</td>\n",
       "      <td>0.065179</td>\n",
       "      <td>0.036760</td>\n",
       "      <td>0.072823</td>\n",
       "      <td>-0.035602</td>\n",
       "      <td>0.081735</td>\n",
       "      <td>0.069243</td>\n",
       "    </tr>\n",
       "    <tr>\n",
       "      <th>2000-04-30</th>\n",
       "      <td>-0.067054</td>\n",
       "      <td>-0.028712</td>\n",
       "      <td>-0.053913</td>\n",
       "      <td>-0.070233</td>\n",
       "      <td>-0.014138</td>\n",
       "      <td>-0.071582</td>\n",
       "      <td>-0.030626</td>\n",
       "      <td>-0.070706</td>\n",
       "      <td>-0.016697</td>\n",
       "      <td>-0.042168</td>\n",
       "    </tr>\n",
       "    <tr>\n",
       "      <th>...</th>\n",
       "      <td>...</td>\n",
       "      <td>...</td>\n",
       "      <td>...</td>\n",
       "      <td>...</td>\n",
       "      <td>...</td>\n",
       "      <td>...</td>\n",
       "      <td>...</td>\n",
       "      <td>...</td>\n",
       "      <td>...</td>\n",
       "      <td>...</td>\n",
       "    </tr>\n",
       "    <tr>\n",
       "      <th>2022-05-31</th>\n",
       "      <td>-0.022239</td>\n",
       "      <td>0.011842</td>\n",
       "      <td>0.001871</td>\n",
       "      <td>-0.000320</td>\n",
       "      <td>-0.006698</td>\n",
       "      <td>-0.000824</td>\n",
       "      <td>-0.010048</td>\n",
       "      <td>-0.001433</td>\n",
       "      <td>0.021822</td>\n",
       "      <td>0.001526</td>\n",
       "    </tr>\n",
       "    <tr>\n",
       "      <th>2022-06-30</th>\n",
       "      <td>-0.084565</td>\n",
       "      <td>-0.064765</td>\n",
       "      <td>-0.083817</td>\n",
       "      <td>-0.099361</td>\n",
       "      <td>-0.043204</td>\n",
       "      <td>-0.074508</td>\n",
       "      <td>-0.078087</td>\n",
       "      <td>-0.099359</td>\n",
       "      <td>-0.087850</td>\n",
       "      <td>-0.086264</td>\n",
       "    </tr>\n",
       "    <tr>\n",
       "      <th>2022-07-31</th>\n",
       "      <td>0.115435</td>\n",
       "      <td>0.026477</td>\n",
       "      <td>0.079259</td>\n",
       "      <td>0.081991</td>\n",
       "      <td>0.036132</td>\n",
       "      <td>0.044136</td>\n",
       "      <td>0.085214</td>\n",
       "      <td>0.091345</td>\n",
       "      <td>0.046159</td>\n",
       "      <td>0.079682</td>\n",
       "    </tr>\n",
       "    <tr>\n",
       "      <th>2022-08-31</th>\n",
       "      <td>-0.052612</td>\n",
       "      <td>-0.039677</td>\n",
       "      <td>-0.042711</td>\n",
       "      <td>-0.034367</td>\n",
       "      <td>-0.029204</td>\n",
       "      <td>-0.025037</td>\n",
       "      <td>-0.058231</td>\n",
       "      <td>-0.032233</td>\n",
       "      <td>-0.030202</td>\n",
       "      <td>-0.041416</td>\n",
       "    </tr>\n",
       "    <tr>\n",
       "      <th>2022-09-30</th>\n",
       "      <td>-0.101075</td>\n",
       "      <td>-0.075061</td>\n",
       "      <td>-0.090761</td>\n",
       "      <td>-0.102090</td>\n",
       "      <td>-0.068314</td>\n",
       "      <td>-0.072724</td>\n",
       "      <td>-0.090592</td>\n",
       "      <td>-0.102130</td>\n",
       "      <td>-0.084174</td>\n",
       "      <td>-0.092550</td>\n",
       "    </tr>\n",
       "  </tbody>\n",
       "</table>\n",
       "<p>274 rows × 10 columns</p>\n",
       "</div>"
      ],
      "text/plain": [
       "              Growth        DY       Big       Med   Low Vol  Momentum  \\\n",
       "1999-12-31  0.114528  0.028326  0.080825  0.093297  0.046006  0.181733   \n",
       "2000-01-31 -0.062635 -0.075032 -0.056817 -0.035570 -0.049887 -0.062717   \n",
       "2000-02-29  0.034812 -0.038538  0.009509  0.096106 -0.031109  0.082821   \n",
       "2000-03-31  0.059648  0.079125  0.054559  0.007403  0.065179  0.036760   \n",
       "2000-04-30 -0.067054 -0.028712 -0.053913 -0.070233 -0.014138 -0.071582   \n",
       "...              ...       ...       ...       ...       ...       ...   \n",
       "2022-05-31 -0.022239  0.011842  0.001871 -0.000320 -0.006698 -0.000824   \n",
       "2022-06-30 -0.084565 -0.064765 -0.083817 -0.099361 -0.043204 -0.074508   \n",
       "2022-07-31  0.115435  0.026477  0.079259  0.081991  0.036132  0.044136   \n",
       "2022-08-31 -0.052612 -0.039677 -0.042711 -0.034367 -0.029204 -0.025037   \n",
       "2022-09-30 -0.101075 -0.075061 -0.090761 -0.102090 -0.068314 -0.072724   \n",
       "\n",
       "             Quality     Small     Value  MSCI/Benchmark  \n",
       "1999-12-31  0.073756  0.070700  0.043750        0.081068  \n",
       "2000-01-31 -0.058364 -0.007352 -0.051623       -0.057153  \n",
       "2000-02-29  0.010238  0.121294 -0.034412        0.002822  \n",
       "2000-03-31  0.072823 -0.035602  0.081735        0.069243  \n",
       "2000-04-30 -0.030626 -0.070706 -0.016697       -0.042168  \n",
       "...              ...       ...       ...             ...  \n",
       "2022-05-31 -0.010048 -0.001433  0.021822        0.001526  \n",
       "2022-06-30 -0.078087 -0.099359 -0.087850       -0.086264  \n",
       "2022-07-31  0.085214  0.091345  0.046159        0.079682  \n",
       "2022-08-31 -0.058231 -0.032233 -0.030202       -0.041416  \n",
       "2022-09-30 -0.090592 -0.102130 -0.084174       -0.092550  \n",
       "\n",
       "[274 rows x 10 columns]"
      ]
     },
     "execution_count": 3,
     "metadata": {},
     "output_type": "execute_result"
    }
   ],
   "source": [
    "data"
   ]
  },
  {
   "cell_type": "code",
   "execution_count": 4,
   "id": "a3072f40-fa6c-42f5-9543-ef1162eb72ca",
   "metadata": {},
   "outputs": [],
   "source": [
    "style=data.iloc[:,:-1]\n",
    "bnch=data.iloc[:,-1]"
   ]
  },
  {
   "cell_type": "markdown",
   "id": "562fcf34-f8fc-44a3-8624-5cb5cb1c8f99",
   "metadata": {},
   "source": [
    "Let's assume a constant to be applied as risk-free proxy of 5% per annum"
   ]
  },
  {
   "cell_type": "code",
   "execution_count": 5,
   "id": "06fa01f9-18d9-4b77-80be-02a17509d182",
   "metadata": {},
   "outputs": [],
   "source": [
    "c=0.05/12"
   ]
  },
  {
   "cell_type": "markdown",
   "id": "2ce85013-b3b2-42a3-9df3-efdf0d6d88a1",
   "metadata": {},
   "source": [
    "### Remember, the three most important equations are\n",
    "\n",
    "$$ \n",
    "\\sigma^{2}_{p} = w^{t}\\Sigma w \\tag{1}\n",
    "$$\n",
    "\n",
    "$$\n",
    "    e(r_{p})=w^{t}r_{i} \\tag{2}\n",
    "$$\n",
    "\n",
    "And\n",
    "\n",
    "$$ \n",
    "    z_{i} = \\frac{\\Sigma^{-1}[E(r_{i})-c]}{\\pmb1^{t}\\Sigma^{-1}[E(r_{i})-c]} \\tag{3}\n",
    "$$\n",
    "where $\\Sigma$ is the covariance matrix, $r_{i}$ is a vector of average returns, $\\pmb1$ is a vector of ones and $z_{i}$ is the efficient weights. The denominator is the matrix form of defining the sum of the $\\Sigma^{-1}[E(r)-c]$"
   ]
  },
  {
   "cell_type": "code",
   "execution_count": 6,
   "id": "f5aae1bc-ede2-402b-87ca-19d9e12b9fb8",
   "metadata": {},
   "outputs": [],
   "source": [
    "style_mean=style.mean()\n",
    "style_cov=style.cov()\n",
    "style_er=style_mean-c"
   ]
  },
  {
   "cell_type": "code",
   "execution_count": 7,
   "id": "4b400393-171b-491e-960a-a1bea6051419",
   "metadata": {},
   "outputs": [
    {
     "data": {
      "text/plain": [
       "3.586744490326111"
      ]
     },
     "execution_count": 7,
     "metadata": {},
     "output_type": "execute_result"
    }
   ],
   "source": [
    "np.sum(np.linalg.inv(style_cov)@style_er)"
   ]
  },
  {
   "cell_type": "code",
   "execution_count": 8,
   "id": "ee9e6013-eb8d-4e1a-9558-c7f04f012fcf",
   "metadata": {},
   "outputs": [
    {
     "data": {
      "text/plain": [
       "3.5867444903260983"
      ]
     },
     "execution_count": 8,
     "metadata": {},
     "output_type": "execute_result"
    }
   ],
   "source": [
    "np.ones(len(style_er)).T@np.linalg.inv(style_cov)@style_er"
   ]
  },
  {
   "cell_type": "code",
   "execution_count": 9,
   "id": "5454cf92-f2d2-405f-8fa5-f3013539828b",
   "metadata": {},
   "outputs": [],
   "source": [
    "z1=(np.linalg.inv(style_cov)@style_er)/(np.ones(len(style_er)).T@np.linalg.inv(style_cov)@style_er)"
   ]
  },
  {
   "cell_type": "code",
   "execution_count": 10,
   "id": "da640d2d-e247-4f38-9560-c136171d48f4",
   "metadata": {},
   "outputs": [
    {
     "data": {
      "text/plain": [
       "array([-2.9298905 ,  1.13368744, -7.40464389, -0.94977479,  0.04258948,\n",
       "        0.74900927,  7.21134372,  3.25633664, -0.10865737])"
      ]
     },
     "execution_count": 10,
     "metadata": {},
     "output_type": "execute_result"
    }
   ],
   "source": [
    "z1"
   ]
  },
  {
   "cell_type": "markdown",
   "id": "88bf60ae-62f5-48ab-bb94-c0d9fff9edc5",
   "metadata": {},
   "source": [
    "Lets find another efficient portfolio using a different c"
   ]
  },
  {
   "cell_type": "code",
   "execution_count": 11,
   "id": "930712a5-7f90-4938-bcb1-193303637f57",
   "metadata": {},
   "outputs": [],
   "source": [
    "c2=0.04/12"
   ]
  },
  {
   "cell_type": "code",
   "execution_count": 12,
   "id": "ed28e29d-79e7-4abc-a0cc-1516bc549e76",
   "metadata": {},
   "outputs": [],
   "source": [
    "style_er2=style_mean-c2"
   ]
  },
  {
   "cell_type": "code",
   "execution_count": 13,
   "id": "65ef7bea-8973-4a1b-a524-7aa6ec67db47",
   "metadata": {},
   "outputs": [],
   "source": [
    "z2=(np.linalg.inv(style_cov)@style_er2)/(np.linalg.inv(style_cov)@style_er2).sum()"
   ]
  },
  {
   "cell_type": "code",
   "execution_count": 14,
   "id": "47545f2f-cfb8-4ad8-b231-246231c2e6df",
   "metadata": {},
   "outputs": [
    {
     "data": {
      "text/plain": [
       "array([-2.68034563,  0.66216254, -5.04532523, -0.8797494 ,  0.43490252,\n",
       "        0.58083967,  5.63587396,  2.58500425, -0.29336267])"
      ]
     },
     "execution_count": 14,
     "metadata": {},
     "output_type": "execute_result"
    }
   ],
   "source": [
    "z2"
   ]
  },
  {
   "cell_type": "code",
   "execution_count": 15,
   "id": "d80ef4ce-4ddc-4667-be33-a1be598d525c",
   "metadata": {},
   "outputs": [],
   "source": [
    "pf_ret1=z1.T@style_mean\n",
    "pf_var1=z1.T@style_cov@z1\n",
    "pf_sd1=np.sqrt(pf_var1)"
   ]
  },
  {
   "cell_type": "code",
   "execution_count": 16,
   "id": "004ec8b1-6567-4769-98ff-4f232f77f75f",
   "metadata": {},
   "outputs": [],
   "source": [
    "pf_ret2=z2.T@style_mean\n",
    "pf_var2=z2.T@style_cov@z2\n",
    "pf_sd2=np.sqrt(pf_var2)"
   ]
  },
  {
   "cell_type": "code",
   "execution_count": 17,
   "id": "01fa2536-0268-4dd6-a6a1-827fa578336a",
   "metadata": {},
   "outputs": [],
   "source": [
    "cov12=z1.T@style_cov@z2"
   ]
  },
  {
   "cell_type": "code",
   "execution_count": 18,
   "id": "9671fdcc-7966-4c14-b07f-c6367aa8c99e",
   "metadata": {},
   "outputs": [
    {
     "name": "stdout",
     "output_type": "stream",
     "text": [
      "0.026632058609221586 0.07914195606304054\n",
      "0.0218144086298401 0.062472932250299144\n"
     ]
    }
   ],
   "source": [
    "print(pf_ret1,pf_sd1)\n",
    "print(pf_ret2,pf_sd2)"
   ]
  },
  {
   "cell_type": "markdown",
   "id": "b7d7b6af-5b62-4dfa-8bc1-04bf57ae07f4",
   "metadata": {},
   "source": [
    "Remember, all you need to generate an efficient envelope of portfolios i.e. the efficient frontier, is two efficient portfolios"
   ]
  },
  {
   "cell_type": "code",
   "execution_count": 19,
   "id": "a6238dd6-dfa5-407a-bb18-df5e78bd7581",
   "metadata": {},
   "outputs": [],
   "source": [
    "ef_wght=np.arange(-5,3,0.1)"
   ]
  },
  {
   "cell_type": "code",
   "execution_count": 20,
   "id": "fb25d434-e062-43ee-99ef-215e6dd6184c",
   "metadata": {},
   "outputs": [],
   "source": [
    "ef_ret=pf_ret1*ef_wght+pf_ret2*(1-ef_wght)\n",
    "ef_var=ef_wght**2*pf_var1+(1-ef_wght)**2*pf_var2+2*ef_wght*(1-ef_wght)*cov12\n",
    "ef_std=np.sqrt(ef_var)"
   ]
  },
  {
   "cell_type": "code",
   "execution_count": 21,
   "id": "858092e9-462c-40aa-b443-f3c86fe44671",
   "metadata": {},
   "outputs": [
    {
     "data": {
      "text/plain": [
       "[<matplotlib.lines.Line2D at 0x173fe4210>]"
      ]
     },
     "execution_count": 21,
     "metadata": {},
     "output_type": "execute_result"
    },
    {
     "data": {
      "image/png": "[encoded data removed]",
      "text/plain": [
       "<Figure size 1200x800 with 1 Axes>"
      ]
     },
     "metadata": {},
     "output_type": "display_data"
    }
   ],
   "source": [
    "fig,ax=plt.subplots(figsize=(12,8))\n",
    "plt.plot(ef_std,ef_ret,color='k')"
   ]
  },
  {
   "cell_type": "markdown",
   "id": "1fef6178-dcfa-4c55-b168-e25adf9347e9",
   "metadata": {},
   "source": [
    "#### Testing whether the market portfolio is efficient\n",
    "One of the earliest tests of the CAPM was in essence determining whether market portfolio is efficient. The methodology known as the 'two-pass' regression inspired Fama-Macbeth which is still used in literature today for determining risk-premia associated with priced factors. The basis of the two-pass regression is actually quite simple:\n",
    "1) Time-series regression to determine time-series betas\n",
    "2) Cross-sectional regression to detemine risk-premia (average excess returns on time-series betas)"
   ]
  },
  {
   "cell_type": "markdown",
   "id": "7de2a912-6bf8-4700-881b-1cff870b7cac",
   "metadata": {},
   "source": [
    "The first pass regression takes the form:\n",
    "$$ \n",
    "    r_{i,t}-r_{f} = \\alpha_{i} + \\beta_{i}(Rm-r_{f})+\\epsilon_{i,t} \\tag{I}\n",
    "$$ \n",
    "where $\\beta_{i}$ is the time-series betas of the respective shares or portfolios which are then regressed cross-sectionally against the same \n",
    "portfolios average excess returns in the second-pass regression below\n",
    "$$\n",
    "    \\overline{r_{i}}-r_{f}=\\gamma_{0}+\\gamma_{1}\\beta_{i}+\\varepsilon_{i} \\tag{II}\n",
    "$$\n",
    "If the market portfolio is indeed the market portfolio and is therefore efficient then **$\\gamma_{0}$** should equal zero **and** $\\gamma_{1}$ should equal the market risk-premium. We can prove this by using our efficient portfolio 1 that applied an assumed risk-free rate (c) of 5%"
   ]
  },
  {
   "cell_type": "code",
   "execution_count": 22,
   "id": "8d1b81d2-d83f-4ef8-b22d-fa37d001a0d3",
   "metadata": {},
   "outputs": [],
   "source": [
    "ef1_ts=(z1*style).sum(1)"
   ]
  },
  {
   "cell_type": "code",
   "execution_count": 23,
   "id": "9cffc89c-dbff-4718-ab20-72cc3215f162",
   "metadata": {},
   "outputs": [],
   "source": [
    "style_tser=style-c\n",
    "ef1_tser=ef1_ts-c"
   ]
  },
  {
   "cell_type": "code",
   "execution_count": 24,
   "id": "f6515d25-761c-400f-a05c-05e8c172e58d",
   "metadata": {},
   "outputs": [],
   "source": [
    "EMRP_ef1=sm.add_constant(ef1_tser)"
   ]
  },
  {
   "cell_type": "code",
   "execution_count": 25,
   "id": "3f54bf99-42c7-442a-be73-ca7e8dfb25bd",
   "metadata": {},
   "outputs": [],
   "source": [
    "EMRP_ef1.columns=['α_ts','β_ts']"
   ]
  },
  {
   "cell_type": "code",
   "execution_count": 26,
   "id": "3f1df4d0-c126-4b0c-8b44-5bd9a0deee04",
   "metadata": {},
   "outputs": [
    {
     "data": {
      "text/html": [
       "<div>\n",
       "<style scoped>\n",
       "    .dataframe tbody tr th:only-of-type {\n",
       "        vertical-align: middle;\n",
       "    }\n",
       "\n",
       "    .dataframe tbody tr th {\n",
       "        vertical-align: top;\n",
       "    }\n",
       "\n",
       "    .dataframe thead th {\n",
       "        text-align: right;\n",
       "    }\n",
       "</style>\n",
       "<table border=\"1\" class=\"dataframe\">\n",
       "  <thead>\n",
       "    <tr style=\"text-align: right;\">\n",
       "      <th></th>\n",
       "      <th>α_ts</th>\n",
       "      <th>β_ts</th>\n",
       "    </tr>\n",
       "  </thead>\n",
       "  <tbody>\n",
       "    <tr>\n",
       "      <th>1999-12-31</th>\n",
       "      <td>1.0</td>\n",
       "      <td>-0.099273</td>\n",
       "    </tr>\n",
       "    <tr>\n",
       "      <th>2000-01-31</th>\n",
       "      <td>1.0</td>\n",
       "      <td>0.060463</td>\n",
       "    </tr>\n",
       "    <tr>\n",
       "      <th>2000-02-29</th>\n",
       "      <td>1.0</td>\n",
       "      <td>0.221711</td>\n",
       "    </tr>\n",
       "    <tr>\n",
       "      <th>2000-03-31</th>\n",
       "      <td>1.0</td>\n",
       "      <td>-0.069596</td>\n",
       "    </tr>\n",
       "    <tr>\n",
       "      <th>2000-04-30</th>\n",
       "      <td>1.0</td>\n",
       "      <td>0.122160</td>\n",
       "    </tr>\n",
       "    <tr>\n",
       "      <th>...</th>\n",
       "      <td>...</td>\n",
       "      <td>...</td>\n",
       "    </tr>\n",
       "    <tr>\n",
       "      <th>2022-05-31</th>\n",
       "      <td>1.0</td>\n",
       "      <td>-0.019530</td>\n",
       "    </tr>\n",
       "    <tr>\n",
       "      <th>2022-06-30</th>\n",
       "      <td>1.0</td>\n",
       "      <td>-0.049581</td>\n",
       "    </tr>\n",
       "    <tr>\n",
       "      <th>2022-07-31</th>\n",
       "      <td>1.0</td>\n",
       "      <td>-0.035577</td>\n",
       "    </tr>\n",
       "    <tr>\n",
       "      <th>2022-08-31</th>\n",
       "      <td>1.0</td>\n",
       "      <td>-0.087693</td>\n",
       "    </tr>\n",
       "    <tr>\n",
       "      <th>2022-09-30</th>\n",
       "      <td>1.0</td>\n",
       "      <td>-0.058200</td>\n",
       "    </tr>\n",
       "  </tbody>\n",
       "</table>\n",
       "<p>274 rows × 2 columns</p>\n",
       "</div>"
      ],
      "text/plain": [
       "            α_ts      β_ts\n",
       "1999-12-31   1.0 -0.099273\n",
       "2000-01-31   1.0  0.060463\n",
       "2000-02-29   1.0  0.221711\n",
       "2000-03-31   1.0 -0.069596\n",
       "2000-04-30   1.0  0.122160\n",
       "...          ...       ...\n",
       "2022-05-31   1.0 -0.019530\n",
       "2022-06-30   1.0 -0.049581\n",
       "2022-07-31   1.0 -0.035577\n",
       "2022-08-31   1.0 -0.087693\n",
       "2022-09-30   1.0 -0.058200\n",
       "\n",
       "[274 rows x 2 columns]"
      ]
     },
     "execution_count": 26,
     "metadata": {},
     "output_type": "execute_result"
    }
   ],
   "source": [
    "EMRP_ef1"
   ]
  },
  {
   "cell_type": "code",
   "execution_count": 27,
   "id": "60db54c3-73e3-44c0-9b71-9da91b79a06c",
   "metadata": {},
   "outputs": [],
   "source": [
    "ols=sm.OLS(style_tser['Growth'],EMRP_ef1)"
   ]
  },
  {
   "cell_type": "code",
   "execution_count": 28,
   "id": "f792cbee-0022-4f70-ba2c-10c62104ff27",
   "metadata": {},
   "outputs": [],
   "source": [
    "out=ols.fit()"
   ]
  },
  {
   "cell_type": "code",
   "execution_count": 29,
   "id": "d19bccd0-197f-40eb-a15d-de5c9e26b8c2",
   "metadata": {},
   "outputs": [
    {
     "data": {
      "text/plain": [
       "α_ts    5.178751e-17\n",
       "β_ts    4.060915e-02\n",
       "dtype: float64"
      ]
     },
     "execution_count": 29,
     "metadata": {},
     "output_type": "execute_result"
    }
   ],
   "source": [
    "out.params"
   ]
  },
  {
   "cell_type": "code",
   "execution_count": 30,
   "id": "821e4a28-6369-46ec-84b2-aea9da310633",
   "metadata": {},
   "outputs": [],
   "source": [
    "frst_pass=[]\n",
    "for col in style_tser.columns:\n",
    "    ols_model=sm.OLS(style_tser.loc[:,col],EMRP_ef1)\n",
    "    ols_out=ols_model.fit()\n",
    "    frst_pass.append(ols_out.params)"
   ]
  },
  {
   "cell_type": "code",
   "execution_count": 31,
   "id": "4ba700a1-adf9-408f-952b-cf032c7ce3b3",
   "metadata": {},
   "outputs": [],
   "source": [
    "frst_pass_df=pd.concat(frst_pass,axis=1).T"
   ]
  },
  {
   "cell_type": "code",
   "execution_count": 32,
   "id": "8576f7d7-f0c9-4e53-84db-4c2b9290c5be",
   "metadata": {},
   "outputs": [
    {
     "data": {
      "text/html": [
       "<div>\n",
       "<style scoped>\n",
       "    .dataframe tbody tr th:only-of-type {\n",
       "        vertical-align: middle;\n",
       "    }\n",
       "\n",
       "    .dataframe tbody tr th {\n",
       "        vertical-align: top;\n",
       "    }\n",
       "\n",
       "    .dataframe thead th {\n",
       "        text-align: right;\n",
       "    }\n",
       "</style>\n",
       "<table border=\"1\" class=\"dataframe\">\n",
       "  <thead>\n",
       "    <tr style=\"text-align: right;\">\n",
       "      <th></th>\n",
       "      <th>α_ts</th>\n",
       "      <th>β_ts</th>\n",
       "    </tr>\n",
       "  </thead>\n",
       "  <tbody>\n",
       "    <tr>\n",
       "      <th>0</th>\n",
       "      <td>5.178751e-17</td>\n",
       "      <td>0.040609</td>\n",
       "    </tr>\n",
       "    <tr>\n",
       "      <th>1</th>\n",
       "      <td>5.990398e-17</td>\n",
       "      <td>0.070936</td>\n",
       "    </tr>\n",
       "    <tr>\n",
       "      <th>2</th>\n",
       "      <td>5.649358e-17</td>\n",
       "      <td>0.029080</td>\n",
       "    </tr>\n",
       "    <tr>\n",
       "      <th>3</th>\n",
       "      <td>6.745983e-17</td>\n",
       "      <td>0.101616</td>\n",
       "    </tr>\n",
       "    <tr>\n",
       "      <th>4</th>\n",
       "      <td>2.950524e-17</td>\n",
       "      <td>0.077301</td>\n",
       "    </tr>\n",
       "    <tr>\n",
       "      <th>5</th>\n",
       "      <td>4.809178e-17</td>\n",
       "      <td>0.118183</td>\n",
       "    </tr>\n",
       "    <tr>\n",
       "      <th>6</th>\n",
       "      <td>4.551369e-17</td>\n",
       "      <td>0.100070</td>\n",
       "    </tr>\n",
       "    <tr>\n",
       "      <th>7</th>\n",
       "      <td>5.318105e-17</td>\n",
       "      <td>0.166336</td>\n",
       "    </tr>\n",
       "    <tr>\n",
       "      <th>8</th>\n",
       "      <td>5.183077e-17</td>\n",
       "      <td>0.043232</td>\n",
       "    </tr>\n",
       "  </tbody>\n",
       "</table>\n",
       "</div>"
      ],
      "text/plain": [
       "           α_ts      β_ts\n",
       "0  5.178751e-17  0.040609\n",
       "1  5.990398e-17  0.070936\n",
       "2  5.649358e-17  0.029080\n",
       "3  6.745983e-17  0.101616\n",
       "4  2.950524e-17  0.077301\n",
       "5  4.809178e-17  0.118183\n",
       "6  4.551369e-17  0.100070\n",
       "7  5.318105e-17  0.166336\n",
       "8  5.183077e-17  0.043232"
      ]
     },
     "execution_count": 32,
     "metadata": {},
     "output_type": "execute_result"
    }
   ],
   "source": [
    "frst_pass_df"
   ]
  },
  {
   "cell_type": "code",
   "execution_count": 33,
   "id": "115143aa-f5a1-497a-b97a-db36e455cd1a",
   "metadata": {},
   "outputs": [],
   "source": [
    "X_scd=sm.add_constant(frst_pass_df['β_ts'])"
   ]
  },
  {
   "cell_type": "code",
   "execution_count": 34,
   "id": "332f7242-3e3b-4774-bbc8-f24a93604c66",
   "metadata": {},
   "outputs": [],
   "source": [
    "X_scd.columns=['γ0','γ1']"
   ]
  },
  {
   "cell_type": "code",
   "execution_count": 35,
   "id": "95a78d67-bb21-4437-9424-6d8f1bbf9a49",
   "metadata": {},
   "outputs": [],
   "source": [
    "sec_pass=sm.OLS(style_er.values,X_scd.values)"
   ]
  },
  {
   "cell_type": "code",
   "execution_count": 36,
   "id": "a72ee002-ac79-4420-b0a7-ee0e6941c9de",
   "metadata": {},
   "outputs": [],
   "source": [
    "sec_pass_out=sec_pass.fit()"
   ]
  },
  {
   "cell_type": "code",
   "execution_count": 37,
   "id": "bd3940ec-2ec7-405d-a804-622cbc0b5719",
   "metadata": {},
   "outputs": [
    {
     "data": {
      "text/plain": [
       "0.0"
      ]
     },
     "execution_count": 37,
     "metadata": {},
     "output_type": "execute_result"
    }
   ],
   "source": [
    "np.round(pd.Series(sec_pass_out.params,index=X_scd.columns)[0],4)"
   ]
  },
  {
   "cell_type": "code",
   "execution_count": 38,
   "id": "edda9dd3-7dd6-4543-9211-21e8b6ac22ef",
   "metadata": {},
   "outputs": [
    {
     "data": {
      "text/plain": [
       "0.022465391942554924"
      ]
     },
     "execution_count": 38,
     "metadata": {},
     "output_type": "execute_result"
    }
   ],
   "source": [
    "pd.Series(sec_pass_out.params,index=X_scd.columns)[1]"
   ]
  },
  {
   "cell_type": "code",
   "execution_count": 39,
   "id": "0f98c06d-aef4-467d-b42b-a25fcca74b6e",
   "metadata": {},
   "outputs": [
    {
     "data": {
      "text/plain": [
       "0.022465391942554928"
      ]
     },
     "execution_count": 39,
     "metadata": {},
     "output_type": "execute_result"
    }
   ],
   "source": [
    "ef1_tser.mean()"
   ]
  },
  {
   "cell_type": "code",
   "execution_count": 40,
   "id": "f6d1e11f-b825-4ef0-b29e-a2cefbe5e42c",
   "metadata": {},
   "outputs": [
    {
     "data": {
      "text/plain": [
       "<matplotlib.collections.PathCollection at 0x1744afd90>"
      ]
     },
     "execution_count": 40,
     "metadata": {},
     "output_type": "execute_result"
    },
    {
     "data": {
      "image/png": "[encoded data removed]",
      "text/plain": [
       "<Figure size 1200x800 with 1 Axes>"
      ]
     },
     "metadata": {},
     "output_type": "display_data"
    }
   ],
   "source": [
    "fig,ax=plt.subplots(figsize=(12,8))\n",
    "plt.plot(ef_std,ef_ret,color='k')\n",
    "ax.scatter(pf_sd1,pf_ret1,color='green',s=250,zorder=2)\n",
    "ax.scatter(bnch.std(),bnch.mean(),color='red',s=250,zorder=3)"
   ]
  },
  {
   "cell_type": "markdown",
   "id": "f09240d4-576f-49ab-8cd9-39c234e9694c",
   "metadata": {},
   "source": [
    "#### Global Minimum Variance & Shrinkage Methods "
   ]
  },
  {
   "cell_type": "markdown",
   "id": "0d7e1cc9-722a-4b20-b9fe-f3bfca757177",
   "metadata": {},
   "source": [
    "The GMVP is a portfolio that sits at the far left of your efficient frontier and is effectively optimised on risk alone i.e.\n",
    "$$\n",
    "    min(\\sigma_{p}) = GMVP \\tag{1}\n",
    "$$\n",
    "\n",
    "With some linear algebra and optimisation via a Lagrangean mathematics, the GMVP can be represented as:\n",
    "\n",
    "$$\n",
    "  GMVP= \\frac{\\Sigma^{-1}\\pmb{1}}{{\\pmb{1^{t}} \\Sigma^{-1} \\pmb{1}}} \\tag{2}\n",
    "$$\n",
    "\n",
    "Where $\\Sigma$ is the variance-covariance matrix and $\\pmb{1}$ is an nx1 columns vector. Shrinking the covariance matrix is actually very simple where we shrink the covariance component while maintaining the variance diagnol. Therefore if we have a weighting metric, $\\delta$, we can think of the process as:\n",
    "\n",
    "$$\n",
    "    \\Sigma_{shrink} = \\Sigma(1-\\delta) + V\\delta\n",
    "$$\n",
    "\n",
    "Where $V$ is a the variance diagnol matrix with zeros in the upper and lower triangles and asset variances on the diagnol\n"
   ]
  },
  {
   "cell_type": "code",
   "execution_count": 41,
   "id": "96e434eb-72a6-486b-b9f6-581a94118c3a",
   "metadata": {},
   "outputs": [],
   "source": [
    "#GMVP\n",
    "ones_vec=np.ones(len(style_cov))"
   ]
  },
  {
   "cell_type": "code",
   "execution_count": 42,
   "id": "058398f2-23a1-43e5-8698-b21601ba1e73",
   "metadata": {},
   "outputs": [
    {
     "data": {
      "text/plain": [
       "array([1., 1., 1., 1., 1., 1., 1., 1., 1.])"
      ]
     },
     "execution_count": 42,
     "metadata": {},
     "output_type": "execute_result"
    }
   ],
   "source": [
    "ones_vec"
   ]
  },
  {
   "cell_type": "code",
   "execution_count": 43,
   "id": "7884eb87-0868-43ba-bc9a-75d5f8d59523",
   "metadata": {},
   "outputs": [],
   "source": [
    "gmvp=np.linalg.inv(style_cov)@ones_vec/(ones_vec.T@np.linalg.inv(style_cov)@ones_vec)"
   ]
  },
  {
   "cell_type": "code",
   "execution_count": 45,
   "id": "345407b2-ae26-4fde-933f-88da0a1aadc0",
   "metadata": {},
   "outputs": [],
   "source": [
    "gmvp_ser=pd.Series(gmvp,index=style_cov.index)"
   ]
  },
  {
   "cell_type": "code",
   "execution_count": 46,
   "id": "e5ce4e45-6865-4c61-8023-5466df0804de",
   "metadata": {},
   "outputs": [
    {
     "data": {
      "text/plain": [
       "Growth     -1.901029\n",
       "DY         -0.810386\n",
       "Big         2.322710\n",
       "Med        -0.661064\n",
       "Low Vol     1.660077\n",
       "Momentum    0.055654\n",
       "Quality     0.715760\n",
       "Small       0.488466\n",
       "Value      -0.870188\n",
       "dtype: float64"
      ]
     },
     "execution_count": 46,
     "metadata": {},
     "output_type": "execute_result"
    }
   ],
   "source": [
    "gmvp_ser"
   ]
  },
  {
   "cell_type": "code",
   "execution_count": 47,
   "id": "b8e9148d-9e11-42f1-809f-11b4f5bc4dd2",
   "metadata": {},
   "outputs": [],
   "source": [
    "gmvp_ret=gmvp_ser.T@style_mean\n",
    "gmvp_sd=np.sqrt(gmvp_ser.T@style_cov@gmvp_ser)"
   ]
  },
  {
   "cell_type": "code",
   "execution_count": 48,
   "id": "96b07838-f8ba-4657-86c5-d3aed500ac45",
   "metadata": {},
   "outputs": [
    {
     "name": "stdout",
     "output_type": "stream",
     "text": [
      "0.006769125534823072 0.026936534254289143\n"
     ]
    }
   ],
   "source": [
    "print(gmvp_ret,gmvp_sd)"
   ]
  },
  {
   "cell_type": "code",
   "execution_count": 49,
   "id": "ec6cbcc5-5b1f-478d-87f0-22aaaddfa477",
   "metadata": {},
   "outputs": [
    {
     "data": {
      "text/plain": [
       "<matplotlib.collections.PathCollection at 0x176be2f10>"
      ]
     },
     "execution_count": 49,
     "metadata": {},
     "output_type": "execute_result"
    },
    {
     "data": {
      "image/png": "[encoded data removed]",
      "text/plain": [
       "<Figure size 1200x800 with 1 Axes>"
      ]
     },
     "metadata": {},
     "output_type": "display_data"
    }
   ],
   "source": [
    "fig,ax=plt.subplots(figsize=(12,8))\n",
    "plt.plot(ef_std,ef_ret,color='k')\n",
    "ax.scatter(pf_sd1,pf_ret1,color='green',s=250,zorder=2)\n",
    "ax.scatter(bnch.std(),bnch.mean(),color='red',s=250,zorder=3)\n",
    "ax.scatter(gmvp_sd,gmvp_ret,color='blue',s=350,zorder=3)"
   ]
  },
  {
   "cell_type": "code",
   "execution_count": 54,
   "id": "a0debee9-fb87-45d0-8e32-1469202e7090",
   "metadata": {},
   "outputs": [],
   "source": [
    "#Shrinkage Methods on var-cov matrix\n",
    "ID_mat=pd.DataFrame(np.identity(len(style_cov)),index=style_cov.index,columns=style_cov.columns)"
   ]
  },
  {
   "cell_type": "code",
   "execution_count": 57,
   "id": "7d9ab348-890a-4d3e-9504-c0e7cfded604",
   "metadata": {},
   "outputs": [],
   "source": [
    "var_diag=style.var()*ID_mat"
   ]
  },
  {
   "cell_type": "code",
   "execution_count": 142,
   "id": "53c9301e-6b04-4107-beea-423d3448a515",
   "metadata": {},
   "outputs": [],
   "source": [
    "delta=0.95"
   ]
  },
  {
   "cell_type": "code",
   "execution_count": 143,
   "id": "09568be3-dd34-41ad-879a-89ce15b11862",
   "metadata": {},
   "outputs": [],
   "source": [
    "cov_sh=style_cov*(1-delta)+var_diag*delta"
   ]
  },
  {
   "cell_type": "code",
   "execution_count": 144,
   "id": "0adf9374-db52-4535-8de1-ee195e47c3c1",
   "metadata": {},
   "outputs": [
    {
     "data": {
      "text/plain": [
       "0.004166666666666667"
      ]
     },
     "execution_count": 144,
     "metadata": {},
     "output_type": "execute_result"
    }
   ],
   "source": [
    "c"
   ]
  },
  {
   "cell_type": "code",
   "execution_count": 145,
   "id": "be808d8b-26b6-4d09-9905-e168c3672a77",
   "metadata": {},
   "outputs": [],
   "source": [
    "eff_pf_covshr=(np.linalg.inv(cov_sh)@style_er)/(np.linalg.inv(cov_sh)@style_er).sum()"
   ]
  },
  {
   "cell_type": "code",
   "execution_count": 146,
   "id": "674175e0-c159-49fd-a42a-e069629274b5",
   "metadata": {},
   "outputs": [],
   "source": [
    "eff_pf_covshr_ser=pd.Series(eff_pf_covshr,index=style.columns)"
   ]
  },
  {
   "cell_type": "code",
   "execution_count": 147,
   "id": "a6590198-62b1-4884-b5cc-ca8fdc42d9c9",
   "metadata": {},
   "outputs": [],
   "source": [
    "eff_pf_cov=pd.Series(z1,index=style.columns)"
   ]
  },
  {
   "cell_type": "code",
   "execution_count": 148,
   "id": "484a3c94-b05f-4df1-ae27-dc26a3da8978",
   "metadata": {},
   "outputs": [],
   "source": [
    "comp_=pd.concat([eff_pf_cov,eff_pf_covshr_ser],axis=1)"
   ]
  },
  {
   "cell_type": "code",
   "execution_count": 149,
   "id": "56126be1-b825-41e1-bd8d-6587fbf2b2b3",
   "metadata": {},
   "outputs": [
    {
     "data": {
      "text/html": [
       "<div>\n",
       "<style scoped>\n",
       "    .dataframe tbody tr th:only-of-type {\n",
       "        vertical-align: middle;\n",
       "    }\n",
       "\n",
       "    .dataframe tbody tr th {\n",
       "        vertical-align: top;\n",
       "    }\n",
       "\n",
       "    .dataframe thead th {\n",
       "        text-align: right;\n",
       "    }\n",
       "</style>\n",
       "<table border=\"1\" class=\"dataframe\">\n",
       "  <thead>\n",
       "    <tr style=\"text-align: right;\">\n",
       "      <th></th>\n",
       "      <th>0</th>\n",
       "      <th>1</th>\n",
       "    </tr>\n",
       "  </thead>\n",
       "  <tbody>\n",
       "    <tr>\n",
       "      <th>Growth</th>\n",
       "      <td>-2.929891</td>\n",
       "      <td>0.022680</td>\n",
       "    </tr>\n",
       "    <tr>\n",
       "      <th>DY</th>\n",
       "      <td>1.133687</td>\n",
       "      <td>0.096529</td>\n",
       "    </tr>\n",
       "    <tr>\n",
       "      <th>Big</th>\n",
       "      <td>-7.404644</td>\n",
       "      <td>0.006570</td>\n",
       "    </tr>\n",
       "    <tr>\n",
       "      <th>Med</th>\n",
       "      <td>-0.949775</td>\n",
       "      <td>0.109954</td>\n",
       "    </tr>\n",
       "    <tr>\n",
       "      <th>Low Vol</th>\n",
       "      <td>0.042589</td>\n",
       "      <td>0.214633</td>\n",
       "    </tr>\n",
       "    <tr>\n",
       "      <th>Momentum</th>\n",
       "      <td>0.749009</td>\n",
       "      <td>0.168580</td>\n",
       "    </tr>\n",
       "    <tr>\n",
       "      <th>Quality</th>\n",
       "      <td>7.211344</td>\n",
       "      <td>0.165324</td>\n",
       "    </tr>\n",
       "    <tr>\n",
       "      <th>Small</th>\n",
       "      <td>3.256337</td>\n",
       "      <td>0.183383</td>\n",
       "    </tr>\n",
       "    <tr>\n",
       "      <th>Value</th>\n",
       "      <td>-0.108657</td>\n",
       "      <td>0.032346</td>\n",
       "    </tr>\n",
       "  </tbody>\n",
       "</table>\n",
       "</div>"
      ],
      "text/plain": [
       "                 0         1\n",
       "Growth   -2.929891  0.022680\n",
       "DY        1.133687  0.096529\n",
       "Big      -7.404644  0.006570\n",
       "Med      -0.949775  0.109954\n",
       "Low Vol   0.042589  0.214633\n",
       "Momentum  0.749009  0.168580\n",
       "Quality   7.211344  0.165324\n",
       "Small     3.256337  0.183383\n",
       "Value    -0.108657  0.032346"
      ]
     },
     "execution_count": 149,
     "metadata": {},
     "output_type": "execute_result"
    }
   ],
   "source": [
    "comp_"
   ]
  },
  {
   "cell_type": "code",
   "execution_count": null,
   "id": "fb61efa1-81ce-4835-b4cf-fe0f4cc4bb4b",
   "metadata": {},
   "outputs": [],
   "source": []
  },
  {
   "cell_type": "code",
   "execution_count": null,
   "id": "c704aa0a-d45f-49c9-bfd0-be6cd7e9259c",
   "metadata": {},
   "outputs": [],
   "source": []
  }
 ],
 "metadata": {
  "kernelspec": {
   "display_name": "Python 3 (ipykernel)",
   "language": "python",
   "name": "python3"
  },
  "language_info": {
   "codemirror_mode": {
    "name": "ipython",
    "version": 3
   },
   "file_extension": ".py",
   "mimetype": "text/x-python",
   "name": "python",
   "nbconvert_exporter": "python",
   "pygments_lexer": "ipython3",
   "version": "3.9.12"
  }
 },
 "nbformat": 4,
 "nbformat_minor": 5
}
