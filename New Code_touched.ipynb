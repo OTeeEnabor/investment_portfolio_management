{
 "cells": [
  {
   "cell_type": "code",
   "execution_count": 2,
   "id": "dda22936",
   "metadata": {},
   "outputs": [],
   "source": [
    "####Question 1####\n",
    "\n",
    "import numpy as np\n",
    "import pandas as pd\n",
    "import matplotlib.pyplot as plt\n",
    "from scipy.optimize import minimize\n",
    "%matplotlib inline"
   ]
  },
  {
   "cell_type": "code",
   "execution_count": 81,
   "id": "9768eff4",
   "metadata": {},
   "outputs": [],
   "source": [
    "def object_to_float(object_list):\n",
    "    float_list = []\n",
    "    for object_type in object_list:\n",
    "        clean_object = object_type.replace(\"%\",\"\")\n",
    "        convert_object = float(clean_object)\n",
    "        decimal_object = convert_object / 100\n",
    "        float_list.append(decimal_object)  \n",
    "    return float_list\n",
    "        \n",
    "def efficient_weights(asset_returns, risk_free_rate):\n",
    "    # calculate mean returns\n",
    "    asset_returns_mean = asset_returns.mean()\n",
    "#     # calcualte returns variance\n",
    "    asset_returns_cov = asset_returns.cov()\n",
    "#     # calculate excess returns\n",
    "    asset_returns_excess = asset_returns_mean - risk_free_rate\n",
    "#     # calculate efficient weights numerate\n",
    "    weights_eff_numerator  = np.linalg.inv(asset_returns_cov)@asset_returns_excess\n",
    "#     # calculate efficient weights denominator\n",
    "    weights_eff_denominator = np.ones(len(asset_returns_excess)).T@np.linalg.inv(asset_returns_cov)@asset_returns_excess\n",
    "#     # calculate efficient weights\n",
    "    weights_eff = weights_eff_numerator / weights_eff_denominator\n",
    "    return weights_eff \n",
    "\n",
    "def portfolio_returns(asset_returns, weights):\n",
    "    returns_mean = asset_returns.mean()\n",
    "    exp_returns = weights.T@returns_mean\n",
    "    return exp_returns\n",
    "\n",
    "def portfolio_risk(asset_returns,weights):\n",
    "    # calculate asset covariance\n",
    "    asset_cov = asset_returns.cov()\n",
    "    exp_risk = weights.T@asset_cov@weights\n",
    "    return exp_risk\n",
    "\n",
    "def portfolio_covariance(asset_returns, weights,weights2):\n",
    "    # calculate the covariance of asset returns\n",
    "    asset_cov = asset_returns.cov()\n",
    "    # calculate portfolio covariance\n",
    "    portfolio_cov = weights.T@asset_cov@weights2\n",
    "    return portfolio_cov\n",
    "def global_min_var_portfolio(asset_returns):\n",
    "    # calculate asset returns covariance\n",
    "    asset_returns_cov = asset_returns.cov()\n",
    "    # create ones vector of length asset returns\n",
    "    ones_vec=np.ones(len(asset_returns_cov))\n",
    "    # calculate gmvp numerator\n",
    "    gmvp_num = np.linalg.inv(asset_returns_cov)@ones_vec\n",
    "    # calculate gmvp denominator\n",
    "    gmvp_den = (ones_vec.T@np.linalg.inv(asset_returns_cov)@ones_vec)\n",
    "    # calculate gmvp\n",
    "    gmvp = gmvp_num / gmvp_den\n",
    "    return gmvp"
   ]
  },
  {
   "cell_type": "code",
   "execution_count": null,
   "id": "4ab74682",
   "metadata": {},
   "outputs": [],
   "source": []
  },
  {
   "cell_type": "code",
   "execution_count": 101,
   "id": "7ba700ac",
   "metadata": {
    "scrolled": true
   },
   "outputs": [
    {
     "data": {
      "text/html": [
       "<div>\n",
       "<style scoped>\n",
       "    .dataframe tbody tr th:only-of-type {\n",
       "        vertical-align: middle;\n",
       "    }\n",
       "\n",
       "    .dataframe tbody tr th {\n",
       "        vertical-align: top;\n",
       "    }\n",
       "\n",
       "    .dataframe thead th {\n",
       "        text-align: right;\n",
       "    }\n",
       "</style>\n",
       "<table border=\"1\" class=\"dataframe\">\n",
       "  <thead>\n",
       "    <tr style=\"text-align: right;\">\n",
       "      <th></th>\n",
       "      <th>Asset Class</th>\n",
       "      <th>Expected Return (Annual)</th>\n",
       "    </tr>\n",
       "  </thead>\n",
       "  <tbody>\n",
       "    <tr>\n",
       "      <th>0</th>\n",
       "      <td>SA Equity</td>\n",
       "      <td>15.00%</td>\n",
       "    </tr>\n",
       "    <tr>\n",
       "      <th>1</th>\n",
       "      <td>SA Nominal Bonds</td>\n",
       "      <td>9.50%</td>\n",
       "    </tr>\n",
       "    <tr>\n",
       "      <th>2</th>\n",
       "      <td>SA ILB</td>\n",
       "      <td>8.70%</td>\n",
       "    </tr>\n",
       "    <tr>\n",
       "      <th>3</th>\n",
       "      <td>SA Property</td>\n",
       "      <td>11.00%</td>\n",
       "    </tr>\n",
       "    <tr>\n",
       "      <th>4</th>\n",
       "      <td>SA Cash</td>\n",
       "      <td>6.50%</td>\n",
       "    </tr>\n",
       "    <tr>\n",
       "      <th>5</th>\n",
       "      <td>Offshore Equity</td>\n",
       "      <td>13.00%</td>\n",
       "    </tr>\n",
       "    <tr>\n",
       "      <th>6</th>\n",
       "      <td>Offshore Property</td>\n",
       "      <td>8.00%</td>\n",
       "    </tr>\n",
       "    <tr>\n",
       "      <th>7</th>\n",
       "      <td>Offshore Bonds</td>\n",
       "      <td>8.30%</td>\n",
       "    </tr>\n",
       "  </tbody>\n",
       "</table>\n",
       "</div>"
      ],
      "text/plain": [
       "         Asset Class Expected Return (Annual)\n",
       "0          SA Equity                   15.00%\n",
       "1   SA Nominal Bonds                    9.50%\n",
       "2             SA ILB                    8.70%\n",
       "3        SA Property                   11.00%\n",
       "4            SA Cash                    6.50%\n",
       "5    Offshore Equity                   13.00%\n",
       "6  Offshore Property                    8.00%\n",
       "7     Offshore Bonds                    8.30%"
      ]
     },
     "execution_count": 101,
     "metadata": {},
     "output_type": "execute_result"
    }
   ],
   "source": [
    "data=pd.read_csv(\"data/CSWIX_Equity.csv\")#read_excel(\"C:/Users/user/Downloads/assignmentpythoncode/FINE7072 - Assignment Data_2023.xlsx\",index_col=0,sheet_name='Asset Class Data_CSWIX Equity')\n",
    "# data cleanining\n",
    "# change unnamed: 0 to date\n",
    "data[\"Date\"] = pd.to_datetime(data[\"Unnamed: 0\"])\n",
    "# drop unecessary columns\n",
    "data = data.drop(labels = [\"Unnamed: 0\",\"Unnamed: 9\",\"Unnamed: 10\",\n",
    "                                  \"Unnamed: 11\",\"Unnamed: 12\",\"Unnamed: 13\",\n",
    "                                  \"Unnamed: 14\",\"Unnamed: 15\",\"Unnamed: 16\",\n",
    "                                   \"Unnamed: 17\"],\n",
    "                        axis=1)\n",
    "\n",
    "means_data=pd.read_csv(\"data/Expected_Returns.csv\")#read_excel(\"C:/Users/user/Downloads/assignmentpythoncode/FINE7072 - Assignment Data_2023.xlsx\",index_col=0,sheet_name='Expected Returns')\n",
    "\n",
    "means_data"
   ]
  },
  {
   "cell_type": "code",
   "execution_count": 102,
   "id": "efef5afb",
   "metadata": {
    "scrolled": false
   },
   "outputs": [
    {
     "data": {
      "text/html": [
       "<div>\n",
       "<style scoped>\n",
       "    .dataframe tbody tr th:only-of-type {\n",
       "        vertical-align: middle;\n",
       "    }\n",
       "\n",
       "    .dataframe tbody tr th {\n",
       "        vertical-align: top;\n",
       "    }\n",
       "\n",
       "    .dataframe thead th {\n",
       "        text-align: right;\n",
       "    }\n",
       "</style>\n",
       "<table border=\"1\" class=\"dataframe\">\n",
       "  <thead>\n",
       "    <tr style=\"text-align: right;\">\n",
       "      <th></th>\n",
       "      <th>SA Equity</th>\n",
       "      <th>SA Nominal Bonds</th>\n",
       "      <th>SA ILB</th>\n",
       "      <th>SA Property</th>\n",
       "      <th>SA Cash</th>\n",
       "      <th>Offshore Equity</th>\n",
       "      <th>Offshore Property</th>\n",
       "      <th>Offshore Bonds</th>\n",
       "      <th>Date</th>\n",
       "    </tr>\n",
       "  </thead>\n",
       "  <tbody>\n",
       "    <tr>\n",
       "      <th>0</th>\n",
       "      <td>0.021720</td>\n",
       "      <td>0.006890</td>\n",
       "      <td>0.001790</td>\n",
       "      <td>0.084787</td>\n",
       "      <td>0.006946</td>\n",
       "      <td>0.051911</td>\n",
       "      <td>NaN</td>\n",
       "      <td>0.014841</td>\n",
       "      <td>2007-01-31</td>\n",
       "    </tr>\n",
       "    <tr>\n",
       "      <th>1</th>\n",
       "      <td>0.013512</td>\n",
       "      <td>0.013678</td>\n",
       "      <td>-0.003277</td>\n",
       "      <td>0.033749</td>\n",
       "      <td>0.006395</td>\n",
       "      <td>-0.006123</td>\n",
       "      <td>0.003727</td>\n",
       "      <td>0.025924</td>\n",
       "      <td>2007-02-28</td>\n",
       "    </tr>\n",
       "    <tr>\n",
       "      <th>2</th>\n",
       "      <td>0.033642</td>\n",
       "      <td>-0.004350</td>\n",
       "      <td>0.011483</td>\n",
       "      <td>0.032042</td>\n",
       "      <td>0.007160</td>\n",
       "      <td>0.023853</td>\n",
       "      <td>0.008252</td>\n",
       "      <td>-0.000661</td>\n",
       "      <td>2007-03-31</td>\n",
       "    </tr>\n",
       "    <tr>\n",
       "      <th>3</th>\n",
       "      <td>0.034085</td>\n",
       "      <td>0.015311</td>\n",
       "      <td>0.010923</td>\n",
       "      <td>0.077894</td>\n",
       "      <td>0.007063</td>\n",
       "      <td>0.009111</td>\n",
       "      <td>-0.029540</td>\n",
       "      <td>-0.019052</td>\n",
       "      <td>2007-04-30</td>\n",
       "    </tr>\n",
       "    <tr>\n",
       "      <th>4</th>\n",
       "      <td>-0.005539</td>\n",
       "      <td>-0.011036</td>\n",
       "      <td>0.002054</td>\n",
       "      <td>-0.036594</td>\n",
       "      <td>0.007336</td>\n",
       "      <td>0.042699</td>\n",
       "      <td>0.018951</td>\n",
       "      <td>-0.009298</td>\n",
       "      <td>2007-05-31</td>\n",
       "    </tr>\n",
       "    <tr>\n",
       "      <th>...</th>\n",
       "      <td>...</td>\n",
       "      <td>...</td>\n",
       "      <td>...</td>\n",
       "      <td>...</td>\n",
       "      <td>...</td>\n",
       "      <td>...</td>\n",
       "      <td>...</td>\n",
       "      <td>...</td>\n",
       "      <td>...</td>\n",
       "    </tr>\n",
       "    <tr>\n",
       "      <th>192</th>\n",
       "      <td>0.069622</td>\n",
       "      <td>0.029374</td>\n",
       "      <td>-0.009807</td>\n",
       "      <td>-0.007909</td>\n",
       "      <td>0.005823</td>\n",
       "      <td>0.094924</td>\n",
       "      <td>0.113229</td>\n",
       "      <td>0.056141</td>\n",
       "      <td>2023-01-31</td>\n",
       "    </tr>\n",
       "    <tr>\n",
       "      <th>193</th>\n",
       "      <td>-0.023174</td>\n",
       "      <td>-0.008679</td>\n",
       "      <td>0.004526</td>\n",
       "      <td>-0.001366</td>\n",
       "      <td>0.005423</td>\n",
       "      <td>0.027808</td>\n",
       "      <td>0.006058</td>\n",
       "      <td>0.019410</td>\n",
       "      <td>2023-02-28</td>\n",
       "    </tr>\n",
       "    <tr>\n",
       "      <th>194</th>\n",
       "      <td>-0.019518</td>\n",
       "      <td>0.013224</td>\n",
       "      <td>0.014809</td>\n",
       "      <td>-0.039229</td>\n",
       "      <td>0.006145</td>\n",
       "      <td>-0.003431</td>\n",
       "      <td>-0.067355</td>\n",
       "      <td>-0.000226</td>\n",
       "      <td>2023-03-31</td>\n",
       "    </tr>\n",
       "    <tr>\n",
       "      <th>195</th>\n",
       "      <td>0.034323</td>\n",
       "      <td>-0.011122</td>\n",
       "      <td>0.004033</td>\n",
       "      <td>0.057537</td>\n",
       "      <td>0.006095</td>\n",
       "      <td>0.044226</td>\n",
       "      <td>0.045365</td>\n",
       "      <td>0.032379</td>\n",
       "      <td>2023-04-30</td>\n",
       "    </tr>\n",
       "    <tr>\n",
       "      <th>196</th>\n",
       "      <td>-0.058123</td>\n",
       "      <td>-0.047883</td>\n",
       "      <td>-0.023167</td>\n",
       "      <td>-0.054146</td>\n",
       "      <td>0.006481</td>\n",
       "      <td>0.065272</td>\n",
       "      <td>0.027856</td>\n",
       "      <td>0.057639</td>\n",
       "      <td>2023-05-31</td>\n",
       "    </tr>\n",
       "  </tbody>\n",
       "</table>\n",
       "<p>197 rows × 9 columns</p>\n",
       "</div>"
      ],
      "text/plain": [
       "     SA Equity  SA Nominal Bonds    SA ILB  SA Property   SA Cash  \\\n",
       "0     0.021720          0.006890  0.001790     0.084787  0.006946   \n",
       "1     0.013512          0.013678 -0.003277     0.033749  0.006395   \n",
       "2     0.033642         -0.004350  0.011483     0.032042  0.007160   \n",
       "3     0.034085          0.015311  0.010923     0.077894  0.007063   \n",
       "4    -0.005539         -0.011036  0.002054    -0.036594  0.007336   \n",
       "..         ...               ...       ...          ...       ...   \n",
       "192   0.069622          0.029374 -0.009807    -0.007909  0.005823   \n",
       "193  -0.023174         -0.008679  0.004526    -0.001366  0.005423   \n",
       "194  -0.019518          0.013224  0.014809    -0.039229  0.006145   \n",
       "195   0.034323         -0.011122  0.004033     0.057537  0.006095   \n",
       "196  -0.058123         -0.047883 -0.023167    -0.054146  0.006481   \n",
       "\n",
       "     Offshore Equity  Offshore Property  Offshore Bonds       Date  \n",
       "0           0.051911                NaN        0.014841 2007-01-31  \n",
       "1          -0.006123           0.003727        0.025924 2007-02-28  \n",
       "2           0.023853           0.008252       -0.000661 2007-03-31  \n",
       "3           0.009111          -0.029540       -0.019052 2007-04-30  \n",
       "4           0.042699           0.018951       -0.009298 2007-05-31  \n",
       "..               ...                ...             ...        ...  \n",
       "192         0.094924           0.113229        0.056141 2023-01-31  \n",
       "193         0.027808           0.006058        0.019410 2023-02-28  \n",
       "194        -0.003431          -0.067355       -0.000226 2023-03-31  \n",
       "195         0.044226           0.045365        0.032379 2023-04-30  \n",
       "196         0.065272           0.027856        0.057639 2023-05-31  \n",
       "\n",
       "[197 rows x 9 columns]"
      ]
     },
     "execution_count": 102,
     "metadata": {},
     "output_type": "execute_result"
    }
   ],
   "source": [
    "data"
   ]
  },
  {
   "cell_type": "markdown",
   "id": "dfab82c8",
   "metadata": {},
   "source": [
    "Select all assets from the second row because first row has a Nan in Offshore property"
   ]
  },
  {
   "cell_type": "code",
   "execution_count": 103,
   "id": "18585877",
   "metadata": {
    "scrolled": true
   },
   "outputs": [
    {
     "data": {
      "text/html": [
       "<div>\n",
       "<style scoped>\n",
       "    .dataframe tbody tr th:only-of-type {\n",
       "        vertical-align: middle;\n",
       "    }\n",
       "\n",
       "    .dataframe tbody tr th {\n",
       "        vertical-align: top;\n",
       "    }\n",
       "\n",
       "    .dataframe thead th {\n",
       "        text-align: right;\n",
       "    }\n",
       "</style>\n",
       "<table border=\"1\" class=\"dataframe\">\n",
       "  <thead>\n",
       "    <tr style=\"text-align: right;\">\n",
       "      <th></th>\n",
       "      <th>SA Equity</th>\n",
       "      <th>SA Nominal Bonds</th>\n",
       "      <th>SA ILB</th>\n",
       "      <th>SA Property</th>\n",
       "      <th>SA Cash</th>\n",
       "      <th>Offshore Equity</th>\n",
       "      <th>Offshore Property</th>\n",
       "      <th>Offshore Bonds</th>\n",
       "    </tr>\n",
       "  </thead>\n",
       "  <tbody>\n",
       "    <tr>\n",
       "      <th>1</th>\n",
       "      <td>0.013512</td>\n",
       "      <td>0.013678</td>\n",
       "      <td>-0.003277</td>\n",
       "      <td>0.033749</td>\n",
       "      <td>0.006395</td>\n",
       "      <td>-0.006123</td>\n",
       "      <td>0.003727</td>\n",
       "      <td>0.025924</td>\n",
       "    </tr>\n",
       "    <tr>\n",
       "      <th>2</th>\n",
       "      <td>0.033642</td>\n",
       "      <td>-0.004350</td>\n",
       "      <td>0.011483</td>\n",
       "      <td>0.032042</td>\n",
       "      <td>0.007160</td>\n",
       "      <td>0.023853</td>\n",
       "      <td>0.008252</td>\n",
       "      <td>-0.000661</td>\n",
       "    </tr>\n",
       "    <tr>\n",
       "      <th>3</th>\n",
       "      <td>0.034085</td>\n",
       "      <td>0.015311</td>\n",
       "      <td>0.010923</td>\n",
       "      <td>0.077894</td>\n",
       "      <td>0.007063</td>\n",
       "      <td>0.009111</td>\n",
       "      <td>-0.029540</td>\n",
       "      <td>-0.019052</td>\n",
       "    </tr>\n",
       "    <tr>\n",
       "      <th>4</th>\n",
       "      <td>-0.005539</td>\n",
       "      <td>-0.011036</td>\n",
       "      <td>0.002054</td>\n",
       "      <td>-0.036594</td>\n",
       "      <td>0.007336</td>\n",
       "      <td>0.042699</td>\n",
       "      <td>0.018951</td>\n",
       "      <td>-0.009298</td>\n",
       "    </tr>\n",
       "    <tr>\n",
       "      <th>5</th>\n",
       "      <td>-0.018828</td>\n",
       "      <td>-0.020561</td>\n",
       "      <td>-0.001239</td>\n",
       "      <td>-0.033932</td>\n",
       "      <td>0.007185</td>\n",
       "      <td>-0.018974</td>\n",
       "      <td>-0.088012</td>\n",
       "      <td>-0.014880</td>\n",
       "    </tr>\n",
       "    <tr>\n",
       "      <th>...</th>\n",
       "      <td>...</td>\n",
       "      <td>...</td>\n",
       "      <td>...</td>\n",
       "      <td>...</td>\n",
       "      <td>...</td>\n",
       "      <td>...</td>\n",
       "      <td>...</td>\n",
       "      <td>...</td>\n",
       "    </tr>\n",
       "    <tr>\n",
       "      <th>192</th>\n",
       "      <td>0.069622</td>\n",
       "      <td>0.029374</td>\n",
       "      <td>-0.009807</td>\n",
       "      <td>-0.007909</td>\n",
       "      <td>0.005823</td>\n",
       "      <td>0.094924</td>\n",
       "      <td>0.113229</td>\n",
       "      <td>0.056141</td>\n",
       "    </tr>\n",
       "    <tr>\n",
       "      <th>193</th>\n",
       "      <td>-0.023174</td>\n",
       "      <td>-0.008679</td>\n",
       "      <td>0.004526</td>\n",
       "      <td>-0.001366</td>\n",
       "      <td>0.005423</td>\n",
       "      <td>0.027808</td>\n",
       "      <td>0.006058</td>\n",
       "      <td>0.019410</td>\n",
       "    </tr>\n",
       "    <tr>\n",
       "      <th>194</th>\n",
       "      <td>-0.019518</td>\n",
       "      <td>0.013224</td>\n",
       "      <td>0.014809</td>\n",
       "      <td>-0.039229</td>\n",
       "      <td>0.006145</td>\n",
       "      <td>-0.003431</td>\n",
       "      <td>-0.067355</td>\n",
       "      <td>-0.000226</td>\n",
       "    </tr>\n",
       "    <tr>\n",
       "      <th>195</th>\n",
       "      <td>0.034323</td>\n",
       "      <td>-0.011122</td>\n",
       "      <td>0.004033</td>\n",
       "      <td>0.057537</td>\n",
       "      <td>0.006095</td>\n",
       "      <td>0.044226</td>\n",
       "      <td>0.045365</td>\n",
       "      <td>0.032379</td>\n",
       "    </tr>\n",
       "    <tr>\n",
       "      <th>196</th>\n",
       "      <td>-0.058123</td>\n",
       "      <td>-0.047883</td>\n",
       "      <td>-0.023167</td>\n",
       "      <td>-0.054146</td>\n",
       "      <td>0.006481</td>\n",
       "      <td>0.065272</td>\n",
       "      <td>0.027856</td>\n",
       "      <td>0.057639</td>\n",
       "    </tr>\n",
       "  </tbody>\n",
       "</table>\n",
       "<p>196 rows × 8 columns</p>\n",
       "</div>"
      ],
      "text/plain": [
       "     SA Equity  SA Nominal Bonds    SA ILB  SA Property   SA Cash  \\\n",
       "1     0.013512          0.013678 -0.003277     0.033749  0.006395   \n",
       "2     0.033642         -0.004350  0.011483     0.032042  0.007160   \n",
       "3     0.034085          0.015311  0.010923     0.077894  0.007063   \n",
       "4    -0.005539         -0.011036  0.002054    -0.036594  0.007336   \n",
       "5    -0.018828         -0.020561 -0.001239    -0.033932  0.007185   \n",
       "..         ...               ...       ...          ...       ...   \n",
       "192   0.069622          0.029374 -0.009807    -0.007909  0.005823   \n",
       "193  -0.023174         -0.008679  0.004526    -0.001366  0.005423   \n",
       "194  -0.019518          0.013224  0.014809    -0.039229  0.006145   \n",
       "195   0.034323         -0.011122  0.004033     0.057537  0.006095   \n",
       "196  -0.058123         -0.047883 -0.023167    -0.054146  0.006481   \n",
       "\n",
       "     Offshore Equity  Offshore Property  Offshore Bonds  \n",
       "1          -0.006123           0.003727        0.025924  \n",
       "2           0.023853           0.008252       -0.000661  \n",
       "3           0.009111          -0.029540       -0.019052  \n",
       "4           0.042699           0.018951       -0.009298  \n",
       "5          -0.018974          -0.088012       -0.014880  \n",
       "..               ...                ...             ...  \n",
       "192         0.094924           0.113229        0.056141  \n",
       "193         0.027808           0.006058        0.019410  \n",
       "194        -0.003431          -0.067355       -0.000226  \n",
       "195         0.044226           0.045365        0.032379  \n",
       "196         0.065272           0.027856        0.057639  \n",
       "\n",
       "[196 rows x 8 columns]"
      ]
     },
     "execution_count": 103,
     "metadata": {},
     "output_type": "execute_result"
    }
   ],
   "source": [
    "ret_data = data.iloc[1:,:-1] \n",
    "ret_data"
   ]
  },
  {
   "cell_type": "markdown",
   "id": "a8b095fd",
   "metadata": {},
   "source": [
    "The code below convert the means data from a list of strings to a list of numeric values. The list of numeric values is then converted to a Numpy array."
   ]
  },
  {
   "cell_type": "code",
   "execution_count": 104,
   "id": "98d84dfc",
   "metadata": {},
   "outputs": [
    {
     "data": {
      "text/plain": [
       "array([0.15 , 0.095, 0.087, 0.11 , 0.065, 0.13 , 0.08 , 0.083])"
      ]
     },
     "execution_count": 104,
     "metadata": {},
     "output_type": "execute_result"
    }
   ],
   "source": [
    "means_data_list= object_to_float(means_data['Expected Return (Annual)'].tolist())\n",
    "means_array_data = np.array(means_data_list)\n",
    "means_array_data"
   ]
  },
  {
   "cell_type": "markdown",
   "id": "614d8861",
   "metadata": {},
   "source": [
    "The risk free rates are determined below.\n"
   ]
  },
  {
   "cell_type": "code",
   "execution_count": 105,
   "id": "1dab9541",
   "metadata": {},
   "outputs": [],
   "source": [
    "#risk-free proxy of 5% per annum\n",
    "c = 0.05/12 # monthly risk-free rate"
   ]
  },
  {
   "cell_type": "code",
   "execution_count": 106,
   "id": "e8a7f48f",
   "metadata": {},
   "outputs": [],
   "source": [
    "low_risk_benchmark = c + 0.03/12\n",
    "high_risk_benchmark = c + 0.07/12"
   ]
  },
  {
   "cell_type": "code",
   "execution_count": 107,
   "id": "0f7ef322",
   "metadata": {},
   "outputs": [
    {
     "data": {
      "text/plain": [
       "True"
      ]
     },
     "execution_count": 107,
     "metadata": {},
     "output_type": "execute_result"
    }
   ],
   "source": [
    "low_risk_benchmark < high_risk_benchmark"
   ]
  },
  {
   "cell_type": "code",
   "execution_count": 108,
   "id": "584ea6e9",
   "metadata": {
    "scrolled": true
   },
   "outputs": [
    {
     "data": {
      "text/plain": [
       "(8,)"
      ]
     },
     "execution_count": 108,
     "metadata": {},
     "output_type": "execute_result"
    }
   ],
   "source": [
    "#provided means (means_array_data) vs calculated means (ret_data.mean()), \n",
    "#data_mean = ret_data.mean()\n",
    "data_mean = means_array_data/12 # calculate the mean of the expected retrun to monthly return?\n",
    "data_mean.shape"
   ]
  },
  {
   "cell_type": "code",
   "execution_count": null,
   "id": "ae854ab2",
   "metadata": {},
   "outputs": [],
   "source": []
  },
  {
   "cell_type": "code",
   "execution_count": 31,
   "id": "5da9f911",
   "metadata": {},
   "outputs": [],
   "source": [
    "# data_er = np.ones(8)*low_risk_benchmark #(0.08/12 - c) # low risk - 3/12\n",
    "# # data_er2 = np.ones(8)*high_risk_benchmark #(0.12/12 - c) # high risk 7/12\n",
    "\n"
   ]
  },
  {
   "cell_type": "code",
   "execution_count": 32,
   "id": "19de6a40",
   "metadata": {},
   "outputs": [],
   "source": [
    "# data_er> data_er2"
   ]
  },
  {
   "cell_type": "code",
   "execution_count": 33,
   "id": "55af03f1",
   "metadata": {
    "scrolled": true
   },
   "outputs": [],
   "source": [
    "# #finding efficient weights(z1)\n",
    "# z1=(np.linalg.inv(data_cov)@data_er)/(np.ones(len(data_er)).T@np.linalg.inv(data_cov)@data_er)\n",
    "# #finding efficient weights(z2)\n",
    "# z2=(np.linalg.inv(data_cov)@data_er2)/(np.ones(len(data_er2)).T@np.linalg.inv(data_cov)@data_er2)"
   ]
  },
  {
   "cell_type": "markdown",
   "id": "d6fda275",
   "metadata": {},
   "source": [
    "Calculate the efficient weights for each portfolio - low_risk and high_risk."
   ]
  },
  {
   "cell_type": "code",
   "execution_count": 34,
   "id": "71afd0d8",
   "metadata": {
    "scrolled": true
   },
   "outputs": [],
   "source": [
    "z1 = efficient_weights(ret_data, low_risk_benchmark)\n",
    "z2 = efficient_weights(ret_data, high_risk_benchmark)"
   ]
  },
  {
   "cell_type": "code",
   "execution_count": 35,
   "id": "b0830758",
   "metadata": {
    "scrolled": true
   },
   "outputs": [
    {
     "data": {
      "text/plain": [
       "(0.9999999999999998, 1.0000000000000004)"
      ]
     },
     "execution_count": 35,
     "metadata": {},
     "output_type": "execute_result"
    }
   ],
   "source": [
    "sum(z1), sum(z2) # check that the efficient weights sum up to one"
   ]
  },
  {
   "cell_type": "markdown",
   "id": "03de0e4c",
   "metadata": {},
   "source": [
    "Calculate the following for each portfolio:\n",
    "* expected returns\n",
    "* Variance\n",
    "* Standard Deviation\n",
    "* Covariance between the portfolio"
   ]
  },
  {
   "cell_type": "code",
   "execution_count": 38,
   "id": "48133570",
   "metadata": {},
   "outputs": [],
   "source": [
    "# calculate the covariance between the portfolios using the different weights\n",
    "ret_data_cov = ret_data.cov()"
   ]
  },
  {
   "cell_type": "code",
   "execution_count": 82,
   "id": "0ea85657",
   "metadata": {},
   "outputs": [],
   "source": [
    "####Question 2####\n",
    "#portfolio 1 and 2's exp returns\n",
    "pf_ret1=portfolio_returns(ret_data, z1)\n",
    "pf_ret2=portfolio_returns(ret_data,z2)"
   ]
  },
  {
   "cell_type": "code",
   "execution_count": 83,
   "id": "efac5aed",
   "metadata": {},
   "outputs": [],
   "source": [
    "#  Porfolio variances, sd, and covariances.\n",
    "pf_var1 = portfolio_risk(ret_data, z1)\n",
    "pf_var2=portfolio_risk(ret_data, z2)\n",
    "# calculate std\n",
    "pf_sd1 = np.sqrt(pf_var1)\n",
    "pf_sd2 = np.sqrt(pf_var2)\n",
    "# portfolio covariance\n",
    "cov12=portfolio_covariance(ret_data, z1,z2)"
   ]
  },
  {
   "cell_type": "code",
   "execution_count": 50,
   "id": "cfddbf0c",
   "metadata": {},
   "outputs": [
    {
     "data": {
      "text/plain": [
       "True"
      ]
     },
     "execution_count": 50,
     "metadata": {},
     "output_type": "execute_result"
    }
   ],
   "source": [
    "pf_var1 > pf_var2 # "
   ]
  },
  {
   "cell_type": "code",
   "execution_count": 51,
   "id": "9921128d",
   "metadata": {},
   "outputs": [
    {
     "name": "stdout",
     "output_type": "stream",
     "text": [
      "0.005386986312909949 0.0015671470840091088\n",
      "0.005511750073051041 0.001468522019796912\n"
     ]
    }
   ],
   "source": [
    "print(pf_ret1,pf_sd1)\n",
    "print(pf_ret2,pf_sd2)"
   ]
  },
  {
   "cell_type": "code",
   "execution_count": 75,
   "id": "ddc13079",
   "metadata": {},
   "outputs": [],
   "source": [
    "ef_wght=np.arange(-10,10,0.1)\n",
    "\n",
    "ef_ret=pf_ret1*ef_wght+pf_ret2*(1-ef_wght)\n",
    "ef_var=ef_wght**2*pf_var1+(1-ef_wght)**2*pf_var2+2*ef_wght*(1-ef_wght)*cov12\n",
    "ef_std=np.sqrt(ef_var)\n",
    "\n"
   ]
  },
  {
   "cell_type": "code",
   "execution_count": 80,
   "id": "c637ae33",
   "metadata": {
    "scrolled": false
   },
   "outputs": [
    {
     "data": {
      "text/plain": [
       "<matplotlib.collections.PathCollection at 0x20649793880>"
      ]
     },
     "execution_count": 80,
     "metadata": {},
     "output_type": "execute_result"
    },
    {
     "data": {
      "image/png": "[encoded data removed]",
      "text/plain": [
       "<Figure size 864x576 with 1 Axes>"
      ]
     },
     "metadata": {
      "needs_background": "light"
     },
     "output_type": "display_data"
    }
   ],
   "source": [
    "fig,ax=plt.subplots(figsize=(12,8))\n",
    "plt.xlabel(\"Risk - var\")\n",
    "plt.ylabel(\"Return - mean\")\n",
    "plt.plot(ef_std,ef_ret,color='k')\n",
    "ax.scatter(pf_sd1,pf_ret1,color='blue',s=250,zorder=2)\n",
    "ax.scatter(pf_sd2,pf_ret2,color='red',s=250,zorder=2) \n",
    "\n"
   ]
  },
  {
   "cell_type": "markdown",
   "id": "4e350038",
   "metadata": {},
   "source": [
    "#xxxx~Something aint right~xxxx#\n",
    "\n",
    "Why does the 8% return -target portfolio- have higher risk than the 12% target portfolio#\n",
    "\n",
    "####Insights??######\n",
    "\n",
    "The problem should be here:\n",
    "#data_er = data_mean + 0.08/12 - c\n",
    "#data_er2 = data_mean + 0.12/12 - c\n",
    "\n",
    "data_sd=ret_data.std()\n",
    "ax.scatter(data_sd,data_mean)"
   ]
  },
  {
   "cell_type": "markdown",
   "id": "da83abaa",
   "metadata": {},
   "source": [
    "## calculate global minimum variance"
   ]
  },
  {
   "cell_type": "code",
   "execution_count": 53,
   "id": "119a37e5",
   "metadata": {
    "scrolled": true
   },
   "outputs": [
    {
     "data": {
      "text/plain": [
       "array([ 2.00226584e-03, -7.20305239e-04,  2.32973573e-03, -1.50497879e-03,\n",
       "        9.93892848e-01,  4.81167770e-03,  5.60081444e-03, -6.41205728e-03])"
      ]
     },
     "execution_count": 53,
     "metadata": {},
     "output_type": "execute_result"
    }
   ],
   "source": [
    "gmvp = global_min_var_portfolio(ret_data) \n",
    "gmvp"
   ]
  },
  {
   "cell_type": "code",
   "execution_count": 55,
   "id": "ac70ec62",
   "metadata": {},
   "outputs": [],
   "source": [
    "gmvp_ser=pd.Series(gmvp,index=ret_data_cov.index)"
   ]
  },
  {
   "cell_type": "markdown",
   "id": "442a6460",
   "metadata": {},
   "source": [
    "calculate the global minimum variance portfolio retuns and risk"
   ]
  },
  {
   "cell_type": "code",
   "execution_count": 86,
   "id": "06f60a4d",
   "metadata": {},
   "outputs": [
    {
     "data": {
      "text/plain": [
       "array([0.0125    , 0.00791667, 0.00725   , 0.00916667, 0.00541667,\n",
       "       0.01083333, 0.00666667, 0.00691667])"
      ]
     },
     "execution_count": 86,
     "metadata": {},
     "output_type": "execute_result"
    }
   ],
   "source": [
    "means_array_data/12"
   ]
  },
  {
   "cell_type": "code",
   "execution_count": 87,
   "id": "f6981344",
   "metadata": {},
   "outputs": [],
   "source": [
    "gmvp_ret= gmvp_ser.T@data_mean # gmvp returns"
   ]
  },
  {
   "cell_type": "code",
   "execution_count": 88,
   "id": "e2f6b69c",
   "metadata": {},
   "outputs": [],
   "source": [
    "gmvp_sd = np.sqrt(gmvp_ser.T@ret_data_cov@gmvp_ser)"
   ]
  },
  {
   "cell_type": "code",
   "execution_count": 89,
   "id": "01dd2ba8",
   "metadata": {},
   "outputs": [
    {
     "name": "stdout",
     "output_type": "stream",
     "text": [
      "0.005551365603371599 0.0014616894066963825\n"
     ]
    }
   ],
   "source": [
    "print(gmvp_ret,gmvp_sd)"
   ]
  },
  {
   "cell_type": "code",
   "execution_count": 90,
   "id": "98029fb2",
   "metadata": {},
   "outputs": [
    {
     "data": {
      "text/plain": [
       "<matplotlib.collections.PathCollection at 0x20649bc5730>"
      ]
     },
     "execution_count": 90,
     "metadata": {},
     "output_type": "execute_result"
    },
    {
     "data": {
      "image/png": "[encoded data removed]",
      "text/plain": [
       "<Figure size 864x576 with 1 Axes>"
      ]
     },
     "metadata": {
      "needs_background": "light"
     },
     "output_type": "display_data"
    }
   ],
   "source": [
    "ef_wght=np.arange(-2,2,0.1)\n",
    "ef_ret=pf_ret1*ef_wght+pf_ret2*(1-ef_wght)\n",
    "ef_var=ef_wght**2*pf_var1+(1-ef_wght)**2*pf_var2+2*ef_wght*(1-ef_wght)*cov12\n",
    "ef_std=np.sqrt(ef_var)\n",
    "\n",
    "fig,ax=plt.subplots(figsize=(12,8))\n",
    "plt.xlabel(\"Risk - var\")\n",
    "plt.ylabel(\"Return - mean\")\n",
    "plt.plot(ef_std,ef_ret,color='k')\n",
    "ax.scatter(pf_sd1,pf_ret1,color='blue',s=250,zorder=2)\n",
    "ax.scatter(pf_sd2,pf_ret2,color='red',s=250,zorder=2) \n",
    "ax.scatter(gmvp_sd,gmvp_ret,color='pink',s=350,zorder=3)"
   ]
  },
  {
   "cell_type": "code",
   "execution_count": 99,
   "id": "c4f19d43",
   "metadata": {},
   "outputs": [
    {
     "name": "stdout",
     "output_type": "stream",
     "text": [
      "[0.04331968 0.20795359 0.07399139 0.1499805  0.00409556 0.25816745\n",
      " 0.25310042 0.0093914 ]\n"
     ]
    }
   ],
   "source": [
    "#Using global minimum variance to find another efficient frontier\n",
    "\n",
    "# Set a seed for the random number generator\n",
    "np.random.seed(12)  # Replace 42 with your desired seed value\n",
    "\n",
    "# random weights to design another efficient frontier \n",
    "num_assets = len(ret_data_cov)  # number of assets\n",
    "\n",
    "# Generate random weights\n",
    "random_weights = np.random.random(num_assets)\n",
    "random_weights /= np.sum(random_weights)  # ensure weights sum up to 1\n",
    "\n",
    "print(random_weights)"
   ]
  },
  {
   "cell_type": "code",
   "execution_count": 100,
   "id": "b1db18df",
   "metadata": {},
   "outputs": [
    {
     "data": {
      "text/plain": [
       "8"
      ]
     },
     "execution_count": 100,
     "metadata": {},
     "output_type": "execute_result"
    }
   ],
   "source": [
    "num_assets"
   ]
  },
  {
   "cell_type": "code",
   "execution_count": 92,
   "id": "45436e2f",
   "metadata": {},
   "outputs": [
    {
     "data": {
      "text/plain": [
       "<matplotlib.collections.PathCollection at 0x206488b8eb0>"
      ]
     },
     "execution_count": 92,
     "metadata": {},
     "output_type": "execute_result"
    },
    {
     "data": {
      "image/png": "[encoded data removed]",
      "text/plain": [
       "<Figure size 864x576 with 1 Axes>"
      ]
     },
     "metadata": {
      "needs_background": "light"
     },
     "output_type": "display_data"
    }
   ],
   "source": [
    "z3 = random_weights\n",
    "pf_ret3=z3.T@data_mean\n",
    "pf_var3=z3.T@ret_data_cov@z3\n",
    "pf_sd3=np.sqrt(pf_var3)\n",
    "\n",
    "ef_wght2=np.arange(-1.5,1.5,0.1)\n",
    "\n",
    "cov32 = gmvp_ser.T@ret_data_cov@z3\n",
    "\n",
    "ef_ret2=pf_ret3*ef_wght2+gmvp_ret*(1-ef_wght2)\n",
    "ef_var2=ef_wght2**2*pf_var3+(1-ef_wght2)**2*gmvp_sd**2+2*ef_wght2*(1-ef_wght2)*cov32\n",
    "ef_std2=np.sqrt(ef_var2)\n",
    "\n",
    "fig,ax=plt.subplots(figsize=(12,8))\n",
    "plt.plot(ef_std2,ef_ret2,color='k')\n",
    "plt.plot(ef_std,ef_ret,color='orange')\n",
    "ax.scatter(pf_sd1,pf_ret1,color='blue',s=250,zorder=2)\n",
    "ax.scatter(pf_sd2,pf_ret2,color='red',s=250,zorder=2) \n",
    "ax.scatter(gmvp_sd,gmvp_ret,color='pink',s=350,zorder=3)\n",
    "ax.scatter(pf_sd3,pf_ret3,color='yellow',s=250,zorder=3) "
   ]
  },
  {
   "cell_type": "code",
   "execution_count": 93,
   "id": "b0c0c4f7",
   "metadata": {},
   "outputs": [
    {
     "data": {
      "text/plain": [
       "array([0.15 , 0.095, 0.087, 0.11 , 0.065, 0.13 , 0.08 , 0.083])"
      ]
     },
     "execution_count": 93,
     "metadata": {},
     "output_type": "execute_result"
    }
   ],
   "source": [
    "##Question 3##\n",
    "means_array_data2=means_array_data + 0\n",
    "means_array_data2"
   ]
  },
  {
   "cell_type": "code",
   "execution_count": 94,
   "id": "c3dab939",
   "metadata": {},
   "outputs": [
    {
     "data": {
      "text/plain": [
       "array([0.15 , 0.095, 0.087, 0.11 , 0.065, 0.38 , 0.08 , 0.083])"
      ]
     },
     "execution_count": 94,
     "metadata": {},
     "output_type": "execute_result"
    }
   ],
   "source": [
    "means_array_data2[5] += 0.25\n",
    "means_array_data2"
   ]
  },
  {
   "cell_type": "code",
   "execution_count": 95,
   "id": "a7b8e72d",
   "metadata": {},
   "outputs": [],
   "source": [
    "#risk-free proxy of 5% per annum\n",
    "c = 0.05/12\n",
    "\n",
    "#provided means (means_array_data) vs calculated means (ret_data.mean()), \n",
    "#data_mean = ret_data.mean()\n",
    "data_mean = means_array_data2/12\n",
    "\n",
    "#covariance and excess returns (ret_data is my matrix of data)\n",
    "data_cov = ret_data.cov()\n",
    "data_er = data_mean + 0.08/12 - c\n",
    "data_er2 = data_mean + 0.12/12 - c\n",
    "\n",
    "#finding efficient weights(z1)\n",
    "z11=(np.linalg.inv(data_cov)@data_er)/(np.ones(len(data_er)).T@np.linalg.inv(data_cov)@data_er)\n",
    "#finding efficient weights(z2)\n",
    "z12=(np.linalg.inv(data_cov)@data_er2)/(np.ones(len(data_er2)).T@np.linalg.inv(data_cov)@data_er2)"
   ]
  },
  {
   "cell_type": "code",
   "execution_count": 96,
   "id": "04474721",
   "metadata": {},
   "outputs": [
    {
     "name": "stdout",
     "output_type": "stream",
     "text": [
      "[ 4.75216083e-04 -1.50442686e-02  3.07302232e-03 -2.12182214e-03\n",
      "  1.01669246e+00 -1.76921207e-02  2.34811105e-02 -8.86359605e-03] [-9.53840410e-04  8.00110262e-03  1.96933450e-03 -1.21302579e-03\n",
      "  9.84434296e-01  1.88557651e-02 -3.19961377e-03 -7.89401787e-03] [ 1.61995284e-03 -4.30646042e-03  2.51582536e-03 -1.65941202e-03\n",
      "  9.99600970e-01 -8.22385389e-04  1.00773350e-02 -7.02582585e-03] [-8.83201560e-05  5.44755600e-03  2.07485661e-03 -1.29850689e-03\n",
      "  9.87203671e-01  1.47437877e-02 -6.22930731e-04 -7.46011367e-03]\n"
     ]
    }
   ],
   "source": [
    "print(z1, z11, z2, z12)"
   ]
  },
  {
   "cell_type": "code",
   "execution_count": 97,
   "id": "6502025e",
   "metadata": {},
   "outputs": [
    {
     "data": {
      "text/plain": [
       "Text(0.5, 1.0, 'Old Efficient Frontier')"
      ]
     },
     "execution_count": 97,
     "metadata": {},
     "output_type": "execute_result"
    },
    {
     "data": {
      "image/png": "[encoded data removed]",
      "text/plain": [
       "<Figure size 864x576 with 1 Axes>"
      ]
     },
     "metadata": {
      "needs_background": "light"
     },
     "output_type": "display_data"
    },
    {
     "data": {
      "image/png": "[encoded data removed]",
      "text/plain": [
       "<Figure size 864x576 with 1 Axes>"
      ]
     },
     "metadata": {
      "needs_background": "light"
     },
     "output_type": "display_data"
    }
   ],
   "source": [
    "#portfolio 1 and 2's exp returns, variances, sd, and covariances.\n",
    "pf_ret11=z11.T@data_mean\n",
    "pf_var11=z11.T@data_cov@z11\n",
    "pf_sd11=np.sqrt(pf_var11)\n",
    "\n",
    "pf_ret12=z12.T@data_mean\n",
    "pf_var12=z12.T@data_cov@z12\n",
    "pf_sd12=np.sqrt(pf_var12)\n",
    "\n",
    "cov1112=z11.T@data_cov@z12\n",
    "\n",
    "ef_wght=np.arange(-10,10,0.1)\n",
    "\n",
    "ef_ret1=pf_ret11*ef_wght+pf_ret12*(1-ef_wght)\n",
    "ef_var1=ef_wght**2*pf_var11+(1-ef_wght)**2*pf_var12+2*ef_wght*(1-ef_wght)*cov1112\n",
    "ef_std1=np.sqrt(ef_var1)\n",
    "\n",
    "\n",
    "fig,ax=plt.subplots(figsize=(12,8))\n",
    "plt.plot(ef_std1,ef_ret1,color='k')\n",
    "ax.scatter(pf_sd11,pf_ret11,color='blue',s=250,zorder=2)\n",
    "ax.scatter(pf_sd12,pf_ret12,color='red',s=250,zorder=2) \n",
    "\n",
    "plt.title('New Efficient Frontier')\n",
    "\n",
    "fig,ax=plt.subplots(figsize=(12,8))\n",
    "plt.plot(ef_std,ef_ret,color='k')\n",
    "ax.scatter(pf_sd1,pf_ret1,color='blue',s=250,zorder=2)\n",
    "ax.scatter(pf_sd2,pf_ret2,color='red',s=250,zorder=2) \n",
    "\n",
    "plt.title('Old Efficient Frontier')\n"
   ]
  },
  {
   "cell_type": "code",
   "execution_count": null,
   "id": "ea695600",
   "metadata": {},
   "outputs": [],
   "source": []
  },
  {
   "cell_type": "code",
   "execution_count": null,
   "id": "3096e72d",
   "metadata": {},
   "outputs": [],
   "source": []
  }
 ],
 "metadata": {
  "kernelspec": {
   "display_name": "Python 3 (ipykernel)",
   "language": "python",
   "name": "python3"
  },
  "language_info": {
   "codemirror_mode": {
    "name": "ipython",
    "version": 3
   },
   "file_extension": ".py",
   "mimetype": "text/x-python",
   "name": "python",
   "nbconvert_exporter": "python",
   "pygments_lexer": "ipython3",
   "version": "3.9.12"
  }
 },
 "nbformat": 4,
 "nbformat_minor": 5
}
